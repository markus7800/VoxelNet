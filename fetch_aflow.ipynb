{
 "cells": [
  {
   "cell_type": "code",
   "execution_count": 1,
   "metadata": {},
   "outputs": [],
   "source": [
    "from aflow import *\n",
    "import pandas as pd\n",
    "import numpy as np\n",
    "import matplotlib.pyplot as plt"
   ]
  },
  {
   "cell_type": "code",
   "execution_count": null,
   "metadata": {},
   "outputs": [],
   "source": [
    "result = search(batch_size=100\n",
    "        ).filter(K.species == \"O\"\n",
    "#        ).filter(K.spacegroup_orig == 221\n",
    "#        ).filter(K.Pearson_symbol_orig == \"cP5\"\n",
    "        ).filter(K.nspecies > 3\n",
    "        ).select(\n",
    "            K.compound, K.composition, K.species, K.natoms,\n",
    "            K.spacegroup_orig, K.Pearson_symbol_orig,\n",
    "            K.geometry, K.natoms, K.positions_fractional, K.positions_cartesian,\n",
    "            K.enthalpy_atom, K.enthalpy_formation_atom\n",
    "        )"
   ]
  },
  {
   "cell_type": "code",
   "execution_count": null,
   "metadata": {},
   "outputs": [],
   "source": [
    "result = search(catalog=\"icsd\", batch_size=100\n",
    "        ).filter(K.spacegroup_orig == 221\n",
    "        ).filter(K.Pearson_symbol_orig == \"cP5\"\n",
    "        ).filter(K.nspecies == 3\n",
    "        ).select(\n",
    "            K.compound, K.composition, K.species, K.natoms,\n",
    "            K.spacegroup_orig, K.Pearson_symbol_orig,\n",
    "            K.geometry, K.natoms, K.positions_fractional, K.positions_cartesian,\n",
    "            K.enthalpy_atom, K.enthalpy_formation_atom\n",
    "        )"
   ]
  },
  {
   "cell_type": "code",
   "execution_count": null,
   "metadata": {},
   "outputs": [],
   "source": [
    "max_N = result.max_N\n",
    "max_N"
   ]
  },
  {
   "cell_type": "code",
   "execution_count": null,
   "metadata": {},
   "outputs": [],
   "source": [
    "df = pd.DataFrame(columns=[\n",
    "\"auid\", \"aurl\",\n",
    "\"compound\", \"composition\", \"species\", \"natoms\",\n",
    "\"spacegroup\", \"pearson_symbol\",\n",
    "\"geometry\", \"positions_fractional\", \"positions_cartesian\",\n",
    "\"enthalpy_atom\", \"enthalpy_formation_atom\"\n",
    "])\n",
    "\n",
    "\n",
    "\n",
    "counter = 1\n",
    "for entry in result:\n",
    "    # print(f\"{counter}. Found compound\", entry.compound, \"with auid\", entry.auid)\n",
    "    print(f\"Fetched {counter}/{max_N}\", end=\"\\r\")\n",
    "    row = {\n",
    "        \"auid\": entry.auid,\n",
    "        \"aurl\": entry.aurl,\n",
    "        \n",
    "        \"compound\": entry.compound,\n",
    "        \"composition\": entry.composition,\n",
    "        \"species\": entry.species,\n",
    "        \"natoms\": entry.natoms,\n",
    "        \n",
    "        \"spacegroup\": entry.spacegroup_orig,\n",
    "        \"pearson_symbol\": entry.Pearson_symbol_orig,\n",
    "        \n",
    "        \"geometry\": entry.geometry,\n",
    "        \"positions_fractional\": entry.positions_fractional,\n",
    "        \"positions_cartesian\": entry.positions_cartesian,\n",
    "        \n",
    "        \"enthalpy_atom\": entry.enthalpy_atom,\n",
    "        \"enthalpy_formation_atom\": entry.enthalpy_formation_atom\n",
    "    }\n",
    "    df = df.append(row, ignore_index=True)\n",
    "    counter += 1\n",
    "\n",
    "print(\"Done.               \")"
   ]
  },
  {
   "cell_type": "code",
   "execution_count": null,
   "metadata": {},
   "outputs": [],
   "source": [
    "df.shape"
   ]
  },
  {
   "cell_type": "code",
   "execution_count": null,
   "metadata": {},
   "outputs": [],
   "source": [
    "df.to_pickle(\"data/all_221_cp5_3_species_oxides.pkl\")"
   ]
  },
  {
   "cell_type": "code",
   "execution_count": null,
   "metadata": {},
   "outputs": [],
   "source": [
    "df.to_pickle(\"data/all_3_species_oxides.pkl\")"
   ]
  },
  {
   "cell_type": "code",
   "execution_count": null,
   "metadata": {},
   "outputs": [],
   "source": [
    "df.to_pickle(\"data/all_sup4_species_oxides.pkl\")"
   ]
  },
  {
   "cell_type": "code",
   "execution_count": null,
   "metadata": {},
   "outputs": [],
   "source": []
  },
  {
   "cell_type": "code",
   "execution_count": 145,
   "metadata": {},
   "outputs": [],
   "source": [
    "df = pd.read_pickle(\"data/all_221_cp5_3_species_oxides.pkl\")"
   ]
  },
  {
   "cell_type": "code",
   "execution_count": 123,
   "metadata": {},
   "outputs": [],
   "source": [
    "df = pd.read_pickle(\"data/all_3_species_oxides.pkl\")"
   ]
  },
  {
   "cell_type": "code",
   "execution_count": 104,
   "metadata": {},
   "outputs": [],
   "source": [
    "df1 = pd.read_pickle(\"data/all_3_species_oxides.pkl\")\n",
    "df2 = pd.read_pickle(\"data/all_sup4_species_oxides.pkl\")\n",
    "df = df1.append(df2)"
   ]
  },
  {
   "cell_type": "code",
   "execution_count": 146,
   "metadata": {
    "scrolled": false
   },
   "outputs": [],
   "source": [
    "df = df.drop_duplicates(\"compound\")"
   ]
  },
  {
   "cell_type": "code",
   "execution_count": 147,
   "metadata": {},
   "outputs": [
    {
     "name": "stdout",
     "output_type": "stream",
     "text": [
      "['Ag' 'Al' 'As' 'Au' 'B' 'Ba' 'Be' 'Bi' 'Br' 'C' 'Ca' 'Cd' 'Ce' 'Cl' 'Co'\n",
      " 'Cr' 'Cs' 'Cu' 'Dy' 'Er' 'Eu' 'F' 'Fe' 'Ga' 'Gd' 'Ge' 'Hf' 'Hg' 'Ho' 'I'\n",
      " 'In' 'Ir' 'K' 'La' 'Li' 'Lu' 'Mg' 'Mn' 'Mo' 'N' 'Na' 'Nb' 'Nd' 'Ni' 'O'\n",
      " 'Os' 'P' 'Pa' 'Pb' 'Pd' 'Pr' 'Pt' 'Pu' 'Rb' 'Re' 'Rh' 'Ru' 'S' 'Sb' 'Sc'\n",
      " 'Se' 'Si' 'Sn' 'Sr' 'Ta' 'Tb' 'Tc' 'Te' 'Th' 'Ti' 'Tl' 'U' 'V' 'W' 'Xe'\n",
      " 'Y' 'Yb' 'Zn' 'Zr']\n",
      "(79,)\n"
     ]
    }
   ],
   "source": [
    "elements = np.unique(np.hstack(np.array(df.species)))\n",
    "print(elements)\n",
    "print(elements.shape)"
   ]
  },
  {
   "cell_type": "code",
   "execution_count": 148,
   "metadata": {},
   "outputs": [
    {
     "data": {
      "text/plain": [
       "O     1983\n",
       "F      121\n",
       "In      76\n",
       "Ba      70\n",
       "Cr      66\n",
       "      ... \n",
       "Th       1\n",
       "Dy       1\n",
       "Pa       1\n",
       "Ho       1\n",
       "Gd       1\n",
       "Length: 79, dtype: int64"
      ]
     },
     "execution_count": 148,
     "metadata": {},
     "output_type": "execute_result"
    }
   ],
   "source": [
    "elem_counts = pd.Series(np.hstack(np.array(df.species))).value_counts()\n",
    "elem_counts"
   ]
  },
  {
   "cell_type": "code",
   "execution_count": 149,
   "metadata": {},
   "outputs": [],
   "source": [
    "limit = 50"
   ]
  },
  {
   "cell_type": "code",
   "execution_count": 150,
   "metadata": {},
   "outputs": [
    {
     "data": {
      "text/plain": [
       "79"
      ]
     },
     "execution_count": 150,
     "metadata": {},
     "output_type": "execute_result"
    }
   ],
   "source": [
    "elem_counts[elem_counts < limit].sum()"
   ]
  },
  {
   "cell_type": "code",
   "execution_count": 151,
   "metadata": {},
   "outputs": [
    {
     "data": {
      "text/plain": [
       "17"
      ]
     },
     "execution_count": 151,
     "metadata": {},
     "output_type": "execute_result"
    }
   ],
   "source": [
    "elem_counts[elem_counts < limit].count()"
   ]
  },
  {
   "cell_type": "code",
   "execution_count": 152,
   "metadata": {},
   "outputs": [
    {
     "data": {
      "text/plain": [
       "array(['Cs', 'La', 'Ce', 'Pr', 'Nd', 'Eu', 'Yb', 'Tb', 'U', 'Lu', 'Pu',\n",
       "       'Er', 'Th', 'Dy', 'Pa', 'Ho', 'Gd'], dtype=object)"
      ]
     },
     "execution_count": 152,
     "metadata": {},
     "output_type": "execute_result"
    }
   ],
   "source": [
    "low_freq = elem_counts[elem_counts < limit].index.values\n",
    "low_freq"
   ]
  },
  {
   "cell_type": "code",
   "execution_count": 153,
   "metadata": {},
   "outputs": [],
   "source": [
    "low_freq_mask = df.species.apply(lambda s: len(np.setdiff1d(s, low_freq)) < len(s))"
   ]
  },
  {
   "cell_type": "code",
   "execution_count": 154,
   "metadata": {},
   "outputs": [
    {
     "data": {
      "text/plain": [
       "79"
      ]
     },
     "execution_count": 154,
     "metadata": {},
     "output_type": "execute_result"
    }
   ],
   "source": [
    "np.sum(low_freq_mask)"
   ]
  },
  {
   "cell_type": "code",
   "execution_count": 155,
   "metadata": {},
   "outputs": [
    {
     "data": {
      "text/plain": [
       "79"
      ]
     },
     "execution_count": 155,
     "metadata": {},
     "output_type": "execute_result"
    }
   ],
   "source": [
    "(elem_counts >= limit).count()"
   ]
  },
  {
   "cell_type": "code",
   "execution_count": 156,
   "metadata": {},
   "outputs": [
    {
     "data": {
      "image/png": "[encoded data removed]",
      "text/plain": [
       "<Figure size 1152x288 with 1 Axes>"
      ]
     },
     "metadata": {
      "needs_background": "light"
     },
     "output_type": "display_data"
    }
   ],
   "source": [
    "elem_counts[1:].plot.bar(figsize=(16,4))\n",
    "plt.axvline(x=(elem_counts >= limit).sum() - 1.5, color=\"black\", linestyle=\"--\")\n",
    "plt.savefig(\"figs/all_3_species_oxides_elements.pdf\")"
   ]
  },
  {
   "cell_type": "code",
   "execution_count": 157,
   "metadata": {},
   "outputs": [
    {
     "data": {
      "text/plain": [
       "<AxesSubplot:>"
      ]
     },
     "execution_count": 157,
     "metadata": {},
     "output_type": "execute_result"
    },
    {
     "data": {
      "image/png": "[encoded data removed]",
      "text/plain": [
       "<Figure size 432x288 with 1 Axes>"
      ]
     },
     "metadata": {
      "needs_background": "light"
     },
     "output_type": "display_data"
    }
   ],
   "source": [
    "df.natoms.hist(bins=20)"
   ]
  },
  {
   "cell_type": "code",
   "execution_count": 158,
   "metadata": {},
   "outputs": [
    {
     "data": {
      "text/plain": [
       "0"
      ]
     },
     "execution_count": 158,
     "metadata": {},
     "output_type": "execute_result"
    }
   ],
   "source": [
    "np.sum(df.natoms > 75)"
   ]
  },
  {
   "cell_type": "code",
   "execution_count": 159,
   "metadata": {},
   "outputs": [
    {
     "data": {
      "text/plain": [
       "(1904, 13)"
      ]
     },
     "execution_count": 159,
     "metadata": {},
     "output_type": "execute_result"
    }
   ],
   "source": [
    "df_filtered = df[~low_freq_mask]\n",
    "df_filtered.shape"
   ]
  },
  {
   "cell_type": "code",
   "execution_count": 160,
   "metadata": {},
   "outputs": [
    {
     "data": {
      "image/png": "[encoded data removed]",
      "text/plain": [
       "<Figure size 288x288 with 1 Axes>"
      ]
     },
     "metadata": {
      "needs_background": "light"
     },
     "output_type": "display_data"
    }
   ],
   "source": [
    "df_filtered.enthalpy_atom.hist(bins=20,figsize=(4,4))\n",
    "plt.xlabel(\"enthalpy per atom\")\n",
    "plt.savefig(\"figs/all_3_species_oxides_enthalpy.pdf\")"
   ]
  },
  {
   "cell_type": "code",
   "execution_count": null,
   "metadata": {},
   "outputs": [],
   "source": []
  },
  {
   "cell_type": "code",
   "execution_count": null,
   "metadata": {},
   "outputs": [],
   "source": []
  },
  {
   "cell_type": "code",
   "execution_count": null,
   "metadata": {},
   "outputs": [],
   "source": []
  },
  {
   "cell_type": "code",
   "execution_count": null,
   "metadata": {},
   "outputs": [],
   "source": []
  }
 ],
 "metadata": {
  "kernelspec": {
   "display_name": "Python 3",
   "language": "python",
   "name": "python3"
  },
  "language_info": {
   "codemirror_mode": {
    "name": "ipython",
    "version": 3
   },
   "file_extension": ".py",
   "mimetype": "text/x-python",
   "name": "python",
   "nbconvert_exporter": "python",
   "pygments_lexer": "ipython3",
   "version": "3.8.5"
  }
 },
 "nbformat": 4,
 "nbformat_minor": 4
}
