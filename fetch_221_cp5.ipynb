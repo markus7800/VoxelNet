{
 "cells": [
  {
   "cell_type": "code",
   "execution_count": 1,
   "metadata": {},
   "outputs": [],
   "source": [
    "from aflow import *\n",
    "import pandas as pd\n",
    "import numpy as np\n",
    "import matplotlib.pyplot as plt"
   ]
  },
  {
   "cell_type": "code",
   "execution_count": null,
   "metadata": {},
   "outputs": [],
   "source": [
    "result = search(batch_size=100\n",
    "        ).filter(K.species == \"O\"\n",
    "        ).filter(K.spacegroup_orig == 221\n",
    "        ).filter(K.Pearson_symbol_orig == \"cP5\"\n",
    "        ).filter(K.nspecies == 3\n",
    "        ).select(\n",
    "            K.compound, K.composition, K.species, K.natoms,\n",
    "            K.spacegroup_orig, K.Pearson_symbol_orig,\n",
    "            K.geometry, K.natoms, K.positions_fractional, K.positions_cartesian,\n",
    "            K.enthalpy_atom, K.enthalpy_formation_atom\n",
    "        )"
   ]
  },
  {
   "cell_type": "code",
   "execution_count": null,
   "metadata": {},
   "outputs": [],
   "source": [
    "result = search(catalog=\"icsd\", batch_size=100\n",
    "        ).filter(K.spacegroup_orig == 221\n",
    "        ).filter(K.Pearson_symbol_orig == \"cP5\"\n",
    "        ).filter(K.nspecies == 3\n",
    "        ).select(\n",
    "            K.compound, K.composition, K.species, K.natoms,\n",
    "            K.spacegroup_orig, K.Pearson_symbol_orig,\n",
    "            K.geometry, K.natoms, K.positions_fractional, K.positions_cartesian,\n",
    "            K.enthalpy_atom, K.enthalpy_formation_atom\n",
    "        )"
   ]
  },
  {
   "cell_type": "code",
   "execution_count": null,
   "metadata": {},
   "outputs": [],
   "source": [
    "result.max_N"
   ]
  },
  {
   "cell_type": "code",
   "execution_count": null,
   "metadata": {},
   "outputs": [],
   "source": [
    "df = pd.DataFrame(columns=[\n",
    "\"auid\", \"aurl\",\n",
    "\"compound\", \"composition\", \"species\", \"natoms\",\n",
    "\"spacegroup\", \"pearson_symbol\",\n",
    "\"geometry\", \"positions_fractional\", \"positions_cartesian\",\n",
    "\"enthalpy_atom\", \"enthalpy_formation_atom\"\n",
    "])\n",
    "\n",
    "\n",
    "\n",
    "counter = 1\n",
    "for entry in result:\n",
    "    print(f\"{counter}. Found compound\", entry.compound, \"with auid\", entry.auid)\n",
    "    row = {\n",
    "        \"auid\": entry.auid,\n",
    "        \"aurl\": entry.aurl,\n",
    "        \n",
    "        \"compound\": entry.compound,\n",
    "        \"composition\": entry.composition,\n",
    "        \"species\": entry.species,\n",
    "        \"natoms\": entry.natoms,\n",
    "        \n",
    "        \"spacegroup\": entry.spacegroup_orig,\n",
    "        \"pearson_symbol\": entry.Pearson_symbol_orig,\n",
    "        \n",
    "        \"geometry\": entry.geometry,\n",
    "        \"positions_fractional\": entry.positions_fractional,\n",
    "        \"positions_cartesian\": entry.positions_cartesian,\n",
    "        \n",
    "        \"enthalpy_atom\": entry.enthalpy_atom,\n",
    "        \"enthalpy_formation_atom\": entry.enthalpy_formation_atom\n",
    "    }\n",
    "    df = df.append(row, ignore_index=True)\n",
    "    counter += 1\n",
    "\n",
    "print(\"Done.\")"
   ]
  },
  {
   "cell_type": "code",
   "execution_count": null,
   "metadata": {},
   "outputs": [],
   "source": [
    "df.to_pickle(\"all_221_cp5_3_species_oxides.pkl\")"
   ]
  },
  {
   "cell_type": "code",
   "execution_count": null,
   "metadata": {},
   "outputs": [],
   "source": []
  },
  {
   "cell_type": "code",
   "execution_count": null,
   "metadata": {},
   "outputs": [],
   "source": []
  },
  {
   "cell_type": "code",
   "execution_count": 2,
   "metadata": {},
   "outputs": [],
   "source": [
    "df = pd.read_pickle(\"all_221_cp5_3_species_oxides.pkl\")"
   ]
  },
  {
   "cell_type": "code",
   "execution_count": 46,
   "metadata": {},
   "outputs": [],
   "source": [
    "df = pd.read_pickle(\"icsd_221_cp5_3_species.pkl\")"
   ]
  },
  {
   "cell_type": "code",
   "execution_count": 47,
   "metadata": {
    "scrolled": false
   },
   "outputs": [
    {
     "data": {
      "text/html": [
       "<div>\n",
       "<style scoped>\n",
       "    .dataframe tbody tr th:only-of-type {\n",
       "        vertical-align: middle;\n",
       "    }\n",
       "\n",
       "    .dataframe tbody tr th {\n",
       "        vertical-align: top;\n",
       "    }\n",
       "\n",
       "    .dataframe thead th {\n",
       "        text-align: right;\n",
       "    }\n",
       "</style>\n",
       "<table border=\"1\" class=\"dataframe\">\n",
       "  <thead>\n",
       "    <tr style=\"text-align: right;\">\n",
       "      <th></th>\n",
       "      <th>auid</th>\n",
       "      <th>aurl</th>\n",
       "      <th>compound</th>\n",
       "      <th>composition</th>\n",
       "      <th>species</th>\n",
       "      <th>natoms</th>\n",
       "      <th>spacegroup</th>\n",
       "      <th>pearson_symbol</th>\n",
       "      <th>geometry</th>\n",
       "      <th>positions_fractional</th>\n",
       "      <th>positions_cartesian</th>\n",
       "      <th>enthalpy_atom</th>\n",
       "      <th>enthalpy_formation_atom</th>\n",
       "    </tr>\n",
       "  </thead>\n",
       "  <tbody>\n",
       "    <tr>\n",
       "      <th>0</th>\n",
       "      <td>aflow:c2bae074d76f81b6</td>\n",
       "      <td>aflowlib.duke.edu:AFLOWDATA/ICSD_WEB/CUB/Ag1F3...</td>\n",
       "      <td>Ag1F3Zn1</td>\n",
       "      <td>[1, 3, 1]</td>\n",
       "      <td>[Ag, F, Zn]</td>\n",
       "      <td>5</td>\n",
       "      <td>221</td>\n",
       "      <td>cP5</td>\n",
       "      <td>[3.979183, 3.979183, 3.979183, 90.0, 90.0, 90.0]</td>\n",
       "      <td>[[0.0, 0.0, 0.0], [0.5, 0.5, 0.0], [0.0, 0.5, ...</td>\n",
       "      <td>[[0.0, 0.0, 0.0], [1.98959, 1.98959, -0.0], [0...</td>\n",
       "      <td>-3.35725</td>\n",
       "      <td>None</td>\n",
       "    </tr>\n",
       "    <tr>\n",
       "      <th>1</th>\n",
       "      <td>aflow:c568d79d0d0e9fc8</td>\n",
       "      <td>aflowlib.duke.edu:AFLOWDATA/ICSD_WEB/CUB/Ag1Mn...</td>\n",
       "      <td>Ag1Mn3N1</td>\n",
       "      <td>[1, 3, 1]</td>\n",
       "      <td>[Ag, Mn, N]</td>\n",
       "      <td>5</td>\n",
       "      <td>221</td>\n",
       "      <td>cP5</td>\n",
       "      <td>[4.265445, 4.265445, 4.265445, 90.0, 90.0, 90.0]</td>\n",
       "      <td>[[0.0, 0.0, 0.0], [0.0, 0.5, 0.5], [0.5, 0.0, ...</td>\n",
       "      <td>[[0.0, 0.0, 0.0], [0.0, 2.13272, 2.13272], [2....</td>\n",
       "      <td>-5.99960</td>\n",
       "      <td>None</td>\n",
       "    </tr>\n",
       "    <tr>\n",
       "      <th>2</th>\n",
       "      <td>aflow:8944b3eb2c189cb7</td>\n",
       "      <td>aflowlib.duke.edu:AFLOWDATA/ICSD_WEB/CUB/Ag1Nb...</td>\n",
       "      <td>Ag1Nb1O3</td>\n",
       "      <td>[1, 1, 3]</td>\n",
       "      <td>[Ag, Nb, O]</td>\n",
       "      <td>5</td>\n",
       "      <td>221</td>\n",
       "      <td>cP5</td>\n",
       "      <td>[4.000268, 4.000268, 4.000268, 90.0, 90.0, 90.0]</td>\n",
       "      <td>[[0.5, 0.5, 0.5], [0.0, 0.0, 0.0], [0.0, 0.0, ...</td>\n",
       "      <td>[[2.00013, 2.00013, 2.00013], [0.0, 0.0, 0.0],...</td>\n",
       "      <td>-6.76521</td>\n",
       "      <td>None</td>\n",
       "    </tr>\n",
       "    <tr>\n",
       "      <th>3</th>\n",
       "      <td>aflow:9da57f587b92d20f</td>\n",
       "      <td>aflowlib.duke.edu:AFLOWDATA/ICSD_WEB/CUB/Ag3I1...</td>\n",
       "      <td>Ag3I1S1</td>\n",
       "      <td>[3, 1, 1]</td>\n",
       "      <td>[Ag, I, S]</td>\n",
       "      <td>5</td>\n",
       "      <td>221</td>\n",
       "      <td>cP5</td>\n",
       "      <td>[5.0311, 5.0311, 5.0311, 90.0, 90.0, 90.0]</td>\n",
       "      <td>[[0.5, 0.5, 0.0], [0.0, 0.5, 0.5], [0.5, 0.0, ...</td>\n",
       "      <td>[[2.51555, 2.51555, 0.0], [-0.0, 2.51555, 2.51...</td>\n",
       "      <td>-1.61106</td>\n",
       "      <td>None</td>\n",
       "    </tr>\n",
       "    <tr>\n",
       "      <th>4</th>\n",
       "      <td>aflow:d43abd3deaeccc51</td>\n",
       "      <td>aflowlib.duke.edu:AFLOWDATA/ICSD_WEB/CUB/Al1Bi...</td>\n",
       "      <td>Al1Bi1O3</td>\n",
       "      <td>[1, 1, 3]</td>\n",
       "      <td>[Al, Bi, O]</td>\n",
       "      <td>5</td>\n",
       "      <td>221</td>\n",
       "      <td>cP5</td>\n",
       "      <td>[3.793297, 3.793297, 3.793297, 90.0, 90.0, 90.0]</td>\n",
       "      <td>[[0.5, 0.5, 0.5], [0.0, 0.0, 0.0], [0.0, 0.5, ...</td>\n",
       "      <td>[[1.89665, 1.89665, 1.89665], [0.0, 0.0, 0.0],...</td>\n",
       "      <td>-6.54116</td>\n",
       "      <td>-2.28122</td>\n",
       "    </tr>\n",
       "    <tr>\n",
       "      <th>...</th>\n",
       "      <td>...</td>\n",
       "      <td>...</td>\n",
       "      <td>...</td>\n",
       "      <td>...</td>\n",
       "      <td>...</td>\n",
       "      <td>...</td>\n",
       "      <td>...</td>\n",
       "      <td>...</td>\n",
       "      <td>...</td>\n",
       "      <td>...</td>\n",
       "      <td>...</td>\n",
       "      <td>...</td>\n",
       "      <td>...</td>\n",
       "    </tr>\n",
       "    <tr>\n",
       "      <th>722</th>\n",
       "      <td>aflow:f2a5b2edf497bb0b</td>\n",
       "      <td>aflowlib.duke.edu:AFLOWDATA/ICSD_WEB/CUB/O3Sn1...</td>\n",
       "      <td>O3Sn1Ti1</td>\n",
       "      <td>[3, 1, 1]</td>\n",
       "      <td>[O, Sn, Ti]</td>\n",
       "      <td>5</td>\n",
       "      <td>221</td>\n",
       "      <td>cP5</td>\n",
       "      <td>[3.980776, 3.980776, 3.980776, 90.0, 90.0, 90.0]</td>\n",
       "      <td>[[0.5, 0.5, 0.0], [0.0, 0.5, 0.5], [0.5, 0.0, ...</td>\n",
       "      <td>[[1.99039, 1.99039, -0.0], [0.0, 1.99039, 1.99...</td>\n",
       "      <td>-6.92630</td>\n",
       "      <td>None</td>\n",
       "    </tr>\n",
       "    <tr>\n",
       "      <th>723</th>\n",
       "      <td>aflow:493eb6e26780d785</td>\n",
       "      <td>aflowlib.duke.edu:AFLOWDATA/ICSD_WEB/CUB/O3Sr1...</td>\n",
       "      <td>O3Sr1Tc1</td>\n",
       "      <td>[3, 1, 1]</td>\n",
       "      <td>[O, Sr, Tc]</td>\n",
       "      <td>5</td>\n",
       "      <td>221</td>\n",
       "      <td>cP5</td>\n",
       "      <td>[4.045254, 4.045254, 4.045254, 90.0, 90.0, 90.0]</td>\n",
       "      <td>[[0.5, 0.0, 0.0], [0.0, 0.5, 0.0], [0.0, 0.0, ...</td>\n",
       "      <td>[[2.02263, 0.0, 0.0], [0.0, 2.02263, 0.0], [-0...</td>\n",
       "      <td>-6.91254</td>\n",
       "      <td>None</td>\n",
       "    </tr>\n",
       "    <tr>\n",
       "      <th>725</th>\n",
       "      <td>aflow:37c7f43d3abe11ce</td>\n",
       "      <td>aflowlib.duke.edu:AFLOWDATA/ICSD_WEB/CUB/O3Sr1...</td>\n",
       "      <td>O3Sr1Ti1</td>\n",
       "      <td>[3, 1, 1]</td>\n",
       "      <td>[O, Sr, Ti]</td>\n",
       "      <td>5</td>\n",
       "      <td>221</td>\n",
       "      <td>cP5</td>\n",
       "      <td>[3.97291, 3.97291, 3.97291, 90.0, 90.0, 90.0]</td>\n",
       "      <td>[[0.0, 0.5, 0.5], [0.5, 0.0, 0.5], [0.5, 0.5, ...</td>\n",
       "      <td>[[0.0, 1.98645, 1.98645], [1.98645, 0.0, 1.986...</td>\n",
       "      <td>-7.47382</td>\n",
       "      <td>None</td>\n",
       "    </tr>\n",
       "    <tr>\n",
       "      <th>751</th>\n",
       "      <td>aflow:6381b955a3963bf3</td>\n",
       "      <td>aflowlib.duke.edu:AFLOWDATA/ICSD_WEB/CUB/O3Sr1...</td>\n",
       "      <td>O3Sr1V1</td>\n",
       "      <td>[3, 1, 1]</td>\n",
       "      <td>[O, Sr, V]</td>\n",
       "      <td>5</td>\n",
       "      <td>221</td>\n",
       "      <td>cP5</td>\n",
       "      <td>[3.897829, 3.897829, 3.897829, 90.0, 90.0, 90.0]</td>\n",
       "      <td>[[0.5, 0.0, 0.0], [0.0, 0.5, 0.0], [0.0, 0.0, ...</td>\n",
       "      <td>[[1.94891, 0.0, -0.0], [-0.0, 1.94891, 0.0], [...</td>\n",
       "      <td>-7.35920</td>\n",
       "      <td>None</td>\n",
       "    </tr>\n",
       "    <tr>\n",
       "      <th>754</th>\n",
       "      <td>aflow:e5bd303dd4bbe6a5</td>\n",
       "      <td>aflowlib.duke.edu:AFLOWDATA/ICSD_WEB/CUB/O3Sr1...</td>\n",
       "      <td>O3Sr1Zr1</td>\n",
       "      <td>[3, 1, 1]</td>\n",
       "      <td>[O, Sr, Zr]</td>\n",
       "      <td>5</td>\n",
       "      <td>221</td>\n",
       "      <td>cP5</td>\n",
       "      <td>[4.199808, 4.199808, 4.199808, 90.0, 90.0, 90.0]</td>\n",
       "      <td>[[0.5, 0.5, 0.0], [0.0, 0.5, 0.5], [0.5, 0.0, ...</td>\n",
       "      <td>[[2.0999, 2.0999, 0.0], [0.0, 2.0999, 2.0999],...</td>\n",
       "      <td>-8.21154</td>\n",
       "      <td>-3.46243</td>\n",
       "    </tr>\n",
       "  </tbody>\n",
       "</table>\n",
       "<p>377 rows × 13 columns</p>\n",
       "</div>"
      ],
      "text/plain": [
       "                       auid  \\\n",
       "0    aflow:c2bae074d76f81b6   \n",
       "1    aflow:c568d79d0d0e9fc8   \n",
       "2    aflow:8944b3eb2c189cb7   \n",
       "3    aflow:9da57f587b92d20f   \n",
       "4    aflow:d43abd3deaeccc51   \n",
       "..                      ...   \n",
       "722  aflow:f2a5b2edf497bb0b   \n",
       "723  aflow:493eb6e26780d785   \n",
       "725  aflow:37c7f43d3abe11ce   \n",
       "751  aflow:6381b955a3963bf3   \n",
       "754  aflow:e5bd303dd4bbe6a5   \n",
       "\n",
       "                                                  aurl  compound composition  \\\n",
       "0    aflowlib.duke.edu:AFLOWDATA/ICSD_WEB/CUB/Ag1F3...  Ag1F3Zn1   [1, 3, 1]   \n",
       "1    aflowlib.duke.edu:AFLOWDATA/ICSD_WEB/CUB/Ag1Mn...  Ag1Mn3N1   [1, 3, 1]   \n",
       "2    aflowlib.duke.edu:AFLOWDATA/ICSD_WEB/CUB/Ag1Nb...  Ag1Nb1O3   [1, 1, 3]   \n",
       "3    aflowlib.duke.edu:AFLOWDATA/ICSD_WEB/CUB/Ag3I1...   Ag3I1S1   [3, 1, 1]   \n",
       "4    aflowlib.duke.edu:AFLOWDATA/ICSD_WEB/CUB/Al1Bi...  Al1Bi1O3   [1, 1, 3]   \n",
       "..                                                 ...       ...         ...   \n",
       "722  aflowlib.duke.edu:AFLOWDATA/ICSD_WEB/CUB/O3Sn1...  O3Sn1Ti1   [3, 1, 1]   \n",
       "723  aflowlib.duke.edu:AFLOWDATA/ICSD_WEB/CUB/O3Sr1...  O3Sr1Tc1   [3, 1, 1]   \n",
       "725  aflowlib.duke.edu:AFLOWDATA/ICSD_WEB/CUB/O3Sr1...  O3Sr1Ti1   [3, 1, 1]   \n",
       "751  aflowlib.duke.edu:AFLOWDATA/ICSD_WEB/CUB/O3Sr1...   O3Sr1V1   [3, 1, 1]   \n",
       "754  aflowlib.duke.edu:AFLOWDATA/ICSD_WEB/CUB/O3Sr1...  O3Sr1Zr1   [3, 1, 1]   \n",
       "\n",
       "         species natoms spacegroup pearson_symbol  \\\n",
       "0    [Ag, F, Zn]      5        221            cP5   \n",
       "1    [Ag, Mn, N]      5        221            cP5   \n",
       "2    [Ag, Nb, O]      5        221            cP5   \n",
       "3     [Ag, I, S]      5        221            cP5   \n",
       "4    [Al, Bi, O]      5        221            cP5   \n",
       "..           ...    ...        ...            ...   \n",
       "722  [O, Sn, Ti]      5        221            cP5   \n",
       "723  [O, Sr, Tc]      5        221            cP5   \n",
       "725  [O, Sr, Ti]      5        221            cP5   \n",
       "751   [O, Sr, V]      5        221            cP5   \n",
       "754  [O, Sr, Zr]      5        221            cP5   \n",
       "\n",
       "                                             geometry  \\\n",
       "0    [3.979183, 3.979183, 3.979183, 90.0, 90.0, 90.0]   \n",
       "1    [4.265445, 4.265445, 4.265445, 90.0, 90.0, 90.0]   \n",
       "2    [4.000268, 4.000268, 4.000268, 90.0, 90.0, 90.0]   \n",
       "3          [5.0311, 5.0311, 5.0311, 90.0, 90.0, 90.0]   \n",
       "4    [3.793297, 3.793297, 3.793297, 90.0, 90.0, 90.0]   \n",
       "..                                                ...   \n",
       "722  [3.980776, 3.980776, 3.980776, 90.0, 90.0, 90.0]   \n",
       "723  [4.045254, 4.045254, 4.045254, 90.0, 90.0, 90.0]   \n",
       "725     [3.97291, 3.97291, 3.97291, 90.0, 90.0, 90.0]   \n",
       "751  [3.897829, 3.897829, 3.897829, 90.0, 90.0, 90.0]   \n",
       "754  [4.199808, 4.199808, 4.199808, 90.0, 90.0, 90.0]   \n",
       "\n",
       "                                  positions_fractional  \\\n",
       "0    [[0.0, 0.0, 0.0], [0.5, 0.5, 0.0], [0.0, 0.5, ...   \n",
       "1    [[0.0, 0.0, 0.0], [0.0, 0.5, 0.5], [0.5, 0.0, ...   \n",
       "2    [[0.5, 0.5, 0.5], [0.0, 0.0, 0.0], [0.0, 0.0, ...   \n",
       "3    [[0.5, 0.5, 0.0], [0.0, 0.5, 0.5], [0.5, 0.0, ...   \n",
       "4    [[0.5, 0.5, 0.5], [0.0, 0.0, 0.0], [0.0, 0.5, ...   \n",
       "..                                                 ...   \n",
       "722  [[0.5, 0.5, 0.0], [0.0, 0.5, 0.5], [0.5, 0.0, ...   \n",
       "723  [[0.5, 0.0, 0.0], [0.0, 0.5, 0.0], [0.0, 0.0, ...   \n",
       "725  [[0.0, 0.5, 0.5], [0.5, 0.0, 0.5], [0.5, 0.5, ...   \n",
       "751  [[0.5, 0.0, 0.0], [0.0, 0.5, 0.0], [0.0, 0.0, ...   \n",
       "754  [[0.5, 0.5, 0.0], [0.0, 0.5, 0.5], [0.5, 0.0, ...   \n",
       "\n",
       "                                   positions_cartesian  enthalpy_atom  \\\n",
       "0    [[0.0, 0.0, 0.0], [1.98959, 1.98959, -0.0], [0...       -3.35725   \n",
       "1    [[0.0, 0.0, 0.0], [0.0, 2.13272, 2.13272], [2....       -5.99960   \n",
       "2    [[2.00013, 2.00013, 2.00013], [0.0, 0.0, 0.0],...       -6.76521   \n",
       "3    [[2.51555, 2.51555, 0.0], [-0.0, 2.51555, 2.51...       -1.61106   \n",
       "4    [[1.89665, 1.89665, 1.89665], [0.0, 0.0, 0.0],...       -6.54116   \n",
       "..                                                 ...            ...   \n",
       "722  [[1.99039, 1.99039, -0.0], [0.0, 1.99039, 1.99...       -6.92630   \n",
       "723  [[2.02263, 0.0, 0.0], [0.0, 2.02263, 0.0], [-0...       -6.91254   \n",
       "725  [[0.0, 1.98645, 1.98645], [1.98645, 0.0, 1.986...       -7.47382   \n",
       "751  [[1.94891, 0.0, -0.0], [-0.0, 1.94891, 0.0], [...       -7.35920   \n",
       "754  [[2.0999, 2.0999, 0.0], [0.0, 2.0999, 2.0999],...       -8.21154   \n",
       "\n",
       "    enthalpy_formation_atom  \n",
       "0                      None  \n",
       "1                      None  \n",
       "2                      None  \n",
       "3                      None  \n",
       "4                  -2.28122  \n",
       "..                      ...  \n",
       "722                    None  \n",
       "723                    None  \n",
       "725                    None  \n",
       "751                    None  \n",
       "754                -3.46243  \n",
       "\n",
       "[377 rows x 13 columns]"
      ]
     },
     "execution_count": 47,
     "metadata": {},
     "output_type": "execute_result"
    }
   ],
   "source": [
    "df = df.drop_duplicates(\"compound\")\n",
    "df"
   ]
  },
  {
   "cell_type": "code",
   "execution_count": 48,
   "metadata": {},
   "outputs": [
    {
     "data": {
      "text/plain": [
       "(377,)"
      ]
     },
     "execution_count": 48,
     "metadata": {},
     "output_type": "execute_result"
    }
   ],
   "source": [
    "np.unique(df.compound).shape"
   ]
  },
  {
   "cell_type": "code",
   "execution_count": 49,
   "metadata": {},
   "outputs": [],
   "source": [
    "oxides = df[df.compound.str.contains('O')]"
   ]
  },
  {
   "cell_type": "code",
   "execution_count": 50,
   "metadata": {},
   "outputs": [
    {
     "data": {
      "text/plain": [
       "(93,)"
      ]
     },
     "execution_count": 50,
     "metadata": {},
     "output_type": "execute_result"
    }
   ],
   "source": [
    "np.unique(oxides.compound).shape"
   ]
  },
  {
   "cell_type": "code",
   "execution_count": 51,
   "metadata": {},
   "outputs": [
    {
     "name": "stdout",
     "output_type": "stream",
     "text": [
      "['Ag' 'Al' 'As' 'Au' 'B' 'Ba' 'Be' 'Bi' 'Br' 'C' 'Ca' 'Cd' 'Ce' 'Cl' 'Co'\n",
      " 'Cr' 'Cs' 'Cu' 'Dy' 'Er' 'Eu' 'F' 'Fe' 'Ga' 'Gd' 'Ge' 'H' 'Hf' 'Hg' 'Ho'\n",
      " 'I' 'In' 'Ir' 'K' 'La' 'Li' 'Lu' 'Mg' 'Mn' 'Mo' 'N' 'Na' 'Nb' 'Nd' 'Ni'\n",
      " 'O' 'P' 'Pa' 'Pb' 'Pd' 'Pr' 'Pt' 'Pu' 'Rb' 'Rh' 'Ru' 'S' 'Sb' 'Sc' 'Si'\n",
      " 'Sn' 'Sr' 'Ta' 'Tb' 'Tc' 'Th' 'Ti' 'Tl' 'Tm' 'U' 'V' 'W' 'Y' 'Yb' 'Zn'\n",
      " 'Zr']\n",
      "(76,)\n"
     ]
    }
   ],
   "source": [
    "elements = np.unique(np.hstack(np.array(df.species)))\n",
    "print(elements)\n",
    "print(elements.shape)"
   ]
  },
  {
   "cell_type": "code",
   "execution_count": 52,
   "metadata": {},
   "outputs": [
    {
     "name": "stdout",
     "output_type": "stream",
     "text": [
      "['Ag' 'Al' 'Au' 'Ba' 'Bi' 'Br' 'Ca' 'Cd' 'Ce' 'Cl' 'Co' 'Cr' 'Cs' 'Eu'\n",
      " 'Fe' 'Ga' 'Ge' 'Hf' 'I' 'In' 'Ir' 'K' 'La' 'Li' 'Mn' 'Mo' 'Na' 'Nb' 'Nd'\n",
      " 'O' 'Pa' 'Pb' 'Pr' 'Pu' 'Rb' 'Rh' 'Ru' 'Sc' 'Si' 'Sn' 'Sr' 'Ta' 'Tb' 'Tc'\n",
      " 'Th' 'Ti' 'U' 'V' 'W' 'Yb' 'Zr']\n",
      "(51,)\n"
     ]
    }
   ],
   "source": [
    "elements = np.unique(np.hstack(np.array(oxides.species)))\n",
    "print(elements)\n",
    "print(elements.shape)"
   ]
  },
  {
   "cell_type": "code",
   "execution_count": 53,
   "metadata": {},
   "outputs": [
    {
     "data": {
      "text/plain": [
       "93.89920424403184"
      ]
     },
     "execution_count": 53,
     "metadata": {},
     "output_type": "execute_result"
    }
   ],
   "source": [
    "df.enthalpy_formation_atom.isna().sum() / df.shape[0] * 100"
   ]
  },
  {
   "cell_type": "code",
   "execution_count": 54,
   "metadata": {},
   "outputs": [
    {
     "data": {
      "text/plain": [
       "80.64516129032258"
      ]
     },
     "execution_count": 54,
     "metadata": {},
     "output_type": "execute_result"
    }
   ],
   "source": [
    "oxides.enthalpy_formation_atom.isna().sum() / oxides.shape[0] * 100"
   ]
  },
  {
   "cell_type": "code",
   "execution_count": 55,
   "metadata": {},
   "outputs": [
    {
     "data": {
      "text/plain": [
       "0.0"
      ]
     },
     "execution_count": 55,
     "metadata": {},
     "output_type": "execute_result"
    }
   ],
   "source": [
    "df.enthalpy_atom.isna().sum() / df.shape[0] * 100"
   ]
  },
  {
   "cell_type": "code",
   "execution_count": 56,
   "metadata": {},
   "outputs": [
    {
     "data": {
      "text/plain": [
       "0.0"
      ]
     },
     "execution_count": 56,
     "metadata": {},
     "output_type": "execute_result"
    }
   ],
   "source": [
    "oxides.enthalpy_atom.isna().sum() / oxides.shape[0] * 100"
   ]
  },
  {
   "cell_type": "code",
   "execution_count": 57,
   "metadata": {},
   "outputs": [
    {
     "data": {
      "image/png": "[encoded data removed]",
      "text/plain": [
       "<Figure size 1152x288 with 1 Axes>"
      ]
     },
     "metadata": {
      "needs_background": "light"
     },
     "output_type": "display_data"
    }
   ],
   "source": [
    "pd.Series(np.hstack(np.array(df.species))).value_counts().plot.bar(figsize=(16,4))\n",
    "plt.yscale(\"log\")"
   ]
  },
  {
   "cell_type": "code",
   "execution_count": 60,
   "metadata": {},
   "outputs": [
    {
     "data": {
      "image/png": "[encoded data removed]",
      "text/plain": [
       "<Figure size 1152x288 with 1 Axes>"
      ]
     },
     "metadata": {
      "needs_background": "light"
     },
     "output_type": "display_data"
    }
   ],
   "source": [
    "pd.Series(np.hstack(np.array(oxides.species))).value_counts().plot.bar(figsize=(16,4))\n",
    "plt.yscale(\"log\")"
   ]
  },
  {
   "cell_type": "code",
   "execution_count": 33,
   "metadata": {},
   "outputs": [],
   "source": [
    "variances = df.groupby(\"compound\").enthalpy_atom.var()"
   ]
  },
  {
   "cell_type": "code",
   "execution_count": 34,
   "metadata": {},
   "outputs": [],
   "source": [
    "variances[variances.isna()] = 0 # only 1 entry"
   ]
  },
  {
   "cell_type": "code",
   "execution_count": 36,
   "metadata": {},
   "outputs": [
    {
     "data": {
      "text/plain": [
       "0.5177030304261709"
      ]
     },
     "execution_count": 36,
     "metadata": {},
     "output_type": "execute_result"
    }
   ],
   "source": [
    "variances.mean()"
   ]
  },
  {
   "cell_type": "code",
   "execution_count": 37,
   "metadata": {},
   "outputs": [
    {
     "data": {
      "text/plain": [
       "(array([1.175e+03, 3.100e+02, 1.450e+02, 1.070e+02, 7.600e+01, 5.100e+01,\n",
       "        3.500e+01, 2.300e+01, 1.800e+01, 1.300e+01, 7.000e+00, 6.000e+00,\n",
       "        3.000e+00, 2.000e+00, 2.000e+00, 1.000e+00, 0.000e+00, 1.000e+00,\n",
       "        3.000e+00, 2.000e+00, 1.000e+00, 0.000e+00, 0.000e+00, 1.000e+00,\n",
       "        1.000e+00]),\n",
       " array([0.        , 0.32312921, 0.64625843, 0.96938764, 1.29251685,\n",
       "        1.61564606, 1.93877528, 2.26190449, 2.5850337 , 2.90816292,\n",
       "        3.23129213, 3.55442134, 3.87755055, 4.20067977, 4.52380898,\n",
       "        4.84693819, 5.1700674 , 5.49319662, 5.81632583, 6.13945504,\n",
       "        6.46258426, 6.78571347, 7.10884268, 7.43197189, 7.75510111,\n",
       "        8.07823032]),\n",
       " <a list of 25 Patch objects>)"
      ]
     },
     "execution_count": 37,
     "metadata": {},
     "output_type": "execute_result"
    },
    {
     "data": {
      "image/png": "[encoded data removed]",
      "text/plain": [
       "<Figure size 432x288 with 1 Axes>"
      ]
     },
     "metadata": {
      "needs_background": "light"
     },
     "output_type": "display_data"
    }
   ],
   "source": [
    "plt.hist(variances, bins=25)"
   ]
  },
  {
   "cell_type": "code",
   "execution_count": null,
   "metadata": {},
   "outputs": [],
   "source": [
    "from voxel import *"
   ]
  },
  {
   "cell_type": "code",
   "execution_count": null,
   "metadata": {},
   "outputs": [],
   "source": [
    "# https://en.wikipedia.org/wiki/Fractional_coordinates#In_crystallography\n",
    "def calc_basis(geometry):\n",
    "    a = geometry[0]\n",
    "    b = geometry[1]\n",
    "    c = geometry[2]\n",
    "    alpha = geometry[3] / 180 * np.pi\n",
    "    beta = geometry[4] / 180 * np.pi\n",
    "    gamma = geometry[5] / 180 * np.pi\n",
    "    \n",
    "    cosa = np.cos(alpha)\n",
    "    cosb = np.cos(beta)\n",
    "    cosg = np.cos(gamma)\n",
    "    sing = np.sin(gamma)\n",
    "    \n",
    "    omega = a*b*c*np.sqrt(1 - cosa*cosa - cosb*cosb - cosg*cosg + 2*cosa*cosb*cosg)\n",
    "    \n",
    "    A = np.array([\n",
    "        [ a, b * cosg,                      c * cosb],\n",
    "        [0., b * sing, c * (cosa - cosb*cosg) / sing],\n",
    "        [0.,       0.,        omega / (a * b * sing)]\n",
    "    ])\n",
    "    \n",
    "    A = np.round(A, decimals=14)\n",
    "    \n",
    "    return A\n",
    "\n",
    "\n",
    "def calc_cartesian_positions(A, positions_fractional):\n",
    "    positions_cartesian = np.apply_along_axis(\n",
    "        lambda p: A.dot(p), 1, positions_fractional\n",
    "    )\n",
    "    return positions_cartesian"
   ]
  },
  {
   "cell_type": "code",
   "execution_count": null,
   "metadata": {},
   "outputs": [],
   "source": [
    "# C,D,H,W\n",
    "def make_descriptor(mol, sigma, L, N, elements=None):\n",
    "    if elements is None:\n",
    "        elements = mol.species # for testing\n",
    "    elements = np.array(elements)\n",
    "        \n",
    "    descriptor = np.zeros((len(elements), N, N, N))\n",
    "    \n",
    "    A = calc_basis(mol.geometry)\n",
    "    coords = calc_cartesian_positions(A, mol.positions_fractional)\n",
    "    \n",
    "    \n",
    "    mx, my, mz = get_mesh_coords(A, L, N)\n",
    "        \n",
    "    # atom coordinations are order accoring to composition and species\n",
    "    cs = np.cumsum(mol.composition)\n",
    "    cs = np.insert(cs, 0, 0) # insert 0 at beginning\n",
    "    \n",
    "    print(elements)\n",
    "        \n",
    "    for i, element in enumerate(mol.species):\n",
    "        print(element)\n",
    "        element_coords = coords[cs[i]:cs[i+1]]\n",
    "        print(cs[i], cs[i+1])\n",
    "        print(element_coords, element_coords.shape)\n",
    "        B, G, SG = reciprocal_lattice_gaussian(A, element_coords, sigma, mx, my, mz)\n",
    "        element_descriptor = adapt_to_voxel_grid(G, SG, L, N) # (N,N,N)\n",
    "        \n",
    "        j = np.where(elements == element)[0][0]\n",
    "        descriptor[j,:,:,:] = element_descriptor\n",
    "    \n",
    "    return descriptor\n",
    "        "
   ]
  },
  {
   "cell_type": "code",
   "execution_count": null,
   "metadata": {},
   "outputs": [],
   "source": [
    "mol = oxides.loc[0]\n",
    "mol"
   ]
  },
  {
   "cell_type": "code",
   "execution_count": null,
   "metadata": {},
   "outputs": [],
   "source": [
    "elements = np.unique(np.hstack(np.array(oxides.species)))\n",
    "elements"
   ]
  },
  {
   "cell_type": "code",
   "execution_count": null,
   "metadata": {},
   "outputs": [],
   "source": [
    "d = make_descriptor(mol, sigma=0.1, L=12.8, N=32, elements=elements)\n",
    "d.shape"
   ]
  },
  {
   "cell_type": "code",
   "execution_count": null,
   "metadata": {},
   "outputs": [],
   "source": [
    "np.prod(d.shape)"
   ]
  },
  {
   "cell_type": "code",
   "execution_count": null,
   "metadata": {},
   "outputs": [],
   "source": [
    "np.sum(d.nonzero()) / np.prod(d.shape) * 100"
   ]
  },
  {
   "cell_type": "code",
   "execution_count": null,
   "metadata": {},
   "outputs": [],
   "source": [
    "import ase\n",
    "%matplotlib widget\n",
    "import nglview\n",
    "\n",
    "def elements_coords(entry, augment=True):\n",
    "    elements = []\n",
    "    for e, n in zip(entry.species, entry.composition):\n",
    "        elements = elements + [e]*n\n",
    "        \n",
    "        \n",
    "    pfs_list = list(entry.positions_fractional)\n",
    "    \n",
    "    if augment:\n",
    "        for element, coords in zip(elements, pfs_list):\n",
    "            for i, c in enumerate(coords):\n",
    "                if c == 0:\n",
    "                    new_coords = coords.copy()\n",
    "                    new_coords[i] = 1.\n",
    "\n",
    "                    already_in = False\n",
    "                    for other_p in pfs_list:\n",
    "                        if all(other_p == new_coords):\n",
    "                            already_in = True\n",
    "                            break\n",
    "\n",
    "                    if not already_in:\n",
    "                        pfs_list.append(new_coords)\n",
    "                        elements.append(element)\n",
    "    \n",
    "    pfs = np.array(pfs_list)\n",
    "    \n",
    "    A = calc_basis(entry.geometry)\n",
    "    cartesian_coords = calc_cartesian_positions(A, pfs)\n",
    "    \n",
    "    return elements, cartesian_coords\n",
    "\n",
    "def show_molecule(mol, augment=False):\n",
    "    A = calc_basis(mol.geometry)\n",
    "    elements, coords = elements_coords(mol, augment=augment)\n",
    "    ase_mol = ase.Atoms(symbols=elements, positions=coords, pbc=True, cell=A)\n",
    "    view = nglview.show_ase(ase_mol)\n",
    "    view.background=\"black\"\n",
    "    display(view)"
   ]
  },
  {
   "cell_type": "code",
   "execution_count": null,
   "metadata": {},
   "outputs": [],
   "source": [
    "def get_element_list(mol):\n",
    "    elements = []\n",
    "    for e, n in zip(mol.species, mol.composition):\n",
    "        elements = elements + [e]*n\n",
    "    return elements"
   ]
  },
  {
   "cell_type": "code",
   "execution_count": null,
   "metadata": {},
   "outputs": [],
   "source": [
    "def show_molecule(mol, calc_coords=True):\n",
    "    A = calc_basis(mol.geometry)\n",
    "    if calc_coords:\n",
    "        coords = calc_cartesian_positions(A, mol.positions_fractional)\n",
    "    else:\n",
    "        coords = mol.positions_cartesian\n",
    "        \n",
    "    elements = get_element_list(mol)\n",
    "    ase_mol = ase.Atoms(symbols=elements, positions=coords, pbc=False, cell=A)\n",
    "    view = nglview.show_ase(ase_mol)\n",
    "    view.background=\"black\"\n",
    "    display(view)"
   ]
  },
  {
   "cell_type": "code",
   "execution_count": null,
   "metadata": {},
   "outputs": [],
   "source": [
    "show_molecule(mol, calc_coords=False)"
   ]
  },
  {
   "cell_type": "code",
   "execution_count": null,
   "metadata": {},
   "outputs": [],
   "source": [
    "ase_mol = ase.Atoms(\n",
    "    positions=np.array([\n",
    "        [0., 0., 0.],\n",
    "        [1., 0., 0.],\n",
    "        [0., 1., 0.],\n",
    "        [0., 0., 1.],\n",
    "        [0., 1., 1.],\n",
    "        [1., 0., 1.],\n",
    "        [1., 1., 0.],\n",
    "        [1., 1., 1.]\n",
    "    ]),\n",
    "    pbc=True, cell=np.eye(3)*2)\n",
    "\n",
    "view = nglview.show_ase(ase_mol)\n",
    "view.background=\"black\"\n",
    "display(view)"
   ]
  },
  {
   "cell_type": "code",
   "execution_count": null,
   "metadata": {},
   "outputs": [],
   "source": [
    "o_sr_ti = pd.read_pickle(\"OSrTi.pkl\")"
   ]
  },
  {
   "cell_type": "code",
   "execution_count": null,
   "metadata": {},
   "outputs": [],
   "source": [
    "r = o_sr_ti.loc[2]\n",
    "r.compound"
   ]
  },
  {
   "cell_type": "code",
   "execution_count": null,
   "metadata": {
    "scrolled": false
   },
   "outputs": [],
   "source": [
    "show_molecule(r, augment=False)"
   ]
  },
  {
   "cell_type": "code",
   "execution_count": null,
   "metadata": {},
   "outputs": [],
   "source": [
    "ase_mol = ase.Atoms(\n",
    "    positions=r.positions_cartesian,\n",
    "    pbc=False)\n",
    "\n",
    "view = nglview.show_ase(ase_mol)\n",
    "view.background=\"black\"\n",
    "display(view)"
   ]
  },
  {
   "cell_type": "code",
   "execution_count": null,
   "metadata": {},
   "outputs": [],
   "source": [
    "A = calc_basis(r.geometry)\n",
    "\n",
    "fig = pålt.figure()\n",
    "ax = Axes3D(fig)\n",
    "\n",
    "colors = [\"red\", \"green\", \"blue\", \"orange\", \"purple\", \"black\"]\n",
    "\n",
    "\n",
    "elements, coords = elements_coords(r, augment=True)\n",
    "    \n",
    "    \n",
    "\n",
    "color_dict = {}\n",
    "for i, element in enumerate(r.species):\n",
    "    color_dict[element] = colors[i]\n",
    "\n",
    "\n",
    "print(color_dict)\n",
    "\n",
    "cs = []\n",
    "for element in elements:\n",
    "    cs.append(color_dict[element])\n",
    "\n",
    "\n",
    "corners = np.array([\n",
    "        [0., 0., 0.],\n",
    "        [1., 0., 0.],\n",
    "        [0., 1., 0.],\n",
    "        [0., 0., 1.],\n",
    "        [0., 1., 1.],\n",
    "        [1., 0., 1.],\n",
    "        [1., 1., 0.],\n",
    "        [1., 1., 1.]\n",
    "    ])\n",
    "import itertools\n",
    "for corner1, corner2 in itertools.product(corners, repeat=2):\n",
    "    if np.sum(np.abs(corner1 - corner2)) == 1:\n",
    "        cc = list(zip(A.dot(corner1), A.dot(corner2)))\n",
    "        ax.plot(cc[0], cc[1], cc[2], color=\"black\")\n",
    "\n",
    "ax.scatter(coords[:,0], coords[:,1], coords[:,2], alpha=1, c=cs, s=25)\n",
    "for i in range(3):\n",
    "    ax.plot([0, A[0,i]], [0,A[1,i]], [0,A[2,i]])\n",
    "    \n",
    "legend_handels = []\n",
    "for i, n in enumerate(r.composition):\n",
    "    legend_element = plt.Line2D([0], [0], marker='o', color=\"w\",\n",
    "                                markerfacecolor= colors[i], label=r.species[i], markersize=10)\n",
    "    legend_handels.append(legend_element)\n",
    "\n",
    "plt.suptitle(r.compound)\n",
    "ax.legend(handles=legend_handels)\n",
    "plt.show()"
   ]
  },
  {
   "cell_type": "code",
   "execution_count": null,
   "metadata": {},
   "outputs": [],
   "source": [
    "r"
   ]
  },
  {
   "cell_type": "code",
   "execution_count": null,
   "metadata": {},
   "outputs": [],
   "source": []
  }
 ],
 "metadata": {
  "kernelspec": {
   "display_name": "Python 3",
   "language": "python",
   "name": "python3"
  },
  "language_info": {
   "codemirror_mode": {
    "name": "ipython",
    "version": 3
   },
   "file_extension": ".py",
   "mimetype": "text/x-python",
   "name": "python",
   "nbconvert_exporter": "python",
   "pygments_lexer": "ipython3",
   "version": "3.8.1"
  }
 },
 "nbformat": 4,
 "nbformat_minor": 4
}
