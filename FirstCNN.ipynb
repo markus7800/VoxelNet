{
 "cells": [
  {
   "cell_type": "code",
   "execution_count": 1,
   "metadata": {},
   "outputs": [
    {
     "data": {
      "application/vnd.jupyter.widget-view+json": {
       "model_id": "820119e89f2b49a4b4f79ff4f82a0cf8",
       "version_major": 2,
       "version_minor": 0
      },
      "text/plain": []
     },
     "metadata": {},
     "output_type": "display_data"
    }
   ],
   "source": [
    "import pandas as pd\n",
    "import numpy as np\n",
    "import matplotlib.pyplot as plt\n",
    "#%matplotlib widget\n",
    "\n",
    "from voxel import *\n",
    "from mol_tools import *\n",
    "\n",
    "import torch\n",
    "import torch.nn as nn\n",
    "import random\n",
    "from tqdm import tqdm"
   ]
  },
  {
   "cell_type": "code",
   "execution_count": 2,
   "metadata": {},
   "outputs": [
    {
     "data": {
      "text/html": [
       "<div>\n",
       "<style scoped>\n",
       "    .dataframe tbody tr th:only-of-type {\n",
       "        vertical-align: middle;\n",
       "    }\n",
       "\n",
       "    .dataframe tbody tr th {\n",
       "        vertical-align: top;\n",
       "    }\n",
       "\n",
       "    .dataframe thead th {\n",
       "        text-align: right;\n",
       "    }\n",
       "</style>\n",
       "<table border=\"1\" class=\"dataframe\">\n",
       "  <thead>\n",
       "    <tr style=\"text-align: right;\">\n",
       "      <th></th>\n",
       "      <th>auid</th>\n",
       "      <th>aurl</th>\n",
       "      <th>compound</th>\n",
       "      <th>composition</th>\n",
       "      <th>species</th>\n",
       "      <th>natoms</th>\n",
       "      <th>spacegroup</th>\n",
       "      <th>pearson_symbol</th>\n",
       "      <th>geometry</th>\n",
       "      <th>positions_fractional</th>\n",
       "      <th>positions_cartesian</th>\n",
       "      <th>enthalpy_atom</th>\n",
       "      <th>enthalpy_formation_atom</th>\n",
       "    </tr>\n",
       "  </thead>\n",
       "  <tbody>\n",
       "    <tr>\n",
       "      <th>0</th>\n",
       "      <td>aflow:c2bae074d76f81b6</td>\n",
       "      <td>aflowlib.duke.edu:AFLOWDATA/ICSD_WEB/CUB/Ag1F3...</td>\n",
       "      <td>Ag1F3Zn1</td>\n",
       "      <td>[1, 3, 1]</td>\n",
       "      <td>[Ag, F, Zn]</td>\n",
       "      <td>5</td>\n",
       "      <td>221</td>\n",
       "      <td>cP5</td>\n",
       "      <td>[3.979183, 3.979183, 3.979183, 90.0, 90.0, 90.0]</td>\n",
       "      <td>[[0.0, 0.0, 0.0], [0.5, 0.5, 0.0], [0.0, 0.5, ...</td>\n",
       "      <td>[[0.0, 0.0, 0.0], [1.98959, 1.98959, -0.0], [0...</td>\n",
       "      <td>-3.35725</td>\n",
       "      <td>None</td>\n",
       "    </tr>\n",
       "    <tr>\n",
       "      <th>1</th>\n",
       "      <td>aflow:c568d79d0d0e9fc8</td>\n",
       "      <td>aflowlib.duke.edu:AFLOWDATA/ICSD_WEB/CUB/Ag1Mn...</td>\n",
       "      <td>Ag1Mn3N1</td>\n",
       "      <td>[1, 3, 1]</td>\n",
       "      <td>[Ag, Mn, N]</td>\n",
       "      <td>5</td>\n",
       "      <td>221</td>\n",
       "      <td>cP5</td>\n",
       "      <td>[4.265445, 4.265445, 4.265445, 90.0, 90.0, 90.0]</td>\n",
       "      <td>[[0.0, 0.0, 0.0], [0.0, 0.5, 0.5], [0.5, 0.0, ...</td>\n",
       "      <td>[[0.0, 0.0, 0.0], [0.0, 2.13272, 2.13272], [2....</td>\n",
       "      <td>-5.99960</td>\n",
       "      <td>None</td>\n",
       "    </tr>\n",
       "    <tr>\n",
       "      <th>2</th>\n",
       "      <td>aflow:8944b3eb2c189cb7</td>\n",
       "      <td>aflowlib.duke.edu:AFLOWDATA/ICSD_WEB/CUB/Ag1Nb...</td>\n",
       "      <td>Ag1Nb1O3</td>\n",
       "      <td>[1, 1, 3]</td>\n",
       "      <td>[Ag, Nb, O]</td>\n",
       "      <td>5</td>\n",
       "      <td>221</td>\n",
       "      <td>cP5</td>\n",
       "      <td>[4.000268, 4.000268, 4.000268, 90.0, 90.0, 90.0]</td>\n",
       "      <td>[[0.5, 0.5, 0.5], [0.0, 0.0, 0.0], [0.0, 0.0, ...</td>\n",
       "      <td>[[2.00013, 2.00013, 2.00013], [0.0, 0.0, 0.0],...</td>\n",
       "      <td>-6.76521</td>\n",
       "      <td>None</td>\n",
       "    </tr>\n",
       "    <tr>\n",
       "      <th>3</th>\n",
       "      <td>aflow:9da57f587b92d20f</td>\n",
       "      <td>aflowlib.duke.edu:AFLOWDATA/ICSD_WEB/CUB/Ag3I1...</td>\n",
       "      <td>Ag3I1S1</td>\n",
       "      <td>[3, 1, 1]</td>\n",
       "      <td>[Ag, I, S]</td>\n",
       "      <td>5</td>\n",
       "      <td>221</td>\n",
       "      <td>cP5</td>\n",
       "      <td>[5.0311, 5.0311, 5.0311, 90.0, 90.0, 90.0]</td>\n",
       "      <td>[[0.5, 0.5, 0.0], [0.0, 0.5, 0.5], [0.5, 0.0, ...</td>\n",
       "      <td>[[2.51555, 2.51555, 0.0], [-0.0, 2.51555, 2.51...</td>\n",
       "      <td>-1.61106</td>\n",
       "      <td>None</td>\n",
       "    </tr>\n",
       "    <tr>\n",
       "      <th>4</th>\n",
       "      <td>aflow:d43abd3deaeccc51</td>\n",
       "      <td>aflowlib.duke.edu:AFLOWDATA/ICSD_WEB/CUB/Al1Bi...</td>\n",
       "      <td>Al1Bi1O3</td>\n",
       "      <td>[1, 1, 3]</td>\n",
       "      <td>[Al, Bi, O]</td>\n",
       "      <td>5</td>\n",
       "      <td>221</td>\n",
       "      <td>cP5</td>\n",
       "      <td>[3.793297, 3.793297, 3.793297, 90.0, 90.0, 90.0]</td>\n",
       "      <td>[[0.5, 0.5, 0.5], [0.0, 0.0, 0.0], [0.0, 0.5, ...</td>\n",
       "      <td>[[1.89665, 1.89665, 1.89665], [0.0, 0.0, 0.0],...</td>\n",
       "      <td>-6.54116</td>\n",
       "      <td>-2.28122</td>\n",
       "    </tr>\n",
       "    <tr>\n",
       "      <th>...</th>\n",
       "      <td>...</td>\n",
       "      <td>...</td>\n",
       "      <td>...</td>\n",
       "      <td>...</td>\n",
       "      <td>...</td>\n",
       "      <td>...</td>\n",
       "      <td>...</td>\n",
       "      <td>...</td>\n",
       "      <td>...</td>\n",
       "      <td>...</td>\n",
       "      <td>...</td>\n",
       "      <td>...</td>\n",
       "      <td>...</td>\n",
       "    </tr>\n",
       "    <tr>\n",
       "      <th>757</th>\n",
       "      <td>aflow:e2807ec9ea15f2f7</td>\n",
       "      <td>aflowlib.duke.edu:AFLOWDATA/ICSD_WEB/CUB/O3Sr1...</td>\n",
       "      <td>O3Sr1Zr1</td>\n",
       "      <td>[3, 1, 1]</td>\n",
       "      <td>[O, Sr, Zr]</td>\n",
       "      <td>5</td>\n",
       "      <td>221</td>\n",
       "      <td>cP5</td>\n",
       "      <td>[4.198551, 4.198551, 4.198551, 90.0, 90.0, 90.0]</td>\n",
       "      <td>[[0.5, 0.0, 0.0], [0.0, 0.5, 0.0], [0.0, 0.0, ...</td>\n",
       "      <td>[[2.09928, -0.0, 0.0], [0.0, 2.09928, -0.0], [...</td>\n",
       "      <td>-8.21154</td>\n",
       "      <td>-3.46243</td>\n",
       "    </tr>\n",
       "    <tr>\n",
       "      <th>758</th>\n",
       "      <td>aflow:80368671f9d16cb2</td>\n",
       "      <td>aflowlib.duke.edu:AFLOWDATA/ICSD_WEB/CUB/O3Sr1...</td>\n",
       "      <td>O3Sr1Zr1</td>\n",
       "      <td>[3, 1, 1]</td>\n",
       "      <td>[O, Sr, Zr]</td>\n",
       "      <td>5</td>\n",
       "      <td>221</td>\n",
       "      <td>cP5</td>\n",
       "      <td>[4.401751, 4.401751, 4.401751, 90.0, 90.0, 90.0]</td>\n",
       "      <td>[[0.0, 0.0, 0.5], [0.5, 0.0, 0.0], [0.0, 0.5, ...</td>\n",
       "      <td>[[0.0, 0.0, 2.20088], [2.20088, 0.0, 0.0], [0....</td>\n",
       "      <td>-5.73222</td>\n",
       "      <td>-0.983113</td>\n",
       "    </tr>\n",
       "    <tr>\n",
       "      <th>759</th>\n",
       "      <td>aflow:d94ef5a92bb70b71</td>\n",
       "      <td>aflowlib.duke.edu:AFLOWDATA/ICSD_WEB/CUB/O3Sr1...</td>\n",
       "      <td>O3Sr1Zr1</td>\n",
       "      <td>[3, 1, 1]</td>\n",
       "      <td>[O, Sr, Zr]</td>\n",
       "      <td>5</td>\n",
       "      <td>221</td>\n",
       "      <td>cP5</td>\n",
       "      <td>[4.200047, 4.200047, 4.200047, 90.0, 90.0, 90.0]</td>\n",
       "      <td>[[0.5, 0.0, 0.0], [0.0, 0.5, 0.0], [0.0, 0.0, ...</td>\n",
       "      <td>[[2.10002, 0.0, 0.0], [0.0, 2.10002, 0.0], [0....</td>\n",
       "      <td>-8.21154</td>\n",
       "      <td>-3.46244</td>\n",
       "    </tr>\n",
       "    <tr>\n",
       "      <th>760</th>\n",
       "      <td>aflow:32ccebcea1af1ec7</td>\n",
       "      <td>aflowlib.duke.edu:AFLOWDATA/ICSD_WEB/CUB/O3Sr1...</td>\n",
       "      <td>O3Sr1Zr1</td>\n",
       "      <td>[3, 1, 1]</td>\n",
       "      <td>[O, Sr, Zr]</td>\n",
       "      <td>5</td>\n",
       "      <td>221</td>\n",
       "      <td>cP5</td>\n",
       "      <td>[4.198544, 4.198544, 4.198544, 90.0, 90.0, 90.0]</td>\n",
       "      <td>[[0.5, 0.0, 0.0], [0.0, 0.5, 0.0], [0.0, 0.0, ...</td>\n",
       "      <td>[[2.09927, 0.0, 0.0], [0.0, 2.09927, 0.0], [-0...</td>\n",
       "      <td>-8.21154</td>\n",
       "      <td>-3.46243</td>\n",
       "    </tr>\n",
       "    <tr>\n",
       "      <th>761</th>\n",
       "      <td>aflow:2568364dcad964b8</td>\n",
       "      <td>aflowlib.duke.edu:AFLOWDATA/ICSD_WEB/CUB/O3Sr1...</td>\n",
       "      <td>O3Sr1Zr1</td>\n",
       "      <td>[3, 1, 1]</td>\n",
       "      <td>[O, Sr, Zr]</td>\n",
       "      <td>5</td>\n",
       "      <td>221</td>\n",
       "      <td>cP5</td>\n",
       "      <td>[4.199412, 4.199412, 4.199412, 90.0, 90.0, 90.0]</td>\n",
       "      <td>[[0.5, 0.0, 0.0], [0.0, 0.5, 0.0], [0.0, 0.0, ...</td>\n",
       "      <td>[[2.09971, 0.0, 0.0], [0.0, 2.09971, 0.0], [0....</td>\n",
       "      <td>-8.21155</td>\n",
       "      <td>-3.46244</td>\n",
       "    </tr>\n",
       "  </tbody>\n",
       "</table>\n",
       "<p>762 rows × 13 columns</p>\n",
       "</div>"
      ],
      "text/plain": [
       "                       auid  \\\n",
       "0    aflow:c2bae074d76f81b6   \n",
       "1    aflow:c568d79d0d0e9fc8   \n",
       "2    aflow:8944b3eb2c189cb7   \n",
       "3    aflow:9da57f587b92d20f   \n",
       "4    aflow:d43abd3deaeccc51   \n",
       "..                      ...   \n",
       "757  aflow:e2807ec9ea15f2f7   \n",
       "758  aflow:80368671f9d16cb2   \n",
       "759  aflow:d94ef5a92bb70b71   \n",
       "760  aflow:32ccebcea1af1ec7   \n",
       "761  aflow:2568364dcad964b8   \n",
       "\n",
       "                                                  aurl  compound composition  \\\n",
       "0    aflowlib.duke.edu:AFLOWDATA/ICSD_WEB/CUB/Ag1F3...  Ag1F3Zn1   [1, 3, 1]   \n",
       "1    aflowlib.duke.edu:AFLOWDATA/ICSD_WEB/CUB/Ag1Mn...  Ag1Mn3N1   [1, 3, 1]   \n",
       "2    aflowlib.duke.edu:AFLOWDATA/ICSD_WEB/CUB/Ag1Nb...  Ag1Nb1O3   [1, 1, 3]   \n",
       "3    aflowlib.duke.edu:AFLOWDATA/ICSD_WEB/CUB/Ag3I1...   Ag3I1S1   [3, 1, 1]   \n",
       "4    aflowlib.duke.edu:AFLOWDATA/ICSD_WEB/CUB/Al1Bi...  Al1Bi1O3   [1, 1, 3]   \n",
       "..                                                 ...       ...         ...   \n",
       "757  aflowlib.duke.edu:AFLOWDATA/ICSD_WEB/CUB/O3Sr1...  O3Sr1Zr1   [3, 1, 1]   \n",
       "758  aflowlib.duke.edu:AFLOWDATA/ICSD_WEB/CUB/O3Sr1...  O3Sr1Zr1   [3, 1, 1]   \n",
       "759  aflowlib.duke.edu:AFLOWDATA/ICSD_WEB/CUB/O3Sr1...  O3Sr1Zr1   [3, 1, 1]   \n",
       "760  aflowlib.duke.edu:AFLOWDATA/ICSD_WEB/CUB/O3Sr1...  O3Sr1Zr1   [3, 1, 1]   \n",
       "761  aflowlib.duke.edu:AFLOWDATA/ICSD_WEB/CUB/O3Sr1...  O3Sr1Zr1   [3, 1, 1]   \n",
       "\n",
       "         species natoms spacegroup pearson_symbol  \\\n",
       "0    [Ag, F, Zn]      5        221            cP5   \n",
       "1    [Ag, Mn, N]      5        221            cP5   \n",
       "2    [Ag, Nb, O]      5        221            cP5   \n",
       "3     [Ag, I, S]      5        221            cP5   \n",
       "4    [Al, Bi, O]      5        221            cP5   \n",
       "..           ...    ...        ...            ...   \n",
       "757  [O, Sr, Zr]      5        221            cP5   \n",
       "758  [O, Sr, Zr]      5        221            cP5   \n",
       "759  [O, Sr, Zr]      5        221            cP5   \n",
       "760  [O, Sr, Zr]      5        221            cP5   \n",
       "761  [O, Sr, Zr]      5        221            cP5   \n",
       "\n",
       "                                             geometry  \\\n",
       "0    [3.979183, 3.979183, 3.979183, 90.0, 90.0, 90.0]   \n",
       "1    [4.265445, 4.265445, 4.265445, 90.0, 90.0, 90.0]   \n",
       "2    [4.000268, 4.000268, 4.000268, 90.0, 90.0, 90.0]   \n",
       "3          [5.0311, 5.0311, 5.0311, 90.0, 90.0, 90.0]   \n",
       "4    [3.793297, 3.793297, 3.793297, 90.0, 90.0, 90.0]   \n",
       "..                                                ...   \n",
       "757  [4.198551, 4.198551, 4.198551, 90.0, 90.0, 90.0]   \n",
       "758  [4.401751, 4.401751, 4.401751, 90.0, 90.0, 90.0]   \n",
       "759  [4.200047, 4.200047, 4.200047, 90.0, 90.0, 90.0]   \n",
       "760  [4.198544, 4.198544, 4.198544, 90.0, 90.0, 90.0]   \n",
       "761  [4.199412, 4.199412, 4.199412, 90.0, 90.0, 90.0]   \n",
       "\n",
       "                                  positions_fractional  \\\n",
       "0    [[0.0, 0.0, 0.0], [0.5, 0.5, 0.0], [0.0, 0.5, ...   \n",
       "1    [[0.0, 0.0, 0.0], [0.0, 0.5, 0.5], [0.5, 0.0, ...   \n",
       "2    [[0.5, 0.5, 0.5], [0.0, 0.0, 0.0], [0.0, 0.0, ...   \n",
       "3    [[0.5, 0.5, 0.0], [0.0, 0.5, 0.5], [0.5, 0.0, ...   \n",
       "4    [[0.5, 0.5, 0.5], [0.0, 0.0, 0.0], [0.0, 0.5, ...   \n",
       "..                                                 ...   \n",
       "757  [[0.5, 0.0, 0.0], [0.0, 0.5, 0.0], [0.0, 0.0, ...   \n",
       "758  [[0.0, 0.0, 0.5], [0.5, 0.0, 0.0], [0.0, 0.5, ...   \n",
       "759  [[0.5, 0.0, 0.0], [0.0, 0.5, 0.0], [0.0, 0.0, ...   \n",
       "760  [[0.5, 0.0, 0.0], [0.0, 0.5, 0.0], [0.0, 0.0, ...   \n",
       "761  [[0.5, 0.0, 0.0], [0.0, 0.5, 0.0], [0.0, 0.0, ...   \n",
       "\n",
       "                                   positions_cartesian  enthalpy_atom  \\\n",
       "0    [[0.0, 0.0, 0.0], [1.98959, 1.98959, -0.0], [0...       -3.35725   \n",
       "1    [[0.0, 0.0, 0.0], [0.0, 2.13272, 2.13272], [2....       -5.99960   \n",
       "2    [[2.00013, 2.00013, 2.00013], [0.0, 0.0, 0.0],...       -6.76521   \n",
       "3    [[2.51555, 2.51555, 0.0], [-0.0, 2.51555, 2.51...       -1.61106   \n",
       "4    [[1.89665, 1.89665, 1.89665], [0.0, 0.0, 0.0],...       -6.54116   \n",
       "..                                                 ...            ...   \n",
       "757  [[2.09928, -0.0, 0.0], [0.0, 2.09928, -0.0], [...       -8.21154   \n",
       "758  [[0.0, 0.0, 2.20088], [2.20088, 0.0, 0.0], [0....       -5.73222   \n",
       "759  [[2.10002, 0.0, 0.0], [0.0, 2.10002, 0.0], [0....       -8.21154   \n",
       "760  [[2.09927, 0.0, 0.0], [0.0, 2.09927, 0.0], [-0...       -8.21154   \n",
       "761  [[2.09971, 0.0, 0.0], [0.0, 2.09971, 0.0], [0....       -8.21155   \n",
       "\n",
       "    enthalpy_formation_atom  \n",
       "0                      None  \n",
       "1                      None  \n",
       "2                      None  \n",
       "3                      None  \n",
       "4                  -2.28122  \n",
       "..                      ...  \n",
       "757                -3.46243  \n",
       "758               -0.983113  \n",
       "759                -3.46244  \n",
       "760                -3.46243  \n",
       "761                -3.46244  \n",
       "\n",
       "[762 rows x 13 columns]"
      ]
     },
     "execution_count": 2,
     "metadata": {},
     "output_type": "execute_result"
    }
   ],
   "source": [
    "df = pd.read_pickle(\"icsd_221_cp5_3_species.pkl\")\n",
    "df"
   ]
  },
  {
   "cell_type": "code",
   "execution_count": 10,
   "metadata": {},
   "outputs": [],
   "source": [
    "def get_all_elements(df):\n",
    "      return np.unique(np.hstack(np.array(df.species)))"
   ]
  },
  {
   "cell_type": "code",
   "execution_count": 3,
   "metadata": {},
   "outputs": [],
   "source": [
    "def prepare_single_channel_data(df, sigma, L, N):\n",
    "    df = df.drop_duplicates(subset=\"compound\", keep=\"first\")\n",
    "    print(\"Number of molecules\", df.shape[0])\n",
    "    \n",
    "    width = 2 * np.pi / L * N\n",
    "    adj_width = width*np.sqrt(3)\n",
    "    \n",
    "    names = []\n",
    "    reciprocal_data = []\n",
    "    ys = []\n",
    "    for index, mol in df.iterrows():\n",
    "        A = calc_basis(mol.geometry)\n",
    "        coords = calc_cartesian_positions(A, mol.positions_fractional)\n",
    "        mx, my, mz = get_mesh_coords(A, adj_width)\n",
    "        B, G, SG = reciprocal_lattice_gaussian(A, coords, sigma, mx, my, mz)\n",
    "\n",
    "        names.append(mol.compound)\n",
    "        reciprocal_data.append((G, SG))\n",
    "        ys.append(mol.enthalpy_atom)\n",
    "                    \n",
    "    return names, reciprocal_data, ys\n",
    "        "
   ]
  },
  {
   "cell_type": "code",
   "execution_count": 4,
   "metadata": {},
   "outputs": [],
   "source": [
    "def prepare_multi_channel_data(df, sigma, L, N, elements):\n",
    "    df = df.drop_duplicates(subset=\"compound\", keep=\"first\")\n",
    "    print(\"Number of molecules\", df.shape[0])\n",
    "    \n",
    "    width = 2 * np.pi / L * N\n",
    "    adj_width = width*np.sqrt(3)\n",
    "    \n",
    "    names = []\n",
    "    reciprocal_data = []\n",
    "    ys = []\n",
    "    for index, mol in df.iterrows():\n",
    "        A = calc_basis(mol.geometry)\n",
    "        coords = calc_cartesian_positions(A, mol.positions_fractional)\n",
    "        mx, my, mz = get_mesh_coords(A, adj_width)\n",
    "\n",
    "        # atom coordinations are order accoring to composition and species    \n",
    "        cs = np.cumsum(mol.composition)\n",
    "        cs = np.insert(cs, 0, 0) # insert 0 at beginning\n",
    "\n",
    "        rd = [] # collect G and SG for all elements\n",
    "        for i, element in enumerate(mol.species):\n",
    "            element_coords = coords[cs[i]:cs[i+1]] # extract coordinates corresponding to atoms of one element\n",
    "            B, G, SG = reciprocal_lattice_gaussian(A, element_coords, sigma, mx, my, mz)\n",
    "\n",
    "            j = np.where(elements == element)[0][0] # get channel for element\n",
    "            rd.append((j, element, (G, SG)))\n",
    "            \n",
    "        \n",
    "        names.append(mol.compound)\n",
    "        reciprocal_data.append(rd)\n",
    "        ys.append(mol.enthalpy_atom)\n",
    "                    \n",
    "    return names, reciprocal_data, ys"
   ]
  },
  {
   "cell_type": "code",
   "execution_count": 14,
   "metadata": {},
   "outputs": [],
   "source": [
    "class MolLoader(object):\n",
    "    def __init__(self, names, reciprocal_data, ys, L, N, batch_size, nchannel=1,\n",
    "                 shuffle=False, rotate_randomly=False, device=torch.device('cpu')):\n",
    "        \n",
    "        self.names = names\n",
    "        self.reciprocal_data = reciprocal_data\n",
    "        self.ys = ys\n",
    "        self.batch_size = batch_size\n",
    "        self.rotate_randomly = rotate_randomly\n",
    "        self.device = device\n",
    "        \n",
    "        self.L = L\n",
    "        self.N = N\n",
    "        self.nchannel = nchannel\n",
    "        \n",
    "        self.shuffle = shuffle\n",
    "        self.current = 0\n",
    "        self.indices = np.arange(len(ys))\n",
    "        self.N_data = len(self.indices)\n",
    "        \n",
    "    def __iter__(self):\n",
    "        return self\n",
    "    \n",
    "    def __next__(self):\n",
    "         return self.next()\n",
    "\n",
    "    def __len__(self):\n",
    "        return int(np.ceil(self.N_data / self.batch_size))\n",
    "\n",
    "    def next(self):\n",
    "        N_data = self.N_data\n",
    "        N = self.N # number of voxels\n",
    "        L = self.L\n",
    "        nchan = self.nchannel\n",
    "        \n",
    "        if self.current == 0 and self.shuffle:\n",
    "            np.random.shuffle(self.indices)\n",
    "        \n",
    "        if self.current < N_data:\n",
    "            n1 = self.current\n",
    "            n2 = min(self.current + self.batch_size, N_data)\n",
    "            \n",
    "            x_names = []\n",
    "            x = np.zeros((n2-n1, nchan, N, N, N), dtype=\"float32\")\n",
    "            y = np.zeros((n2-n1,1), dtype=\"float32\")\n",
    "            \n",
    "            for i, j in enumerate(range(n1, n2)):\n",
    "                data_index = self.indices[j] # supports shuffling\n",
    "                \n",
    "                y[i] = self.ys[data_index]\n",
    "                x_names.append(self.names[data_index])\n",
    "                \n",
    "                R = np.eye(3)\n",
    "                if self.rotate_randomly:\n",
    "                    R = get_random_3D_rotation_matrix()\n",
    "                \n",
    "                if nchan == 1:\n",
    "                    G, SG = self.reciprocal_data[data_index]\n",
    "                    descriptor = adapt_to_voxel_grid(G, SG, L, N, rot=R)\n",
    "                    x[i, 0, :, :, :] = descriptor\n",
    "                else:\n",
    "                    for j, element, (G, SG) in self.reciprocal_data[data_index]:\n",
    "                        descriptor = adapt_to_voxel_grid(G, SG, L, N, rot=R)\n",
    "                        x[i, j, :, :, :] = descriptor\n",
    "                                           \n",
    "            \n",
    "            self.current = n2\n",
    "            \n",
    "            x = torch.from_numpy(x).to(self.device, non_blocking=True)\n",
    "            y = torch.from_numpy(y).to(self.device, non_blocking=True)\n",
    "            \n",
    "            return (x_names, x, y)\n",
    "        \n",
    "        self.current = 0\n",
    "        # print(\"Stop Iteration\")\n",
    "        raise StopIteration()\n",
    "    "
   ]
  },
  {
   "cell_type": "code",
   "execution_count": 28,
   "metadata": {
    "scrolled": true
   },
   "outputs": [
    {
     "name": "stdout",
     "output_type": "stream",
     "text": [
      "Number of molecules 377\n"
     ]
    },
    {
     "data": {
      "text/plain": [
       "(array([[-14.21112519, -14.21112519, -14.21112519, ...,  14.21112519,\n",
       "          14.21112519,  14.21112519],\n",
       "        [-14.21112519, -14.21112519, -14.21112519, ...,  14.21112519,\n",
       "          14.21112519,  14.21112519],\n",
       "        [-14.21112519, -12.63211128, -11.05309737, ...,  11.05309737,\n",
       "          12.63211128,  14.21112519]]),\n",
       " array([0.00230204-1.61681006e-17j, 0.00094849-7.90097448e-18j,\n",
       "        0.00343056-1.56888003e-17j, ..., 0.00343056+1.56888003e-17j,\n",
       "        0.00094849+7.90097448e-18j, 0.00230204+1.61681006e-17j]))"
      ]
     },
     "execution_count": 28,
     "metadata": {},
     "output_type": "execute_result"
    }
   ],
   "source": [
    "names, reciprocal_data, ys = prepare_single_channel_data(df, sigma=0.1, L=12.8, N=32)\n",
    "reciprocal_data[0]"
   ]
  },
  {
   "cell_type": "code",
   "execution_count": 29,
   "metadata": {},
   "outputs": [
    {
     "name": "stdout",
     "output_type": "stream",
     "text": [
      "0 ['Ag1F3Zn1', 'Ag1Mn3N1', 'Ag1Nb1O3', 'Ag3I1S1', 'Al1Bi1O3', 'Al1C1Ce3', 'Al1C1Co3', 'Al1C1Dy3', 'Al1C1Er3', 'Al1C1Fe3', 'Al1C1Gd3', 'Al1C1Ho3', 'Al1C1La3', 'Al1C1Mn3', 'Al1C1Nd3', 'Al1C1Pr3', 'Al1C1Pt3', 'Al1C1Sc3', 'Al1C1Tb3', 'Al1C1Ti3', 'Al1C1Tm3', 'Al1C1Y3', 'Al1Ce1O3', 'Al1Ce3N1', 'Al1Dy3N1', 'Al1Er3N1', 'Al1Gd3N1', 'Al1Ho3N1', 'Al1La1O3', 'Al1La3N1', 'Al1Lu3N1', 'Al1N1Nd3'] torch.Size([32, 1, 32, 32, 32]) torch.Size([32, 1])\n",
      "Wall time: 3.61 s\n"
     ]
    }
   ],
   "source": [
    "%%time\n",
    "ml = MolLoader(names, reciprocal_data, ys, \n",
    "               L=12.8, N=32, batch_size=32, nchannel=1,\n",
    "               shuffle=False, rotate_randomly=True)\n",
    "\n",
    "for i, (names, x, y) in enumerate(ml):\n",
    "    print(i, names, x.shape, y.shape)\n",
    "    break"
   ]
  },
  {
   "cell_type": "code",
   "execution_count": 19,
   "metadata": {},
   "outputs": [
    {
     "data": {
      "text/plain": [
       "array(['Ag', 'Al', 'As', 'Au', 'B', 'Ba', 'Be', 'Bi', 'Br', 'C', 'Ca',\n",
       "       'Cd', 'Ce', 'Cl', 'Co', 'Cr', 'Cs', 'Cu', 'Dy', 'Er', 'Eu', 'F',\n",
       "       'Fe', 'Ga', 'Gd', 'Ge', 'H', 'Hf', 'Hg', 'Ho', 'I', 'In', 'Ir',\n",
       "       'K', 'La', 'Li', 'Lu', 'Mg', 'Mn', 'Mo', 'N', 'Na', 'Nb', 'Nd',\n",
       "       'Ni', 'O', 'P', 'Pa', 'Pb', 'Pd', 'Pr', 'Pt', 'Pu', 'Rb', 'Rh',\n",
       "       'Ru', 'S', 'Sb', 'Sc', 'Si', 'Sn', 'Sr', 'Ta', 'Tb', 'Tc', 'Th',\n",
       "       'Ti', 'Tl', 'Tm', 'U', 'V', 'W', 'Y', 'Yb', 'Zn', 'Zr'],\n",
       "      dtype='<U2')"
      ]
     },
     "execution_count": 19,
     "metadata": {},
     "output_type": "execute_result"
    }
   ],
   "source": [
    "elements = get_all_elements(df)\n",
    "elements"
   ]
  },
  {
   "cell_type": "code",
   "execution_count": 20,
   "metadata": {},
   "outputs": [
    {
     "name": "stdout",
     "output_type": "stream",
     "text": [
      "Number of molecules 377\n"
     ]
    },
    {
     "data": {
      "text/plain": [
       "[(0,\n",
       "  'Ag',\n",
       "  (array([[-14.21112519, -14.21112519, -14.21112519, ...,  14.21112519,\n",
       "            14.21112519,  14.21112519],\n",
       "          [-14.21112519, -14.21112519, -14.21112519, ...,  14.21112519,\n",
       "            14.21112519,  14.21112519],\n",
       "          [-14.21112519, -12.63211128, -11.05309737, ...,  11.05309737,\n",
       "            12.63211128,  14.21112519]]),\n",
       "   array([0.00076735+0.j, 0.00094849+0.j, 0.00114352+0.j, ...,\n",
       "          0.00114352+0.j, 0.00094849+0.j, 0.00076735+0.j]))),\n",
       " (21,\n",
       "  'F',\n",
       "  (array([[-14.21112519, -14.21112519, -14.21112519, ...,  14.21112519,\n",
       "            14.21112519,  14.21112519],\n",
       "          [-14.21112519, -14.21112519, -14.21112519, ...,  14.21112519,\n",
       "            14.21112519,  14.21112519],\n",
       "          [-14.21112519, -12.63211128, -11.05309737, ...,  11.05309737,\n",
       "            12.63211128,  14.21112519]]),\n",
       "   array([ 0.00230204-2.14315368e-17j, -0.00094849+1.85850026e-18j,\n",
       "           0.00343056-3.13776006e-17j, ...,  0.00343056+3.13776006e-17j,\n",
       "          -0.00094849-1.85850026e-18j,  0.00230204+2.14315368e-17j]))),\n",
       " (74,\n",
       "  'Zn',\n",
       "  (array([[-14.21112519, -14.21112519, -14.21112519, ...,  14.21112519,\n",
       "            14.21112519,  14.21112519],\n",
       "          [-14.21112519, -14.21112519, -14.21112519, ...,  14.21112519,\n",
       "            14.21112519,  14.21112519],\n",
       "          [-14.21112519, -12.63211128, -11.05309737, ...,  11.05309737,\n",
       "            12.63211128,  14.21112519]]),\n",
       "   array([-0.00076735+5.26343626e-18j,  0.00094849-9.75947474e-18j,\n",
       "          -0.00114352+1.56888003e-17j, ..., -0.00114352-1.56888003e-17j,\n",
       "           0.00094849+9.75947474e-18j, -0.00076735-5.26343626e-18j])))]"
      ]
     },
     "execution_count": 20,
     "metadata": {},
     "output_type": "execute_result"
    }
   ],
   "source": [
    "names, reciprocal_data, ys = prepare_multi_channel_data(df, sigma=0.1, L=12.8, N=32, elements=elements)\n",
    "reciprocal_data[0]"
   ]
  },
  {
   "cell_type": "code",
   "execution_count": 21,
   "metadata": {},
   "outputs": [
    {
     "name": "stdout",
     "output_type": "stream",
     "text": [
      "0 ['Ag1F3Zn1', 'Ag1Mn3N1', 'Ag1Nb1O3', 'Ag3I1S1', 'Al1Bi1O3', 'Al1C1Ce3', 'Al1C1Co3', 'Al1C1Dy3', 'Al1C1Er3', 'Al1C1Fe3', 'Al1C1Gd3', 'Al1C1Ho3', 'Al1C1La3', 'Al1C1Mn3', 'Al1C1Nd3', 'Al1C1Pr3', 'Al1C1Pt3', 'Al1C1Sc3', 'Al1C1Tb3', 'Al1C1Ti3', 'Al1C1Tm3', 'Al1C1Y3', 'Al1Ce1O3', 'Al1Ce3N1', 'Al1Dy3N1', 'Al1Er3N1', 'Al1Gd3N1', 'Al1Ho3N1', 'Al1La1O3', 'Al1La3N1', 'Al1Lu3N1', 'Al1N1Nd3'] torch.Size([32, 76, 32, 32, 32]) torch.Size([32, 1])\n",
      "1 ['Al1N1Pr3', 'Al1N1Tb3', 'Al1N1Ti3', 'As1Ca3N1', 'Au1Ca3N1', 'Au1Cl3Cs1', 'Au1K3O1', 'Au1N1V3', 'Au1O1Rb3', 'B1Ce1Pd3', 'B1Ce1Rh3', 'B1Dy1Pd3', 'B1Dy1Rh3', 'B1Er1Pd3', 'B1Er1Rh3', 'B1Eu1Pd3', 'B1Eu1Rh3', 'B1Gd1Pd3', 'B1Gd1Rh3', 'B1Hf1Rh3', 'B1Ho1Pd3', 'B1Ho1Rh3', 'B1In1La3', 'B1In1Sc3', 'B1Ir3Sc1', 'B1La1Pd3', 'B1La1Rh3', 'B1Lu1Pd3', 'B1Lu1Rh3', 'B1Nd1Pd3', 'B1Nd1Rh3', 'B1Pb1Sc3'] torch.Size([32, 76, 32, 32, 32]) torch.Size([32, 1])\n",
      "2 ['B1Pd3Pr1', 'B1Pd3Tb1', 'B1Pd3Yb1', 'B1Pr1Rh3', 'B1Rh3Sc1', 'B1Rh3Tb1', 'B1Rh3Tm1', 'B1Rh3U1', 'B1Rh3Y1', 'B1Rh3Yb1', 'B1Rh3Zr1', 'B1Sc3Sn1', 'B1Sc3Tl1', 'Ba1Ce1O3', 'Ba1F3Li1', 'Ba1Fe1O3', 'Ba1H3Li1', 'Ba1Ir1O3', 'Ba1Mo1O3', 'Ba1Nb1O3', 'Ba1O3Pa1', 'Ba1O3Pb1', 'Ba1O3Pr1', 'Ba1O3Pu1', 'Ba1O3Sn1', 'Ba1O3Tb1', 'Ba1O3Th1', 'Ba1O3Ti1', 'Ba1O3Zr1', 'Ba3O1Pb1', 'Ba3O1Sn1', 'Be1Cs1F3'] torch.Size([32, 76, 32, 32, 32]) torch.Size([32, 1])\n",
      "3 ['Be1H3Na1', 'Bi1Ca3N1', 'Bi1Ga1O3', 'Bi1In1O3', 'Bi1N1Sr3', 'Bi1O3Sc1', 'Br1K3O1', 'Br1Li3O1', 'Br1O1Rb3', 'Br3Ca1Cs1', 'Br3Cd1Cs1', 'Br3Cs1Ge1', 'Br3Cs1Hg1', 'Br3Cs1Pb1', 'Br3Cs1Sn1', 'Br3Cs1Yb1', 'C1Ca1Pd3', 'C1Ce1Rh3', 'C1Ce3In1', 'C1Ce3Pb1', 'C1Ce3Sn1', 'C1Ce3Tl1', 'C1Co3Mg1', 'C1Co3Sc1', 'C1Co3Sn1', 'C1Co3Zn1', 'C1Dy1Rh3', 'C1Dy3Ga1', 'C1Dy3In1', 'C1Dy3Pb1', 'C1Dy3Sn1', 'C1Dy3Tl1'] torch.Size([32, 76, 32, 32, 32]) torch.Size([32, 1])\n",
      "4 ['C1Er1Rh3', 'C1Er3Ga1', 'C1Er3In1', 'C1Er3Pb1', 'C1Er3Sn1', 'C1Er3Tl1', 'C1Eu1Rh3', 'C1Fe3Sn1', 'C1Fe3Zn1', 'C1Ga1Ho3', 'C1Ga1Mn3', 'C1Ga1Nd3', 'C1Ga1Pr3', 'C1Ga1Sc3', 'C1Ga1Y3', 'C1Ga1Yb3', 'C1Gd1Rh3', 'C1Gd3In1', 'C1Gd3Pb1', 'C1Gd3Sn1', 'C1Gd3Tl1', 'C1Ge1Mn3', 'C1Ge1Ni3', 'C1Ho1Rh3', 'C1Ho3In1', 'C1Ho3Sn1', 'C1Ho3Tl1', 'C1In1La3', 'C1In1Mn3', 'C1In1Nd3', 'C1In1Pr3', 'C1In1Pt3'] torch.Size([32, 76, 32, 32, 32]) torch.Size([32, 1])\n",
      "5 ['C1In1Sc3', 'C1In1Tb3', 'C1In1Ti3', 'C1In1Y3', 'C1In1Yb3', 'C1Ir3Sc1', 'C1La3Pb1', 'C1La3Sn1', 'C1La3Tl1', 'C1Lu1Rh3', 'C1Lu3Sn1', 'C1Mg1Ni3', 'C1Mg3Zn1', 'C1Mn3Sn1', 'C1Mn3Zn1', 'C1Nb1Ru3', 'C1Nd1Rh3', 'C1Nd3Pb1', 'C1Nd3Sn1', 'C1Nd3Tl1', 'C1Ni3Zn1', 'C1Pb1Pd3', 'C1Pb1Pr3', 'C1Pb1Pt3', 'C1Pb1Sc3', 'C1Pb1Tb3', 'C1Pb1Tm3', 'C1Pb1Y3', 'C1Pr1Rh3', 'C1Pr3Sn1', 'C1Pr3Tl1', 'C1Pt3Sn1'] torch.Size([32, 76, 32, 32, 32]) torch.Size([32, 1])\n",
      "6 ['C1Pu1Rh3', 'C1Pu1Ru3', 'C1Rh3Sc1', 'C1Rh3Tb1', 'C1Rh3Tm1', 'C1Rh3Y1', 'C1Rh3Yb1', 'C1Ru3Sc1', 'C1Ru3Ta1', 'C1Ru3Th1', 'C1Ru3V1', 'C1Ru3Zr1', 'C1Sc3Sn1', 'C1Sc3Tl1', 'C1Sn1Tb3', 'C1Sn1Tm3', 'C1Sn1Y3', 'C1Sn1Yb3', 'C1Tb3Tl1', 'C1Ti3Tl1', 'C1Tl1Y3', 'C1Tl1Yb3', 'Ca1Cs1F3', 'Ca1Cs1H3', 'Ca1F3K1', 'Ca1F3Rb1', 'Ca1H3Rb1', 'Ca1Mn1O3', 'Ca1O3Si1', 'Ca1O3Sn1', 'Ca1O3Ti1', 'Ca1O3Zr1'] torch.Size([32, 76, 32, 32, 32]) torch.Size([32, 1])\n",
      "7 ['Ca3Ge1N1', 'Ca3Ge1O1', 'Ca3N1P1', 'Ca3N1Pb1', 'Ca3N1Sb1', 'Ca3N1Sn1', 'Ca3N1Tl1', 'Ca3O1Pb1', 'Ca3O1Sn1', 'Cd1Cl3Cs1', 'Cd1Co3N1', 'Cd1Cs1F3', 'Cd1F3K1', 'Cd1F3Rb1', 'Cd1N1Ni3', 'Cd1O3Ti1', 'Ce1Cr1O3', 'Ce1Ga1O3', 'Ce1O3V1', 'Cl1Na3O1', 'Cl3Cs1Hg1', 'Cl3Cs1Pb1', 'Cl3Cs1Sn1', 'Cl3Cs1Yb1', 'Cl3Mn1Tl1', 'Co1F3K1', 'Co1La1O3', 'Co1Nd1O3', 'Co1O3Sr1', 'Co3In1N1', 'Cr1La1O3', 'Cr1Nd1O3'] torch.Size([32, 76, 32, 32, 32]) torch.Size([32, 1])\n",
      "8 ['Cr1O3Pb1', 'Cr1O3Pr1', 'Cr1O3Sr1', 'Cr3Ga1N1', 'Cr3Ir1N1', 'Cr3N1Pd1', 'Cr3N1Pt1', 'Cr3N1Rh1', 'Cr3N1Sn1', 'Cs1Eu1F3', 'Cs1F3Hg1', 'Cs1F3Mg1', 'Cs1F3Pb1', 'Cs1F3Sr1', 'Cs1F3Yb1', 'Cs1I1O3', 'Cs1I3Pb1', 'Cs1I3Sn1', 'Cu1Mn3N1', 'Cu1N1Ni3', 'Dy3In1N1', 'Er3In1N1', 'Eu1H3Li1', 'Eu1O3Ti1', 'Eu3In1O1', 'F3Fe1K1', 'F3Fe1Rb1', 'F3Hg1Rb1', 'F3K1Mg1', 'F3K1Mn1', 'F3K1Ni1', 'F3K1Pd1'] torch.Size([32, 76, 32, 32, 32]) torch.Size([32, 1])\n",
      "9 ['F3K1V1', 'F3K1Zn1', 'F3Mg1Na1', 'F3Mg1Rb1', 'F3Mn1Rb1', 'F3Na1V1', 'F3Pb1Rb1', 'F3Pd1Rb1', 'F3Rb1V1', 'F3Rb1Yb1', 'Fe1La1O3', 'Fe1O3Sr1', 'Fe3N1Ni1', 'Fe3N1Pd1', 'Fe3N1Pt1', 'Fe3N1Rh1', 'Ga1La1O3', 'Ga1Mn3N1', 'Ga1N1Nd3', 'Ga1Nd1O3', 'Ga1O3Pr1', 'Gd3In1N1', 'Ge1I3Rb1', 'Ge1O3Pb1', 'H1Pd3Tl1', 'H3K1Mg1', 'H3Li1Sr1', 'H3Mg1Ni1', 'H3Ni1Yb1', 'H3Pd1Yb1', 'Hf1O3Pb1', 'Hf1O3Sr1'] torch.Size([32, 76, 32, 32, 32]) torch.Size([32, 1])\n",
      "10 ['Ho3In1N1', 'I1K1O3', 'I1K3O1', 'In1La3N1', 'In1N1Nd3', 'In1N1Ni3', 'In1N1Pr3', 'In1N1Sc3', 'In1N1Tb3', 'In1N1Ti3', 'In1N1Tm3', 'In1O1Pr3', 'Ir1Mn3N1', 'K1O3Ta1', 'K1O3U1', 'La1Mn1O3', 'La1O3Ti1', 'La1O3V1', 'Mn1O3Sr1', 'Mn3N1Ni1', 'Mn3N1Pd1', 'Mn3N1Pt1', 'Mn3N1Rh1', 'Mn3N1Sn1', 'Mn3N1Zn1', 'Mo1O3Sr1', 'N1Nd3Pb1', 'N1Nd3Sn1', 'N1Nd3Tl1', 'N1Ni3Sn1', 'N1Ni3Zn1', 'N1Sb1Sr3'] torch.Size([32, 76, 32, 32, 32]) torch.Size([32, 1])\n",
      "11 ['N1Ti3Tl1', 'N3Ta1Th1', 'Na1Nb1O3', 'Na1O3Ta1', 'Na1O3W1', 'Nb1O3Sr1', 'Nd1O3V1', 'O1Pb1Sr3', 'O1Pb1Yb3', 'O1Sn1Sr3', 'O1Sn1Yb3', 'O3Pb1Ti1', 'O3Pb1V1', 'O3Pb1Zr1', 'O3Pr1V1', 'O3Rb1U1', 'O3Rh1Sr1', 'O3Ru1Sr1', 'O3Sn1Sr1', 'O3Sn1Ta1', 'O3Sn1Ti1', 'O3Sr1Tc1', 'O3Sr1Ti1', 'O3Sr1V1', 'O3Sr1Zr1'] torch.Size([25, 76, 32, 32, 32]) torch.Size([25, 1])\n",
      "Wall time: 2min 1s\n"
     ]
    }
   ],
   "source": [
    "%%time\n",
    "ml = MolLoader(names, reciprocal_data, ys,\n",
    "               L=12.8, N=32, batch_size=32, nchannel=len(elements),\n",
    "               shuffle=False, rotate_randomly=True)\n",
    "\n",
    "for i, (names, x, y) in enumerate(ml):\n",
    "    print(i, names, x.shape, y.shape)\n",
    "    break"
   ]
  },
  {
   "cell_type": "code",
   "execution_count": 23,
   "metadata": {},
   "outputs": [],
   "source": [
    "def seed_everything(seed=0):\n",
    "    random.seed(seed)\n",
    "    torch.manual_seed(seed)\n",
    "    torch.cuda.manual_seed_all(seed)\n",
    "    torch.backends.cudnn.deterministic = True\n",
    "    torch.backends.cudnn.benchmark = False\n",
    "    np.random.seed(seed)"
   ]
  },
  {
   "cell_type": "code",
   "execution_count": 24,
   "metadata": {},
   "outputs": [],
   "source": [
    "def count_parameters(model):\n",
    "    s = 0\n",
    "    for t in model.parameters():\n",
    "        s += np.prod(t.shape)\n",
    "    return s"
   ]
  },
  {
   "cell_type": "code",
   "execution_count": 25,
   "metadata": {},
   "outputs": [],
   "source": [
    "def get_default_device():\n",
    "    \"\"\"Pick GPU if available, else CPU\"\"\"\n",
    "    if torch.cuda.is_available():\n",
    "        # print(\"CUDA version:\", torch.version.cuda)\n",
    "        return torch.device('cuda')\n",
    "    else:\n",
    "        return torch.device('cpu')"
   ]
  },
  {
   "cell_type": "code",
   "execution_count": 26,
   "metadata": {},
   "outputs": [],
   "source": [
    "class VoxelNet(nn.Module):\n",
    "    def __init__(self, in_channels=1):\n",
    "        super().__init__()\n",
    "        # (N, C, D, H, W)\n",
    "        self.conv1 = nn.Sequential(\n",
    "            nn.Conv3d(in_channels, 16, 3, padding=0, stride=1),\n",
    "            nn.BatchNorm3d(16),\n",
    "            nn.LeakyReLU(0.3),\n",
    "            nn.MaxPool3d(2))\n",
    "        \n",
    "        self.conv2 = nn.Sequential(\n",
    "            nn.Conv3d(16, 16, 3, padding=0, stride=1),\n",
    "            nn.LeakyReLU(0.3),\n",
    "            nn.MaxPool3d(2))\n",
    "        \n",
    "        self.conv3 = nn.Sequential(\n",
    "            nn.Conv3d(16, 16, 3, padding=0, stride=1),\n",
    "            nn.LeakyReLU(0.3))\n",
    "        \n",
    "        self.regressor = nn.Sequential(nn.Flatten(),\n",
    "                                        nn.Linear(1024, 32),\n",
    "                                        nn.LeakyReLU(0.3),\n",
    "                                        nn.Linear(32, 8),\n",
    "                                        nn.LeakyReLU(0.3),\n",
    "                                        nn.Linear(8, 1))\n",
    "    def forward(self, x):\n",
    "        #print(x.shape)\n",
    "        x = self.conv1(x)\n",
    "        # print(\"conv1\", x.shape)\n",
    "        x = self.conv2(x)\n",
    "        # print(\"conv2\", x.shape)\n",
    "        x = self.conv3(x)\n",
    "        # print(\"conv3\", x.shape)\n",
    "        x = self.regressor(x)\n",
    "        return x"
   ]
  },
  {
   "cell_type": "code",
   "execution_count": 27,
   "metadata": {},
   "outputs": [],
   "source": [
    "@torch.no_grad()\n",
    "def predict(model, loader):\n",
    "    model.eval()\n",
    "    ys = []\n",
    "    y_hats = []\n",
    "    \n",
    "    for names, x, y in loader:\n",
    "        y_hat = model(x)\n",
    "        \n",
    "        ys.append(y.cpu().numpy())\n",
    "        y_hats.append(y_hat.cpu().numpy())\n",
    "\n",
    "    ys = np.vstack(ys).reshape(-1)\n",
    "    y_hats = np.vstack(y_hats).reshape(-1)\n",
    "    return ys, y_hats"
   ]
  },
  {
   "cell_type": "code",
   "execution_count": 34,
   "metadata": {},
   "outputs": [],
   "source": [
    "def fit(epochs, model, train_loader, opt, lr, weight_decay):\n",
    "    t0 = time.time()\n",
    "    \n",
    "    optimizer = opt(model.parameters(), lr=lr, weight_decay=weight_decay)\n",
    "    #print(optimizer)\n",
    "    \n",
    "    loss = nn.MSELoss()\n",
    "    \n",
    "    \n",
    "    # best_val_acc = result[\"val_acc\"]\n",
    "    # best = deepcopy(model)\n",
    "    \n",
    "    for epoch in range(epochs):\n",
    "        train_losses = []\n",
    "        \n",
    "        # Training Phase \n",
    "        model.train()\n",
    "        for names, x, y in train_loader:\n",
    "            y_hat = model(x)\n",
    "            out = loss(y_hat, y)\n",
    "            out.backward()\n",
    "            optimizer.step()\n",
    "            optimizer.zero_grad()\n",
    "            \n",
    "            train_losses.append(out)\n",
    "            \n",
    "        # Validation phase\n",
    "        # model.eval()\n",
    "        #result = evaluate(model, val_loader, \"val\")\n",
    "        mean_loss = torch.stack(train_losses).mean().item()\n",
    "        \n",
    "        print(f\"Epoch {epoch}: loss {mean_loss}\")\n",
    "        \n",
    "        \n",
    "        # store model which performs best on validation set\n",
    "        #if result[\"val_acc\"] > best_val_acc:\n",
    "        #    print(\"New best!\")\n",
    "        #    best_val_acc = result[\"val_acc\"]\n",
    "        #    best = deepcopy(model)\n",
    "    \n",
    "    t1 = time.time()\n",
    "    print(f\"Finished in {t1-t0:.4f}s.\")"
   ]
  },
  {
   "cell_type": "markdown",
   "metadata": {},
   "source": [
    "### Single Channel"
   ]
  },
  {
   "cell_type": "code",
   "execution_count": null,
   "metadata": {},
   "outputs": [],
   "source": [
    "df = pd.read_pickle(\"icsd_221_cp5_3_species.pkl\")\n",
    "# df = pd.read_pickle(\"all_221_cp5_3_species_oxides.pkl\")\n",
    "names, reciprocal_data, ys = prepare_single_channel_data(df, sigma=0.1, L=12.8, N=32)"
   ]
  },
  {
   "cell_type": "code",
   "execution_count": 35,
   "metadata": {},
   "outputs": [
    {
     "data": {
      "text/plain": [
       "47409"
      ]
     },
     "execution_count": 35,
     "metadata": {},
     "output_type": "execute_result"
    }
   ],
   "source": [
    "net = VoxelNet(1)\n",
    "count_parameters(net)"
   ]
  },
  {
   "cell_type": "code",
   "execution_count": 36,
   "metadata": {},
   "outputs": [
    {
     "name": "stdout",
     "output_type": "stream",
     "text": [
      "Number of molecules 377\n",
      "Epoch 0: loss 12.705279350280762\n",
      "Epoch 1: loss 3.346860408782959\n",
      "Epoch 2: loss 2.79807448387146\n",
      "Epoch 3: loss 2.6790273189544678\n",
      "Epoch 4: loss 2.8494441509246826\n",
      "Epoch 5: loss 2.8785037994384766\n",
      "Epoch 6: loss 2.670045852661133\n",
      "Epoch 7: loss 2.5662145614624023\n",
      "Epoch 8: loss 2.531036853790283\n",
      "Epoch 9: loss 2.6039369106292725\n",
      "Finished in 408.8111s.\n"
     ]
    }
   ],
   "source": [
    "seed_everything()\n",
    "device = get_default_device()\n",
    "\n",
    "net = VoxelNet(1)\n",
    "net = net.to(device)\n",
    "\n",
    "ml = MolLoader(names, reciprocal_data, ys,\n",
    "               L=12.8, N=32, batch_size=32, nchannel=1,\n",
    "               shuffle=True, rotate_randomly=True, device=device)\n",
    "\n",
    "fit(10, net, ml, torch.optim.Adam, lr=0.001, weight_decay=0)"
   ]
  },
  {
   "cell_type": "code",
   "execution_count": 37,
   "metadata": {},
   "outputs": [],
   "source": [
    "ml_pred = MolLoader(names, reciprocal_data, ys,\n",
    "                    L=12.8, N=32, batch_size=32, nchannel=1,\n",
    "                    shuffle=False, rotate_randomly=False, device=device)\n",
    "ys, y_hats = predict(net, ml_pred)"
   ]
  },
  {
   "cell_type": "code",
   "execution_count": 38,
   "metadata": {},
   "outputs": [
    {
     "data": {
      "text/plain": [
       "[<matplotlib.lines.Line2D at 0x254b0a5d160>]"
      ]
     },
     "execution_count": 38,
     "metadata": {},
     "output_type": "execute_result"
    },
    {
     "data": {
      "image/png": "[encoded data removed]",
      "text/plain": [
       "<Figure size 432x288 with 1 Axes>"
      ]
     },
     "metadata": {
      "needs_background": "light"
     },
     "output_type": "display_data"
    }
   ],
   "source": [
    "plt.scatter(ys, y_hats)\n",
    "plt.xlabel(\"measured\")\n",
    "plt.ylabel(\"predicted\")\n",
    "plt.plot([-10,0], [-10,0], c=\"red\")"
   ]
  },
  {
   "cell_type": "code",
   "execution_count": 39,
   "metadata": {},
   "outputs": [
    {
     "data": {
      "text/plain": [
       "3.3456645"
      ]
     },
     "execution_count": 39,
     "metadata": {},
     "output_type": "execute_result"
    }
   ],
   "source": [
    "np.mean((ys - y_hats)**2)"
   ]
  },
  {
   "cell_type": "markdown",
   "metadata": {},
   "source": [
    "### Multi Channel"
   ]
  },
  {
   "cell_type": "code",
   "execution_count": 40,
   "metadata": {},
   "outputs": [],
   "source": [
    "df = pd.read_pickle(\"icsd_221_cp5_3_species.pkl\")\n",
    "# df = pd.read_pickle(\"all_221_cp5_3_species_oxides.pkl\")"
   ]
  },
  {
   "cell_type": "code",
   "execution_count": 41,
   "metadata": {},
   "outputs": [
    {
     "data": {
      "text/plain": [
       "array(['Ag', 'Al', 'As', 'Au', 'B', 'Ba', 'Be', 'Bi', 'Br', 'C', 'Ca',\n",
       "       'Cd', 'Ce', 'Cl', 'Co', 'Cr', 'Cs', 'Cu', 'Dy', 'Er', 'Eu', 'F',\n",
       "       'Fe', 'Ga', 'Gd', 'Ge', 'H', 'Hf', 'Hg', 'Ho', 'I', 'In', 'Ir',\n",
       "       'K', 'La', 'Li', 'Lu', 'Mg', 'Mn', 'Mo', 'N', 'Na', 'Nb', 'Nd',\n",
       "       'Ni', 'O', 'P', 'Pa', 'Pb', 'Pd', 'Pr', 'Pt', 'Pu', 'Rb', 'Rh',\n",
       "       'Ru', 'S', 'Sb', 'Sc', 'Si', 'Sn', 'Sr', 'Ta', 'Tb', 'Tc', 'Th',\n",
       "       'Ti', 'Tl', 'Tm', 'U', 'V', 'W', 'Y', 'Yb', 'Zn', 'Zr'],\n",
       "      dtype='<U2')"
      ]
     },
     "execution_count": 41,
     "metadata": {},
     "output_type": "execute_result"
    }
   ],
   "source": [
    "elements = get_all_elements(df)\n",
    "elements"
   ]
  },
  {
   "cell_type": "code",
   "execution_count": 42,
   "metadata": {},
   "outputs": [
    {
     "data": {
      "text/plain": [
       "76"
      ]
     },
     "execution_count": 42,
     "metadata": {},
     "output_type": "execute_result"
    }
   ],
   "source": [
    "nchannel = len(elements)\n",
    "nchannel"
   ]
  },
  {
   "cell_type": "code",
   "execution_count": 43,
   "metadata": {},
   "outputs": [
    {
     "data": {
      "text/plain": [
       "79809"
      ]
     },
     "execution_count": 43,
     "metadata": {},
     "output_type": "execute_result"
    }
   ],
   "source": [
    "net = VoxelNet(nchannel)\n",
    "count_parameters(net)"
   ]
  },
  {
   "cell_type": "code",
   "execution_count": 44,
   "metadata": {},
   "outputs": [
    {
     "name": "stdout",
     "output_type": "stream",
     "text": [
      "Number of molecules 377\n"
     ]
    }
   ],
   "source": [
    "names, reciprocal_data, ys = prepare_multi_channel_data(df, sigma=0.1, L=12.8, N=32, elements=elements)"
   ]
  },
  {
   "cell_type": "code",
   "execution_count": 47,
   "metadata": {},
   "outputs": [
    {
     "name": "stdout",
     "output_type": "stream",
     "text": [
      "Epoch 0: loss 14.67728042602539\n",
      "Epoch 1: loss 2.514376163482666\n",
      "Epoch 2: loss 5.0783867835998535\n",
      "Epoch 3: loss 4.226783275604248\n",
      "Epoch 4: loss 2.866584300994873\n",
      "Epoch 5: loss 0.4608750343322754\n",
      "Epoch 6: loss 0.4443250894546509\n",
      "Epoch 7: loss 0.35619649291038513\n",
      "Epoch 8: loss 0.33131200075149536\n",
      "Epoch 9: loss 0.30105602741241455\n",
      "Finished in 1248.8652s.\n"
     ]
    }
   ],
   "source": [
    "seed_everything()\n",
    "device = get_default_device()\n",
    "\n",
    "net = VoxelNet(nchannel)\n",
    "net = net.to(device)\n",
    "\n",
    "ml = MolLoader(names, reciprocal_data, ys,\n",
    "               L=12.8, N=32, batch_size=32, nchannel=nchannel,\n",
    "               shuffle=False, rotate_randomly=True, device=device)\n",
    "\n",
    "fit(10, net, ml, torch.optim.Adam, lr=0.001, weight_decay=0)"
   ]
  },
  {
   "cell_type": "code",
   "execution_count": 49,
   "metadata": {},
   "outputs": [],
   "source": [
    "ml_pred = MolLoader(names, reciprocal_data, ys,\n",
    "                   L=12.8, N=32, batch_size=32, nchannel=nchannel,\n",
    "                   shuffle=False, rotate_randomly=True, device=device)\n",
    "ys, y_hats = predict(net, ml_pred)"
   ]
  },
  {
   "cell_type": "code",
   "execution_count": 52,
   "metadata": {},
   "outputs": [
    {
     "data": {
      "text/plain": [
       "[<matplotlib.lines.Line2D at 0x254ceec9c10>]"
      ]
     },
     "execution_count": 52,
     "metadata": {},
     "output_type": "execute_result"
    },
    {
     "data": {
      "image/png": "[encoded data removed]",
      "text/plain": [
       "<Figure size 432x288 with 1 Axes>"
      ]
     },
     "metadata": {
      "needs_background": "light"
     },
     "output_type": "display_data"
    }
   ],
   "source": [
    "plt.scatter(ys, y_hats)\n",
    "plt.xlabel(\"measured\")\n",
    "plt.ylabel(\"predicted\")\n",
    "plt.plot([-12,0], [-12,0], c=\"red\")"
   ]
  },
  {
   "cell_type": "code",
   "execution_count": 51,
   "metadata": {},
   "outputs": [
    {
     "data": {
      "text/plain": [
       "1.4853786"
      ]
     },
     "execution_count": 51,
     "metadata": {},
     "output_type": "execute_result"
    }
   ],
   "source": [
    "np.mean((ys - y_hats)**2)"
   ]
  },
  {
   "cell_type": "code",
   "execution_count": null,
   "metadata": {},
   "outputs": [],
   "source": []
  }
 ],
 "metadata": {
  "kernelspec": {
   "display_name": "Python 3",
   "language": "python",
   "name": "python3"
  },
  "language_info": {
   "codemirror_mode": {
    "name": "ipython",
    "version": 3
   },
   "file_extension": ".py",
   "mimetype": "text/x-python",
   "name": "python",
   "nbconvert_exporter": "python",
   "pygments_lexer": "ipython3",
   "version": "3.8.1"
  }
 },
 "nbformat": 4,
 "nbformat_minor": 4
}
