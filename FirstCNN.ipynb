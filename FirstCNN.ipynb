{
 "cells": [
  {
   "cell_type": "code",
   "execution_count": 1,
   "metadata": {},
   "outputs": [
    {
     "data": {
      "application/vnd.jupyter.widget-view+json": {
       "model_id": "9595f6bbaf344c8abfe0bf1b3c39e08b",
       "version_major": 2,
       "version_minor": 0
      },
      "text/plain": []
     },
     "metadata": {},
     "output_type": "display_data"
    }
   ],
   "source": [
    "import pandas as pd\n",
    "import numpy as np\n",
    "import matplotlib.pyplot as plt\n",
    "#%matplotlib widget\n",
    "\n",
    "from voxel import *\n",
    "from mol_tools import *\n",
    "\n",
    "import torch\n",
    "import torch.nn as nn\n",
    "import random\n",
    "from tqdm import tqdm\n",
    "\n",
    "from sklearn.model_selection import train_test_split"
   ]
  },
  {
   "cell_type": "code",
   "execution_count": 43,
   "metadata": {},
   "outputs": [],
   "source": [
    "def drop_duplicates(df):\n",
    "    df = df.drop_duplicates(subset=\"compound\", keep=\"first\")\n",
    "    print(\"Number of molecules\", df.shape[0])\n",
    "    return df"
   ]
  },
  {
   "cell_type": "code",
   "execution_count": 54,
   "metadata": {},
   "outputs": [
    {
     "name": "stdout",
     "output_type": "stream",
     "text": [
      "Number of molecules 377\n"
     ]
    },
    {
     "data": {
      "text/html": [
       "<div>\n",
       "<style scoped>\n",
       "    .dataframe tbody tr th:only-of-type {\n",
       "        vertical-align: middle;\n",
       "    }\n",
       "\n",
       "    .dataframe tbody tr th {\n",
       "        vertical-align: top;\n",
       "    }\n",
       "\n",
       "    .dataframe thead th {\n",
       "        text-align: right;\n",
       "    }\n",
       "</style>\n",
       "<table border=\"1\" class=\"dataframe\">\n",
       "  <thead>\n",
       "    <tr style=\"text-align: right;\">\n",
       "      <th></th>\n",
       "      <th>auid</th>\n",
       "      <th>aurl</th>\n",
       "      <th>compound</th>\n",
       "      <th>composition</th>\n",
       "      <th>species</th>\n",
       "      <th>natoms</th>\n",
       "      <th>spacegroup</th>\n",
       "      <th>pearson_symbol</th>\n",
       "      <th>geometry</th>\n",
       "      <th>positions_fractional</th>\n",
       "      <th>positions_cartesian</th>\n",
       "      <th>enthalpy_atom</th>\n",
       "      <th>enthalpy_formation_atom</th>\n",
       "    </tr>\n",
       "  </thead>\n",
       "  <tbody>\n",
       "    <tr>\n",
       "      <th>0</th>\n",
       "      <td>aflow:c2bae074d76f81b6</td>\n",
       "      <td>aflowlib.duke.edu:AFLOWDATA/ICSD_WEB/CUB/Ag1F3...</td>\n",
       "      <td>Ag1F3Zn1</td>\n",
       "      <td>[1, 3, 1]</td>\n",
       "      <td>[Ag, F, Zn]</td>\n",
       "      <td>5</td>\n",
       "      <td>221</td>\n",
       "      <td>cP5</td>\n",
       "      <td>[3.979183, 3.979183, 3.979183, 90.0, 90.0, 90.0]</td>\n",
       "      <td>[[0.0, 0.0, 0.0], [0.5, 0.5, 0.0], [0.0, 0.5, ...</td>\n",
       "      <td>[[0.0, 0.0, 0.0], [1.98959, 1.98959, -0.0], [0...</td>\n",
       "      <td>-3.35725</td>\n",
       "      <td>None</td>\n",
       "    </tr>\n",
       "    <tr>\n",
       "      <th>1</th>\n",
       "      <td>aflow:c568d79d0d0e9fc8</td>\n",
       "      <td>aflowlib.duke.edu:AFLOWDATA/ICSD_WEB/CUB/Ag1Mn...</td>\n",
       "      <td>Ag1Mn3N1</td>\n",
       "      <td>[1, 3, 1]</td>\n",
       "      <td>[Ag, Mn, N]</td>\n",
       "      <td>5</td>\n",
       "      <td>221</td>\n",
       "      <td>cP5</td>\n",
       "      <td>[4.265445, 4.265445, 4.265445, 90.0, 90.0, 90.0]</td>\n",
       "      <td>[[0.0, 0.0, 0.0], [0.0, 0.5, 0.5], [0.5, 0.0, ...</td>\n",
       "      <td>[[0.0, 0.0, 0.0], [0.0, 2.13272, 2.13272], [2....</td>\n",
       "      <td>-5.99960</td>\n",
       "      <td>None</td>\n",
       "    </tr>\n",
       "    <tr>\n",
       "      <th>2</th>\n",
       "      <td>aflow:8944b3eb2c189cb7</td>\n",
       "      <td>aflowlib.duke.edu:AFLOWDATA/ICSD_WEB/CUB/Ag1Nb...</td>\n",
       "      <td>Ag1Nb1O3</td>\n",
       "      <td>[1, 1, 3]</td>\n",
       "      <td>[Ag, Nb, O]</td>\n",
       "      <td>5</td>\n",
       "      <td>221</td>\n",
       "      <td>cP5</td>\n",
       "      <td>[4.000268, 4.000268, 4.000268, 90.0, 90.0, 90.0]</td>\n",
       "      <td>[[0.5, 0.5, 0.5], [0.0, 0.0, 0.0], [0.0, 0.0, ...</td>\n",
       "      <td>[[2.00013, 2.00013, 2.00013], [0.0, 0.0, 0.0],...</td>\n",
       "      <td>-6.76521</td>\n",
       "      <td>None</td>\n",
       "    </tr>\n",
       "    <tr>\n",
       "      <th>3</th>\n",
       "      <td>aflow:9da57f587b92d20f</td>\n",
       "      <td>aflowlib.duke.edu:AFLOWDATA/ICSD_WEB/CUB/Ag3I1...</td>\n",
       "      <td>Ag3I1S1</td>\n",
       "      <td>[3, 1, 1]</td>\n",
       "      <td>[Ag, I, S]</td>\n",
       "      <td>5</td>\n",
       "      <td>221</td>\n",
       "      <td>cP5</td>\n",
       "      <td>[5.0311, 5.0311, 5.0311, 90.0, 90.0, 90.0]</td>\n",
       "      <td>[[0.5, 0.5, 0.0], [0.0, 0.5, 0.5], [0.5, 0.0, ...</td>\n",
       "      <td>[[2.51555, 2.51555, 0.0], [-0.0, 2.51555, 2.51...</td>\n",
       "      <td>-1.61106</td>\n",
       "      <td>None</td>\n",
       "    </tr>\n",
       "    <tr>\n",
       "      <th>4</th>\n",
       "      <td>aflow:d43abd3deaeccc51</td>\n",
       "      <td>aflowlib.duke.edu:AFLOWDATA/ICSD_WEB/CUB/Al1Bi...</td>\n",
       "      <td>Al1Bi1O3</td>\n",
       "      <td>[1, 1, 3]</td>\n",
       "      <td>[Al, Bi, O]</td>\n",
       "      <td>5</td>\n",
       "      <td>221</td>\n",
       "      <td>cP5</td>\n",
       "      <td>[3.793297, 3.793297, 3.793297, 90.0, 90.0, 90.0]</td>\n",
       "      <td>[[0.5, 0.5, 0.5], [0.0, 0.0, 0.0], [0.0, 0.5, ...</td>\n",
       "      <td>[[1.89665, 1.89665, 1.89665], [0.0, 0.0, 0.0],...</td>\n",
       "      <td>-6.54116</td>\n",
       "      <td>-2.28122</td>\n",
       "    </tr>\n",
       "    <tr>\n",
       "      <th>...</th>\n",
       "      <td>...</td>\n",
       "      <td>...</td>\n",
       "      <td>...</td>\n",
       "      <td>...</td>\n",
       "      <td>...</td>\n",
       "      <td>...</td>\n",
       "      <td>...</td>\n",
       "      <td>...</td>\n",
       "      <td>...</td>\n",
       "      <td>...</td>\n",
       "      <td>...</td>\n",
       "      <td>...</td>\n",
       "      <td>...</td>\n",
       "    </tr>\n",
       "    <tr>\n",
       "      <th>722</th>\n",
       "      <td>aflow:f2a5b2edf497bb0b</td>\n",
       "      <td>aflowlib.duke.edu:AFLOWDATA/ICSD_WEB/CUB/O3Sn1...</td>\n",
       "      <td>O3Sn1Ti1</td>\n",
       "      <td>[3, 1, 1]</td>\n",
       "      <td>[O, Sn, Ti]</td>\n",
       "      <td>5</td>\n",
       "      <td>221</td>\n",
       "      <td>cP5</td>\n",
       "      <td>[3.980776, 3.980776, 3.980776, 90.0, 90.0, 90.0]</td>\n",
       "      <td>[[0.5, 0.5, 0.0], [0.0, 0.5, 0.5], [0.5, 0.0, ...</td>\n",
       "      <td>[[1.99039, 1.99039, -0.0], [0.0, 1.99039, 1.99...</td>\n",
       "      <td>-6.92630</td>\n",
       "      <td>None</td>\n",
       "    </tr>\n",
       "    <tr>\n",
       "      <th>723</th>\n",
       "      <td>aflow:493eb6e26780d785</td>\n",
       "      <td>aflowlib.duke.edu:AFLOWDATA/ICSD_WEB/CUB/O3Sr1...</td>\n",
       "      <td>O3Sr1Tc1</td>\n",
       "      <td>[3, 1, 1]</td>\n",
       "      <td>[O, Sr, Tc]</td>\n",
       "      <td>5</td>\n",
       "      <td>221</td>\n",
       "      <td>cP5</td>\n",
       "      <td>[4.045254, 4.045254, 4.045254, 90.0, 90.0, 90.0]</td>\n",
       "      <td>[[0.5, 0.0, 0.0], [0.0, 0.5, 0.0], [0.0, 0.0, ...</td>\n",
       "      <td>[[2.02263, 0.0, 0.0], [0.0, 2.02263, 0.0], [-0...</td>\n",
       "      <td>-6.91254</td>\n",
       "      <td>None</td>\n",
       "    </tr>\n",
       "    <tr>\n",
       "      <th>725</th>\n",
       "      <td>aflow:37c7f43d3abe11ce</td>\n",
       "      <td>aflowlib.duke.edu:AFLOWDATA/ICSD_WEB/CUB/O3Sr1...</td>\n",
       "      <td>O3Sr1Ti1</td>\n",
       "      <td>[3, 1, 1]</td>\n",
       "      <td>[O, Sr, Ti]</td>\n",
       "      <td>5</td>\n",
       "      <td>221</td>\n",
       "      <td>cP5</td>\n",
       "      <td>[3.97291, 3.97291, 3.97291, 90.0, 90.0, 90.0]</td>\n",
       "      <td>[[0.0, 0.5, 0.5], [0.5, 0.0, 0.5], [0.5, 0.5, ...</td>\n",
       "      <td>[[0.0, 1.98645, 1.98645], [1.98645, 0.0, 1.986...</td>\n",
       "      <td>-7.47382</td>\n",
       "      <td>None</td>\n",
       "    </tr>\n",
       "    <tr>\n",
       "      <th>751</th>\n",
       "      <td>aflow:6381b955a3963bf3</td>\n",
       "      <td>aflowlib.duke.edu:AFLOWDATA/ICSD_WEB/CUB/O3Sr1...</td>\n",
       "      <td>O3Sr1V1</td>\n",
       "      <td>[3, 1, 1]</td>\n",
       "      <td>[O, Sr, V]</td>\n",
       "      <td>5</td>\n",
       "      <td>221</td>\n",
       "      <td>cP5</td>\n",
       "      <td>[3.897829, 3.897829, 3.897829, 90.0, 90.0, 90.0]</td>\n",
       "      <td>[[0.5, 0.0, 0.0], [0.0, 0.5, 0.0], [0.0, 0.0, ...</td>\n",
       "      <td>[[1.94891, 0.0, -0.0], [-0.0, 1.94891, 0.0], [...</td>\n",
       "      <td>-7.35920</td>\n",
       "      <td>None</td>\n",
       "    </tr>\n",
       "    <tr>\n",
       "      <th>754</th>\n",
       "      <td>aflow:e5bd303dd4bbe6a5</td>\n",
       "      <td>aflowlib.duke.edu:AFLOWDATA/ICSD_WEB/CUB/O3Sr1...</td>\n",
       "      <td>O3Sr1Zr1</td>\n",
       "      <td>[3, 1, 1]</td>\n",
       "      <td>[O, Sr, Zr]</td>\n",
       "      <td>5</td>\n",
       "      <td>221</td>\n",
       "      <td>cP5</td>\n",
       "      <td>[4.199808, 4.199808, 4.199808, 90.0, 90.0, 90.0]</td>\n",
       "      <td>[[0.5, 0.5, 0.0], [0.0, 0.5, 0.5], [0.5, 0.0, ...</td>\n",
       "      <td>[[2.0999, 2.0999, 0.0], [0.0, 2.0999, 2.0999],...</td>\n",
       "      <td>-8.21154</td>\n",
       "      <td>-3.46243</td>\n",
       "    </tr>\n",
       "  </tbody>\n",
       "</table>\n",
       "<p>377 rows × 13 columns</p>\n",
       "</div>"
      ],
      "text/plain": [
       "                       auid  \\\n",
       "0    aflow:c2bae074d76f81b6   \n",
       "1    aflow:c568d79d0d0e9fc8   \n",
       "2    aflow:8944b3eb2c189cb7   \n",
       "3    aflow:9da57f587b92d20f   \n",
       "4    aflow:d43abd3deaeccc51   \n",
       "..                      ...   \n",
       "722  aflow:f2a5b2edf497bb0b   \n",
       "723  aflow:493eb6e26780d785   \n",
       "725  aflow:37c7f43d3abe11ce   \n",
       "751  aflow:6381b955a3963bf3   \n",
       "754  aflow:e5bd303dd4bbe6a5   \n",
       "\n",
       "                                                  aurl  compound composition  \\\n",
       "0    aflowlib.duke.edu:AFLOWDATA/ICSD_WEB/CUB/Ag1F3...  Ag1F3Zn1   [1, 3, 1]   \n",
       "1    aflowlib.duke.edu:AFLOWDATA/ICSD_WEB/CUB/Ag1Mn...  Ag1Mn3N1   [1, 3, 1]   \n",
       "2    aflowlib.duke.edu:AFLOWDATA/ICSD_WEB/CUB/Ag1Nb...  Ag1Nb1O3   [1, 1, 3]   \n",
       "3    aflowlib.duke.edu:AFLOWDATA/ICSD_WEB/CUB/Ag3I1...   Ag3I1S1   [3, 1, 1]   \n",
       "4    aflowlib.duke.edu:AFLOWDATA/ICSD_WEB/CUB/Al1Bi...  Al1Bi1O3   [1, 1, 3]   \n",
       "..                                                 ...       ...         ...   \n",
       "722  aflowlib.duke.edu:AFLOWDATA/ICSD_WEB/CUB/O3Sn1...  O3Sn1Ti1   [3, 1, 1]   \n",
       "723  aflowlib.duke.edu:AFLOWDATA/ICSD_WEB/CUB/O3Sr1...  O3Sr1Tc1   [3, 1, 1]   \n",
       "725  aflowlib.duke.edu:AFLOWDATA/ICSD_WEB/CUB/O3Sr1...  O3Sr1Ti1   [3, 1, 1]   \n",
       "751  aflowlib.duke.edu:AFLOWDATA/ICSD_WEB/CUB/O3Sr1...   O3Sr1V1   [3, 1, 1]   \n",
       "754  aflowlib.duke.edu:AFLOWDATA/ICSD_WEB/CUB/O3Sr1...  O3Sr1Zr1   [3, 1, 1]   \n",
       "\n",
       "         species natoms spacegroup pearson_symbol  \\\n",
       "0    [Ag, F, Zn]      5        221            cP5   \n",
       "1    [Ag, Mn, N]      5        221            cP5   \n",
       "2    [Ag, Nb, O]      5        221            cP5   \n",
       "3     [Ag, I, S]      5        221            cP5   \n",
       "4    [Al, Bi, O]      5        221            cP5   \n",
       "..           ...    ...        ...            ...   \n",
       "722  [O, Sn, Ti]      5        221            cP5   \n",
       "723  [O, Sr, Tc]      5        221            cP5   \n",
       "725  [O, Sr, Ti]      5        221            cP5   \n",
       "751   [O, Sr, V]      5        221            cP5   \n",
       "754  [O, Sr, Zr]      5        221            cP5   \n",
       "\n",
       "                                             geometry  \\\n",
       "0    [3.979183, 3.979183, 3.979183, 90.0, 90.0, 90.0]   \n",
       "1    [4.265445, 4.265445, 4.265445, 90.0, 90.0, 90.0]   \n",
       "2    [4.000268, 4.000268, 4.000268, 90.0, 90.0, 90.0]   \n",
       "3          [5.0311, 5.0311, 5.0311, 90.0, 90.0, 90.0]   \n",
       "4    [3.793297, 3.793297, 3.793297, 90.0, 90.0, 90.0]   \n",
       "..                                                ...   \n",
       "722  [3.980776, 3.980776, 3.980776, 90.0, 90.0, 90.0]   \n",
       "723  [4.045254, 4.045254, 4.045254, 90.0, 90.0, 90.0]   \n",
       "725     [3.97291, 3.97291, 3.97291, 90.0, 90.0, 90.0]   \n",
       "751  [3.897829, 3.897829, 3.897829, 90.0, 90.0, 90.0]   \n",
       "754  [4.199808, 4.199808, 4.199808, 90.0, 90.0, 90.0]   \n",
       "\n",
       "                                  positions_fractional  \\\n",
       "0    [[0.0, 0.0, 0.0], [0.5, 0.5, 0.0], [0.0, 0.5, ...   \n",
       "1    [[0.0, 0.0, 0.0], [0.0, 0.5, 0.5], [0.5, 0.0, ...   \n",
       "2    [[0.5, 0.5, 0.5], [0.0, 0.0, 0.0], [0.0, 0.0, ...   \n",
       "3    [[0.5, 0.5, 0.0], [0.0, 0.5, 0.5], [0.5, 0.0, ...   \n",
       "4    [[0.5, 0.5, 0.5], [0.0, 0.0, 0.0], [0.0, 0.5, ...   \n",
       "..                                                 ...   \n",
       "722  [[0.5, 0.5, 0.0], [0.0, 0.5, 0.5], [0.5, 0.0, ...   \n",
       "723  [[0.5, 0.0, 0.0], [0.0, 0.5, 0.0], [0.0, 0.0, ...   \n",
       "725  [[0.0, 0.5, 0.5], [0.5, 0.0, 0.5], [0.5, 0.5, ...   \n",
       "751  [[0.5, 0.0, 0.0], [0.0, 0.5, 0.0], [0.0, 0.0, ...   \n",
       "754  [[0.5, 0.5, 0.0], [0.0, 0.5, 0.5], [0.5, 0.0, ...   \n",
       "\n",
       "                                   positions_cartesian  enthalpy_atom  \\\n",
       "0    [[0.0, 0.0, 0.0], [1.98959, 1.98959, -0.0], [0...       -3.35725   \n",
       "1    [[0.0, 0.0, 0.0], [0.0, 2.13272, 2.13272], [2....       -5.99960   \n",
       "2    [[2.00013, 2.00013, 2.00013], [0.0, 0.0, 0.0],...       -6.76521   \n",
       "3    [[2.51555, 2.51555, 0.0], [-0.0, 2.51555, 2.51...       -1.61106   \n",
       "4    [[1.89665, 1.89665, 1.89665], [0.0, 0.0, 0.0],...       -6.54116   \n",
       "..                                                 ...            ...   \n",
       "722  [[1.99039, 1.99039, -0.0], [0.0, 1.99039, 1.99...       -6.92630   \n",
       "723  [[2.02263, 0.0, 0.0], [0.0, 2.02263, 0.0], [-0...       -6.91254   \n",
       "725  [[0.0, 1.98645, 1.98645], [1.98645, 0.0, 1.986...       -7.47382   \n",
       "751  [[1.94891, 0.0, -0.0], [-0.0, 1.94891, 0.0], [...       -7.35920   \n",
       "754  [[2.0999, 2.0999, 0.0], [0.0, 2.0999, 2.0999],...       -8.21154   \n",
       "\n",
       "    enthalpy_formation_atom  \n",
       "0                      None  \n",
       "1                      None  \n",
       "2                      None  \n",
       "3                      None  \n",
       "4                  -2.28122  \n",
       "..                      ...  \n",
       "722                    None  \n",
       "723                    None  \n",
       "725                    None  \n",
       "751                    None  \n",
       "754                -3.46243  \n",
       "\n",
       "[377 rows x 13 columns]"
      ]
     },
     "execution_count": 54,
     "metadata": {},
     "output_type": "execute_result"
    }
   ],
   "source": [
    "df = pd.read_pickle(\"icsd_221_cp5_3_species.pkl\")\n",
    "df = drop_duplicates(df)\n",
    "df"
   ]
  },
  {
   "cell_type": "code",
   "execution_count": 3,
   "metadata": {},
   "outputs": [],
   "source": [
    "def get_all_elements(df):\n",
    "      return np.unique(np.hstack(np.array(df.species)))"
   ]
  },
  {
   "cell_type": "code",
   "execution_count": 4,
   "metadata": {},
   "outputs": [],
   "source": [
    "def prepare_single_channel_data(df, sigma, L, N):\n",
    "    \n",
    "    width = 2 * np.pi / L * N\n",
    "    adj_width = width*np.sqrt(3)\n",
    "    \n",
    "    names = []\n",
    "    reciprocal_data = []\n",
    "    ys = []\n",
    "    for index, mol in df.iterrows():\n",
    "        A = calc_basis(mol.geometry)\n",
    "        coords = calc_cartesian_positions(A, mol.positions_fractional)\n",
    "        mx, my, mz = get_mesh_coords(A, adj_width)\n",
    "        B, G, SG = reciprocal_lattice_gaussian(A, coords, sigma, mx, my, mz)\n",
    "\n",
    "        names.append(mol.compound)\n",
    "        reciprocal_data.append((G, SG))\n",
    "        ys.append(mol.enthalpy_atom)\n",
    "                    \n",
    "    return names, reciprocal_data, ys\n",
    "        "
   ]
  },
  {
   "cell_type": "code",
   "execution_count": 5,
   "metadata": {},
   "outputs": [],
   "source": [
    "def prepare_multi_channel_data(df, sigma, L, N, elements):\n",
    "    \n",
    "    width = 2 * np.pi / L * N\n",
    "    adj_width = width*np.sqrt(3)\n",
    "    \n",
    "    names = []\n",
    "    reciprocal_data = []\n",
    "    ys = []\n",
    "    for index, mol in df.iterrows():\n",
    "        A = calc_basis(mol.geometry)\n",
    "        coords = calc_cartesian_positions(A, mol.positions_fractional)\n",
    "        mx, my, mz = get_mesh_coords(A, adj_width)\n",
    "\n",
    "        # atom coordinations are order accoring to composition and species    \n",
    "        cs = np.cumsum(mol.composition)\n",
    "        cs = np.insert(cs, 0, 0) # insert 0 at beginning\n",
    "\n",
    "        rd = [] # collect G and SG for all elements\n",
    "        for i, element in enumerate(mol.species):\n",
    "            element_coords = coords[cs[i]:cs[i+1]] # extract coordinates corresponding to atoms of one element\n",
    "            B, G, SG = reciprocal_lattice_gaussian(A, element_coords, sigma, mx, my, mz)\n",
    "\n",
    "            j = np.where(elements == element)[0][0] # get channel for element\n",
    "            rd.append((j, element, (G, SG)))\n",
    "            \n",
    "        \n",
    "        names.append(mol.compound)\n",
    "        reciprocal_data.append(rd)\n",
    "        ys.append(mol.enthalpy_atom)\n",
    "                    \n",
    "    return names, reciprocal_data, ys"
   ]
  },
  {
   "cell_type": "code",
   "execution_count": 6,
   "metadata": {},
   "outputs": [],
   "source": [
    "class MolLoader(object):\n",
    "    def __init__(self, names, reciprocal_data, ys, L, N, batch_size, nchannel=1,\n",
    "                 shuffle=False, rotate_randomly=False, device=torch.device('cpu')):\n",
    "        \n",
    "        self.names = names\n",
    "        self.reciprocal_data = reciprocal_data\n",
    "        self.ys = ys\n",
    "        self.batch_size = batch_size\n",
    "        self.rotate_randomly = rotate_randomly\n",
    "        self.device = device\n",
    "        \n",
    "        self.L = L\n",
    "        self.N = N\n",
    "        self.nchannel = nchannel\n",
    "        \n",
    "        self.shuffle = shuffle\n",
    "        self.current = 0\n",
    "        self.indices = np.arange(len(ys))\n",
    "        self.N_data = len(self.indices)\n",
    "        \n",
    "    def __iter__(self):\n",
    "        return self\n",
    "    \n",
    "    def __next__(self):\n",
    "         return self.next()\n",
    "\n",
    "    def __len__(self):\n",
    "        return int(np.ceil(self.N_data / self.batch_size))\n",
    "\n",
    "    def next(self):\n",
    "        N_data = self.N_data\n",
    "        N = self.N # number of voxels\n",
    "        L = self.L\n",
    "        nchan = self.nchannel\n",
    "        \n",
    "        if self.current == 0 and self.shuffle:\n",
    "            np.random.shuffle(self.indices)\n",
    "        \n",
    "        if self.current < N_data:\n",
    "            n1 = self.current\n",
    "            n2 = min(self.current + self.batch_size, N_data)\n",
    "            \n",
    "            x_names = []\n",
    "            x = np.zeros((n2-n1, nchan, N, N, N), dtype=\"float32\")\n",
    "            y = np.zeros((n2-n1,1), dtype=\"float32\")\n",
    "            \n",
    "            for i, j in enumerate(range(n1, n2)):\n",
    "                data_index = self.indices[j] # supports shuffling\n",
    "                \n",
    "                y[i] = self.ys[data_index]\n",
    "                x_names.append(self.names[data_index])\n",
    "                \n",
    "                R = np.eye(3)\n",
    "                if self.rotate_randomly:\n",
    "                    R = get_random_3D_rotation_matrix()\n",
    "                \n",
    "                if nchan == 1:\n",
    "                    G, SG = self.reciprocal_data[data_index]\n",
    "                    descriptor = adapt_to_voxel_grid(G, SG, L, N, rot=R)\n",
    "                    x[i, 0, :, :, :] = descriptor\n",
    "                else:\n",
    "                    for j, element, (G, SG) in self.reciprocal_data[data_index]:\n",
    "                        descriptor = adapt_to_voxel_grid(G, SG, L, N, rot=R)\n",
    "                        x[i, j, :, :, :] = descriptor\n",
    "                                           \n",
    "            \n",
    "            self.current = n2\n",
    "            \n",
    "            x = torch.from_numpy(x).to(self.device, non_blocking=True)\n",
    "            y = torch.from_numpy(y).to(self.device, non_blocking=True)\n",
    "            \n",
    "            return (x_names, x, y)\n",
    "        \n",
    "        self.current = 0\n",
    "        # print(\"Stop Iteration\")\n",
    "        raise StopIteration()\n",
    "    "
   ]
  },
  {
   "cell_type": "code",
   "execution_count": 8,
   "metadata": {
    "scrolled": true
   },
   "outputs": [
    {
     "name": "stdout",
     "output_type": "stream",
     "text": [
      "Number of molecules 377\n"
     ]
    },
    {
     "data": {
      "text/plain": [
       "(array([[-14.21112519, -14.21112519, -14.21112519, ...,  14.21112519,\n",
       "          14.21112519,  14.21112519],\n",
       "        [-14.21112519, -14.21112519, -14.21112519, ...,  14.21112519,\n",
       "          14.21112519,  14.21112519],\n",
       "        [-14.21112519, -12.63211128, -11.05309737, ...,  11.05309737,\n",
       "          12.63211128,  14.21112519]]),\n",
       " array([0.00230204-1.61681006e-17j, 0.00094849-7.90097448e-18j,\n",
       "        0.00343056-1.56888003e-17j, ..., 0.00343056+1.56888003e-17j,\n",
       "        0.00094849+7.90097448e-18j, 0.00230204+1.61681006e-17j]))"
      ]
     },
     "execution_count": 8,
     "metadata": {},
     "output_type": "execute_result"
    }
   ],
   "source": [
    "names, reciprocal_data, ys = prepare_single_channel_data(df, sigma=0.1, L=12.8, N=32)\n",
    "reciprocal_data[0]"
   ]
  },
  {
   "cell_type": "code",
   "execution_count": 9,
   "metadata": {},
   "outputs": [
    {
     "name": "stdout",
     "output_type": "stream",
     "text": [
      "0 ['Ag1F3Zn1', 'Ag1Mn3N1', 'Ag1Nb1O3', 'Ag3I1S1', 'Al1Bi1O3', 'Al1C1Ce3', 'Al1C1Co3', 'Al1C1Dy3', 'Al1C1Er3', 'Al1C1Fe3', 'Al1C1Gd3', 'Al1C1Ho3', 'Al1C1La3', 'Al1C1Mn3', 'Al1C1Nd3', 'Al1C1Pr3', 'Al1C1Pt3', 'Al1C1Sc3', 'Al1C1Tb3', 'Al1C1Ti3', 'Al1C1Tm3', 'Al1C1Y3', 'Al1Ce1O3', 'Al1Ce3N1', 'Al1Dy3N1', 'Al1Er3N1', 'Al1Gd3N1', 'Al1Ho3N1', 'Al1La1O3', 'Al1La3N1', 'Al1Lu3N1', 'Al1N1Nd3'] torch.Size([32, 1, 32, 32, 32]) torch.Size([32, 1])\n",
      "Wall time: 89.8 ms\n"
     ]
    }
   ],
   "source": [
    "%%time\n",
    "ml = MolLoader(names, reciprocal_data, ys, \n",
    "               L=12.8, N=32, batch_size=32, nchannel=1,\n",
    "               shuffle=False, rotate_randomly=True)\n",
    "\n",
    "for i, (names, x, y) in enumerate(ml):\n",
    "    print(i, names, x.shape, y.shape)\n",
    "    break"
   ]
  },
  {
   "cell_type": "code",
   "execution_count": 10,
   "metadata": {},
   "outputs": [
    {
     "data": {
      "text/plain": [
       "array(['Ag', 'Al', 'As', 'Au', 'B', 'Ba', 'Be', 'Bi', 'Br', 'C', 'Ca',\n",
       "       'Cd', 'Ce', 'Cl', 'Co', 'Cr', 'Cs', 'Cu', 'Dy', 'Er', 'Eu', 'F',\n",
       "       'Fe', 'Ga', 'Gd', 'Ge', 'H', 'Hf', 'Hg', 'Ho', 'I', 'In', 'Ir',\n",
       "       'K', 'La', 'Li', 'Lu', 'Mg', 'Mn', 'Mo', 'N', 'Na', 'Nb', 'Nd',\n",
       "       'Ni', 'O', 'P', 'Pa', 'Pb', 'Pd', 'Pr', 'Pt', 'Pu', 'Rb', 'Rh',\n",
       "       'Ru', 'S', 'Sb', 'Sc', 'Si', 'Sn', 'Sr', 'Ta', 'Tb', 'Tc', 'Th',\n",
       "       'Ti', 'Tl', 'Tm', 'U', 'V', 'W', 'Y', 'Yb', 'Zn', 'Zr'],\n",
       "      dtype='<U2')"
      ]
     },
     "execution_count": 10,
     "metadata": {},
     "output_type": "execute_result"
    }
   ],
   "source": [
    "elements = get_all_elements(df)\n",
    "elements"
   ]
  },
  {
   "cell_type": "code",
   "execution_count": 11,
   "metadata": {},
   "outputs": [
    {
     "name": "stdout",
     "output_type": "stream",
     "text": [
      "Number of molecules 377\n"
     ]
    },
    {
     "data": {
      "text/plain": [
       "[(0,\n",
       "  'Ag',\n",
       "  (array([[-14.21112519, -14.21112519, -14.21112519, ...,  14.21112519,\n",
       "            14.21112519,  14.21112519],\n",
       "          [-14.21112519, -14.21112519, -14.21112519, ...,  14.21112519,\n",
       "            14.21112519,  14.21112519],\n",
       "          [-14.21112519, -12.63211128, -11.05309737, ...,  11.05309737,\n",
       "            12.63211128,  14.21112519]]),\n",
       "   array([0.00076735+0.j, 0.00094849+0.j, 0.00114352+0.j, ...,\n",
       "          0.00114352+0.j, 0.00094849+0.j, 0.00076735+0.j]))),\n",
       " (21,\n",
       "  'F',\n",
       "  (array([[-14.21112519, -14.21112519, -14.21112519, ...,  14.21112519,\n",
       "            14.21112519,  14.21112519],\n",
       "          [-14.21112519, -14.21112519, -14.21112519, ...,  14.21112519,\n",
       "            14.21112519,  14.21112519],\n",
       "          [-14.21112519, -12.63211128, -11.05309737, ...,  11.05309737,\n",
       "            12.63211128,  14.21112519]]),\n",
       "   array([ 0.00230204-2.14315368e-17j, -0.00094849+1.85850026e-18j,\n",
       "           0.00343056-3.13776006e-17j, ...,  0.00343056+3.13776006e-17j,\n",
       "          -0.00094849-1.85850026e-18j,  0.00230204+2.14315368e-17j]))),\n",
       " (74,\n",
       "  'Zn',\n",
       "  (array([[-14.21112519, -14.21112519, -14.21112519, ...,  14.21112519,\n",
       "            14.21112519,  14.21112519],\n",
       "          [-14.21112519, -14.21112519, -14.21112519, ...,  14.21112519,\n",
       "            14.21112519,  14.21112519],\n",
       "          [-14.21112519, -12.63211128, -11.05309737, ...,  11.05309737,\n",
       "            12.63211128,  14.21112519]]),\n",
       "   array([-0.00076735+5.26343626e-18j,  0.00094849-9.75947474e-18j,\n",
       "          -0.00114352+1.56888003e-17j, ..., -0.00114352-1.56888003e-17j,\n",
       "           0.00094849+9.75947474e-18j, -0.00076735-5.26343626e-18j])))]"
      ]
     },
     "execution_count": 11,
     "metadata": {},
     "output_type": "execute_result"
    }
   ],
   "source": [
    "names, reciprocal_data, ys = prepare_multi_channel_data(df, sigma=0.1, L=12.8, N=32, elements=elements)\n",
    "reciprocal_data[0]"
   ]
  },
  {
   "cell_type": "code",
   "execution_count": 12,
   "metadata": {},
   "outputs": [
    {
     "name": "stdout",
     "output_type": "stream",
     "text": [
      "0 ['Ag1F3Zn1', 'Ag1Mn3N1', 'Ag1Nb1O3', 'Ag3I1S1', 'Al1Bi1O3', 'Al1C1Ce3', 'Al1C1Co3', 'Al1C1Dy3', 'Al1C1Er3', 'Al1C1Fe3', 'Al1C1Gd3', 'Al1C1Ho3', 'Al1C1La3', 'Al1C1Mn3', 'Al1C1Nd3', 'Al1C1Pr3', 'Al1C1Pt3', 'Al1C1Sc3', 'Al1C1Tb3', 'Al1C1Ti3', 'Al1C1Tm3', 'Al1C1Y3', 'Al1Ce1O3', 'Al1Ce3N1', 'Al1Dy3N1', 'Al1Er3N1', 'Al1Gd3N1', 'Al1Ho3N1', 'Al1La1O3', 'Al1La3N1', 'Al1Lu3N1', 'Al1N1Nd3'] torch.Size([32, 76, 32, 32, 32]) torch.Size([32, 1])\n",
      "Wall time: 295 ms\n"
     ]
    }
   ],
   "source": [
    "%%time\n",
    "ml = MolLoader(names, reciprocal_data, ys,\n",
    "               L=12.8, N=32, batch_size=32, nchannel=len(elements),\n",
    "               shuffle=False, rotate_randomly=True)\n",
    "\n",
    "for i, (names, x, y) in enumerate(ml):\n",
    "    print(i, names, x.shape, y.shape)\n",
    "    break"
   ]
  },
  {
   "cell_type": "code",
   "execution_count": 13,
   "metadata": {},
   "outputs": [],
   "source": [
    "def seed_everything(seed=0):\n",
    "    random.seed(seed)\n",
    "    torch.manual_seed(seed)\n",
    "    torch.cuda.manual_seed_all(seed)\n",
    "    torch.backends.cudnn.deterministic = True\n",
    "    torch.backends.cudnn.benchmark = False\n",
    "    np.random.seed(seed)"
   ]
  },
  {
   "cell_type": "code",
   "execution_count": 14,
   "metadata": {},
   "outputs": [],
   "source": [
    "def count_parameters(model):\n",
    "    s = 0\n",
    "    for t in model.parameters():\n",
    "        s += np.prod(t.shape)\n",
    "    return s"
   ]
  },
  {
   "cell_type": "code",
   "execution_count": 15,
   "metadata": {},
   "outputs": [],
   "source": [
    "def get_default_device():\n",
    "    \"\"\"Pick GPU if available, else CPU\"\"\"\n",
    "    if torch.cuda.is_available():\n",
    "        # print(\"CUDA version:\", torch.version.cuda)\n",
    "        return torch.device('cuda')\n",
    "    else:\n",
    "        return torch.device('cpu')"
   ]
  },
  {
   "cell_type": "code",
   "execution_count": 16,
   "metadata": {},
   "outputs": [],
   "source": [
    "class VoxelNet(nn.Module):\n",
    "    def __init__(self, in_channels=1):\n",
    "        super().__init__()\n",
    "        # (N, C, D, H, W)\n",
    "        self.conv1 = nn.Sequential(\n",
    "            nn.Conv3d(in_channels, 16, 3, padding=0, stride=1),\n",
    "            #nn.BatchNorm3d(16),\n",
    "            nn.LeakyReLU(0.3),\n",
    "            nn.MaxPool3d(2))\n",
    "        \n",
    "        self.conv2 = nn.Sequential(\n",
    "            nn.Conv3d(16, 16, 3, padding=0, stride=1),\n",
    "            nn.LeakyReLU(0.3),\n",
    "            nn.MaxPool3d(2))\n",
    "        \n",
    "        self.conv3 = nn.Sequential(\n",
    "            nn.Conv3d(16, 16, 3, padding=0, stride=1),\n",
    "            nn.LeakyReLU(0.3))\n",
    "        \n",
    "        self.regressor = nn.Sequential(nn.Flatten(),\n",
    "                                        nn.Linear(1024, 32),\n",
    "                                        nn.LeakyReLU(0.3),\n",
    "                                        nn.Linear(32, 8),\n",
    "                                        nn.LeakyReLU(0.3),\n",
    "                                        nn.Linear(8, 1))\n",
    "    def forward(self, x):\n",
    "        #print(x.shape)\n",
    "        x = self.conv1(x)\n",
    "        # print(\"conv1\", x.shape)\n",
    "        x = self.conv2(x)\n",
    "        # print(\"conv2\", x.shape)\n",
    "        x = self.conv3(x)\n",
    "        # print(\"conv3\", x.shape)\n",
    "        x = self.regressor(x)\n",
    "        return x"
   ]
  },
  {
   "cell_type": "code",
   "execution_count": 17,
   "metadata": {},
   "outputs": [],
   "source": [
    "@torch.no_grad()\n",
    "def predict(model, loader):\n",
    "    model.eval()\n",
    "    ys = []\n",
    "    y_hats = []\n",
    "    \n",
    "    for names, x, y in loader:\n",
    "        y_hat = model(x)\n",
    "        \n",
    "        ys.append(y.cpu().numpy())\n",
    "        y_hats.append(y_hat.cpu().numpy())\n",
    "\n",
    "    ys = np.vstack(ys).reshape(-1)\n",
    "    y_hats = np.vstack(y_hats).reshape(-1)\n",
    "    return ys, y_hats"
   ]
  },
  {
   "cell_type": "code",
   "execution_count": 18,
   "metadata": {},
   "outputs": [],
   "source": [
    "def fit(epochs, model, train_loader, val_loader, opt, lr, weight_decay):\n",
    "    t0 = time.time()\n",
    "    \n",
    "    optimizer = opt(model.parameters(), lr=lr, weight_decay=weight_decay)\n",
    "    \n",
    "    loss = nn.MSELoss()\n",
    "    \n",
    "    train_mse = []\n",
    "    val_mse = []\n",
    "    \n",
    "    for epoch in range(epochs):\n",
    "        train_losses = []\n",
    "        \n",
    "        ys = []\n",
    "        y_hats = []\n",
    "        \n",
    "        # Training Phase \n",
    "        model.train()\n",
    "        for names, x, y in train_loader:\n",
    "            # print(names)\n",
    "            y_hat = model(x)\n",
    "            out = loss(y_hat, y)\n",
    "            out.backward()\n",
    "            optimizer.step()\n",
    "            optimizer.zero_grad()\n",
    "            \n",
    "            train_losses.append(out.cpu().detach().numpy())\n",
    "            \n",
    "            ys.append(y.cpu().numpy())\n",
    "            y_hats.append(y_hat.cpu().detach().numpy())\n",
    "            # print(out.cpu().detach().numpy(), np.mean((ys[-1] - y_hats[-1])**2))\n",
    "            \n",
    "        # print(np.vstack(train_losses))\n",
    "        # mean_loss = np.mean(np.vstack(train_losses))\n",
    "        ys = np.vstack(ys).reshape(-1)\n",
    "        y_hats = np.vstack(y_hats).reshape(-1)\n",
    "        mean_loss = np.mean((ys - y_hats)**2)\n",
    "        train_mse.append(mean_loss)\n",
    "        \n",
    "        model.eval()\n",
    "        ys_val, y_hats_val = predict(model, val_loader)\n",
    "        mean_loss_val = np.mean((ys_val - y_hats_val)**2)\n",
    "        val_mse.append(mean_loss_val)\n",
    "        \n",
    "        print(f\"Epoch {epoch}: train loss {mean_loss} val loss {mean_loss_val}\")\n",
    "    \n",
    "    \n",
    "        \n",
    "    t1 = time.time()\n",
    "    print(f\"Finished in {t1-t0:.4f}s.\")\n",
    "    \n",
    "    plt.plot(train_mse, label=\"train\")\n",
    "    plt.plot(val_mse, label=\"validation\")\n",
    "    plt.legend()\n",
    "    plt.show()"
   ]
  },
  {
   "cell_type": "markdown",
   "metadata": {},
   "source": [
    "### Single Channel"
   ]
  },
  {
   "cell_type": "code",
   "execution_count": 19,
   "metadata": {},
   "outputs": [
    {
     "name": "stdout",
     "output_type": "stream",
     "text": [
      "Number of molecules 377\n"
     ]
    }
   ],
   "source": [
    "df = pd.read_pickle(\"icsd_221_cp5_3_species.pkl\")\n",
    "df = drop_duplicates(df)\n",
    "\n",
    "# df = pd.read_pickle(\"all_221_cp5_3_species_oxides.pkl\")\n",
    "names, reciprocal_data, ys = prepare_single_channel_data(df, sigma=0.1, L=12.8, N=32)"
   ]
  },
  {
   "cell_type": "code",
   "execution_count": 20,
   "metadata": {},
   "outputs": [
    {
     "data": {
      "text/plain": [
       "47377"
      ]
     },
     "execution_count": 20,
     "metadata": {},
     "output_type": "execute_result"
    }
   ],
   "source": [
    "net = VoxelNet(1)\n",
    "count_parameters(net)"
   ]
  },
  {
   "cell_type": "code",
   "execution_count": 21,
   "metadata": {},
   "outputs": [
    {
     "name": "stdout",
     "output_type": "stream",
     "text": [
      "Epoch 0: train loss 20.44789695739746 val loss 8.287806510925293\n",
      "Epoch 1: train loss 5.661304950714111 val loss 4.014199256896973\n",
      "Epoch 2: train loss 3.1957905292510986 val loss 2.802227020263672\n",
      "Epoch 3: train loss 2.8340983390808105 val loss 2.891625165939331\n",
      "Epoch 4: train loss 2.887017250061035 val loss 2.782538652420044\n",
      "Epoch 5: train loss 2.8550498485565186 val loss 2.7890818119049072\n",
      "Epoch 6: train loss 2.8601489067077637 val loss 2.7827394008636475\n",
      "Epoch 7: train loss 2.870549440383911 val loss 2.862818479537964\n",
      "Epoch 8: train loss 2.8312361240386963 val loss 2.827707052230835\n",
      "Epoch 9: train loss 2.8130569458007812 val loss 2.9362871646881104\n",
      "Finished in 23.2777s.\n"
     ]
    },
    {
     "data": {
      "image/png": "[encoded data removed]",
      "text/plain": [
       "<Figure size 432x288 with 1 Axes>"
      ]
     },
     "metadata": {
      "needs_background": "light"
     },
     "output_type": "display_data"
    }
   ],
   "source": [
    "seed_everything()\n",
    "device = get_default_device()\n",
    "\n",
    "net = VoxelNet(1)\n",
    "net = net.to(device)\n",
    "\n",
    "ml = MolLoader(names, reciprocal_data, ys,\n",
    "               L=12.8, N=32, batch_size=32, nchannel=1,\n",
    "               shuffle=True, rotate_randomly=True, device=device)\n",
    "\n",
    "val_ml = MolLoader(names, reciprocal_data, ys,\n",
    "               L=12.8, N=32, batch_size=128, nchannel=1,\n",
    "               shuffle=False, rotate_randomly=False, device=device)\n",
    "\n",
    "fit(10, net, ml, val_ml, torch.optim.Adam, lr=0.001, weight_decay=0)"
   ]
  },
  {
   "cell_type": "code",
   "execution_count": 22,
   "metadata": {},
   "outputs": [
    {
     "data": {
      "text/plain": [
       "2.9362872"
      ]
     },
     "execution_count": 22,
     "metadata": {},
     "output_type": "execute_result"
    }
   ],
   "source": [
    "ml_pred = MolLoader(names, reciprocal_data, ys,\n",
    "                    L=12.8, N=32, batch_size=128, nchannel=1,\n",
    "                    shuffle=False, rotate_randomly=False, device=device)\n",
    "ys, y_hats = predict(net, ml_pred)\n",
    "np.mean((ys - y_hats)**2)"
   ]
  },
  {
   "cell_type": "code",
   "execution_count": 23,
   "metadata": {},
   "outputs": [
    {
     "data": {
      "text/plain": [
       "[<matplotlib.lines.Line2D at 0x1d194c38d30>]"
      ]
     },
     "execution_count": 23,
     "metadata": {},
     "output_type": "execute_result"
    },
    {
     "data": {
      "image/png": "[encoded data removed]",
      "text/plain": [
       "<Figure size 432x288 with 1 Axes>"
      ]
     },
     "metadata": {
      "needs_background": "light"
     },
     "output_type": "display_data"
    }
   ],
   "source": [
    "plt.scatter(ys, y_hats)\n",
    "plt.xlabel(\"measured\")\n",
    "plt.ylabel(\"predicted\")\n",
    "plt.plot([-10,0], [-10,0], c=\"red\")"
   ]
  },
  {
   "cell_type": "markdown",
   "metadata": {},
   "source": [
    "### Multi Channel"
   ]
  },
  {
   "cell_type": "code",
   "execution_count": 72,
   "metadata": {},
   "outputs": [
    {
     "name": "stdout",
     "output_type": "stream",
     "text": [
      "Number of molecules 377\n",
      "(339, 13) (38, 13)\n"
     ]
    }
   ],
   "source": [
    "df = pd.read_pickle(\"icsd_221_cp5_3_species.pkl\")\n",
    "df = drop_duplicates(df)\n",
    "\n",
    "seed_everything()\n",
    "train_df, test_df = train_test_split(df, test_size=0.1)\n",
    "print(train_df.shape, test_df.shape)"
   ]
  },
  {
   "cell_type": "code",
   "execution_count": 73,
   "metadata": {},
   "outputs": [
    {
     "data": {
      "text/plain": [
       "array(['Ag', 'Al', 'As', 'Au', 'B', 'Ba', 'Be', 'Bi', 'Br', 'C', 'Ca',\n",
       "       'Cd', 'Ce', 'Cl', 'Co', 'Cr', 'Cs', 'Cu', 'Dy', 'Er', 'Eu', 'F',\n",
       "       'Fe', 'Ga', 'Gd', 'Ge', 'H', 'Hf', 'Hg', 'Ho', 'I', 'In', 'Ir',\n",
       "       'K', 'La', 'Li', 'Lu', 'Mg', 'Mn', 'Mo', 'N', 'Na', 'Nb', 'Nd',\n",
       "       'Ni', 'O', 'P', 'Pa', 'Pb', 'Pd', 'Pr', 'Pt', 'Pu', 'Rb', 'Rh',\n",
       "       'Ru', 'S', 'Sb', 'Sc', 'Si', 'Sn', 'Sr', 'Ta', 'Tb', 'Tc', 'Th',\n",
       "       'Ti', 'Tl', 'Tm', 'U', 'V', 'W', 'Y', 'Yb', 'Zn', 'Zr'],\n",
       "      dtype='<U2')"
      ]
     },
     "execution_count": 73,
     "metadata": {},
     "output_type": "execute_result"
    }
   ],
   "source": [
    "elements = get_all_elements(df)\n",
    "elements"
   ]
  },
  {
   "cell_type": "code",
   "execution_count": 74,
   "metadata": {},
   "outputs": [
    {
     "data": {
      "text/plain": [
       "76"
      ]
     },
     "execution_count": 74,
     "metadata": {},
     "output_type": "execute_result"
    }
   ],
   "source": [
    "nchannel = len(elements)\n",
    "nchannel"
   ]
  },
  {
   "cell_type": "code",
   "execution_count": 75,
   "metadata": {},
   "outputs": [
    {
     "data": {
      "text/plain": [
       "79777"
      ]
     },
     "execution_count": 75,
     "metadata": {},
     "output_type": "execute_result"
    }
   ],
   "source": [
    "net = VoxelNet(nchannel)\n",
    "count_parameters(net)"
   ]
  },
  {
   "cell_type": "code",
   "execution_count": 76,
   "metadata": {},
   "outputs": [
    {
     "name": "stdout",
     "output_type": "stream",
     "text": [
      "Number of molecules 339\n",
      "Number of molecules 38\n"
     ]
    }
   ],
   "source": [
    "names_train, reciprocal_data_train, ys_train = prepare_multi_channel_data(train_df, sigma=0.1, L=12.8, N=32, elements=elements)\n",
    "names_test, reciprocal_data_test, ys_test = prepare_multi_channel_data(test_df, sigma=0.1, L=12.8, N=32, elements=elements)"
   ]
  },
  {
   "cell_type": "markdown",
   "metadata": {},
   "source": [
    "### ICSD"
   ]
  },
  {
   "cell_type": "code",
   "execution_count": 77,
   "metadata": {},
   "outputs": [
    {
     "name": "stdout",
     "output_type": "stream",
     "text": [
      "Epoch 0: train loss 27.649011611938477 val loss 27.423416137695312\n",
      "Epoch 1: train loss 22.86301612854004 val loss 14.535316467285156\n",
      "Epoch 2: train loss 7.457096099853516 val loss 6.862462997436523\n",
      "Epoch 3: train loss 4.960904598236084 val loss 3.5831716060638428\n",
      "Epoch 4: train loss 4.020195484161377 val loss 3.9473912715911865\n",
      "Epoch 5: train loss 3.080455780029297 val loss 2.993619918823242\n",
      "Epoch 6: train loss 2.961697578430176 val loss 2.655860424041748\n",
      "Epoch 7: train loss 2.711576223373413 val loss 2.8405439853668213\n",
      "Epoch 8: train loss 2.521676778793335 val loss 2.4884889125823975\n",
      "Epoch 9: train loss 2.5905158519744873 val loss 2.435825824737549\n",
      "Epoch 10: train loss 2.4018094539642334 val loss 2.590648889541626\n",
      "Epoch 11: train loss 2.4149320125579834 val loss 2.3496737480163574\n",
      "Epoch 12: train loss 2.3589305877685547 val loss 2.351313352584839\n",
      "Epoch 13: train loss 2.2838923931121826 val loss 2.3765931129455566\n",
      "Epoch 14: train loss 2.230172872543335 val loss 2.200209379196167\n",
      "Epoch 15: train loss 2.259838342666626 val loss 2.1947567462921143\n",
      "Epoch 16: train loss 2.3060688972473145 val loss 2.261272430419922\n",
      "Epoch 17: train loss 2.032097339630127 val loss 2.0896575450897217\n",
      "Epoch 18: train loss 2.0764739513397217 val loss 2.1824491024017334\n",
      "Epoch 19: train loss 1.9457757472991943 val loss 1.8859708309173584\n",
      "Epoch 20: train loss 1.827714443206787 val loss 1.7989892959594727\n",
      "Epoch 21: train loss 1.7532933950424194 val loss 1.7307049036026\n",
      "Epoch 22: train loss 1.5983753204345703 val loss 1.5291928052902222\n",
      "Epoch 23: train loss 1.434054970741272 val loss 1.4560372829437256\n",
      "Epoch 24: train loss 1.2839092016220093 val loss 1.207809329032898\n",
      "Epoch 25: train loss 1.1723191738128662 val loss 1.0682551860809326\n",
      "Epoch 26: train loss 1.0212970972061157 val loss 0.9930016398429871\n",
      "Epoch 27: train loss 0.898015022277832 val loss 0.8134592175483704\n",
      "Epoch 28: train loss 0.8020114898681641 val loss 0.7203405499458313\n",
      "Epoch 29: train loss 0.7061974406242371 val loss 0.6450175642967224\n",
      "Epoch 30: train loss 0.6458936333656311 val loss 0.5851098895072937\n",
      "Epoch 31: train loss 0.6414405703544617 val loss 0.5481323003768921\n",
      "Epoch 32: train loss 0.6333153247833252 val loss 0.824475109577179\n",
      "Epoch 33: train loss 0.5815487504005432 val loss 0.6455591320991516\n",
      "Epoch 34: train loss 0.5367589592933655 val loss 0.5393909811973572\n",
      "Epoch 35: train loss 0.47781145572662354 val loss 0.5956282019615173\n",
      "Epoch 36: train loss 0.448984295129776 val loss 0.5757807493209839\n",
      "Epoch 37: train loss 0.41572144627571106 val loss 0.5403799414634705\n",
      "Epoch 38: train loss 0.41557568311691284 val loss 0.6060251593589783\n",
      "Epoch 39: train loss 0.388403058052063 val loss 0.5985175967216492\n",
      "Epoch 40: train loss 0.37695780396461487 val loss 0.5525331497192383\n",
      "Epoch 41: train loss 0.34659504890441895 val loss 0.5781787037849426\n",
      "Epoch 42: train loss 0.3370901942253113 val loss 0.5837323069572449\n",
      "Epoch 43: train loss 0.31631383299827576 val loss 0.5428646802902222\n",
      "Epoch 44: train loss 0.2963851988315582 val loss 0.5332760214805603\n",
      "Epoch 45: train loss 0.30357033014297485 val loss 0.5532659888267517\n",
      "Epoch 46: train loss 0.28924867510795593 val loss 0.5571750998497009\n",
      "Epoch 47: train loss 0.28434133529663086 val loss 0.5637639164924622\n",
      "Epoch 48: train loss 0.2504481375217438 val loss 0.5781952738761902\n",
      "Epoch 49: train loss 0.22873762249946594 val loss 0.5972110629081726\n",
      "Finished in 316.7961s.\n"
     ]
    },
    {
     "data": {
      "image/png": "[encoded data removed]",
      "text/plain": [
       "<Figure size 432x288 with 1 Axes>"
      ]
     },
     "metadata": {
      "needs_background": "light"
     },
     "output_type": "display_data"
    }
   ],
   "source": [
    "seed_everything()\n",
    "device = get_default_device()\n",
    "\n",
    "net = VoxelNet(nchannel)\n",
    "net = net.to(device)\n",
    "\n",
    "ml_train = MolLoader(names_train, reciprocal_data_train, ys_train,\n",
    "               L=12.8, N=32, batch_size=64, nchannel=nchannel,\n",
    "               shuffle=True, rotate_randomly=True, device=device)\n",
    "\n",
    "ml_test = MolLoader(names_test, reciprocal_data_test, ys_test,\n",
    "                   L=12.8, N=32, batch_size=len(names), nchannel=nchannel,\n",
    "                   shuffle=False, rotate_randomly=False, device=device)\n",
    "\n",
    "fit(50, net, ml_train, ml_test, torch.optim.Adam, lr=0.001, weight_decay=0)"
   ]
  },
  {
   "cell_type": "code",
   "execution_count": 30,
   "metadata": {},
   "outputs": [
    {
     "data": {
      "text/plain": [
       "0.34163606"
      ]
     },
     "execution_count": 30,
     "metadata": {},
     "output_type": "execute_result"
    }
   ],
   "source": [
    "ml_pred = MolLoader(names, reciprocal_data, ys,\n",
    "                   L=12.8, N=32, batch_size=128, nchannel=nchannel,\n",
    "                   shuffle=False, rotate_randomly=False, device=device)\n",
    "ys, y_hats = predict(net, ml_pred)\n",
    "np.mean((ys - y_hats)**2)"
   ]
  },
  {
   "cell_type": "code",
   "execution_count": 31,
   "metadata": {},
   "outputs": [
    {
     "data": {
      "text/plain": [
       "[<matplotlib.lines.Line2D at 0x1d194a388b0>]"
      ]
     },
     "execution_count": 31,
     "metadata": {},
     "output_type": "execute_result"
    },
    {
     "data": {
      "image/png": "[encoded data removed]",
      "text/plain": [
       "<Figure size 432x288 with 1 Axes>"
      ]
     },
     "metadata": {
      "needs_background": "light"
     },
     "output_type": "display_data"
    }
   ],
   "source": [
    "plt.scatter(ys, y_hats)\n",
    "plt.xlabel(\"measured\")\n",
    "plt.ylabel(\"predicted\")\n",
    "plt.plot([-12,0], [-12,0], c=\"red\")"
   ]
  },
  {
   "cell_type": "code",
   "execution_count": 96,
   "metadata": {},
   "outputs": [],
   "source": [
    "def predict_plot(ml, epochs=1):\n",
    "    ys = []\n",
    "    y_hats = []\n",
    "    for epoch in range(epochs): # for random rotations\n",
    "        y, y_hat = predict(net, ml)\n",
    "        ys.append(y)\n",
    "        y_hats.append(y_hat)\n",
    "    \n",
    "    ys = np.hstack(ys)\n",
    "    y_hats = np.hstack(y_hats)\n",
    "        \n",
    "    mse = np.mean((ys - y_hats)**2)\n",
    "    plt.scatter(ys, y_hats, alpha=0.2)\n",
    "    plt.xlabel(\"measured\")\n",
    "    plt.ylabel(\"predicted\")\n",
    "    \n",
    "    l = min(ys.min(), y_hats.min()) - 1\n",
    "    u = max(ys.max(), y_hats.max()) + 1\n",
    "    \n",
    "    plt.plot([l,u], [l,u], c=\"red\")\n",
    "    plt.suptitle(f\"MSE = {mse:.4f}\")\n",
    "    plt.show()"
   ]
  },
  {
   "cell_type": "markdown",
   "metadata": {},
   "source": [
    "### Training Plots"
   ]
  },
  {
   "cell_type": "code",
   "execution_count": 97,
   "metadata": {},
   "outputs": [
    {
     "data": {
      "image/png": "[encoded data removed]",
      "text/plain": [
       "<Figure size 432x288 with 1 Axes>"
      ]
     },
     "metadata": {
      "needs_background": "light"
     },
     "output_type": "display_data"
    }
   ],
   "source": [
    "ml_pred = MolLoader(names_train, reciprocal_data_train, ys_train,\n",
    "                   L=12.8, N=32, batch_size=128, nchannel=nchannel,\n",
    "                   shuffle=False, rotate_randomly=False, device=device)\n",
    "predict_plot(ml_pred)"
   ]
  },
  {
   "cell_type": "code",
   "execution_count": 98,
   "metadata": {},
   "outputs": [
    {
     "data": {
      "image/png": "[encoded data removed]",
      "text/plain": [
       "<Figure size 432x288 with 1 Axes>"
      ]
     },
     "metadata": {
      "needs_background": "light"
     },
     "output_type": "display_data"
    }
   ],
   "source": [
    "# rotations\n",
    "ml_pred = MolLoader(names_train, reciprocal_data_train, ys_train,\n",
    "                   L=12.8, N=32, batch_size=128, nchannel=nchannel,\n",
    "                   shuffle=False, rotate_randomly=True, device=device)\n",
    "predict_plot(ml_pred, epochs=5)"
   ]
  },
  {
   "cell_type": "markdown",
   "metadata": {},
   "source": [
    "### Test Plots"
   ]
  },
  {
   "cell_type": "code",
   "execution_count": 99,
   "metadata": {},
   "outputs": [
    {
     "data": {
      "image/png": "[encoded data removed]",
      "text/plain": [
       "<Figure size 432x288 with 1 Axes>"
      ]
     },
     "metadata": {
      "needs_background": "light"
     },
     "output_type": "display_data"
    }
   ],
   "source": [
    "ml_pred = MolLoader(names_test, reciprocal_data_test, ys_test,\n",
    "                   L=12.8, N=32, batch_size=len(names_test), nchannel=nchannel,\n",
    "                   shuffle=False, rotate_randomly=False, device=device)\n",
    "predict_plot(ml_pred)"
   ]
  },
  {
   "cell_type": "code",
   "execution_count": 100,
   "metadata": {},
   "outputs": [
    {
     "data": {
      "image/png": "[encoded data removed]",
      "text/plain": [
       "<Figure size 432x288 with 1 Axes>"
      ]
     },
     "metadata": {
      "needs_background": "light"
     },
     "output_type": "display_data"
    }
   ],
   "source": [
    "# rotations\n",
    "ml_pred = MolLoader(names_test, reciprocal_data_test, ys_test,\n",
    "                   L=12.8, N=32, batch_size=len(names_test), nchannel=nchannel,\n",
    "                   shuffle=False, rotate_randomly=True, device=device)\n",
    "predict_plot(ml_pred, epochs=5)"
   ]
  },
  {
   "cell_type": "markdown",
   "metadata": {},
   "source": [
    "### All Oxides"
   ]
  },
  {
   "cell_type": "code",
   "execution_count": 32,
   "metadata": {},
   "outputs": [],
   "source": [
    "df = pd.read_pickle(\"all_221_cp5_3_species_oxides.pkl\")"
   ]
  },
  {
   "cell_type": "code",
   "execution_count": 33,
   "metadata": {},
   "outputs": [
    {
     "data": {
      "text/plain": [
       "array(['Ag', 'Al', 'As', 'Au', 'B', 'Ba', 'Be', 'Bi', 'Br', 'C', 'Ca',\n",
       "       'Cd', 'Ce', 'Cl', 'Co', 'Cr', 'Cs', 'Cu', 'Dy', 'Er', 'Eu', 'F',\n",
       "       'Fe', 'Ga', 'Gd', 'Ge', 'Hf', 'Hg', 'Ho', 'I', 'In', 'Ir', 'K',\n",
       "       'La', 'Li', 'Lu', 'Mg', 'Mn', 'Mo', 'N', 'Na', 'Nb', 'Nd', 'Ni',\n",
       "       'O', 'Os', 'P', 'Pa', 'Pb', 'Pd', 'Pr', 'Pt', 'Pu', 'Rb', 'Re',\n",
       "       'Rh', 'Ru', 'S', 'Sb', 'Sc', 'Se', 'Si', 'Sn', 'Sr', 'Ta', 'Tb',\n",
       "       'Tc', 'Te', 'Th', 'Ti', 'Tl', 'U', 'V', 'W', 'Xe', 'Y', 'Yb', 'Zn',\n",
       "       'Zr'], dtype='<U2')"
      ]
     },
     "execution_count": 33,
     "metadata": {},
     "output_type": "execute_result"
    }
   ],
   "source": [
    "elements = get_all_elements(df)\n",
    "elements"
   ]
  },
  {
   "cell_type": "code",
   "execution_count": 34,
   "metadata": {},
   "outputs": [
    {
     "data": {
      "text/plain": [
       "79"
      ]
     },
     "execution_count": 34,
     "metadata": {},
     "output_type": "execute_result"
    }
   ],
   "source": [
    "nchannel = len(elements)\n",
    "nchannel"
   ]
  },
  {
   "cell_type": "code",
   "execution_count": 35,
   "metadata": {},
   "outputs": [
    {
     "data": {
      "text/plain": [
       "81073"
      ]
     },
     "execution_count": 35,
     "metadata": {},
     "output_type": "execute_result"
    }
   ],
   "source": [
    "net = VoxelNet(nchannel)\n",
    "count_parameters(net)"
   ]
  },
  {
   "cell_type": "code",
   "execution_count": 36,
   "metadata": {},
   "outputs": [
    {
     "name": "stdout",
     "output_type": "stream",
     "text": [
      "Number of molecules 1983\n"
     ]
    }
   ],
   "source": [
    "names, reciprocal_data, ys = prepare_multi_channel_data(df, sigma=0.1, L=12.8, N=32, elements=elements)"
   ]
  },
  {
   "cell_type": "code",
   "execution_count": 37,
   "metadata": {},
   "outputs": [
    {
     "name": "stdout",
     "output_type": "stream",
     "text": [
      "Epoch 0: train loss 13.380383491516113 val loss 3.812413215637207\n",
      "Epoch 1: train loss 2.3342721462249756 val loss 2.123058557510376\n",
      "Epoch 2: train loss 2.0212600231170654 val loss 1.901008129119873\n",
      "Epoch 3: train loss 1.7637124061584473 val loss 1.7036960124969482\n",
      "Epoch 4: train loss 1.4121065139770508 val loss 1.2477227449417114\n",
      "Epoch 5: train loss 0.7431546449661255 val loss 0.5864607691764832\n",
      "Epoch 6: train loss 0.44147753715515137 val loss 0.4459666311740875\n",
      "Epoch 7: train loss 0.37588873505592346 val loss 0.4140816032886505\n",
      "Epoch 8: train loss 0.3636337220668793 val loss 0.40330150723457336\n",
      "Epoch 9: train loss 0.347358375787735 val loss 0.40621018409729004\n",
      "Epoch 10: train loss 0.33862021565437317 val loss 0.40769994258880615\n",
      "Epoch 11: train loss 0.3313046395778656 val loss 0.366181880235672\n",
      "Epoch 12: train loss 0.338890939950943 val loss 0.3545914888381958\n",
      "Epoch 13: train loss 0.2987927794456482 val loss 0.3818054497241974\n",
      "Epoch 14: train loss 0.291584312915802 val loss 0.35134533047676086\n",
      "Epoch 15: train loss 0.2907608449459076 val loss 0.3609395921230316\n",
      "Epoch 16: train loss 0.28460362553596497 val loss 0.31635555624961853\n",
      "Epoch 17: train loss 0.2781234085559845 val loss 0.3150690793991089\n",
      "Epoch 18: train loss 0.24971303343772888 val loss 0.3882482945919037\n",
      "Epoch 19: train loss 0.2846794128417969 val loss 0.3281574249267578\n",
      "Epoch 20: train loss 0.24190138280391693 val loss 0.2908190190792084\n",
      "Epoch 21: train loss 0.2397039532661438 val loss 0.26046866178512573\n",
      "Epoch 22: train loss 0.22769024968147278 val loss 0.2842974364757538\n",
      "Epoch 23: train loss 0.2270357757806778 val loss 0.2876344919204712\n",
      "Epoch 24: train loss 0.20148731768131256 val loss 0.25909745693206787\n",
      "Epoch 25: train loss 0.20894433557987213 val loss 0.23028862476348877\n",
      "Epoch 26: train loss 0.192708358168602 val loss 0.21985802054405212\n",
      "Epoch 27: train loss 0.17694950103759766 val loss 0.2173917442560196\n",
      "Epoch 28: train loss 0.169017031788826 val loss 0.20053023099899292\n",
      "Epoch 29: train loss 0.15589773654937744 val loss 0.20510484278202057\n",
      "Epoch 30: train loss 0.1578798145055771 val loss 0.18792061507701874\n",
      "Epoch 31: train loss 0.16437247395515442 val loss 0.1792198121547699\n",
      "Epoch 32: train loss 0.1573716402053833 val loss 0.20478318631649017\n",
      "Epoch 33: train loss 0.1446131467819214 val loss 0.18796277046203613\n",
      "Epoch 34: train loss 0.13801024854183197 val loss 0.16044503450393677\n",
      "Epoch 35: train loss 0.12110182642936707 val loss 0.16126228868961334\n",
      "Epoch 36: train loss 0.12405427545309067 val loss 0.20619875192642212\n",
      "Epoch 37: train loss 0.11882459372282028 val loss 0.17502005398273468\n",
      "Epoch 38: train loss 0.14078055322170258 val loss 0.21990954875946045\n",
      "Epoch 39: train loss 0.13163994252681732 val loss 0.15564432740211487\n",
      "Epoch 40: train loss 0.10289885848760605 val loss 0.14689713716506958\n",
      "Epoch 41: train loss 0.09958364814519882 val loss 0.12088075280189514\n",
      "Epoch 42: train loss 0.08646568655967712 val loss 0.12985548377037048\n",
      "Epoch 43: train loss 0.10312675684690475 val loss 0.11996058374643326\n",
      "Epoch 44: train loss 0.10324171930551529 val loss 0.12094780802726746\n",
      "Epoch 45: train loss 0.07957553118467331 val loss 0.10208594799041748\n",
      "Epoch 46: train loss 0.09820013493299484 val loss 0.1198267936706543\n",
      "Epoch 47: train loss 0.09862765669822693 val loss 0.1014321893453598\n",
      "Epoch 48: train loss 0.07025212794542313 val loss 0.09237793833017349\n",
      "Epoch 49: train loss 0.07049337029457092 val loss 0.08873891830444336\n",
      "Finished in 2647.9632s.\n"
     ]
    },
    {
     "data": {
      "image/png": "[encoded data removed]",
      "text/plain": [
       "<Figure size 432x288 with 1 Axes>"
      ]
     },
     "metadata": {
      "needs_background": "light"
     },
     "output_type": "display_data"
    }
   ],
   "source": [
    "seed_everything()\n",
    "device = get_default_device()\n",
    "\n",
    "net = VoxelNet(nchannel)\n",
    "net = net.to(device)\n",
    "\n",
    "ml = MolLoader(names, reciprocal_data, ys,\n",
    "               L=12.8, N=32, batch_size=64, nchannel=nchannel,\n",
    "               shuffle=True, rotate_randomly=True, device=device)\n",
    "\n",
    "ml_val = MolLoader(names, reciprocal_data, ys,\n",
    "               L=12.8, N=32, batch_size=128, nchannel=nchannel,\n",
    "               shuffle=False, rotate_randomly=False, device=device)\n",
    "\n",
    "fit(50, net, ml, ml_val, torch.optim.Adam, lr=0.001, weight_decay=0)"
   ]
  },
  {
   "cell_type": "code",
   "execution_count": 38,
   "metadata": {},
   "outputs": [
    {
     "data": {
      "text/plain": [
       "0.061499357"
      ]
     },
     "execution_count": 38,
     "metadata": {},
     "output_type": "execute_result"
    }
   ],
   "source": [
    "ml_pred = MolLoader(names, reciprocal_data, ys,\n",
    "                   L=12.8, N=32, batch_size=128, nchannel=nchannel,\n",
    "                   shuffle=True, rotate_randomly=True, device=device)\n",
    "ys, y_hats = predict(net, ml_pred)\n",
    "np.mean((ys - y_hats)**2)"
   ]
  },
  {
   "cell_type": "code",
   "execution_count": 39,
   "metadata": {},
   "outputs": [
    {
     "data": {
      "text/plain": [
       "[<matplotlib.lines.Line2D at 0x1d18e848df0>]"
      ]
     },
     "execution_count": 39,
     "metadata": {},
     "output_type": "execute_result"
    },
    {
     "data": {
      "image/png": "[encoded data removed]",
      "text/plain": [
       "<Figure size 432x288 with 1 Axes>"
      ]
     },
     "metadata": {
      "needs_background": "light"
     },
     "output_type": "display_data"
    }
   ],
   "source": [
    "plt.scatter(ys, y_hats)\n",
    "plt.xlabel(\"measured\")\n",
    "plt.ylabel(\"predicted\")\n",
    "plt.plot([-12,0], [-12,0], c=\"red\")"
   ]
  },
  {
   "cell_type": "code",
   "execution_count": null,
   "metadata": {},
   "outputs": [],
   "source": []
  },
  {
   "cell_type": "code",
   "execution_count": null,
   "metadata": {},
   "outputs": [],
   "source": []
  }
 ],
 "metadata": {
  "kernelspec": {
   "display_name": "Python 3",
   "language": "python",
   "name": "python3"
  },
  "language_info": {
   "codemirror_mode": {
    "name": "ipython",
    "version": 3
   },
   "file_extension": ".py",
   "mimetype": "text/x-python",
   "name": "python",
   "nbconvert_exporter": "python",
   "pygments_lexer": "ipython3",
   "version": "3.8.1"
  }
 },
 "nbformat": 4,
 "nbformat_minor": 4
}
