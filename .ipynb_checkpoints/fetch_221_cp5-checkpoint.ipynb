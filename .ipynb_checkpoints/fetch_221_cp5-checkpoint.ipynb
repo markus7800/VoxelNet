{
 "cells": [
  {
   "cell_type": "code",
   "execution_count": 2,
   "metadata": {},
   "outputs": [],
   "source": [
    "from aflow import *\n",
    "import pandas as pd\n",
    "import numpy as np\n",
    "import matplotlib.pyplot as plt"
   ]
  },
  {
   "cell_type": "code",
   "execution_count": 60,
   "metadata": {},
   "outputs": [],
   "source": [
    "result = search(batch_size=100\n",
    "        ).filter(K.species == \"O\"\n",
    "#        ).filter(K.spacegroup_orig == 221\n",
    "#        ).filter(K.Pearson_symbol_orig == \"cP5\"\n",
    "        ).filter(K.nspecies > 3\n",
    "        ).select(\n",
    "            K.compound, K.composition, K.species, K.natoms,\n",
    "            K.spacegroup_orig, K.Pearson_symbol_orig,\n",
    "            K.geometry, K.natoms, K.positions_fractional, K.positions_cartesian,\n",
    "            K.enthalpy_atom, K.enthalpy_formation_atom\n",
    "        )"
   ]
  },
  {
   "cell_type": "code",
   "execution_count": 56,
   "metadata": {},
   "outputs": [],
   "source": [
    "result = search(catalog=\"icsd\", batch_size=100\n",
    "        ).filter(K.spacegroup_orig == 221\n",
    "        ).filter(K.Pearson_symbol_orig == \"cP5\"\n",
    "        ).filter(K.nspecies == 3\n",
    "        ).select(\n",
    "            K.compound, K.composition, K.species, K.natoms,\n",
    "            K.spacegroup_orig, K.Pearson_symbol_orig,\n",
    "            K.geometry, K.natoms, K.positions_fractional, K.positions_cartesian,\n",
    "            K.enthalpy_atom, K.enthalpy_formation_atom\n",
    "        )"
   ]
  },
  {
   "cell_type": "code",
   "execution_count": 61,
   "metadata": {},
   "outputs": [
    {
     "data": {
      "text/plain": [
       "7688"
      ]
     },
     "execution_count": 61,
     "metadata": {},
     "output_type": "execute_result"
    }
   ],
   "source": [
    "max_N = result.max_N\n",
    "max_N"
   ]
  },
  {
   "cell_type": "code",
   "execution_count": 5,
   "metadata": {},
   "outputs": [
    {
     "name": "stdout",
     "output_type": "stream",
     "text": [
      "Done.ed 11929/12029\n"
     ]
    }
   ],
   "source": [
    "df = pd.DataFrame(columns=[\n",
    "\"auid\", \"aurl\",\n",
    "\"compound\", \"composition\", \"species\", \"natoms\",\n",
    "\"spacegroup\", \"pearson_symbol\",\n",
    "\"geometry\", \"positions_fractional\", \"positions_cartesian\",\n",
    "\"enthalpy_atom\", \"enthalpy_formation_atom\"\n",
    "])\n",
    "\n",
    "\n",
    "\n",
    "counter = 1\n",
    "for entry in result:\n",
    "    # print(f\"{counter}. Found compound\", entry.compound, \"with auid\", entry.auid)\n",
    "    print(f\"Fetched {counter}/{max_N}\", end=\"\\r\")\n",
    "    row = {\n",
    "        \"auid\": entry.auid,\n",
    "        \"aurl\": entry.aurl,\n",
    "        \n",
    "        \"compound\": entry.compound,\n",
    "        \"composition\": entry.composition,\n",
    "        \"species\": entry.species,\n",
    "        \"natoms\": entry.natoms,\n",
    "        \n",
    "        \"spacegroup\": entry.spacegroup_orig,\n",
    "        \"pearson_symbol\": entry.Pearson_symbol_orig,\n",
    "        \n",
    "        \"geometry\": entry.geometry,\n",
    "        \"positions_fractional\": entry.positions_fractional,\n",
    "        \"positions_cartesian\": entry.positions_cartesian,\n",
    "        \n",
    "        \"enthalpy_atom\": entry.enthalpy_atom,\n",
    "        \"enthalpy_formation_atom\": entry.enthalpy_formation_atom\n",
    "    }\n",
    "    df = df.append(row, ignore_index=True)\n",
    "    counter += 1\n",
    "\n",
    "print(\"Done.               \")"
   ]
  },
  {
   "cell_type": "code",
   "execution_count": 6,
   "metadata": {},
   "outputs": [
    {
     "data": {
      "text/plain": [
       "(11929, 13)"
      ]
     },
     "execution_count": 6,
     "metadata": {},
     "output_type": "execute_result"
    }
   ],
   "source": [
    "df.shape"
   ]
  },
  {
   "cell_type": "code",
   "execution_count": null,
   "metadata": {},
   "outputs": [],
   "source": [
    "df.to_pickle(\"data/icsd_221_cp5_3_species.pkl\")"
   ]
  },
  {
   "cell_type": "code",
   "execution_count": 3,
   "metadata": {},
   "outputs": [
    {
     "ename": "NameError",
     "evalue": "name 'df' is not defined",
     "output_type": "error",
     "traceback": [
      "\u001b[0;31m---------------------------------------------------------------------------\u001b[0m",
      "\u001b[0;31mNameError\u001b[0m                                 Traceback (most recent call last)",
      "\u001b[0;32m<ipython-input-3-9e62cbdde410>\u001b[0m in \u001b[0;36m<module>\u001b[0;34m\u001b[0m\n\u001b[0;32m----> 1\u001b[0;31m \u001b[0mdf\u001b[0m\u001b[0;34m.\u001b[0m\u001b[0mto_pickle\u001b[0m\u001b[0;34m(\u001b[0m\u001b[0;34m\"all_221_cp5_3_species_oxides.pkl\"\u001b[0m\u001b[0;34m)\u001b[0m\u001b[0;34m\u001b[0m\u001b[0;34m\u001b[0m\u001b[0m\n\u001b[0m",
      "\u001b[0;31mNameError\u001b[0m: name 'df' is not defined"
     ]
    }
   ],
   "source": [
    "df.to_pickle(\"data/all_221_cp5_3_species_oxides.pkl\")"
   ]
  },
  {
   "cell_type": "code",
   "execution_count": 7,
   "metadata": {},
   "outputs": [],
   "source": [
    "df.to_pickle(\"data/all_3_species_oxides.pkl\")"
   ]
  },
  {
   "cell_type": "code",
   "execution_count": null,
   "metadata": {},
   "outputs": [],
   "source": []
  },
  {
   "cell_type": "code",
   "execution_count": null,
   "metadata": {},
   "outputs": [],
   "source": []
  },
  {
   "cell_type": "code",
   "execution_count": 62,
   "metadata": {},
   "outputs": [],
   "source": [
    "df = pd.read_pickle(\"data/all_221_cp5_3_species_oxides.pkl\")"
   ]
  },
  {
   "cell_type": "code",
   "execution_count": null,
   "metadata": {},
   "outputs": [],
   "source": [
    "df = pd.read_pickle(\"data/icsd_221_cp5_3_species.pkl\")"
   ]
  },
  {
   "cell_type": "code",
   "execution_count": 3,
   "metadata": {},
   "outputs": [],
   "source": [
    "df = pd.read_pickle(\"data/all_3_species_oxides.pkl\")"
   ]
  },
  {
   "cell_type": "code",
   "execution_count": 81,
   "metadata": {
    "scrolled": false
   },
   "outputs": [
    {
     "data": {
      "text/html": [
       "<div>\n",
       "<style scoped>\n",
       "    .dataframe tbody tr th:only-of-type {\n",
       "        vertical-align: middle;\n",
       "    }\n",
       "\n",
       "    .dataframe tbody tr th {\n",
       "        vertical-align: top;\n",
       "    }\n",
       "\n",
       "    .dataframe thead th {\n",
       "        text-align: right;\n",
       "    }\n",
       "</style>\n",
       "<table border=\"1\" class=\"dataframe\">\n",
       "  <thead>\n",
       "    <tr style=\"text-align: right;\">\n",
       "      <th></th>\n",
       "      <th>auid</th>\n",
       "      <th>aurl</th>\n",
       "      <th>compound</th>\n",
       "      <th>composition</th>\n",
       "      <th>species</th>\n",
       "      <th>natoms</th>\n",
       "      <th>spacegroup</th>\n",
       "      <th>pearson_symbol</th>\n",
       "      <th>geometry</th>\n",
       "      <th>positions_fractional</th>\n",
       "      <th>positions_cartesian</th>\n",
       "      <th>enthalpy_atom</th>\n",
       "      <th>enthalpy_formation_atom</th>\n",
       "    </tr>\n",
       "  </thead>\n",
       "  <tbody>\n",
       "    <tr>\n",
       "      <th>0</th>\n",
       "      <td>aflow:b778fabdb1b01db1</td>\n",
       "      <td>aflowlib.duke.edu:AFLOWDATA/LIB3_RAW/AgAlO/T00...</td>\n",
       "      <td>Ag1Al1O3</td>\n",
       "      <td>[1, 1, 3]</td>\n",
       "      <td>[Ag, Al, O]</td>\n",
       "      <td>5</td>\n",
       "      <td>221</td>\n",
       "      <td>cP5</td>\n",
       "      <td>[3.7688035, 3.7688035, 3.7688035, 90.0, 90.0, ...</td>\n",
       "      <td>[[0.0, 0.0, 0.0], [0.5, 0.5, 0.5], [0.0, 0.5, ...</td>\n",
       "      <td>[[0.0, 0.0, 0.0], [1.8844, 1.8844, 1.8844], [0...</td>\n",
       "      <td>-5.04863</td>\n",
       "      <td>-0.775736</td>\n",
       "    </tr>\n",
       "    <tr>\n",
       "      <th>2</th>\n",
       "      <td>aflow:272cd0e74db84a51</td>\n",
       "      <td>aflowlib.duke.edu:AFLOWDATA/LIB3_RAW/AgAsO/T00...</td>\n",
       "      <td>Ag1As1O3</td>\n",
       "      <td>[1, 1, 3]</td>\n",
       "      <td>[Ag, As, O]</td>\n",
       "      <td>5</td>\n",
       "      <td>221</td>\n",
       "      <td>cP5</td>\n",
       "      <td>[3.7951634, 3.7951634, 3.7951634, 90.0, 90.0, ...</td>\n",
       "      <td>[[0.0, 0.0, 0.0], [0.5, 0.5, 0.5], [0.0, 0.5, ...</td>\n",
       "      <td>[[0.0, 0.0, 0.0], [1.89758, 1.89758, 1.89758],...</td>\n",
       "      <td>-4.55519</td>\n",
       "      <td>-0.100528</td>\n",
       "    </tr>\n",
       "    <tr>\n",
       "      <th>4</th>\n",
       "      <td>aflow:7e6bdbc495310b44</td>\n",
       "      <td>aflowlib.duke.edu:AFLOWDATA/LIB3_RAW/AgAuO/T00...</td>\n",
       "      <td>Ag1Au1O3</td>\n",
       "      <td>[1, 1, 3]</td>\n",
       "      <td>[Ag, Au, O]</td>\n",
       "      <td>5</td>\n",
       "      <td>221</td>\n",
       "      <td>cP5</td>\n",
       "      <td>[4.1003175, 4.1003175, 4.1003175, 90.0, 90.0, ...</td>\n",
       "      <td>[[0.0, 0.0, 0.0], [0.5, 0.5, 0.5], [0.0, 0.5, ...</td>\n",
       "      <td>[[0.0, 0.0, 0.0], [2.05016, 2.05016, 2.05016],...</td>\n",
       "      <td>-2.80408</td>\n",
       "      <td>1.37453</td>\n",
       "    </tr>\n",
       "    <tr>\n",
       "      <th>6</th>\n",
       "      <td>aflow:c0e1c25976bb4c75</td>\n",
       "      <td>aflowlib.duke.edu:AFLOWDATA/LIB3_RAW/AgB_hO/T0...</td>\n",
       "      <td>Ag1B1O3</td>\n",
       "      <td>[1, 1, 3]</td>\n",
       "      <td>[Ag, B, O]</td>\n",
       "      <td>5</td>\n",
       "      <td>221</td>\n",
       "      <td>cP5</td>\n",
       "      <td>[3.484261, 3.484261, 3.484261, 90.0, 90.0, 90.0]</td>\n",
       "      <td>[[0.0, 0.0, 0.0], [0.5, 0.5, 0.5], [0.0, 0.5, ...</td>\n",
       "      <td>[[0.0, 0.0, 0.0], [1.74213, 1.74213, 1.74213],...</td>\n",
       "      <td>-4.55549</td>\n",
       "      <td>0.30734</td>\n",
       "    </tr>\n",
       "    <tr>\n",
       "      <th>8</th>\n",
       "      <td>aflow:3b79b8b28a5d5cc1</td>\n",
       "      <td>aflowlib.duke.edu:AFLOWDATA/LIB3_RAW/AgBa_svO/...</td>\n",
       "      <td>Ag1Ba1O3</td>\n",
       "      <td>[1, 1, 3]</td>\n",
       "      <td>[Ag, Ba, O]</td>\n",
       "      <td>5</td>\n",
       "      <td>221</td>\n",
       "      <td>cP5</td>\n",
       "      <td>[4.7271734, 4.7271734, 4.7271734, 90.0, 90.0, ...</td>\n",
       "      <td>[[-0.0, 0.0, -0.0], [0.5, 0.5, 0.5], [-0.0, 0....</td>\n",
       "      <td>[[-0.0, 0.0, -0.0], [2.36359, 2.36359, 2.36359...</td>\n",
       "      <td>-3.52096</td>\n",
       "      <td>0.388015</td>\n",
       "    </tr>\n",
       "    <tr>\n",
       "      <th>...</th>\n",
       "      <td>...</td>\n",
       "      <td>...</td>\n",
       "      <td>...</td>\n",
       "      <td>...</td>\n",
       "      <td>...</td>\n",
       "      <td>...</td>\n",
       "      <td>...</td>\n",
       "      <td>...</td>\n",
       "      <td>...</td>\n",
       "      <td>...</td>\n",
       "      <td>...</td>\n",
       "      <td>...</td>\n",
       "      <td>...</td>\n",
       "    </tr>\n",
       "    <tr>\n",
       "      <th>3947</th>\n",
       "      <td>aflow:e243d024b0749ac0</td>\n",
       "      <td>aflowlib.duke.edu:AFLOWDATA/LIB3_RAW/OXeZn/T00...</td>\n",
       "      <td>O3Xe1Zn1</td>\n",
       "      <td>[3, 1, 1]</td>\n",
       "      <td>[O, Xe, Zn]</td>\n",
       "      <td>5</td>\n",
       "      <td>221</td>\n",
       "      <td>cP5</td>\n",
       "      <td>[4.370543, 4.370543, 4.370543, 90.0, 90.0, 90.0]</td>\n",
       "      <td>[[0.0, 0.5, 0.5], [0.5, 0.0, 0.5], [0.5, 0.5, ...</td>\n",
       "      <td>[[0.0, 2.18527, 2.18527], [2.18527, 0.0, 2.185...</td>\n",
       "      <td>-1.89960</td>\n",
       "      <td>None</td>\n",
       "    </tr>\n",
       "    <tr>\n",
       "      <th>3949</th>\n",
       "      <td>aflow:ae4a07b2d68c2933</td>\n",
       "      <td>aflowlib.duke.edu:AFLOWDATA/LIB3_RAW/OXeZr_sv/...</td>\n",
       "      <td>O3Xe1Zr1</td>\n",
       "      <td>[3, 1, 1]</td>\n",
       "      <td>[O, Xe, Zr]</td>\n",
       "      <td>5</td>\n",
       "      <td>221</td>\n",
       "      <td>cP5</td>\n",
       "      <td>[4.322477, 4.322477, 4.322477, 90.0, 90.0, 90.0]</td>\n",
       "      <td>[[0.0, 0.5, 0.5], [0.5, 0.0, 0.5], [0.5, 0.5, ...</td>\n",
       "      <td>[[-0.0, 2.16124, 2.16124], [2.16124, -0.0, 2.1...</td>\n",
       "      <td>-5.89112</td>\n",
       "      <td>-1.222</td>\n",
       "    </tr>\n",
       "    <tr>\n",
       "      <th>3951</th>\n",
       "      <td>aflow:0d9d3ce033a32aae</td>\n",
       "      <td>aflowlib.duke.edu:AFLOWDATA/LIB3_RAW/OY_svZn/T...</td>\n",
       "      <td>O3Y1Zn1</td>\n",
       "      <td>[3, 1, 1]</td>\n",
       "      <td>[O, Y, Zn]</td>\n",
       "      <td>5</td>\n",
       "      <td>221</td>\n",
       "      <td>cP5</td>\n",
       "      <td>[4.3517566, 4.3517566, 4.3517566, 90.0, 90.0, ...</td>\n",
       "      <td>[[0.0, 0.5, 0.5], [0.5, 0.0, 0.5], [0.5, 0.5, ...</td>\n",
       "      <td>[[0.0, 2.17588, 2.17588], [2.17588, 0.0, 2.175...</td>\n",
       "      <td>-5.57716</td>\n",
       "      <td>-1.07268</td>\n",
       "    </tr>\n",
       "    <tr>\n",
       "      <th>3953</th>\n",
       "      <td>aflow:627232532ed2fb40</td>\n",
       "      <td>aflowlib.duke.edu:AFLOWDATA/LIB3_RAW/OY_svZr_s...</td>\n",
       "      <td>O3Y1Zr1</td>\n",
       "      <td>[3, 1, 1]</td>\n",
       "      <td>[O, Y, Zr]</td>\n",
       "      <td>5</td>\n",
       "      <td>221</td>\n",
       "      <td>cP5</td>\n",
       "      <td>[4.155165, 4.155165, 4.155165, 90.0, 90.0, 90.0]</td>\n",
       "      <td>[[0.0, 0.5, 0.5], [0.5, 0.0, 0.5], [0.5, 0.5, ...</td>\n",
       "      <td>[[0.0, 2.07758, 2.07758], [2.07758, 0.0, 2.077...</td>\n",
       "      <td>-8.70129</td>\n",
       "      <td>-2.74124</td>\n",
       "    </tr>\n",
       "    <tr>\n",
       "      <th>3955</th>\n",
       "      <td>aflow:2b3ea96a80ac45cd</td>\n",
       "      <td>aflowlib.duke.edu:AFLOWDATA/LIB3_RAW/OZnZr_sv/...</td>\n",
       "      <td>O3Zn1Zr1</td>\n",
       "      <td>[3, 1, 1]</td>\n",
       "      <td>[O, Zn, Zr]</td>\n",
       "      <td>5</td>\n",
       "      <td>221</td>\n",
       "      <td>cP5</td>\n",
       "      <td>[3.723766, 3.723766, 3.723766, 90.0, 90.0, 90.0]</td>\n",
       "      <td>[[0.0, 0.5, 0.5], [0.5, 0.0, 0.5], [0.5, 0.5, ...</td>\n",
       "      <td>[[-0.0, 1.86188, 1.86188], [1.86188, -0.0, 1.8...</td>\n",
       "      <td>-6.45445</td>\n",
       "      <td>None</td>\n",
       "    </tr>\n",
       "  </tbody>\n",
       "</table>\n",
       "<p>1983 rows × 13 columns</p>\n",
       "</div>"
      ],
      "text/plain": [
       "                        auid  \\\n",
       "0     aflow:b778fabdb1b01db1   \n",
       "2     aflow:272cd0e74db84a51   \n",
       "4     aflow:7e6bdbc495310b44   \n",
       "6     aflow:c0e1c25976bb4c75   \n",
       "8     aflow:3b79b8b28a5d5cc1   \n",
       "...                      ...   \n",
       "3947  aflow:e243d024b0749ac0   \n",
       "3949  aflow:ae4a07b2d68c2933   \n",
       "3951  aflow:0d9d3ce033a32aae   \n",
       "3953  aflow:627232532ed2fb40   \n",
       "3955  aflow:2b3ea96a80ac45cd   \n",
       "\n",
       "                                                   aurl  compound composition  \\\n",
       "0     aflowlib.duke.edu:AFLOWDATA/LIB3_RAW/AgAlO/T00...  Ag1Al1O3   [1, 1, 3]   \n",
       "2     aflowlib.duke.edu:AFLOWDATA/LIB3_RAW/AgAsO/T00...  Ag1As1O3   [1, 1, 3]   \n",
       "4     aflowlib.duke.edu:AFLOWDATA/LIB3_RAW/AgAuO/T00...  Ag1Au1O3   [1, 1, 3]   \n",
       "6     aflowlib.duke.edu:AFLOWDATA/LIB3_RAW/AgB_hO/T0...   Ag1B1O3   [1, 1, 3]   \n",
       "8     aflowlib.duke.edu:AFLOWDATA/LIB3_RAW/AgBa_svO/...  Ag1Ba1O3   [1, 1, 3]   \n",
       "...                                                 ...       ...         ...   \n",
       "3947  aflowlib.duke.edu:AFLOWDATA/LIB3_RAW/OXeZn/T00...  O3Xe1Zn1   [3, 1, 1]   \n",
       "3949  aflowlib.duke.edu:AFLOWDATA/LIB3_RAW/OXeZr_sv/...  O3Xe1Zr1   [3, 1, 1]   \n",
       "3951  aflowlib.duke.edu:AFLOWDATA/LIB3_RAW/OY_svZn/T...   O3Y1Zn1   [3, 1, 1]   \n",
       "3953  aflowlib.duke.edu:AFLOWDATA/LIB3_RAW/OY_svZr_s...   O3Y1Zr1   [3, 1, 1]   \n",
       "3955  aflowlib.duke.edu:AFLOWDATA/LIB3_RAW/OZnZr_sv/...  O3Zn1Zr1   [3, 1, 1]   \n",
       "\n",
       "          species natoms spacegroup pearson_symbol  \\\n",
       "0     [Ag, Al, O]      5        221            cP5   \n",
       "2     [Ag, As, O]      5        221            cP5   \n",
       "4     [Ag, Au, O]      5        221            cP5   \n",
       "6      [Ag, B, O]      5        221            cP5   \n",
       "8     [Ag, Ba, O]      5        221            cP5   \n",
       "...           ...    ...        ...            ...   \n",
       "3947  [O, Xe, Zn]      5        221            cP5   \n",
       "3949  [O, Xe, Zr]      5        221            cP5   \n",
       "3951   [O, Y, Zn]      5        221            cP5   \n",
       "3953   [O, Y, Zr]      5        221            cP5   \n",
       "3955  [O, Zn, Zr]      5        221            cP5   \n",
       "\n",
       "                                               geometry  \\\n",
       "0     [3.7688035, 3.7688035, 3.7688035, 90.0, 90.0, ...   \n",
       "2     [3.7951634, 3.7951634, 3.7951634, 90.0, 90.0, ...   \n",
       "4     [4.1003175, 4.1003175, 4.1003175, 90.0, 90.0, ...   \n",
       "6      [3.484261, 3.484261, 3.484261, 90.0, 90.0, 90.0]   \n",
       "8     [4.7271734, 4.7271734, 4.7271734, 90.0, 90.0, ...   \n",
       "...                                                 ...   \n",
       "3947   [4.370543, 4.370543, 4.370543, 90.0, 90.0, 90.0]   \n",
       "3949   [4.322477, 4.322477, 4.322477, 90.0, 90.0, 90.0]   \n",
       "3951  [4.3517566, 4.3517566, 4.3517566, 90.0, 90.0, ...   \n",
       "3953   [4.155165, 4.155165, 4.155165, 90.0, 90.0, 90.0]   \n",
       "3955   [3.723766, 3.723766, 3.723766, 90.0, 90.0, 90.0]   \n",
       "\n",
       "                                   positions_fractional  \\\n",
       "0     [[0.0, 0.0, 0.0], [0.5, 0.5, 0.5], [0.0, 0.5, ...   \n",
       "2     [[0.0, 0.0, 0.0], [0.5, 0.5, 0.5], [0.0, 0.5, ...   \n",
       "4     [[0.0, 0.0, 0.0], [0.5, 0.5, 0.5], [0.0, 0.5, ...   \n",
       "6     [[0.0, 0.0, 0.0], [0.5, 0.5, 0.5], [0.0, 0.5, ...   \n",
       "8     [[-0.0, 0.0, -0.0], [0.5, 0.5, 0.5], [-0.0, 0....   \n",
       "...                                                 ...   \n",
       "3947  [[0.0, 0.5, 0.5], [0.5, 0.0, 0.5], [0.5, 0.5, ...   \n",
       "3949  [[0.0, 0.5, 0.5], [0.5, 0.0, 0.5], [0.5, 0.5, ...   \n",
       "3951  [[0.0, 0.5, 0.5], [0.5, 0.0, 0.5], [0.5, 0.5, ...   \n",
       "3953  [[0.0, 0.5, 0.5], [0.5, 0.0, 0.5], [0.5, 0.5, ...   \n",
       "3955  [[0.0, 0.5, 0.5], [0.5, 0.0, 0.5], [0.5, 0.5, ...   \n",
       "\n",
       "                                    positions_cartesian  enthalpy_atom  \\\n",
       "0     [[0.0, 0.0, 0.0], [1.8844, 1.8844, 1.8844], [0...       -5.04863   \n",
       "2     [[0.0, 0.0, 0.0], [1.89758, 1.89758, 1.89758],...       -4.55519   \n",
       "4     [[0.0, 0.0, 0.0], [2.05016, 2.05016, 2.05016],...       -2.80408   \n",
       "6     [[0.0, 0.0, 0.0], [1.74213, 1.74213, 1.74213],...       -4.55549   \n",
       "8     [[-0.0, 0.0, -0.0], [2.36359, 2.36359, 2.36359...       -3.52096   \n",
       "...                                                 ...            ...   \n",
       "3947  [[0.0, 2.18527, 2.18527], [2.18527, 0.0, 2.185...       -1.89960   \n",
       "3949  [[-0.0, 2.16124, 2.16124], [2.16124, -0.0, 2.1...       -5.89112   \n",
       "3951  [[0.0, 2.17588, 2.17588], [2.17588, 0.0, 2.175...       -5.57716   \n",
       "3953  [[0.0, 2.07758, 2.07758], [2.07758, 0.0, 2.077...       -8.70129   \n",
       "3955  [[-0.0, 1.86188, 1.86188], [1.86188, -0.0, 1.8...       -6.45445   \n",
       "\n",
       "     enthalpy_formation_atom  \n",
       "0                  -0.775736  \n",
       "2                  -0.100528  \n",
       "4                    1.37453  \n",
       "6                    0.30734  \n",
       "8                   0.388015  \n",
       "...                      ...  \n",
       "3947                    None  \n",
       "3949                  -1.222  \n",
       "3951                -1.07268  \n",
       "3953                -2.74124  \n",
       "3955                    None  \n",
       "\n",
       "[1983 rows x 13 columns]"
      ]
     },
     "execution_count": 81,
     "metadata": {},
     "output_type": "execute_result"
    }
   ],
   "source": [
    "df = df.drop_duplicates(\"compound\")\n",
    "df"
   ]
  },
  {
   "cell_type": "code",
   "execution_count": 63,
   "metadata": {},
   "outputs": [
    {
     "data": {
      "text/plain": [
       "(1983,)"
      ]
     },
     "execution_count": 63,
     "metadata": {},
     "output_type": "execute_result"
    }
   ],
   "source": [
    "np.unique(df.compound).shape"
   ]
  },
  {
   "cell_type": "code",
   "execution_count": 64,
   "metadata": {},
   "outputs": [],
   "source": [
    "oxides = df[df.compound.str.contains('O')]"
   ]
  },
  {
   "cell_type": "code",
   "execution_count": 65,
   "metadata": {},
   "outputs": [
    {
     "data": {
      "text/plain": [
       "(1983,)"
      ]
     },
     "execution_count": 65,
     "metadata": {},
     "output_type": "execute_result"
    }
   ],
   "source": [
    "np.unique(oxides.compound).shape"
   ]
  },
  {
   "cell_type": "code",
   "execution_count": 66,
   "metadata": {},
   "outputs": [
    {
     "name": "stdout",
     "output_type": "stream",
     "text": [
      "['Ag' 'Al' 'As' 'Au' 'B' 'Ba' 'Be' 'Bi' 'Br' 'C' 'Ca' 'Cd' 'Ce' 'Cl' 'Co'\n",
      " 'Cr' 'Cs' 'Cu' 'Dy' 'Er' 'Eu' 'F' 'Fe' 'Ga' 'Gd' 'Ge' 'Hf' 'Hg' 'Ho' 'I'\n",
      " 'In' 'Ir' 'K' 'La' 'Li' 'Lu' 'Mg' 'Mn' 'Mo' 'N' 'Na' 'Nb' 'Nd' 'Ni' 'O'\n",
      " 'Os' 'P' 'Pa' 'Pb' 'Pd' 'Pr' 'Pt' 'Pu' 'Rb' 'Re' 'Rh' 'Ru' 'S' 'Sb' 'Sc'\n",
      " 'Se' 'Si' 'Sn' 'Sr' 'Ta' 'Tb' 'Tc' 'Te' 'Th' 'Ti' 'Tl' 'U' 'V' 'W' 'Xe'\n",
      " 'Y' 'Yb' 'Zn' 'Zr']\n",
      "(79,)\n"
     ]
    }
   ],
   "source": [
    "elements = np.unique(np.hstack(np.array(df.species)))\n",
    "print(elements)\n",
    "print(elements.shape)"
   ]
  },
  {
   "cell_type": "code",
   "execution_count": 67,
   "metadata": {},
   "outputs": [
    {
     "name": "stdout",
     "output_type": "stream",
     "text": [
      "['Ag' 'Al' 'As' 'Au' 'B' 'Ba' 'Be' 'Bi' 'Br' 'C' 'Ca' 'Cd' 'Ce' 'Cl' 'Co'\n",
      " 'Cr' 'Cs' 'Cu' 'Dy' 'Er' 'Eu' 'F' 'Fe' 'Ga' 'Gd' 'Ge' 'Hf' 'Hg' 'Ho' 'I'\n",
      " 'In' 'Ir' 'K' 'La' 'Li' 'Lu' 'Mg' 'Mn' 'Mo' 'N' 'Na' 'Nb' 'Nd' 'Ni' 'O'\n",
      " 'Os' 'P' 'Pa' 'Pb' 'Pd' 'Pr' 'Pt' 'Pu' 'Rb' 'Re' 'Rh' 'Ru' 'S' 'Sb' 'Sc'\n",
      " 'Se' 'Si' 'Sn' 'Sr' 'Ta' 'Tb' 'Tc' 'Te' 'Th' 'Ti' 'Tl' 'U' 'V' 'W' 'Xe'\n",
      " 'Y' 'Yb' 'Zn' 'Zr']\n",
      "(79,)\n"
     ]
    }
   ],
   "source": [
    "elements = np.unique(np.hstack(np.array(oxides.species)))\n",
    "print(elements)\n",
    "print(elements.shape)"
   ]
  },
  {
   "cell_type": "code",
   "execution_count": 68,
   "metadata": {},
   "outputs": [
    {
     "data": {
      "text/plain": [
       "52.16072782410917"
      ]
     },
     "execution_count": 68,
     "metadata": {},
     "output_type": "execute_result"
    }
   ],
   "source": [
    "df.enthalpy_formation_atom.isna().sum() / df.shape[0] * 100"
   ]
  },
  {
   "cell_type": "code",
   "execution_count": 69,
   "metadata": {},
   "outputs": [
    {
     "data": {
      "text/plain": [
       "52.16072782410917"
      ]
     },
     "execution_count": 69,
     "metadata": {},
     "output_type": "execute_result"
    }
   ],
   "source": [
    "oxides.enthalpy_formation_atom.isna().sum() / oxides.shape[0] * 100"
   ]
  },
  {
   "cell_type": "code",
   "execution_count": 70,
   "metadata": {},
   "outputs": [
    {
     "data": {
      "text/plain": [
       "0.0"
      ]
     },
     "execution_count": 70,
     "metadata": {},
     "output_type": "execute_result"
    }
   ],
   "source": [
    "df.enthalpy_atom.isna().sum() / df.shape[0] * 100"
   ]
  },
  {
   "cell_type": "code",
   "execution_count": 71,
   "metadata": {},
   "outputs": [
    {
     "data": {
      "text/plain": [
       "0.0"
      ]
     },
     "execution_count": 71,
     "metadata": {},
     "output_type": "execute_result"
    }
   ],
   "source": [
    "oxides.enthalpy_atom.isna().sum() / oxides.shape[0] * 100"
   ]
  },
  {
   "cell_type": "code",
   "execution_count": 82,
   "metadata": {},
   "outputs": [
    {
     "data": {
      "text/plain": [
       "O     1983\n",
       "F      121\n",
       "In      76\n",
       "Ba      70\n",
       "Sn      66\n",
       "      ... \n",
       "Dy       1\n",
       "Er       1\n",
       "Lu       1\n",
       "Pu       1\n",
       "Pa       1\n",
       "Length: 79, dtype: int64"
      ]
     },
     "execution_count": 82,
     "metadata": {},
     "output_type": "execute_result"
    }
   ],
   "source": [
    "elem_counts = pd.Series(np.hstack(np.array(df.species))).value_counts()\n",
    "elem_counts"
   ]
  },
  {
   "cell_type": "code",
   "execution_count": 83,
   "metadata": {},
   "outputs": [
    {
     "data": {
      "text/plain": [
       "79"
      ]
     },
     "execution_count": 83,
     "metadata": {},
     "output_type": "execute_result"
    }
   ],
   "source": [
    "elem_counts[elem_counts < 50].sum()"
   ]
  },
  {
   "cell_type": "code",
   "execution_count": 84,
   "metadata": {},
   "outputs": [
    {
     "data": {
      "text/plain": [
       "array(['Cs', 'La', 'Ce', 'Pr', 'Nd', 'Yb', 'Eu', 'U', 'Tb', 'Th', 'Gd',\n",
       "       'Ho', 'Dy', 'Er', 'Lu', 'Pu', 'Pa'], dtype=object)"
      ]
     },
     "execution_count": 84,
     "metadata": {},
     "output_type": "execute_result"
    }
   ],
   "source": [
    "low_freq = elem_counts[elem_counts < 50].index.values\n",
    "low_freq"
   ]
  },
  {
   "cell_type": "code",
   "execution_count": 85,
   "metadata": {},
   "outputs": [],
   "source": [
    "low_freq_mask = df.species.apply(lambda s: len(np.setdiff1d(s, low_freq)) < len(s))"
   ]
  },
  {
   "cell_type": "code",
   "execution_count": 86,
   "metadata": {},
   "outputs": [
    {
     "data": {
      "text/plain": [
       "79"
      ]
     },
     "execution_count": 86,
     "metadata": {},
     "output_type": "execute_result"
    }
   ],
   "source": [
    "np.sum(low_freq_mask)"
   ]
  },
  {
   "cell_type": "code",
   "execution_count": 87,
   "metadata": {},
   "outputs": [
    {
     "data": {
      "text/plain": [
       "<AxesSubplot:>"
      ]
     },
     "execution_count": 87,
     "metadata": {},
     "output_type": "execute_result"
    },
    {
     "data": {
      "image/png": "[encoded data removed]",
      "text/plain": [
       "<Figure size 1152x288 with 1 Axes>"
      ]
     },
     "metadata": {
      "needs_background": "light"
     },
     "output_type": "display_data"
    }
   ],
   "source": [
    "elem_counts[1:].plot.bar(figsize=(16,4))"
   ]
  },
  {
   "cell_type": "code",
   "execution_count": 88,
   "metadata": {},
   "outputs": [
    {
     "data": {
      "text/plain": [
       "<AxesSubplot:>"
      ]
     },
     "execution_count": 88,
     "metadata": {},
     "output_type": "execute_result"
    },
    {
     "data": {
      "image/png": "[encoded data removed]",
      "text/plain": [
       "<Figure size 432x288 with 1 Axes>"
      ]
     },
     "metadata": {
      "needs_background": "light"
     },
     "output_type": "display_data"
    }
   ],
   "source": [
    "df.natoms.hist(bins=20)"
   ]
  },
  {
   "cell_type": "code",
   "execution_count": 89,
   "metadata": {},
   "outputs": [
    {
     "data": {
      "text/plain": [
       "0"
      ]
     },
     "execution_count": 89,
     "metadata": {},
     "output_type": "execute_result"
    }
   ],
   "source": [
    "np.sum(df.natoms > 75)"
   ]
  },
  {
   "cell_type": "code",
   "execution_count": 90,
   "metadata": {},
   "outputs": [
    {
     "data": {
      "text/html": [
       "<div>\n",
       "<style scoped>\n",
       "    .dataframe tbody tr th:only-of-type {\n",
       "        vertical-align: middle;\n",
       "    }\n",
       "\n",
       "    .dataframe tbody tr th {\n",
       "        vertical-align: top;\n",
       "    }\n",
       "\n",
       "    .dataframe thead th {\n",
       "        text-align: right;\n",
       "    }\n",
       "</style>\n",
       "<table border=\"1\" class=\"dataframe\">\n",
       "  <thead>\n",
       "    <tr style=\"text-align: right;\">\n",
       "      <th></th>\n",
       "      <th>auid</th>\n",
       "      <th>aurl</th>\n",
       "      <th>compound</th>\n",
       "      <th>composition</th>\n",
       "      <th>species</th>\n",
       "      <th>natoms</th>\n",
       "      <th>spacegroup</th>\n",
       "      <th>pearson_symbol</th>\n",
       "      <th>geometry</th>\n",
       "      <th>positions_fractional</th>\n",
       "      <th>positions_cartesian</th>\n",
       "      <th>enthalpy_atom</th>\n",
       "      <th>enthalpy_formation_atom</th>\n",
       "    </tr>\n",
       "  </thead>\n",
       "  <tbody>\n",
       "    <tr>\n",
       "      <th>0</th>\n",
       "      <td>aflow:b778fabdb1b01db1</td>\n",
       "      <td>aflowlib.duke.edu:AFLOWDATA/LIB3_RAW/AgAlO/T00...</td>\n",
       "      <td>Ag1Al1O3</td>\n",
       "      <td>[1, 1, 3]</td>\n",
       "      <td>[Ag, Al, O]</td>\n",
       "      <td>5</td>\n",
       "      <td>221</td>\n",
       "      <td>cP5</td>\n",
       "      <td>[3.7688035, 3.7688035, 3.7688035, 90.0, 90.0, ...</td>\n",
       "      <td>[[0.0, 0.0, 0.0], [0.5, 0.5, 0.5], [0.0, 0.5, ...</td>\n",
       "      <td>[[0.0, 0.0, 0.0], [1.8844, 1.8844, 1.8844], [0...</td>\n",
       "      <td>-5.04863</td>\n",
       "      <td>-0.775736</td>\n",
       "    </tr>\n",
       "    <tr>\n",
       "      <th>2</th>\n",
       "      <td>aflow:272cd0e74db84a51</td>\n",
       "      <td>aflowlib.duke.edu:AFLOWDATA/LIB3_RAW/AgAsO/T00...</td>\n",
       "      <td>Ag1As1O3</td>\n",
       "      <td>[1, 1, 3]</td>\n",
       "      <td>[Ag, As, O]</td>\n",
       "      <td>5</td>\n",
       "      <td>221</td>\n",
       "      <td>cP5</td>\n",
       "      <td>[3.7951634, 3.7951634, 3.7951634, 90.0, 90.0, ...</td>\n",
       "      <td>[[0.0, 0.0, 0.0], [0.5, 0.5, 0.5], [0.0, 0.5, ...</td>\n",
       "      <td>[[0.0, 0.0, 0.0], [1.89758, 1.89758, 1.89758],...</td>\n",
       "      <td>-4.55519</td>\n",
       "      <td>-0.100528</td>\n",
       "    </tr>\n",
       "    <tr>\n",
       "      <th>4</th>\n",
       "      <td>aflow:7e6bdbc495310b44</td>\n",
       "      <td>aflowlib.duke.edu:AFLOWDATA/LIB3_RAW/AgAuO/T00...</td>\n",
       "      <td>Ag1Au1O3</td>\n",
       "      <td>[1, 1, 3]</td>\n",
       "      <td>[Ag, Au, O]</td>\n",
       "      <td>5</td>\n",
       "      <td>221</td>\n",
       "      <td>cP5</td>\n",
       "      <td>[4.1003175, 4.1003175, 4.1003175, 90.0, 90.0, ...</td>\n",
       "      <td>[[0.0, 0.0, 0.0], [0.5, 0.5, 0.5], [0.0, 0.5, ...</td>\n",
       "      <td>[[0.0, 0.0, 0.0], [2.05016, 2.05016, 2.05016],...</td>\n",
       "      <td>-2.80408</td>\n",
       "      <td>1.37453</td>\n",
       "    </tr>\n",
       "    <tr>\n",
       "      <th>6</th>\n",
       "      <td>aflow:c0e1c25976bb4c75</td>\n",
       "      <td>aflowlib.duke.edu:AFLOWDATA/LIB3_RAW/AgB_hO/T0...</td>\n",
       "      <td>Ag1B1O3</td>\n",
       "      <td>[1, 1, 3]</td>\n",
       "      <td>[Ag, B, O]</td>\n",
       "      <td>5</td>\n",
       "      <td>221</td>\n",
       "      <td>cP5</td>\n",
       "      <td>[3.484261, 3.484261, 3.484261, 90.0, 90.0, 90.0]</td>\n",
       "      <td>[[0.0, 0.0, 0.0], [0.5, 0.5, 0.5], [0.0, 0.5, ...</td>\n",
       "      <td>[[0.0, 0.0, 0.0], [1.74213, 1.74213, 1.74213],...</td>\n",
       "      <td>-4.55549</td>\n",
       "      <td>0.30734</td>\n",
       "    </tr>\n",
       "    <tr>\n",
       "      <th>8</th>\n",
       "      <td>aflow:3b79b8b28a5d5cc1</td>\n",
       "      <td>aflowlib.duke.edu:AFLOWDATA/LIB3_RAW/AgBa_svO/...</td>\n",
       "      <td>Ag1Ba1O3</td>\n",
       "      <td>[1, 1, 3]</td>\n",
       "      <td>[Ag, Ba, O]</td>\n",
       "      <td>5</td>\n",
       "      <td>221</td>\n",
       "      <td>cP5</td>\n",
       "      <td>[4.7271734, 4.7271734, 4.7271734, 90.0, 90.0, ...</td>\n",
       "      <td>[[-0.0, 0.0, -0.0], [0.5, 0.5, 0.5], [-0.0, 0....</td>\n",
       "      <td>[[-0.0, 0.0, -0.0], [2.36359, 2.36359, 2.36359...</td>\n",
       "      <td>-3.52096</td>\n",
       "      <td>0.388015</td>\n",
       "    </tr>\n",
       "    <tr>\n",
       "      <th>...</th>\n",
       "      <td>...</td>\n",
       "      <td>...</td>\n",
       "      <td>...</td>\n",
       "      <td>...</td>\n",
       "      <td>...</td>\n",
       "      <td>...</td>\n",
       "      <td>...</td>\n",
       "      <td>...</td>\n",
       "      <td>...</td>\n",
       "      <td>...</td>\n",
       "      <td>...</td>\n",
       "      <td>...</td>\n",
       "      <td>...</td>\n",
       "    </tr>\n",
       "    <tr>\n",
       "      <th>3947</th>\n",
       "      <td>aflow:e243d024b0749ac0</td>\n",
       "      <td>aflowlib.duke.edu:AFLOWDATA/LIB3_RAW/OXeZn/T00...</td>\n",
       "      <td>O3Xe1Zn1</td>\n",
       "      <td>[3, 1, 1]</td>\n",
       "      <td>[O, Xe, Zn]</td>\n",
       "      <td>5</td>\n",
       "      <td>221</td>\n",
       "      <td>cP5</td>\n",
       "      <td>[4.370543, 4.370543, 4.370543, 90.0, 90.0, 90.0]</td>\n",
       "      <td>[[0.0, 0.5, 0.5], [0.5, 0.0, 0.5], [0.5, 0.5, ...</td>\n",
       "      <td>[[0.0, 2.18527, 2.18527], [2.18527, 0.0, 2.185...</td>\n",
       "      <td>-1.89960</td>\n",
       "      <td>None</td>\n",
       "    </tr>\n",
       "    <tr>\n",
       "      <th>3949</th>\n",
       "      <td>aflow:ae4a07b2d68c2933</td>\n",
       "      <td>aflowlib.duke.edu:AFLOWDATA/LIB3_RAW/OXeZr_sv/...</td>\n",
       "      <td>O3Xe1Zr1</td>\n",
       "      <td>[3, 1, 1]</td>\n",
       "      <td>[O, Xe, Zr]</td>\n",
       "      <td>5</td>\n",
       "      <td>221</td>\n",
       "      <td>cP5</td>\n",
       "      <td>[4.322477, 4.322477, 4.322477, 90.0, 90.0, 90.0]</td>\n",
       "      <td>[[0.0, 0.5, 0.5], [0.5, 0.0, 0.5], [0.5, 0.5, ...</td>\n",
       "      <td>[[-0.0, 2.16124, 2.16124], [2.16124, -0.0, 2.1...</td>\n",
       "      <td>-5.89112</td>\n",
       "      <td>-1.222</td>\n",
       "    </tr>\n",
       "    <tr>\n",
       "      <th>3951</th>\n",
       "      <td>aflow:0d9d3ce033a32aae</td>\n",
       "      <td>aflowlib.duke.edu:AFLOWDATA/LIB3_RAW/OY_svZn/T...</td>\n",
       "      <td>O3Y1Zn1</td>\n",
       "      <td>[3, 1, 1]</td>\n",
       "      <td>[O, Y, Zn]</td>\n",
       "      <td>5</td>\n",
       "      <td>221</td>\n",
       "      <td>cP5</td>\n",
       "      <td>[4.3517566, 4.3517566, 4.3517566, 90.0, 90.0, ...</td>\n",
       "      <td>[[0.0, 0.5, 0.5], [0.5, 0.0, 0.5], [0.5, 0.5, ...</td>\n",
       "      <td>[[0.0, 2.17588, 2.17588], [2.17588, 0.0, 2.175...</td>\n",
       "      <td>-5.57716</td>\n",
       "      <td>-1.07268</td>\n",
       "    </tr>\n",
       "    <tr>\n",
       "      <th>3953</th>\n",
       "      <td>aflow:627232532ed2fb40</td>\n",
       "      <td>aflowlib.duke.edu:AFLOWDATA/LIB3_RAW/OY_svZr_s...</td>\n",
       "      <td>O3Y1Zr1</td>\n",
       "      <td>[3, 1, 1]</td>\n",
       "      <td>[O, Y, Zr]</td>\n",
       "      <td>5</td>\n",
       "      <td>221</td>\n",
       "      <td>cP5</td>\n",
       "      <td>[4.155165, 4.155165, 4.155165, 90.0, 90.0, 90.0]</td>\n",
       "      <td>[[0.0, 0.5, 0.5], [0.5, 0.0, 0.5], [0.5, 0.5, ...</td>\n",
       "      <td>[[0.0, 2.07758, 2.07758], [2.07758, 0.0, 2.077...</td>\n",
       "      <td>-8.70129</td>\n",
       "      <td>-2.74124</td>\n",
       "    </tr>\n",
       "    <tr>\n",
       "      <th>3955</th>\n",
       "      <td>aflow:2b3ea96a80ac45cd</td>\n",
       "      <td>aflowlib.duke.edu:AFLOWDATA/LIB3_RAW/OZnZr_sv/...</td>\n",
       "      <td>O3Zn1Zr1</td>\n",
       "      <td>[3, 1, 1]</td>\n",
       "      <td>[O, Zn, Zr]</td>\n",
       "      <td>5</td>\n",
       "      <td>221</td>\n",
       "      <td>cP5</td>\n",
       "      <td>[3.723766, 3.723766, 3.723766, 90.0, 90.0, 90.0]</td>\n",
       "      <td>[[0.0, 0.5, 0.5], [0.5, 0.0, 0.5], [0.5, 0.5, ...</td>\n",
       "      <td>[[-0.0, 1.86188, 1.86188], [1.86188, -0.0, 1.8...</td>\n",
       "      <td>-6.45445</td>\n",
       "      <td>None</td>\n",
       "    </tr>\n",
       "  </tbody>\n",
       "</table>\n",
       "<p>1904 rows × 13 columns</p>\n",
       "</div>"
      ],
      "text/plain": [
       "                        auid  \\\n",
       "0     aflow:b778fabdb1b01db1   \n",
       "2     aflow:272cd0e74db84a51   \n",
       "4     aflow:7e6bdbc495310b44   \n",
       "6     aflow:c0e1c25976bb4c75   \n",
       "8     aflow:3b79b8b28a5d5cc1   \n",
       "...                      ...   \n",
       "3947  aflow:e243d024b0749ac0   \n",
       "3949  aflow:ae4a07b2d68c2933   \n",
       "3951  aflow:0d9d3ce033a32aae   \n",
       "3953  aflow:627232532ed2fb40   \n",
       "3955  aflow:2b3ea96a80ac45cd   \n",
       "\n",
       "                                                   aurl  compound composition  \\\n",
       "0     aflowlib.duke.edu:AFLOWDATA/LIB3_RAW/AgAlO/T00...  Ag1Al1O3   [1, 1, 3]   \n",
       "2     aflowlib.duke.edu:AFLOWDATA/LIB3_RAW/AgAsO/T00...  Ag1As1O3   [1, 1, 3]   \n",
       "4     aflowlib.duke.edu:AFLOWDATA/LIB3_RAW/AgAuO/T00...  Ag1Au1O3   [1, 1, 3]   \n",
       "6     aflowlib.duke.edu:AFLOWDATA/LIB3_RAW/AgB_hO/T0...   Ag1B1O3   [1, 1, 3]   \n",
       "8     aflowlib.duke.edu:AFLOWDATA/LIB3_RAW/AgBa_svO/...  Ag1Ba1O3   [1, 1, 3]   \n",
       "...                                                 ...       ...         ...   \n",
       "3947  aflowlib.duke.edu:AFLOWDATA/LIB3_RAW/OXeZn/T00...  O3Xe1Zn1   [3, 1, 1]   \n",
       "3949  aflowlib.duke.edu:AFLOWDATA/LIB3_RAW/OXeZr_sv/...  O3Xe1Zr1   [3, 1, 1]   \n",
       "3951  aflowlib.duke.edu:AFLOWDATA/LIB3_RAW/OY_svZn/T...   O3Y1Zn1   [3, 1, 1]   \n",
       "3953  aflowlib.duke.edu:AFLOWDATA/LIB3_RAW/OY_svZr_s...   O3Y1Zr1   [3, 1, 1]   \n",
       "3955  aflowlib.duke.edu:AFLOWDATA/LIB3_RAW/OZnZr_sv/...  O3Zn1Zr1   [3, 1, 1]   \n",
       "\n",
       "          species natoms spacegroup pearson_symbol  \\\n",
       "0     [Ag, Al, O]      5        221            cP5   \n",
       "2     [Ag, As, O]      5        221            cP5   \n",
       "4     [Ag, Au, O]      5        221            cP5   \n",
       "6      [Ag, B, O]      5        221            cP5   \n",
       "8     [Ag, Ba, O]      5        221            cP5   \n",
       "...           ...    ...        ...            ...   \n",
       "3947  [O, Xe, Zn]      5        221            cP5   \n",
       "3949  [O, Xe, Zr]      5        221            cP5   \n",
       "3951   [O, Y, Zn]      5        221            cP5   \n",
       "3953   [O, Y, Zr]      5        221            cP5   \n",
       "3955  [O, Zn, Zr]      5        221            cP5   \n",
       "\n",
       "                                               geometry  \\\n",
       "0     [3.7688035, 3.7688035, 3.7688035, 90.0, 90.0, ...   \n",
       "2     [3.7951634, 3.7951634, 3.7951634, 90.0, 90.0, ...   \n",
       "4     [4.1003175, 4.1003175, 4.1003175, 90.0, 90.0, ...   \n",
       "6      [3.484261, 3.484261, 3.484261, 90.0, 90.0, 90.0]   \n",
       "8     [4.7271734, 4.7271734, 4.7271734, 90.0, 90.0, ...   \n",
       "...                                                 ...   \n",
       "3947   [4.370543, 4.370543, 4.370543, 90.0, 90.0, 90.0]   \n",
       "3949   [4.322477, 4.322477, 4.322477, 90.0, 90.0, 90.0]   \n",
       "3951  [4.3517566, 4.3517566, 4.3517566, 90.0, 90.0, ...   \n",
       "3953   [4.155165, 4.155165, 4.155165, 90.0, 90.0, 90.0]   \n",
       "3955   [3.723766, 3.723766, 3.723766, 90.0, 90.0, 90.0]   \n",
       "\n",
       "                                   positions_fractional  \\\n",
       "0     [[0.0, 0.0, 0.0], [0.5, 0.5, 0.5], [0.0, 0.5, ...   \n",
       "2     [[0.0, 0.0, 0.0], [0.5, 0.5, 0.5], [0.0, 0.5, ...   \n",
       "4     [[0.0, 0.0, 0.0], [0.5, 0.5, 0.5], [0.0, 0.5, ...   \n",
       "6     [[0.0, 0.0, 0.0], [0.5, 0.5, 0.5], [0.0, 0.5, ...   \n",
       "8     [[-0.0, 0.0, -0.0], [0.5, 0.5, 0.5], [-0.0, 0....   \n",
       "...                                                 ...   \n",
       "3947  [[0.0, 0.5, 0.5], [0.5, 0.0, 0.5], [0.5, 0.5, ...   \n",
       "3949  [[0.0, 0.5, 0.5], [0.5, 0.0, 0.5], [0.5, 0.5, ...   \n",
       "3951  [[0.0, 0.5, 0.5], [0.5, 0.0, 0.5], [0.5, 0.5, ...   \n",
       "3953  [[0.0, 0.5, 0.5], [0.5, 0.0, 0.5], [0.5, 0.5, ...   \n",
       "3955  [[0.0, 0.5, 0.5], [0.5, 0.0, 0.5], [0.5, 0.5, ...   \n",
       "\n",
       "                                    positions_cartesian  enthalpy_atom  \\\n",
       "0     [[0.0, 0.0, 0.0], [1.8844, 1.8844, 1.8844], [0...       -5.04863   \n",
       "2     [[0.0, 0.0, 0.0], [1.89758, 1.89758, 1.89758],...       -4.55519   \n",
       "4     [[0.0, 0.0, 0.0], [2.05016, 2.05016, 2.05016],...       -2.80408   \n",
       "6     [[0.0, 0.0, 0.0], [1.74213, 1.74213, 1.74213],...       -4.55549   \n",
       "8     [[-0.0, 0.0, -0.0], [2.36359, 2.36359, 2.36359...       -3.52096   \n",
       "...                                                 ...            ...   \n",
       "3947  [[0.0, 2.18527, 2.18527], [2.18527, 0.0, 2.185...       -1.89960   \n",
       "3949  [[-0.0, 2.16124, 2.16124], [2.16124, -0.0, 2.1...       -5.89112   \n",
       "3951  [[0.0, 2.17588, 2.17588], [2.17588, 0.0, 2.175...       -5.57716   \n",
       "3953  [[0.0, 2.07758, 2.07758], [2.07758, 0.0, 2.077...       -8.70129   \n",
       "3955  [[-0.0, 1.86188, 1.86188], [1.86188, -0.0, 1.8...       -6.45445   \n",
       "\n",
       "     enthalpy_formation_atom  \n",
       "0                  -0.775736  \n",
       "2                  -0.100528  \n",
       "4                    1.37453  \n",
       "6                    0.30734  \n",
       "8                   0.388015  \n",
       "...                      ...  \n",
       "3947                    None  \n",
       "3949                  -1.222  \n",
       "3951                -1.07268  \n",
       "3953                -2.74124  \n",
       "3955                    None  \n",
       "\n",
       "[1904 rows x 13 columns]"
      ]
     },
     "execution_count": 90,
     "metadata": {},
     "output_type": "execute_result"
    }
   ],
   "source": [
    "df[(df.natoms <= 75) & ~low_freq_mask]"
   ]
  },
  {
   "cell_type": "code",
   "execution_count": 91,
   "metadata": {},
   "outputs": [
    {
     "name": "stdout",
     "output_type": "stream",
     "text": [
      "50.84615384615385 +/- 25.609531940914923\n"
     ]
    }
   ],
   "source": [
    "print(np.mean(elem_counts[1:]), \"+/-\", np.sqrt(np.var(elem_counts[1:])))"
   ]
  },
  {
   "cell_type": "code",
   "execution_count": 92,
   "metadata": {},
   "outputs": [],
   "source": [
    "variances = df.groupby(\"compound\").enthalpy_atom.var()"
   ]
  },
  {
   "cell_type": "code",
   "execution_count": 93,
   "metadata": {},
   "outputs": [],
   "source": [
    "variances[variances.isna()] = 0 # only 1 entry"
   ]
  },
  {
   "cell_type": "code",
   "execution_count": 94,
   "metadata": {},
   "outputs": [
    {
     "data": {
      "text/plain": [
       "0.0"
      ]
     },
     "execution_count": 94,
     "metadata": {},
     "output_type": "execute_result"
    }
   ],
   "source": [
    "variances.mean()"
   ]
  },
  {
   "cell_type": "code",
   "execution_count": 95,
   "metadata": {},
   "outputs": [
    {
     "data": {
      "text/plain": [
       "(array([   0.,    0.,    0.,    0.,    0.,    0.,    0.,    0.,    0.,\n",
       "           0.,    0.,    0., 1983.,    0.,    0.,    0.,    0.,    0.,\n",
       "           0.,    0.,    0.,    0.,    0.,    0.,    0.]),\n",
       " array([-0.5 , -0.46, -0.42, -0.38, -0.34, -0.3 , -0.26, -0.22, -0.18,\n",
       "        -0.14, -0.1 , -0.06, -0.02,  0.02,  0.06,  0.1 ,  0.14,  0.18,\n",
       "         0.22,  0.26,  0.3 ,  0.34,  0.38,  0.42,  0.46,  0.5 ]),\n",
       " <BarContainer object of 25 artists>)"
      ]
     },
     "execution_count": 95,
     "metadata": {},
     "output_type": "execute_result"
    },
    {
     "data": {
      "image/png": "[encoded data removed]",
      "text/plain": [
       "<Figure size 432x288 with 1 Axes>"
      ]
     },
     "metadata": {
      "needs_background": "light"
     },
     "output_type": "display_data"
    }
   ],
   "source": [
    "plt.hist(variances, bins=25)"
   ]
  },
  {
   "cell_type": "code",
   "execution_count": 22,
   "metadata": {},
   "outputs": [],
   "source": [
    "from voxel import *"
   ]
  },
  {
   "cell_type": "code",
   "execution_count": null,
   "metadata": {},
   "outputs": [],
   "source": [
    "# https://en.wikipedia.org/wiki/Fractional_coordinates#In_crystallography\n",
    "def calc_basis(geometry):\n",
    "    a = geometry[0]\n",
    "    b = geometry[1]\n",
    "    c = geometry[2]\n",
    "    alpha = geometry[3] / 180 * np.pi\n",
    "    beta = geometry[4] / 180 * np.pi\n",
    "    gamma = geometry[5] / 180 * np.pi\n",
    "    \n",
    "    cosa = np.cos(alpha)\n",
    "    cosb = np.cos(beta)\n",
    "    cosg = np.cos(gamma)\n",
    "    sing = np.sin(gamma)\n",
    "    \n",
    "    omega = a*b*c*np.sqrt(1 - cosa*cosa - cosb*cosb - cosg*cosg + 2*cosa*cosb*cosg)\n",
    "    \n",
    "    A = np.array([\n",
    "        [ a, b * cosg,                      c * cosb],\n",
    "        [0., b * sing, c * (cosa - cosb*cosg) / sing],\n",
    "        [0.,       0.,        omega / (a * b * sing)]\n",
    "    ])\n",
    "    \n",
    "    A = np.round(A, decimals=14)\n",
    "    \n",
    "    return A\n",
    "\n",
    "\n",
    "def calc_cartesian_positions(A, positions_fractional):\n",
    "    positions_cartesian = np.apply_along_axis(\n",
    "        lambda p: A.dot(p), 1, positions_fractional\n",
    "    )\n",
    "    return positions_cartesian"
   ]
  },
  {
   "cell_type": "code",
   "execution_count": null,
   "metadata": {},
   "outputs": [],
   "source": [
    "# C,D,H,W\n",
    "def make_descriptor(mol, sigma, L, N, elements=None):\n",
    "    if elements is None:\n",
    "        elements = mol.species # for testing\n",
    "    elements = np.array(elements)\n",
    "        \n",
    "    descriptor = np.zeros((len(elements), N, N, N))\n",
    "    \n",
    "    A = calc_basis(mol.geometry)\n",
    "    coords = calc_cartesian_positions(A, mol.positions_fractional)\n",
    "    \n",
    "    \n",
    "    mx, my, mz = get_mesh_coords(A, L, N)\n",
    "        \n",
    "    # atom coordinations are order accoring to composition and species\n",
    "    cs = np.cumsum(mol.composition)\n",
    "    cs = np.insert(cs, 0, 0) # insert 0 at beginning\n",
    "    \n",
    "    print(elements)\n",
    "        \n",
    "    for i, element in enumerate(mol.species):\n",
    "        print(element)\n",
    "        element_coords = coords[cs[i]:cs[i+1]]\n",
    "        print(cs[i], cs[i+1])\n",
    "        print(element_coords, element_coords.shape)\n",
    "        B, G, SG = reciprocal_lattice_gaussian(A, element_coords, sigma, mx, my, mz)\n",
    "        element_descriptor = adapt_to_voxel_grid(G, SG, L, N) # (N,N,N)\n",
    "        \n",
    "        j = np.where(elements == element)[0][0]\n",
    "        descriptor[j,:,:,:] = element_descriptor\n",
    "    \n",
    "    return descriptor\n",
    "        "
   ]
  },
  {
   "cell_type": "code",
   "execution_count": null,
   "metadata": {},
   "outputs": [],
   "source": [
    "mol = oxides.loc[0]\n",
    "mol"
   ]
  },
  {
   "cell_type": "code",
   "execution_count": null,
   "metadata": {},
   "outputs": [],
   "source": [
    "elements = np.unique(np.hstack(np.array(oxides.species)))\n",
    "elements"
   ]
  },
  {
   "cell_type": "code",
   "execution_count": null,
   "metadata": {},
   "outputs": [],
   "source": [
    "d = make_descriptor(mol, sigma=0.1, L=12.8, N=32, elements=elements)\n",
    "d.shape"
   ]
  },
  {
   "cell_type": "code",
   "execution_count": null,
   "metadata": {},
   "outputs": [],
   "source": [
    "np.prod(d.shape)"
   ]
  },
  {
   "cell_type": "code",
   "execution_count": null,
   "metadata": {},
   "outputs": [],
   "source": [
    "np.sum(d.nonzero()) / np.prod(d.shape) * 100"
   ]
  },
  {
   "cell_type": "code",
   "execution_count": null,
   "metadata": {},
   "outputs": [],
   "source": [
    "import ase\n",
    "%matplotlib widget\n",
    "import nglview\n",
    "\n",
    "def elements_coords(entry, augment=True):\n",
    "    elements = []\n",
    "    for e, n in zip(entry.species, entry.composition):\n",
    "        elements = elements + [e]*n\n",
    "        \n",
    "        \n",
    "    pfs_list = list(entry.positions_fractional)\n",
    "    \n",
    "    if augment:\n",
    "        for element, coords in zip(elements, pfs_list):\n",
    "            for i, c in enumerate(coords):\n",
    "                if c == 0:\n",
    "                    new_coords = coords.copy()\n",
    "                    new_coords[i] = 1.\n",
    "\n",
    "                    already_in = False\n",
    "                    for other_p in pfs_list:\n",
    "                        if all(other_p == new_coords):\n",
    "                            already_in = True\n",
    "                            break\n",
    "\n",
    "                    if not already_in:\n",
    "                        pfs_list.append(new_coords)\n",
    "                        elements.append(element)\n",
    "    \n",
    "    pfs = np.array(pfs_list)\n",
    "    \n",
    "    A = calc_basis(entry.geometry)\n",
    "    cartesian_coords = calc_cartesian_positions(A, pfs)\n",
    "    \n",
    "    return elements, cartesian_coords\n",
    "\n",
    "def show_molecule(mol, augment=False):\n",
    "    A = calc_basis(mol.geometry)\n",
    "    elements, coords = elements_coords(mol, augment=augment)\n",
    "    ase_mol = ase.Atoms(symbols=elements, positions=coords, pbc=True, cell=A)\n",
    "    view = nglview.show_ase(ase_mol)\n",
    "    view.background=\"black\"\n",
    "    display(view)"
   ]
  },
  {
   "cell_type": "code",
   "execution_count": null,
   "metadata": {},
   "outputs": [],
   "source": [
    "def get_element_list(mol):\n",
    "    elements = []\n",
    "    for e, n in zip(mol.species, mol.composition):\n",
    "        elements = elements + [e]*n\n",
    "    return elements"
   ]
  },
  {
   "cell_type": "code",
   "execution_count": null,
   "metadata": {},
   "outputs": [],
   "source": [
    "def show_molecule(mol, calc_coords=True):\n",
    "    A = calc_basis(mol.geometry)\n",
    "    if calc_coords:\n",
    "        coords = calc_cartesian_positions(A, mol.positions_fractional)\n",
    "    else:\n",
    "        coords = mol.positions_cartesian\n",
    "        \n",
    "    elements = get_element_list(mol)\n",
    "    ase_mol = ase.Atoms(symbols=elements, positions=coords, pbc=False, cell=A)\n",
    "    view = nglview.show_ase(ase_mol)\n",
    "    view.background=\"black\"\n",
    "    display(view)"
   ]
  },
  {
   "cell_type": "code",
   "execution_count": null,
   "metadata": {},
   "outputs": [],
   "source": [
    "show_molecule(mol, calc_coords=False)"
   ]
  },
  {
   "cell_type": "code",
   "execution_count": null,
   "metadata": {},
   "outputs": [],
   "source": [
    "ase_mol = ase.Atoms(\n",
    "    positions=np.array([\n",
    "        [0., 0., 0.],\n",
    "        [1., 0., 0.],\n",
    "        [0., 1., 0.],\n",
    "        [0., 0., 1.],\n",
    "        [0., 1., 1.],\n",
    "        [1., 0., 1.],\n",
    "        [1., 1., 0.],\n",
    "        [1., 1., 1.]\n",
    "    ]),\n",
    "    pbc=True, cell=np.eye(3)*2)\n",
    "\n",
    "view = nglview.show_ase(ase_mol)\n",
    "view.background=\"black\"\n",
    "display(view)"
   ]
  },
  {
   "cell_type": "code",
   "execution_count": null,
   "metadata": {},
   "outputs": [],
   "source": [
    "o_sr_ti = pd.read_pickle(\"OSrTi.pkl\")"
   ]
  },
  {
   "cell_type": "code",
   "execution_count": null,
   "metadata": {},
   "outputs": [],
   "source": [
    "r = o_sr_ti.loc[2]\n",
    "r.compound"
   ]
  },
  {
   "cell_type": "code",
   "execution_count": null,
   "metadata": {
    "scrolled": false
   },
   "outputs": [],
   "source": [
    "show_molecule(r, augment=False)"
   ]
  },
  {
   "cell_type": "code",
   "execution_count": null,
   "metadata": {},
   "outputs": [],
   "source": [
    "ase_mol = ase.Atoms(\n",
    "    positions=r.positions_cartesian,\n",
    "    pbc=False)\n",
    "\n",
    "view = nglview.show_ase(ase_mol)\n",
    "view.background=\"black\"\n",
    "display(view)"
   ]
  },
  {
   "cell_type": "code",
   "execution_count": null,
   "metadata": {},
   "outputs": [],
   "source": [
    "A = calc_basis(r.geometry)\n",
    "\n",
    "fig = pålt.figure()\n",
    "ax = Axes3D(fig)\n",
    "\n",
    "colors = [\"red\", \"green\", \"blue\", \"orange\", \"purple\", \"black\"]\n",
    "\n",
    "\n",
    "elements, coords = elements_coords(r, augment=True)\n",
    "    \n",
    "    \n",
    "\n",
    "color_dict = {}\n",
    "for i, element in enumerate(r.species):\n",
    "    color_dict[element] = colors[i]\n",
    "\n",
    "\n",
    "print(color_dict)\n",
    "\n",
    "cs = []\n",
    "for element in elements:\n",
    "    cs.append(color_dict[element])\n",
    "\n",
    "\n",
    "corners = np.array([\n",
    "        [0., 0., 0.],\n",
    "        [1., 0., 0.],\n",
    "        [0., 1., 0.],\n",
    "        [0., 0., 1.],\n",
    "        [0., 1., 1.],\n",
    "        [1., 0., 1.],\n",
    "        [1., 1., 0.],\n",
    "        [1., 1., 1.]\n",
    "    ])\n",
    "import itertools\n",
    "for corner1, corner2 in itertools.product(corners, repeat=2):\n",
    "    if np.sum(np.abs(corner1 - corner2)) == 1:\n",
    "        cc = list(zip(A.dot(corner1), A.dot(corner2)))\n",
    "        ax.plot(cc[0], cc[1], cc[2], color=\"black\")\n",
    "\n",
    "ax.scatter(coords[:,0], coords[:,1], coords[:,2], alpha=1, c=cs, s=25)\n",
    "for i in range(3):\n",
    "    ax.plot([0, A[0,i]], [0,A[1,i]], [0,A[2,i]])\n",
    "    \n",
    "legend_handels = []\n",
    "for i, n in enumerate(r.composition):\n",
    "    legend_element = plt.Line2D([0], [0], marker='o', color=\"w\",\n",
    "                                markerfacecolor= colors[i], label=r.species[i], markersize=10)\n",
    "    legend_handels.append(legend_element)\n",
    "\n",
    "plt.suptitle(r.compound)\n",
    "ax.legend(handles=legend_handels)\n",
    "plt.show()"
   ]
  },
  {
   "cell_type": "code",
   "execution_count": null,
   "metadata": {},
   "outputs": [],
   "source": [
    "r"
   ]
  },
  {
   "cell_type": "code",
   "execution_count": null,
   "metadata": {},
   "outputs": [],
   "source": []
  }
 ],
 "metadata": {
  "kernelspec": {
   "display_name": "Python 3",
   "language": "python",
   "name": "python3"
  },
  "language_info": {
   "codemirror_mode": {
    "name": "ipython",
    "version": 3
   },
   "file_extension": ".py",
   "mimetype": "text/x-python",
   "name": "python",
   "nbconvert_exporter": "python",
   "pygments_lexer": "ipython3",
   "version": "3.8.5"
  }
 },
 "nbformat": 4,
 "nbformat_minor": 4
}
