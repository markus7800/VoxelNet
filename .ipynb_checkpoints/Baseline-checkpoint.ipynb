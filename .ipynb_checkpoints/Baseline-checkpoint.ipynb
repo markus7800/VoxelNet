{
 "cells": [
  {
   "cell_type": "code",
   "execution_count": 1,
   "metadata": {},
   "outputs": [],
   "source": [
    "import pandas as pd\n",
    "import numpy as np\n",
    "import matplotlib.pyplot as plt\n",
    "#%matplotlib widget\n",
    "\n",
    "from voxel import *\n",
    "from mol_tools import *\n",
    "from ML_utils import *\n",
    "\n",
    "from sklearn.model_selection import train_test_split, KFold"
   ]
  },
  {
   "cell_type": "code",
   "execution_count": 2,
   "metadata": {},
   "outputs": [],
   "source": [
    "def drop_duplicates(df):\n",
    "    df = df.drop_duplicates(subset=\"compound\", keep=\"first\")\n",
    "    print(\"Number of molecules\", df.shape[0])\n",
    "    return df"
   ]
  },
  {
   "cell_type": "code",
   "execution_count": 3,
   "metadata": {},
   "outputs": [],
   "source": [
    "def get_all_elements(df):\n",
    "      return np.unique(np.hstack(np.array(df.species)))"
   ]
  },
  {
   "cell_type": "code",
   "execution_count": 4,
   "metadata": {},
   "outputs": [
    {
     "name": "stdout",
     "output_type": "stream",
     "text": [
      "Number of molecules 10772\n"
     ]
    }
   ],
   "source": [
    "#df = pd.read_pickle(\"data/icsd_221_cp5_3_species.pkl\")\n",
    "#df = pd.read_pickle(\"data/all_221_cp5_3_species_oxides.pkl\")\n",
    "#df = pd.read_pickle(\"data/all_3_species_oxides.pkl\")\n",
    "\n",
    "df1 = pd.read_pickle(f\"data/all_3_species_oxides.pkl\")\n",
    "df2 = pd.read_pickle(f\"data/all_sup4_species_oxides.pkl\")\n",
    "df = df1.append(df2)\n",
    "\n",
    "df = drop_duplicates(df)"
   ]
  },
  {
   "cell_type": "code",
   "execution_count": 5,
   "metadata": {},
   "outputs": [],
   "source": [
    "elem_counts = pd.Series(np.hstack(np.array(df.species))).value_counts()\n",
    "low_freq = elem_counts[elem_counts < 50].index.values\n",
    "low_freq_mask = df.species.apply(lambda s: len(np.setdiff1d(s, low_freq)) < len(s))\n",
    "df = df[~low_freq_mask]"
   ]
  },
  {
   "cell_type": "code",
   "execution_count": 6,
   "metadata": {},
   "outputs": [
    {
     "data": {
      "text/plain": [
       "array(['Ag', 'Al', 'As', 'Au', 'B', 'Ba', 'Be', 'Bi', 'Br', 'C', 'Ca',\n",
       "       'Cd', 'Ce', 'Cl', 'Co', 'Cr', 'Cs', 'Cu', 'Dy', 'Er', 'Eu', 'F',\n",
       "       'Fe', 'Ga', 'Gd', 'Ge', 'H', 'Hf', 'Hg', 'Ho', 'I', 'In', 'Ir',\n",
       "       'K', 'La', 'Li', 'Mg', 'Mn', 'Mo', 'N', 'Na', 'Nb', 'Nd', 'Ni',\n",
       "       'O', 'Os', 'P', 'Pb', 'Pd', 'Pr', 'Pt', 'Rb', 'Re', 'Rh', 'Ru',\n",
       "       'S', 'Sb', 'Sc', 'Se', 'Si', 'Sn', 'Sr', 'Ta', 'Tb', 'Tc', 'Te',\n",
       "       'Ti', 'Tl', 'U', 'V', 'W', 'Xe', 'Y', 'Yb', 'Zn', 'Zr'],\n",
       "      dtype='<U2')"
      ]
     },
     "execution_count": 6,
     "metadata": {},
     "output_type": "execute_result"
    }
   ],
   "source": [
    "elements = get_all_elements(df)\n",
    "elements"
   ]
  },
  {
   "cell_type": "code",
   "execution_count": 7,
   "metadata": {},
   "outputs": [
    {
     "data": {
      "text/plain": [
       "76"
      ]
     },
     "execution_count": 7,
     "metadata": {},
     "output_type": "execute_result"
    }
   ],
   "source": [
    "nchannel = len(elements)\n",
    "nchannel"
   ]
  },
  {
   "cell_type": "code",
   "execution_count": 8,
   "metadata": {},
   "outputs": [],
   "source": [
    "np.random.seed(0)\n",
    "train_df, test_df = train_test_split(df, test_size=0.1)"
   ]
  },
  {
   "cell_type": "code",
   "execution_count": 15,
   "metadata": {},
   "outputs": [],
   "source": [
    "def make_simple_descriptor(mol, elements, one_hot=True):\n",
    "    descriptor = np.zeros((len(elements),))\n",
    "    \n",
    "    for i, (element, n_atoms) in enumerate(zip(mol.species, mol.composition)):\n",
    "        try:\n",
    "            j = np.where(elements == element)[0][0] # get channel for element\n",
    "            if one_hot:\n",
    "                descriptor[j] = 1\n",
    "            else:\n",
    "                descriptor[j] = n_atoms\n",
    "        except:\n",
    "            print(element, mol.compound, mol.composition)\n",
    "            \n",
    "    return descriptor"
   ]
  },
  {
   "cell_type": "code",
   "execution_count": 16,
   "metadata": {},
   "outputs": [
    {
     "data": {
      "text/html": [
       "<div>\n",
       "<style scoped>\n",
       "    .dataframe tbody tr th:only-of-type {\n",
       "        vertical-align: middle;\n",
       "    }\n",
       "\n",
       "    .dataframe tbody tr th {\n",
       "        vertical-align: top;\n",
       "    }\n",
       "\n",
       "    .dataframe thead th {\n",
       "        text-align: right;\n",
       "    }\n",
       "</style>\n",
       "<table border=\"1\" class=\"dataframe\">\n",
       "  <thead>\n",
       "    <tr style=\"text-align: right;\">\n",
       "      <th></th>\n",
       "      <th>auid</th>\n",
       "      <th>aurl</th>\n",
       "      <th>compound</th>\n",
       "      <th>composition</th>\n",
       "      <th>species</th>\n",
       "      <th>natoms</th>\n",
       "      <th>spacegroup</th>\n",
       "      <th>pearson_symbol</th>\n",
       "      <th>geometry</th>\n",
       "      <th>positions_fractional</th>\n",
       "      <th>positions_cartesian</th>\n",
       "      <th>enthalpy_atom</th>\n",
       "      <th>enthalpy_formation_atom</th>\n",
       "    </tr>\n",
       "  </thead>\n",
       "  <tbody>\n",
       "    <tr>\n",
       "      <th>0</th>\n",
       "      <td>aflow:b281fdee92d2d2b2</td>\n",
       "      <td>aflowlib.duke.edu:AFLOWDATA/LIB3_RAW/AgOOs_pv/...</td>\n",
       "      <td>Ag1O3Os1</td>\n",
       "      <td>[1, 3, 1]</td>\n",
       "      <td>[Ag, O, Os]</td>\n",
       "      <td>5</td>\n",
       "      <td>221</td>\n",
       "      <td>cP5</td>\n",
       "      <td>[3.9184369, 3.9184369, 3.9184369, 90.0, 90.0, ...</td>\n",
       "      <td>[[0.0, 0.0, 0.0], [0.0, 0.5, 0.5], [0.5, 0.0, ...</td>\n",
       "      <td>[[0.0, 0.0, 0.0], [0.0, 1.95922, 1.95922], [1....</td>\n",
       "      <td>-5.34058</td>\n",
       "      <td>0.427456</td>\n",
       "    </tr>\n",
       "    <tr>\n",
       "      <th>0</th>\n",
       "      <td>aflow:8dc9ef747342f953</td>\n",
       "      <td>aflowlib.duke.edu:AFLOWDATA/ICSD_WEB/HEX/Ag5Hg...</td>\n",
       "      <td>Ag10Hg2O12Sb2</td>\n",
       "      <td>[10, 2, 12, 2]</td>\n",
       "      <td>[Ag, Hg, O, Sb]</td>\n",
       "      <td>26</td>\n",
       "      <td>163</td>\n",
       "      <td>hP26</td>\n",
       "      <td>[6.053494, 6.054145, 12.56352, 89.99686, 90.00...</td>\n",
       "      <td>[[4.5797788e-06, 3.8849732e-06, 0.12767818], [...</td>\n",
       "      <td>[[-2e-05, 7e-05, 1.60409], [3.02663, -5.24223,...</td>\n",
       "      <td>-3.36361</td>\n",
       "      <td>None</td>\n",
       "    </tr>\n",
       "  </tbody>\n",
       "</table>\n",
       "</div>"
      ],
      "text/plain": [
       "                     auid                                               aurl  \\\n",
       "0  aflow:b281fdee92d2d2b2  aflowlib.duke.edu:AFLOWDATA/LIB3_RAW/AgOOs_pv/...   \n",
       "0  aflow:8dc9ef747342f953  aflowlib.duke.edu:AFLOWDATA/ICSD_WEB/HEX/Ag5Hg...   \n",
       "\n",
       "        compound     composition          species natoms spacegroup  \\\n",
       "0       Ag1O3Os1       [1, 3, 1]      [Ag, O, Os]      5        221   \n",
       "0  Ag10Hg2O12Sb2  [10, 2, 12, 2]  [Ag, Hg, O, Sb]     26        163   \n",
       "\n",
       "  pearson_symbol                                           geometry  \\\n",
       "0            cP5  [3.9184369, 3.9184369, 3.9184369, 90.0, 90.0, ...   \n",
       "0           hP26  [6.053494, 6.054145, 12.56352, 89.99686, 90.00...   \n",
       "\n",
       "                                positions_fractional  \\\n",
       "0  [[0.0, 0.0, 0.0], [0.0, 0.5, 0.5], [0.5, 0.0, ...   \n",
       "0  [[4.5797788e-06, 3.8849732e-06, 0.12767818], [...   \n",
       "\n",
       "                                 positions_cartesian  enthalpy_atom  \\\n",
       "0  [[0.0, 0.0, 0.0], [0.0, 1.95922, 1.95922], [1....       -5.34058   \n",
       "0  [[-2e-05, 7e-05, 1.60409], [3.02663, -5.24223,...       -3.36361   \n",
       "\n",
       "  enthalpy_formation_atom  \n",
       "0                0.427456  \n",
       "0                    None  "
      ]
     },
     "execution_count": 16,
     "metadata": {},
     "output_type": "execute_result"
    }
   ],
   "source": [
    "df.loc[0]"
   ]
  },
  {
   "cell_type": "code",
   "execution_count": 17,
   "metadata": {},
   "outputs": [
    {
     "name": "stdout",
     "output_type": "stream",
     "text": [
      "['Ag', 'O', 'Os'] 0         Ag1O3Os1\n",
      "0    Ag10Hg2O12Sb2\n",
      "Name: compound, dtype: object 0         [1, 3, 1]\n",
      "0    [10, 2, 12, 2]\n",
      "Name: composition, dtype: object\n",
      "['Ag', 'Hg', 'O', 'Sb'] 0         Ag1O3Os1\n",
      "0    Ag10Hg2O12Sb2\n",
      "Name: compound, dtype: object 0         [1, 3, 1]\n",
      "0    [10, 2, 12, 2]\n",
      "Name: composition, dtype: object\n"
     ]
    },
    {
     "data": {
      "text/plain": [
       "array([0., 0., 0., 0., 0., 0., 0., 0., 0., 0., 0., 0., 0., 0., 0., 0., 0.,\n",
       "       0., 0., 0., 0., 0., 0., 0., 0., 0., 0., 0., 0., 0., 0., 0., 0., 0.,\n",
       "       0., 0., 0., 0., 0., 0., 0., 0., 0., 0., 0., 0., 0., 0., 0., 0., 0.,\n",
       "       0., 0., 0., 0., 0., 0., 0., 0., 0., 0., 0., 0., 0., 0., 0., 0., 0.,\n",
       "       0., 0., 0., 0., 0., 0., 0., 0.])"
      ]
     },
     "execution_count": 17,
     "metadata": {},
     "output_type": "execute_result"
    }
   ],
   "source": [
    "make_simple_descriptor(df.loc[0], elements)"
   ]
  },
  {
   "cell_type": "code",
   "execution_count": null,
   "metadata": {},
   "outputs": [],
   "source": [
    "seed_everything()\n",
    "train_df, test_df = train_test_split(df, test_size=0.1)"
   ]
  },
  {
   "cell_type": "code",
   "execution_count": null,
   "metadata": {},
   "outputs": [],
   "source": [
    "print(train_df.shape)\n",
    "print(test_df.shape)"
   ]
  },
  {
   "cell_type": "code",
   "execution_count": null,
   "metadata": {},
   "outputs": [],
   "source": [
    "y = df.enthalpy_atom# * df.natoms\n",
    "y_train = train_df.enthalpy_atom# * train_df.natoms\n",
    "y_test = test_df.enthalpy_atom# * test_df.natoms"
   ]
  },
  {
   "cell_type": "markdown",
   "metadata": {},
   "source": [
    "## Zero R"
   ]
  },
  {
   "cell_type": "code",
   "execution_count": null,
   "metadata": {},
   "outputs": [],
   "source": [
    "y_pred_train = np.mean(y_train)\n",
    "np.mean((y_pred_train - y_train)**2)"
   ]
  },
  {
   "cell_type": "code",
   "execution_count": null,
   "metadata": {},
   "outputs": [],
   "source": [
    "y_test_pred = np.mean(y_train)\n",
    "np.mean((y_test_pred - y_test)**2)"
   ]
  },
  {
   "cell_type": "code",
   "execution_count": null,
   "metadata": {},
   "outputs": [],
   "source": [
    "seed_everything()\n",
    "all_ys = []\n",
    "all_y_hats = []\n",
    "all_ys_train = []\n",
    "all_y_hats_train = []\n",
    "\n",
    "for train_indices, test_indices in KFold(n_splits=5, shuffle=True).split(df):\n",
    "    \n",
    "    cv_train_df = df.iloc[train_indices]\n",
    "    cv_test_df = df.iloc[test_indices]\n",
    "    \n",
    "    \n",
    "    cv_y_train = y.iloc[train_indices] # cv_train_df.enthalpy_atom\n",
    "    cv_y_test = y.iloc[test_indices] # cv_test_df.enthalpy_atom\n",
    "    \n",
    "    cv_y_test_pred = np.mean(cv_y_train)\n",
    "    \n",
    "    ys = cv_y_test\n",
    "    y_hats = np.full_like(cv_y_test, cv_y_test_pred)\n",
    "    \n",
    "    y_hats_train = np.full_like(cv_y_train, cv_y_test_pred)\n",
    "    print(\"Train:\", np.mean((y_hats_train - cv_y_train)**2),\n",
    "          \"Test:\", np.mean((y_hats - cv_y_test)**2))\n",
    "    \n",
    "    \n",
    "    all_ys.append(ys)\n",
    "    all_y_hats.append(y_hats)\n",
    "    \n",
    "    all_ys_train.append(cv_y_train)\n",
    "    all_y_hats_train.append(y_hats_train)\n",
    "    \n",
    "print(\"Avg Train: \", np.mean((np.hstack(all_ys_train) - np.hstack(all_y_hats_train))**2), end=\" \")\n",
    "print(\"Avg Test: \", np.mean((np.hstack(all_ys) - np.hstack(all_y_hats))**2))"
   ]
  },
  {
   "cell_type": "markdown",
   "metadata": {},
   "source": [
    "## Ridge"
   ]
  },
  {
   "cell_type": "code",
   "execution_count": null,
   "metadata": {},
   "outputs": [],
   "source": [
    "one_hot=True"
   ]
  },
  {
   "cell_type": "code",
   "execution_count": null,
   "metadata": {},
   "outputs": [],
   "source": [
    "X_train = np.vstack(train_df.apply(lambda mol: make_simple_descriptor(mol, elements, one_hot=one_hot), axis=1))\n",
    "X_test = np.vstack(test_df.apply(lambda mol: make_simple_descriptor(mol, elements, one_hot=one_hot), axis=1))"
   ]
  },
  {
   "cell_type": "code",
   "execution_count": null,
   "metadata": {},
   "outputs": [],
   "source": [
    "from  sklearn.linear_model import RidgeCV"
   ]
  },
  {
   "cell_type": "code",
   "execution_count": null,
   "metadata": {},
   "outputs": [],
   "source": [
    "rcv = RidgeCV()\n",
    "rcv.fit(X_train, y_train)"
   ]
  },
  {
   "cell_type": "code",
   "execution_count": null,
   "metadata": {},
   "outputs": [],
   "source": [
    "y_pred_train = rcv.predict(X_train)\n",
    "np.mean((y_pred_train - y_train)**2)"
   ]
  },
  {
   "cell_type": "code",
   "execution_count": null,
   "metadata": {},
   "outputs": [],
   "source": [
    "plt.scatter(y_train, y_pred_train, alpha=0.1)\n",
    "plt.plot([y.min(), y.max()], [y.min(), y.max()], c=\"red\")\n",
    "plt.show()"
   ]
  },
  {
   "cell_type": "code",
   "execution_count": null,
   "metadata": {},
   "outputs": [],
   "source": [
    "y_test_pred = rcv.predict(X_test)\n",
    "np.mean((y_test_pred - y_test)**2)"
   ]
  },
  {
   "cell_type": "code",
   "execution_count": null,
   "metadata": {},
   "outputs": [],
   "source": [
    "plt.scatter(y_test, y_test_pred, alpha=0.1)\n",
    "plt.plot([y.min(), y.max()], [y.min(), y.max()], c=\"red\")\n",
    "plt.show()"
   ]
  },
  {
   "cell_type": "code",
   "execution_count": null,
   "metadata": {},
   "outputs": [],
   "source": [
    "seed_everything()\n",
    "all_ys = []\n",
    "all_y_hats = []\n",
    "all_ys_train = []\n",
    "all_y_hats_train = []\n",
    "\n",
    "for train_indices, test_indices in KFold(n_splits=5, shuffle=True).split(df):\n",
    "    \n",
    "    cv_train_df = df.iloc[train_indices]\n",
    "    cv_test_df = df.iloc[test_indices]\n",
    "    \n",
    "    \n",
    "    cv_X_train = np.vstack(cv_train_df.apply(lambda mol: make_simple_descriptor(mol, elements, one_hot=one_hot), axis=1))\n",
    "    cv_X_test = np.vstack(cv_test_df.apply(lambda mol: make_simple_descriptor(mol, elements, one_hot=one_hot), axis=1))\n",
    "    cv_y_train = y.iloc[train_indices] # cv_train_df.enthalpy_atom\n",
    "    cv_y_test = y.iloc[test_indices] # cv_test_df.enthalpy_atom\n",
    "    \n",
    "    rcv = RidgeCV()\n",
    "    rcv.fit(cv_X_train, cv_y_train)\n",
    "    y_hats = rcv.predict(cv_X_test)\n",
    "    \n",
    "    y_hats_train = rcv.predict(cv_X_train)\n",
    "    print(\"Train:\", np.mean((y_hats_train - cv_y_train)**2),\n",
    "          \"Test:\", np.mean((y_hats - cv_y_test)**2))\n",
    "    \n",
    "    all_ys.append(cv_y_test)\n",
    "    all_y_hats.append(y_hats)\n",
    "    \n",
    "    all_ys_train.append(cv_y_train)\n",
    "    all_y_hats_train.append(y_hats_train)\n",
    "\n",
    "    \n",
    "print(\"Avg Train: \", np.mean((np.hstack(all_ys_train) - np.hstack(all_y_hats_train))**2), end=\" \")\n",
    "print(\"Avg Test: \", np.mean((np.hstack(all_ys) - np.hstack(all_y_hats))**2))"
   ]
  },
  {
   "cell_type": "markdown",
   "metadata": {},
   "source": [
    "## MLP"
   ]
  },
  {
   "cell_type": "code",
   "execution_count": null,
   "metadata": {},
   "outputs": [],
   "source": [
    "one_hot = False"
   ]
  },
  {
   "cell_type": "code",
   "execution_count": null,
   "metadata": {},
   "outputs": [],
   "source": [
    "X_train = np.vstack(train_df.apply(lambda mol: make_simple_descriptor(mol, elements, one_hot=one_hot), axis=1))\n",
    "X_test = np.vstack(test_df.apply(lambda mol: make_simple_descriptor(mol, elements, one_hot=one_hot), axis=1))"
   ]
  },
  {
   "cell_type": "code",
   "execution_count": null,
   "metadata": {},
   "outputs": [],
   "source": [
    "from sklearn.neural_network import MLPRegressor"
   ]
  },
  {
   "cell_type": "code",
   "execution_count": null,
   "metadata": {},
   "outputs": [],
   "source": [
    "mlp = MLPRegressor(random_state=0, max_iter=5000)\n",
    "mlp.fit(X_train, y_train)"
   ]
  },
  {
   "cell_type": "code",
   "execution_count": null,
   "metadata": {},
   "outputs": [],
   "source": [
    "y_pred_train = mlp.predict(X_train)\n",
    "np.mean((y_pred_train - y_train)**2)"
   ]
  },
  {
   "cell_type": "code",
   "execution_count": null,
   "metadata": {},
   "outputs": [],
   "source": [
    "plt.scatter(y_train, y_pred_train, alpha=0.1)\n",
    "plt.plot([y.min(), y.max()], [y.min(), y.max()], c=\"red\")\n",
    "plt.show()"
   ]
  },
  {
   "cell_type": "code",
   "execution_count": null,
   "metadata": {},
   "outputs": [],
   "source": [
    "y_test_pred = mlp.predict(X_test)\n",
    "np.mean((y_test_pred - y_test)**2)"
   ]
  },
  {
   "cell_type": "code",
   "execution_count": null,
   "metadata": {},
   "outputs": [],
   "source": [
    "plt.scatter(y_test, y_test_pred, alpha=0.1)\n",
    "plt.plot([y.min(), y.max()], [y.min(), y.max()], c=\"red\")\n",
    "plt.show()"
   ]
  },
  {
   "cell_type": "code",
   "execution_count": null,
   "metadata": {},
   "outputs": [],
   "source": [
    "seed_everything()\n",
    "all_ys = []\n",
    "all_y_hats = []\n",
    "all_ys_train = []\n",
    "all_y_hats_train = []\n",
    "\n",
    "for train_indices, test_indices in KFold(n_splits=5, shuffle=True).split(df):\n",
    "    \n",
    "    cv_train_df = df.iloc[train_indices]\n",
    "    cv_test_df = df.iloc[test_indices]\n",
    "    \n",
    "    \n",
    "    cv_X_train = np.vstack(cv_train_df.apply(lambda mol: make_simple_descriptor(mol, elements, one_hot=one_hot), axis=1))\n",
    "    cv_X_test = np.vstack(cv_test_df.apply(lambda mol: make_simple_descriptor(mol, elements, one_hot=one_hot), axis=1))\n",
    "    cv_y_train = y.iloc[train_indices] # cv_train_df.enthalpy_atom\n",
    "    cv_y_test = y.iloc[test_indices] # cv_test_df.enthalpy_atom\n",
    "    \n",
    "    mlp = MLPRegressor(random_state=0, max_iter=5000)\n",
    "    mlp.fit(cv_X_train, cv_y_train)\n",
    "    y_hats = mlp.predict(cv_X_test)\n",
    "    \n",
    "    y_hats_train = mlp.predict(cv_X_train)\n",
    "    print(\"Train:\", np.mean((y_hats_train - cv_y_train)**2),\n",
    "          \"Test:\", np.mean((y_hats - cv_y_test)**2))\n",
    "    \n",
    "    all_ys.append(cv_y_test)\n",
    "    all_y_hats.append(y_hats)\n",
    "    \n",
    "    all_ys_train.append(cv_y_train)\n",
    "    all_y_hats_train.append(y_hats_train)\n",
    "    \n",
    "\n",
    "print(\"Avg Train: \", np.mean((np.hstack(all_ys_train) - np.hstack(all_y_hats_train))**2), end=\" \")\n",
    "print(\"Avg Test: \", np.mean((np.hstack(all_ys) - np.hstack(all_y_hats))**2))"
   ]
  }
 ],
 "metadata": {
  "kernelspec": {
   "display_name": "Python 3",
   "language": "python",
   "name": "python3"
  },
  "language_info": {
   "codemirror_mode": {
    "name": "ipython",
    "version": 3
   },
   "file_extension": ".py",
   "mimetype": "text/x-python",
   "name": "python",
   "nbconvert_exporter": "python",
   "pygments_lexer": "ipython3",
   "version": "3.8.1"
  }
 },
 "nbformat": 4,
 "nbformat_minor": 4
}
