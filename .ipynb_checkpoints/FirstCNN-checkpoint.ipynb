{
 "cells": [
  {
   "cell_type": "code",
   "execution_count": 1,
   "metadata": {},
   "outputs": [
    {
     "data": {
      "application/vnd.jupyter.widget-view+json": {
       "model_id": "345bffa204a747bd9e195243087561f6",
       "version_major": 2,
       "version_minor": 0
      },
      "text/plain": []
     },
     "metadata": {},
     "output_type": "display_data"
    }
   ],
   "source": [
    "import pandas as pd\n",
    "import numpy as np\n",
    "import matplotlib.pyplot as plt\n",
    "#%matplotlib widget\n",
    "\n",
    "from voxel import *\n",
    "from mol_tools import *\n",
    "\n",
    "import torch\n",
    "import torch.nn as nn\n",
    "import random\n",
    "from tqdm import tqdm\n",
    "\n",
    "from sklearn.model_selection import train_test_split, KFold"
   ]
  },
  {
   "cell_type": "code",
   "execution_count": 2,
   "metadata": {},
   "outputs": [],
   "source": [
    "def drop_duplicates(df):\n",
    "    df = df.drop_duplicates(subset=\"compound\", keep=\"first\")\n",
    "    print(\"Number of molecules\", df.shape[0])\n",
    "    return df"
   ]
  },
  {
   "cell_type": "code",
   "execution_count": 10,
   "metadata": {},
   "outputs": [
    {
     "name": "stdout",
     "output_type": "stream",
     "text": [
      "Number of molecules 1983\n"
     ]
    },
    {
     "data": {
      "text/html": [
       "<div>\n",
       "<style scoped>\n",
       "    .dataframe tbody tr th:only-of-type {\n",
       "        vertical-align: middle;\n",
       "    }\n",
       "\n",
       "    .dataframe tbody tr th {\n",
       "        vertical-align: top;\n",
       "    }\n",
       "\n",
       "    .dataframe thead th {\n",
       "        text-align: right;\n",
       "    }\n",
       "</style>\n",
       "<table border=\"1\" class=\"dataframe\">\n",
       "  <thead>\n",
       "    <tr style=\"text-align: right;\">\n",
       "      <th></th>\n",
       "      <th>auid</th>\n",
       "      <th>aurl</th>\n",
       "      <th>compound</th>\n",
       "      <th>composition</th>\n",
       "      <th>species</th>\n",
       "      <th>natoms</th>\n",
       "      <th>spacegroup</th>\n",
       "      <th>pearson_symbol</th>\n",
       "      <th>geometry</th>\n",
       "      <th>positions_fractional</th>\n",
       "      <th>positions_cartesian</th>\n",
       "      <th>enthalpy_atom</th>\n",
       "      <th>enthalpy_formation_atom</th>\n",
       "    </tr>\n",
       "  </thead>\n",
       "  <tbody>\n",
       "    <tr>\n",
       "      <th>0</th>\n",
       "      <td>aflow:b778fabdb1b01db1</td>\n",
       "      <td>aflowlib.duke.edu:AFLOWDATA/LIB3_RAW/AgAlO/T00...</td>\n",
       "      <td>Ag1Al1O3</td>\n",
       "      <td>[1, 1, 3]</td>\n",
       "      <td>[Ag, Al, O]</td>\n",
       "      <td>5</td>\n",
       "      <td>221</td>\n",
       "      <td>cP5</td>\n",
       "      <td>[3.7688035, 3.7688035, 3.7688035, 90.0, 90.0, ...</td>\n",
       "      <td>[[0.0, 0.0, 0.0], [0.5, 0.5, 0.5], [0.0, 0.5, ...</td>\n",
       "      <td>[[0.0, 0.0, 0.0], [1.8844, 1.8844, 1.8844], [0...</td>\n",
       "      <td>-5.04863</td>\n",
       "      <td>-0.775736</td>\n",
       "    </tr>\n",
       "    <tr>\n",
       "      <th>2</th>\n",
       "      <td>aflow:272cd0e74db84a51</td>\n",
       "      <td>aflowlib.duke.edu:AFLOWDATA/LIB3_RAW/AgAsO/T00...</td>\n",
       "      <td>Ag1As1O3</td>\n",
       "      <td>[1, 1, 3]</td>\n",
       "      <td>[Ag, As, O]</td>\n",
       "      <td>5</td>\n",
       "      <td>221</td>\n",
       "      <td>cP5</td>\n",
       "      <td>[3.7951634, 3.7951634, 3.7951634, 90.0, 90.0, ...</td>\n",
       "      <td>[[0.0, 0.0, 0.0], [0.5, 0.5, 0.5], [0.0, 0.5, ...</td>\n",
       "      <td>[[0.0, 0.0, 0.0], [1.89758, 1.89758, 1.89758],...</td>\n",
       "      <td>-4.55519</td>\n",
       "      <td>-0.100528</td>\n",
       "    </tr>\n",
       "    <tr>\n",
       "      <th>4</th>\n",
       "      <td>aflow:7e6bdbc495310b44</td>\n",
       "      <td>aflowlib.duke.edu:AFLOWDATA/LIB3_RAW/AgAuO/T00...</td>\n",
       "      <td>Ag1Au1O3</td>\n",
       "      <td>[1, 1, 3]</td>\n",
       "      <td>[Ag, Au, O]</td>\n",
       "      <td>5</td>\n",
       "      <td>221</td>\n",
       "      <td>cP5</td>\n",
       "      <td>[4.1003175, 4.1003175, 4.1003175, 90.0, 90.0, ...</td>\n",
       "      <td>[[0.0, 0.0, 0.0], [0.5, 0.5, 0.5], [0.0, 0.5, ...</td>\n",
       "      <td>[[0.0, 0.0, 0.0], [2.05016, 2.05016, 2.05016],...</td>\n",
       "      <td>-2.80408</td>\n",
       "      <td>1.37453</td>\n",
       "    </tr>\n",
       "    <tr>\n",
       "      <th>6</th>\n",
       "      <td>aflow:c0e1c25976bb4c75</td>\n",
       "      <td>aflowlib.duke.edu:AFLOWDATA/LIB3_RAW/AgB_hO/T0...</td>\n",
       "      <td>Ag1B1O3</td>\n",
       "      <td>[1, 1, 3]</td>\n",
       "      <td>[Ag, B, O]</td>\n",
       "      <td>5</td>\n",
       "      <td>221</td>\n",
       "      <td>cP5</td>\n",
       "      <td>[3.484261, 3.484261, 3.484261, 90.0, 90.0, 90.0]</td>\n",
       "      <td>[[0.0, 0.0, 0.0], [0.5, 0.5, 0.5], [0.0, 0.5, ...</td>\n",
       "      <td>[[0.0, 0.0, 0.0], [1.74213, 1.74213, 1.74213],...</td>\n",
       "      <td>-4.55549</td>\n",
       "      <td>0.30734</td>\n",
       "    </tr>\n",
       "    <tr>\n",
       "      <th>8</th>\n",
       "      <td>aflow:3b79b8b28a5d5cc1</td>\n",
       "      <td>aflowlib.duke.edu:AFLOWDATA/LIB3_RAW/AgBa_svO/...</td>\n",
       "      <td>Ag1Ba1O3</td>\n",
       "      <td>[1, 1, 3]</td>\n",
       "      <td>[Ag, Ba, O]</td>\n",
       "      <td>5</td>\n",
       "      <td>221</td>\n",
       "      <td>cP5</td>\n",
       "      <td>[4.7271734, 4.7271734, 4.7271734, 90.0, 90.0, ...</td>\n",
       "      <td>[[-0.0, 0.0, -0.0], [0.5, 0.5, 0.5], [-0.0, 0....</td>\n",
       "      <td>[[-0.0, 0.0, -0.0], [2.36359, 2.36359, 2.36359...</td>\n",
       "      <td>-3.52096</td>\n",
       "      <td>0.388015</td>\n",
       "    </tr>\n",
       "    <tr>\n",
       "      <th>...</th>\n",
       "      <td>...</td>\n",
       "      <td>...</td>\n",
       "      <td>...</td>\n",
       "      <td>...</td>\n",
       "      <td>...</td>\n",
       "      <td>...</td>\n",
       "      <td>...</td>\n",
       "      <td>...</td>\n",
       "      <td>...</td>\n",
       "      <td>...</td>\n",
       "      <td>...</td>\n",
       "      <td>...</td>\n",
       "      <td>...</td>\n",
       "    </tr>\n",
       "    <tr>\n",
       "      <th>3947</th>\n",
       "      <td>aflow:e243d024b0749ac0</td>\n",
       "      <td>aflowlib.duke.edu:AFLOWDATA/LIB3_RAW/OXeZn/T00...</td>\n",
       "      <td>O3Xe1Zn1</td>\n",
       "      <td>[3, 1, 1]</td>\n",
       "      <td>[O, Xe, Zn]</td>\n",
       "      <td>5</td>\n",
       "      <td>221</td>\n",
       "      <td>cP5</td>\n",
       "      <td>[4.370543, 4.370543, 4.370543, 90.0, 90.0, 90.0]</td>\n",
       "      <td>[[0.0, 0.5, 0.5], [0.5, 0.0, 0.5], [0.5, 0.5, ...</td>\n",
       "      <td>[[0.0, 2.18527, 2.18527], [2.18527, 0.0, 2.185...</td>\n",
       "      <td>-1.89960</td>\n",
       "      <td>None</td>\n",
       "    </tr>\n",
       "    <tr>\n",
       "      <th>3949</th>\n",
       "      <td>aflow:ae4a07b2d68c2933</td>\n",
       "      <td>aflowlib.duke.edu:AFLOWDATA/LIB3_RAW/OXeZr_sv/...</td>\n",
       "      <td>O3Xe1Zr1</td>\n",
       "      <td>[3, 1, 1]</td>\n",
       "      <td>[O, Xe, Zr]</td>\n",
       "      <td>5</td>\n",
       "      <td>221</td>\n",
       "      <td>cP5</td>\n",
       "      <td>[4.322477, 4.322477, 4.322477, 90.0, 90.0, 90.0]</td>\n",
       "      <td>[[0.0, 0.5, 0.5], [0.5, 0.0, 0.5], [0.5, 0.5, ...</td>\n",
       "      <td>[[-0.0, 2.16124, 2.16124], [2.16124, -0.0, 2.1...</td>\n",
       "      <td>-5.89112</td>\n",
       "      <td>-1.222</td>\n",
       "    </tr>\n",
       "    <tr>\n",
       "      <th>3951</th>\n",
       "      <td>aflow:0d9d3ce033a32aae</td>\n",
       "      <td>aflowlib.duke.edu:AFLOWDATA/LIB3_RAW/OY_svZn/T...</td>\n",
       "      <td>O3Y1Zn1</td>\n",
       "      <td>[3, 1, 1]</td>\n",
       "      <td>[O, Y, Zn]</td>\n",
       "      <td>5</td>\n",
       "      <td>221</td>\n",
       "      <td>cP5</td>\n",
       "      <td>[4.3517566, 4.3517566, 4.3517566, 90.0, 90.0, ...</td>\n",
       "      <td>[[0.0, 0.5, 0.5], [0.5, 0.0, 0.5], [0.5, 0.5, ...</td>\n",
       "      <td>[[0.0, 2.17588, 2.17588], [2.17588, 0.0, 2.175...</td>\n",
       "      <td>-5.57716</td>\n",
       "      <td>-1.07268</td>\n",
       "    </tr>\n",
       "    <tr>\n",
       "      <th>3953</th>\n",
       "      <td>aflow:627232532ed2fb40</td>\n",
       "      <td>aflowlib.duke.edu:AFLOWDATA/LIB3_RAW/OY_svZr_s...</td>\n",
       "      <td>O3Y1Zr1</td>\n",
       "      <td>[3, 1, 1]</td>\n",
       "      <td>[O, Y, Zr]</td>\n",
       "      <td>5</td>\n",
       "      <td>221</td>\n",
       "      <td>cP5</td>\n",
       "      <td>[4.155165, 4.155165, 4.155165, 90.0, 90.0, 90.0]</td>\n",
       "      <td>[[0.0, 0.5, 0.5], [0.5, 0.0, 0.5], [0.5, 0.5, ...</td>\n",
       "      <td>[[0.0, 2.07758, 2.07758], [2.07758, 0.0, 2.077...</td>\n",
       "      <td>-8.70129</td>\n",
       "      <td>-2.74124</td>\n",
       "    </tr>\n",
       "    <tr>\n",
       "      <th>3955</th>\n",
       "      <td>aflow:2b3ea96a80ac45cd</td>\n",
       "      <td>aflowlib.duke.edu:AFLOWDATA/LIB3_RAW/OZnZr_sv/...</td>\n",
       "      <td>O3Zn1Zr1</td>\n",
       "      <td>[3, 1, 1]</td>\n",
       "      <td>[O, Zn, Zr]</td>\n",
       "      <td>5</td>\n",
       "      <td>221</td>\n",
       "      <td>cP5</td>\n",
       "      <td>[3.723766, 3.723766, 3.723766, 90.0, 90.0, 90.0]</td>\n",
       "      <td>[[0.0, 0.5, 0.5], [0.5, 0.0, 0.5], [0.5, 0.5, ...</td>\n",
       "      <td>[[-0.0, 1.86188, 1.86188], [1.86188, -0.0, 1.8...</td>\n",
       "      <td>-6.45445</td>\n",
       "      <td>None</td>\n",
       "    </tr>\n",
       "  </tbody>\n",
       "</table>\n",
       "<p>1983 rows × 13 columns</p>\n",
       "</div>"
      ],
      "text/plain": [
       "                        auid  \\\n",
       "0     aflow:b778fabdb1b01db1   \n",
       "2     aflow:272cd0e74db84a51   \n",
       "4     aflow:7e6bdbc495310b44   \n",
       "6     aflow:c0e1c25976bb4c75   \n",
       "8     aflow:3b79b8b28a5d5cc1   \n",
       "...                      ...   \n",
       "3947  aflow:e243d024b0749ac0   \n",
       "3949  aflow:ae4a07b2d68c2933   \n",
       "3951  aflow:0d9d3ce033a32aae   \n",
       "3953  aflow:627232532ed2fb40   \n",
       "3955  aflow:2b3ea96a80ac45cd   \n",
       "\n",
       "                                                   aurl  compound composition  \\\n",
       "0     aflowlib.duke.edu:AFLOWDATA/LIB3_RAW/AgAlO/T00...  Ag1Al1O3   [1, 1, 3]   \n",
       "2     aflowlib.duke.edu:AFLOWDATA/LIB3_RAW/AgAsO/T00...  Ag1As1O3   [1, 1, 3]   \n",
       "4     aflowlib.duke.edu:AFLOWDATA/LIB3_RAW/AgAuO/T00...  Ag1Au1O3   [1, 1, 3]   \n",
       "6     aflowlib.duke.edu:AFLOWDATA/LIB3_RAW/AgB_hO/T0...   Ag1B1O3   [1, 1, 3]   \n",
       "8     aflowlib.duke.edu:AFLOWDATA/LIB3_RAW/AgBa_svO/...  Ag1Ba1O3   [1, 1, 3]   \n",
       "...                                                 ...       ...         ...   \n",
       "3947  aflowlib.duke.edu:AFLOWDATA/LIB3_RAW/OXeZn/T00...  O3Xe1Zn1   [3, 1, 1]   \n",
       "3949  aflowlib.duke.edu:AFLOWDATA/LIB3_RAW/OXeZr_sv/...  O3Xe1Zr1   [3, 1, 1]   \n",
       "3951  aflowlib.duke.edu:AFLOWDATA/LIB3_RAW/OY_svZn/T...   O3Y1Zn1   [3, 1, 1]   \n",
       "3953  aflowlib.duke.edu:AFLOWDATA/LIB3_RAW/OY_svZr_s...   O3Y1Zr1   [3, 1, 1]   \n",
       "3955  aflowlib.duke.edu:AFLOWDATA/LIB3_RAW/OZnZr_sv/...  O3Zn1Zr1   [3, 1, 1]   \n",
       "\n",
       "          species natoms spacegroup pearson_symbol  \\\n",
       "0     [Ag, Al, O]      5        221            cP5   \n",
       "2     [Ag, As, O]      5        221            cP5   \n",
       "4     [Ag, Au, O]      5        221            cP5   \n",
       "6      [Ag, B, O]      5        221            cP5   \n",
       "8     [Ag, Ba, O]      5        221            cP5   \n",
       "...           ...    ...        ...            ...   \n",
       "3947  [O, Xe, Zn]      5        221            cP5   \n",
       "3949  [O, Xe, Zr]      5        221            cP5   \n",
       "3951   [O, Y, Zn]      5        221            cP5   \n",
       "3953   [O, Y, Zr]      5        221            cP5   \n",
       "3955  [O, Zn, Zr]      5        221            cP5   \n",
       "\n",
       "                                               geometry  \\\n",
       "0     [3.7688035, 3.7688035, 3.7688035, 90.0, 90.0, ...   \n",
       "2     [3.7951634, 3.7951634, 3.7951634, 90.0, 90.0, ...   \n",
       "4     [4.1003175, 4.1003175, 4.1003175, 90.0, 90.0, ...   \n",
       "6      [3.484261, 3.484261, 3.484261, 90.0, 90.0, 90.0]   \n",
       "8     [4.7271734, 4.7271734, 4.7271734, 90.0, 90.0, ...   \n",
       "...                                                 ...   \n",
       "3947   [4.370543, 4.370543, 4.370543, 90.0, 90.0, 90.0]   \n",
       "3949   [4.322477, 4.322477, 4.322477, 90.0, 90.0, 90.0]   \n",
       "3951  [4.3517566, 4.3517566, 4.3517566, 90.0, 90.0, ...   \n",
       "3953   [4.155165, 4.155165, 4.155165, 90.0, 90.0, 90.0]   \n",
       "3955   [3.723766, 3.723766, 3.723766, 90.0, 90.0, 90.0]   \n",
       "\n",
       "                                   positions_fractional  \\\n",
       "0     [[0.0, 0.0, 0.0], [0.5, 0.5, 0.5], [0.0, 0.5, ...   \n",
       "2     [[0.0, 0.0, 0.0], [0.5, 0.5, 0.5], [0.0, 0.5, ...   \n",
       "4     [[0.0, 0.0, 0.0], [0.5, 0.5, 0.5], [0.0, 0.5, ...   \n",
       "6     [[0.0, 0.0, 0.0], [0.5, 0.5, 0.5], [0.0, 0.5, ...   \n",
       "8     [[-0.0, 0.0, -0.0], [0.5, 0.5, 0.5], [-0.0, 0....   \n",
       "...                                                 ...   \n",
       "3947  [[0.0, 0.5, 0.5], [0.5, 0.0, 0.5], [0.5, 0.5, ...   \n",
       "3949  [[0.0, 0.5, 0.5], [0.5, 0.0, 0.5], [0.5, 0.5, ...   \n",
       "3951  [[0.0, 0.5, 0.5], [0.5, 0.0, 0.5], [0.5, 0.5, ...   \n",
       "3953  [[0.0, 0.5, 0.5], [0.5, 0.0, 0.5], [0.5, 0.5, ...   \n",
       "3955  [[0.0, 0.5, 0.5], [0.5, 0.0, 0.5], [0.5, 0.5, ...   \n",
       "\n",
       "                                    positions_cartesian  enthalpy_atom  \\\n",
       "0     [[0.0, 0.0, 0.0], [1.8844, 1.8844, 1.8844], [0...       -5.04863   \n",
       "2     [[0.0, 0.0, 0.0], [1.89758, 1.89758, 1.89758],...       -4.55519   \n",
       "4     [[0.0, 0.0, 0.0], [2.05016, 2.05016, 2.05016],...       -2.80408   \n",
       "6     [[0.0, 0.0, 0.0], [1.74213, 1.74213, 1.74213],...       -4.55549   \n",
       "8     [[-0.0, 0.0, -0.0], [2.36359, 2.36359, 2.36359...       -3.52096   \n",
       "...                                                 ...            ...   \n",
       "3947  [[0.0, 2.18527, 2.18527], [2.18527, 0.0, 2.185...       -1.89960   \n",
       "3949  [[-0.0, 2.16124, 2.16124], [2.16124, -0.0, 2.1...       -5.89112   \n",
       "3951  [[0.0, 2.17588, 2.17588], [2.17588, 0.0, 2.175...       -5.57716   \n",
       "3953  [[0.0, 2.07758, 2.07758], [2.07758, 0.0, 2.077...       -8.70129   \n",
       "3955  [[-0.0, 1.86188, 1.86188], [1.86188, -0.0, 1.8...       -6.45445   \n",
       "\n",
       "     enthalpy_formation_atom  \n",
       "0                  -0.775736  \n",
       "2                  -0.100528  \n",
       "4                    1.37453  \n",
       "6                    0.30734  \n",
       "8                   0.388015  \n",
       "...                      ...  \n",
       "3947                    None  \n",
       "3949                  -1.222  \n",
       "3951                -1.07268  \n",
       "3953                -2.74124  \n",
       "3955                    None  \n",
       "\n",
       "[1983 rows x 13 columns]"
      ]
     },
     "execution_count": 10,
     "metadata": {},
     "output_type": "execute_result"
    }
   ],
   "source": [
    "df = pd.read_pickle(\"icsd_221_cp5_3_species.pkl\")\n",
    "df = drop_duplicates(df)\n",
    "df"
   ]
  },
  {
   "cell_type": "code",
   "execution_count": 4,
   "metadata": {},
   "outputs": [],
   "source": [
    "def get_all_elements(df):\n",
    "      return np.unique(np.hstack(np.array(df.species)))"
   ]
  },
  {
   "cell_type": "code",
   "execution_count": 5,
   "metadata": {},
   "outputs": [],
   "source": [
    "def single_channel_reciprocal_data(mol, sigma, L, N):\n",
    "    width = 2 * np.pi / L * N\n",
    "    adj_width = width*np.sqrt(3)\n",
    "    A = calc_basis(mol.geometry)\n",
    "    coords = calc_cartesian_positions(A, mol.positions_fractional)\n",
    "    mx, my, mz = get_mesh_coords(A, adj_width)\n",
    "    B, G, SG = reciprocal_lattice_gaussian(A, coords, sigma, mx, my, mz)\n",
    "    return mol.compound, (G, SG), mol.enthalpy_atom\n",
    "    \n",
    "def prepare_single_channel_data(df, sigma, L, N):\n",
    "    \n",
    "    names = []\n",
    "    reciprocal_data = []\n",
    "    ys = []\n",
    "    for index, mol in df.iterrows():\n",
    "        name, rd, y = single_channel_reciprocal_data(mol, sigma, L, N)\n",
    "\n",
    "        names.append(name)\n",
    "        reciprocal_data.append(rd)\n",
    "        ys.append(y)\n",
    "                    \n",
    "    return names, reciprocal_data, ys\n",
    "        "
   ]
  },
  {
   "cell_type": "code",
   "execution_count": 6,
   "metadata": {},
   "outputs": [],
   "source": [
    "def multi_channel_reciprocal_data(mol, sigma, L, N, elements, reduce_data=False):\n",
    "    width = 2 * np.pi / L * N\n",
    "    adj_width = width*np.sqrt(3)\n",
    "    \n",
    "    A = calc_basis(mol.geometry)\n",
    "    coords = calc_cartesian_positions(A, mol.positions_fractional)\n",
    "    mx, my, mz = get_mesh_coords(A, adj_width)\n",
    "\n",
    "    # atom coordinations are order according to composition and species    \n",
    "    cs = np.cumsum(mol.composition)\n",
    "    cs = np.insert(cs, 0, 0) # insert 0 at beginning\n",
    "\n",
    "    rd = [] # collect G and SG for all elements\n",
    "    for i, element in enumerate(mol.species):\n",
    "        element_coords = coords[cs[i]:cs[i+1]] # extract coordinates corresponding to atoms of one element\n",
    "        B, G, SG = reciprocal_lattice_gaussian(A, element_coords, sigma, mx, my, mz)\n",
    "        \n",
    "        if reduce_data:\n",
    "            # only keep data that lies in relevant circle\n",
    "            in_grid = np.linalg.norm(G,axis=0) <= adj_width/2 + 2*width/N # add 2 times voxel width to be sure (rounding)\n",
    "            G = G[:,in_grid]\n",
    "            SG = np.abs(SG[in_grid]) # also convert complex to real here to half the size\n",
    "            \n",
    "        j = np.where(elements == element)[0][0] # get channel for element\n",
    "        rd.append((j, element, (G, SG)))\n",
    "        \n",
    "    return mol.compound, rd, mol.enthalpy_atom\n",
    "\n",
    "def prepare_multi_channel_data(df, sigma, L, N, elements, reduce_data=False):\n",
    "    names = []\n",
    "    reciprocal_data = []\n",
    "    ys = []\n",
    "    counter = 0\n",
    "    total = df.shape[0]\n",
    "    \n",
    "    for index, mol in df.iterrows():\n",
    "        name, rd, y = multi_channel_reciprocal_data(mol, sigma, L, N, elements, reduce_data)\n",
    "        \n",
    "        names.append(name)\n",
    "        reciprocal_data.append(rd)\n",
    "        ys.append(y)\n",
    "        \n",
    "        counter += 1\n",
    "        print(f\"Calculated {counter}/{total} molecules.      \", end=\"\\r\")\n",
    "        \n",
    "    return names, reciprocal_data, ys"
   ]
  },
  {
   "cell_type": "code",
   "execution_count": 7,
   "metadata": {},
   "outputs": [],
   "source": [
    "class MolLoader(object):\n",
    "    def __init__(self, df, sigma, L, N, batch_size, nchannel=1, elements=None,\n",
    "                 shuffle=False, rotate_randomly=False, device=torch.device('cpu'), reduce_data=False):\n",
    "        \n",
    "        if elements is None:\n",
    "            names, reciprocal_data, ys = prepare_single_channel_data(df, sigma=sigma, L=L, N=N)\n",
    "        else:\n",
    "            names, reciprocal_data, ys = prepare_multi_channel_data(df, sigma=sigma, L=L, N=N,\n",
    "                                                                    elements=elements, reduce_data=reduce_data)\n",
    "            nchannel = len(elements)\n",
    "\n",
    "        \n",
    "        self.names = names\n",
    "        self.reciprocal_data = reciprocal_data\n",
    "        self.ys = ys\n",
    "        self.batch_size = batch_size\n",
    "        self.rotate_randomly = rotate_randomly\n",
    "        self.device = device\n",
    "        \n",
    "        self.L = L\n",
    "        self.N = N\n",
    "        self.nchannel = nchannel\n",
    "        \n",
    "        self.shuffle = shuffle\n",
    "        self.current = 0\n",
    "        self.indices = np.arange(len(ys))\n",
    "        self.N_data = len(self.indices)\n",
    "        \n",
    "        print(f\"Initialised MolLoader with {self.N_data} molecules. sigma = {sigma}, L={self.L}, N={self.N}, nchannel={self.nchannel}, shuffle={self.shuffle}, rotate={self.rotate_randomly}, device={self.device}\")\n",
    "        \n",
    "    def __iter__(self):\n",
    "        return self\n",
    "    \n",
    "    def __next__(self):\n",
    "         return self.next()\n",
    "\n",
    "    def __len__(self):\n",
    "        return int(np.ceil(self.N_data / self.batch_size))\n",
    "\n",
    "    def next(self):\n",
    "        N_data = self.N_data\n",
    "        N = self.N # number of voxels\n",
    "        L = self.L\n",
    "        nchan = self.nchannel\n",
    "        \n",
    "        if self.current == 0 and self.shuffle:\n",
    "            np.random.shuffle(self.indices)\n",
    "        \n",
    "        if self.current < N_data:\n",
    "            n1 = self.current\n",
    "            n2 = min(self.current + self.batch_size, N_data)\n",
    "            \n",
    "            x_names = []\n",
    "            x = np.zeros((n2-n1, nchan, N, N, N), dtype=\"float32\")\n",
    "            y = np.zeros((n2-n1,1), dtype=\"float32\")\n",
    "            \n",
    "            for i, j in enumerate(range(n1, n2)):\n",
    "                data_index = self.indices[j] # supports shuffling\n",
    "                \n",
    "                y[i] = self.ys[data_index]\n",
    "                x_names.append(self.names[data_index])\n",
    "                \n",
    "                R = np.eye(3)\n",
    "                if self.rotate_randomly:\n",
    "                    R = get_random_3D_rotation_matrix()\n",
    "                \n",
    "                if nchan == 1:\n",
    "                    G, SG = self.reciprocal_data[data_index]\n",
    "                    descriptor = make_voxel_grid(G, SG, L, N, rot=R)\n",
    "                    x[i, 0, :, :, :] = descriptor\n",
    "                else:\n",
    "                    for j, element, (G, SG) in self.reciprocal_data[data_index]:\n",
    "                        descriptor = make_voxel_grid(G, SG, L, N, rot=R)\n",
    "                        x[i, j, :, :, :] = descriptor\n",
    "                                           \n",
    "            \n",
    "            self.current = n2\n",
    "            \n",
    "            x = torch.from_numpy(x).to(self.device, non_blocking=True)\n",
    "            y = torch.from_numpy(y).to(self.device, non_blocking=True)\n",
    "            \n",
    "            return (x_names, x, y)\n",
    "        \n",
    "        self.current = 0\n",
    "        # print(\"Stop Iteration\")\n",
    "        raise StopIteration()\n",
    "    "
   ]
  },
  {
   "cell_type": "code",
   "execution_count": 8,
   "metadata": {},
   "outputs": [],
   "source": [
    "class LazyMolLoader(object):\n",
    "    def __init__(self, df, sigma, L, N, batch_size, elements = None, nchannel=1,\n",
    "                 shuffle=False, rotate_randomly=False, device=torch.device('cpu')):\n",
    "        \n",
    "        self.df = df\n",
    "        self.elements = elements\n",
    "        self.batch_size = batch_size\n",
    "        self.rotate_randomly = rotate_randomly\n",
    "        self.device = device\n",
    "        \n",
    "        self.L = L\n",
    "        self.N = N\n",
    "        self.sigma = sigma\n",
    "        \n",
    "        if elements is None:\n",
    "            self.nchannel = nchannel\n",
    "        else:\n",
    "            self.nchannel = len(elements)\n",
    "        \n",
    "        self.shuffle = shuffle\n",
    "        self.current = 0\n",
    "        self.indices = np.arange(df.shape[0])\n",
    "        self.N_data = len(self.indices)\n",
    "        \n",
    "        print(f\"Initialised LazyMolLoader with {self.N_data} molecules. sigma={self.sigma}, L={self.L}, N={self.N}, nchannel={self.nchannel}, shuffle={self.shuffle}, rotate={self.rotate_randomly}, device={self.device}\")\n",
    "        \n",
    "    def __iter__(self):\n",
    "        return self\n",
    "    \n",
    "    def __next__(self):\n",
    "         return self.next()\n",
    "\n",
    "    def __len__(self):\n",
    "        return int(np.ceil(self.N_data / self.batch_size))\n",
    "\n",
    "    def next(self):\n",
    "        N_data = self.N_data\n",
    "        N = self.N # number of voxels\n",
    "        L = self.L\n",
    "        sigma = self.sigma\n",
    "        nchan = self.nchannel\n",
    "        \n",
    "        if self.current == 0 and self.shuffle:\n",
    "            np.random.shuffle(self.indices)\n",
    "        \n",
    "        if self.current < N_data:\n",
    "            n1 = self.current\n",
    "            n2 = min(self.current + self.batch_size, N_data)\n",
    "            \n",
    "            x_names = []\n",
    "            x = np.zeros((n2-n1, nchan, N, N, N), dtype=\"float32\")\n",
    "            y = np.zeros((n2-n1,1), dtype=\"float32\")\n",
    "            \n",
    "            for i, j in enumerate(range(n1, n2)):\n",
    "                data_index = self.indices[j] # supports shuffling\n",
    "                \n",
    "                mol = self.df.iloc[data_index]\n",
    "                \n",
    "                R = np.eye(3)\n",
    "                if self.rotate_randomly:\n",
    "                    R = get_random_3D_rotation_matrix()\n",
    "                \n",
    "                if nchan == 1:\n",
    "                    name, rd, y_i = single_channel_reciprocal_data(mol, sigma, L, N)\n",
    "                    G, SG = rd\n",
    "                    descriptor = make_voxel_grid(G, SG, L, N, rot=R)\n",
    "                    x[i, 0, :, :, :] = descriptor\n",
    "                    y[i] = y_i\n",
    "                    x_names.append(name)\n",
    "                \n",
    "                else:\n",
    "                    name, rd, y_i = multi_channel_reciprocal_data(mol, sigma, L, N, self.elements)\n",
    "                    for j, element, (G, SG) in rd:\n",
    "                        descriptor = make_voxel_grid(G, SG, L, N, rot=R)\n",
    "                        x[i, j, :, :, :] = descriptor\n",
    "                    y[i] = y_i\n",
    "                    x_names.append(name)\n",
    "                \n",
    "                         \n",
    "            self.current = n2\n",
    "            \n",
    "            x = torch.from_numpy(x).to(self.device, non_blocking=True)\n",
    "            y = torch.from_numpy(y).to(self.device, non_blocking=True)\n",
    "            \n",
    "            return (x_names, x, y)\n",
    "        \n",
    "        self.current = 0\n",
    "        # print(\"Stop Iteration\")\n",
    "        raise StopIteration()"
   ]
  },
  {
   "cell_type": "code",
   "execution_count": 9,
   "metadata": {
    "scrolled": true
   },
   "outputs": [
    {
     "data": {
      "text/plain": [
       "(array([[-14.21112519, -14.21112519, -14.21112519, ...,  14.21112519,\n",
       "          14.21112519,  14.21112519],\n",
       "        [-14.21112519, -14.21112519, -14.21112519, ...,  14.21112519,\n",
       "          14.21112519,  14.21112519],\n",
       "        [-14.21112519, -12.63211128, -11.05309737, ...,  11.05309737,\n",
       "          12.63211128,  14.21112519]]),\n",
       " array([0.00230204-1.61681006e-17j, 0.00094849-7.90097448e-18j,\n",
       "        0.00343056-1.56888003e-17j, ..., 0.00343056+1.56888003e-17j,\n",
       "        0.00094849+7.90097448e-18j, 0.00230204+1.61681006e-17j]))"
      ]
     },
     "execution_count": 9,
     "metadata": {},
     "output_type": "execute_result"
    }
   ],
   "source": [
    "names, reciprocal_data, ys = prepare_single_channel_data(df, sigma=0.1, L=12.8, N=32)\n",
    "reciprocal_data[0]"
   ]
  },
  {
   "cell_type": "code",
   "execution_count": 10,
   "metadata": {},
   "outputs": [
    {
     "name": "stdout",
     "output_type": "stream",
     "text": [
      "Initialised LazyMolLoader with 377 molecules. sigma=0.1, L=12.8, N=32, nchannel=1, shuffle=False, rotate=True, device=cpu\n",
      "0 ['Ag1F3Zn1', 'Ag1Mn3N1', 'Ag1Nb1O3', 'Ag3I1S1', 'Al1Bi1O3', 'Al1C1Ce3', 'Al1C1Co3', 'Al1C1Dy3', 'Al1C1Er3', 'Al1C1Fe3', 'Al1C1Gd3', 'Al1C1Ho3', 'Al1C1La3', 'Al1C1Mn3', 'Al1C1Nd3', 'Al1C1Pr3', 'Al1C1Pt3', 'Al1C1Sc3', 'Al1C1Tb3', 'Al1C1Ti3', 'Al1C1Tm3', 'Al1C1Y3', 'Al1Ce1O3', 'Al1Ce3N1', 'Al1Dy3N1', 'Al1Er3N1', 'Al1Gd3N1', 'Al1Ho3N1', 'Al1La1O3', 'Al1La3N1', 'Al1Lu3N1', 'Al1N1Nd3'] torch.Size([32, 1, 32, 32, 32]) torch.Size([32, 1])\n",
      "Wall time: 242 ms\n"
     ]
    }
   ],
   "source": [
    "%%time\n",
    "ml = LazyMolLoader(df, sigma=0.1, L=12.8, N=32, batch_size=32, nchannel=1,\n",
    "               shuffle=False, rotate_randomly=True)\n",
    "\n",
    "for i, (names, x, y) in enumerate(ml):\n",
    "    print(i, names, x.shape, y.shape)\n",
    "    break"
   ]
  },
  {
   "cell_type": "code",
   "execution_count": 21,
   "metadata": {},
   "outputs": [
    {
     "name": "stdout",
     "output_type": "stream",
     "text": [
      "Number of molecules 5456\n"
     ]
    },
    {
     "data": {
      "text/html": [
       "<div>\n",
       "<style scoped>\n",
       "    .dataframe tbody tr th:only-of-type {\n",
       "        vertical-align: middle;\n",
       "    }\n",
       "\n",
       "    .dataframe tbody tr th {\n",
       "        vertical-align: top;\n",
       "    }\n",
       "\n",
       "    .dataframe thead th {\n",
       "        text-align: right;\n",
       "    }\n",
       "</style>\n",
       "<table border=\"1\" class=\"dataframe\">\n",
       "  <thead>\n",
       "    <tr style=\"text-align: right;\">\n",
       "      <th></th>\n",
       "      <th>auid</th>\n",
       "      <th>aurl</th>\n",
       "      <th>compound</th>\n",
       "      <th>composition</th>\n",
       "      <th>species</th>\n",
       "      <th>natoms</th>\n",
       "      <th>spacegroup</th>\n",
       "      <th>pearson_symbol</th>\n",
       "      <th>geometry</th>\n",
       "      <th>positions_fractional</th>\n",
       "      <th>positions_cartesian</th>\n",
       "      <th>enthalpy_atom</th>\n",
       "      <th>enthalpy_formation_atom</th>\n",
       "    </tr>\n",
       "  </thead>\n",
       "  <tbody>\n",
       "    <tr>\n",
       "      <th>0</th>\n",
       "      <td>aflow:b281fdee92d2d2b2</td>\n",
       "      <td>aflowlib.duke.edu:AFLOWDATA/LIB3_RAW/AgOOs_pv/...</td>\n",
       "      <td>Ag1O3Os1</td>\n",
       "      <td>[1, 3, 1]</td>\n",
       "      <td>[Ag, O, Os]</td>\n",
       "      <td>5</td>\n",
       "      <td>221</td>\n",
       "      <td>cP5</td>\n",
       "      <td>[3.9184369, 3.9184369, 3.9184369, 90.0, 90.0, ...</td>\n",
       "      <td>[[0.0, 0.0, 0.0], [0.0, 0.5, 0.5], [0.5, 0.0, ...</td>\n",
       "      <td>[[0.0, 0.0, 0.0], [0.0, 1.95922, 1.95922], [1....</td>\n",
       "      <td>-5.34058</td>\n",
       "      <td>0.427456</td>\n",
       "    </tr>\n",
       "    <tr>\n",
       "      <th>2</th>\n",
       "      <td>aflow:0783c5b47a9319f1</td>\n",
       "      <td>aflowlib.duke.edu:AFLOWDATA/LIB3_RAW/AgOP/T000...</td>\n",
       "      <td>Ag1O3P1</td>\n",
       "      <td>[1, 3, 1]</td>\n",
       "      <td>[Ag, O, P]</td>\n",
       "      <td>5</td>\n",
       "      <td>221</td>\n",
       "      <td>cP5</td>\n",
       "      <td>[3.57933, 3.57933, 3.57933, 90.0, 90.0, 90.0]</td>\n",
       "      <td>[[0.0, 0.0, 0.0], [0.0, 0.5, 0.5], [0.5, 0.0, ...</td>\n",
       "      <td>[[0.0, 0.0, 0.0], [-0.0, 1.78966, 1.78966], [1...</td>\n",
       "      <td>-4.90593</td>\n",
       "      <td>-0.316921</td>\n",
       "    </tr>\n",
       "    <tr>\n",
       "      <th>4</th>\n",
       "      <td>aflow:701ef4b4f46ea7cd</td>\n",
       "      <td>aflowlib.duke.edu:AFLOWDATA/LIB3_RAW/AgOPb_d/T...</td>\n",
       "      <td>Ag1O3Pb1</td>\n",
       "      <td>[1, 3, 1]</td>\n",
       "      <td>[Ag, O, Pb]</td>\n",
       "      <td>5</td>\n",
       "      <td>221</td>\n",
       "      <td>cP5</td>\n",
       "      <td>[4.2942064, 4.2942064, 4.2942064, 90.0, 90.0, ...</td>\n",
       "      <td>[[0.0, 0.0, 0.0], [0.0, 0.5, 0.5], [0.5, 0.0, ...</td>\n",
       "      <td>[[0.0, 0.0, 0.0], [0.0, 2.1471, 2.1471], [2.14...</td>\n",
       "      <td>-3.97006</td>\n",
       "      <td>0.295059</td>\n",
       "    </tr>\n",
       "    <tr>\n",
       "      <th>6</th>\n",
       "      <td>aflow:a7a77ee138e41496</td>\n",
       "      <td>aflowlib.duke.edu:AFLOWDATA/LIB3_RAW/AgOPd_pv/...</td>\n",
       "      <td>Ag1O3Pd1</td>\n",
       "      <td>[1, 3, 1]</td>\n",
       "      <td>[Ag, O, Pd]</td>\n",
       "      <td>5</td>\n",
       "      <td>221</td>\n",
       "      <td>cP5</td>\n",
       "      <td>[3.9991958, 3.9991958, 3.9991958, 90.0, 90.0, ...</td>\n",
       "      <td>[[0.0, 0.0, 0.0], [0.0, 0.5, 0.5], [0.5, 0.0, ...</td>\n",
       "      <td>[[0.0, 0.0, 0.0], [0.0, 1.9996, 1.9996], [1.99...</td>\n",
       "      <td>-3.40735</td>\n",
       "      <td>1.19322</td>\n",
       "    </tr>\n",
       "    <tr>\n",
       "      <th>8</th>\n",
       "      <td>aflow:5fee8d04571dae6f</td>\n",
       "      <td>aflowlib.duke.edu:AFLOWDATA/LIB3_RAW/AgOPt/T00...</td>\n",
       "      <td>Ag1O3Pt1</td>\n",
       "      <td>[1, 3, 1]</td>\n",
       "      <td>[Ag, O, Pt]</td>\n",
       "      <td>5</td>\n",
       "      <td>221</td>\n",
       "      <td>cP5</td>\n",
       "      <td>[3.9809833, 3.9809833, 3.9809833, 90.0, 90.0, ...</td>\n",
       "      <td>[[0.0, 0.0, 0.0], [0.0, 0.5, 0.5], [0.5, 0.0, ...</td>\n",
       "      <td>[[0.0, 0.0, 0.0], [0.0, 1.99049, 1.99049], [1....</td>\n",
       "      <td>-3.71702</td>\n",
       "      <td>1.01812</td>\n",
       "    </tr>\n",
       "    <tr>\n",
       "      <th>...</th>\n",
       "      <td>...</td>\n",
       "      <td>...</td>\n",
       "      <td>...</td>\n",
       "      <td>...</td>\n",
       "      <td>...</td>\n",
       "      <td>...</td>\n",
       "      <td>...</td>\n",
       "      <td>...</td>\n",
       "      <td>...</td>\n",
       "      <td>...</td>\n",
       "      <td>...</td>\n",
       "      <td>...</td>\n",
       "      <td>...</td>\n",
       "    </tr>\n",
       "    <tr>\n",
       "      <th>11883</th>\n",
       "      <td>aflow:aaf7c3d68a5e61eb</td>\n",
       "      <td>aflowlib.duke.edu:AFLOWDATA/ICSD_WEB/BCT/O4Tm1...</td>\n",
       "      <td>O8Tm2V2</td>\n",
       "      <td>[8, 2, 2]</td>\n",
       "      <td>[O, Tm, V]</td>\n",
       "      <td>12</td>\n",
       "      <td>141</td>\n",
       "      <td>tI24</td>\n",
       "      <td>[5.926409, 5.926409, 5.926409, 106.3931, 106.3...</td>\n",
       "      <td>[[0.67778748, 0.49098905, 0.81320157], [0.6777...</td>\n",
       "      <td>[[2.22395, 3.55034, 1.11949], [1.3264, 0.0, 4....</td>\n",
       "      <td>-8.21900</td>\n",
       "      <td>None</td>\n",
       "    </tr>\n",
       "    <tr>\n",
       "      <th>11884</th>\n",
       "      <td>aflow:dd0ff61000b8e748</td>\n",
       "      <td>aflowlib.duke.edu:AFLOWDATA/ICSD_WEB/BCT/O4V1Y...</td>\n",
       "      <td>O8V2Y2</td>\n",
       "      <td>[8, 2, 2]</td>\n",
       "      <td>[O, V, Y]</td>\n",
       "      <td>12</td>\n",
       "      <td>141</td>\n",
       "      <td>tI24</td>\n",
       "      <td>[6.019827, 6.019827, 6.019827, 106.199, 106.19...</td>\n",
       "      <td>[[0.86631316, 0.80059798, 0.065715186], [0.234...</td>\n",
       "      <td>[[0.0, 0.47505, 5.09108], [3.61447, -0.47505, ...</td>\n",
       "      <td>-8.44561</td>\n",
       "      <td>None</td>\n",
       "    </tr>\n",
       "    <tr>\n",
       "      <th>11895</th>\n",
       "      <td>aflow:b9e0c6c998904bf1</td>\n",
       "      <td>aflowlib.duke.edu:AFLOWDATA/ICSD_WEB/BCT/O4V1Y...</td>\n",
       "      <td>O8V2Yb2</td>\n",
       "      <td>[8, 2, 2]</td>\n",
       "      <td>[O, V, Yb]</td>\n",
       "      <td>12</td>\n",
       "      <td>141</td>\n",
       "      <td>tI24</td>\n",
       "      <td>[5.961606, 5.961606, 5.961606, 106.3982, 106.3...</td>\n",
       "      <td>[[0.32709444, 0.51588908, 0.18879464], [0.3270...</td>\n",
       "      <td>[[1.34845, -0.0, 2.0722], [2.22276, 3.57122, -...</td>\n",
       "      <td>-7.03838</td>\n",
       "      <td>None</td>\n",
       "    </tr>\n",
       "    <tr>\n",
       "      <th>11898</th>\n",
       "      <td>aflow:36a24bb71d323a35</td>\n",
       "      <td>aflowlib.duke.edu:AFLOWDATA/ICSD_WEB/BCT/O4V2Z...</td>\n",
       "      <td>O8V4Zn2</td>\n",
       "      <td>[8, 4, 2]</td>\n",
       "      <td>[O, V, Zn]</td>\n",
       "      <td>14</td>\n",
       "      <td>141</td>\n",
       "      <td>tI28</td>\n",
       "      <td>[5.976299, 5.976299, 5.976299, 120.0156, 120.0...</td>\n",
       "      <td>[[0.25815325, 0.24220713, 0.98405389], [0.2581...</td>\n",
       "      <td>[[2.89217, 2.98745, -2.04451], [3.08272, 0.0, ...</td>\n",
       "      <td>-7.07798</td>\n",
       "      <td>None</td>\n",
       "    </tr>\n",
       "    <tr>\n",
       "      <th>11903</th>\n",
       "      <td>aflow:f890acedbc389e63</td>\n",
       "      <td>aflowlib.duke.edu:AFLOWDATA/ICSD_WEB/MCL/O4W1Z...</td>\n",
       "      <td>O8W2Zn2</td>\n",
       "      <td>[8, 2, 2]</td>\n",
       "      <td>[O, W, Zn]</td>\n",
       "      <td>12</td>\n",
       "      <td>13</td>\n",
       "      <td>mP12</td>\n",
       "      <td>[5.750424, 4.67576, 4.955637, 89.28069, 90.0, ...</td>\n",
       "      <td>[[0.89091357, 0.78101205, 0.43223132], [0.8909...</td>\n",
       "      <td>[[5.12313, 3.67531, 2.14765], [5.12313, 1.0276...</td>\n",
       "      <td>-7.17490</td>\n",
       "      <td>None</td>\n",
       "    </tr>\n",
       "  </tbody>\n",
       "</table>\n",
       "<p>5456 rows × 13 columns</p>\n",
       "</div>"
      ],
      "text/plain": [
       "                         auid  \\\n",
       "0      aflow:b281fdee92d2d2b2   \n",
       "2      aflow:0783c5b47a9319f1   \n",
       "4      aflow:701ef4b4f46ea7cd   \n",
       "6      aflow:a7a77ee138e41496   \n",
       "8      aflow:5fee8d04571dae6f   \n",
       "...                       ...   \n",
       "11883  aflow:aaf7c3d68a5e61eb   \n",
       "11884  aflow:dd0ff61000b8e748   \n",
       "11895  aflow:b9e0c6c998904bf1   \n",
       "11898  aflow:36a24bb71d323a35   \n",
       "11903  aflow:f890acedbc389e63   \n",
       "\n",
       "                                                    aurl  compound  \\\n",
       "0      aflowlib.duke.edu:AFLOWDATA/LIB3_RAW/AgOOs_pv/...  Ag1O3Os1   \n",
       "2      aflowlib.duke.edu:AFLOWDATA/LIB3_RAW/AgOP/T000...   Ag1O3P1   \n",
       "4      aflowlib.duke.edu:AFLOWDATA/LIB3_RAW/AgOPb_d/T...  Ag1O3Pb1   \n",
       "6      aflowlib.duke.edu:AFLOWDATA/LIB3_RAW/AgOPd_pv/...  Ag1O3Pd1   \n",
       "8      aflowlib.duke.edu:AFLOWDATA/LIB3_RAW/AgOPt/T00...  Ag1O3Pt1   \n",
       "...                                                  ...       ...   \n",
       "11883  aflowlib.duke.edu:AFLOWDATA/ICSD_WEB/BCT/O4Tm1...   O8Tm2V2   \n",
       "11884  aflowlib.duke.edu:AFLOWDATA/ICSD_WEB/BCT/O4V1Y...    O8V2Y2   \n",
       "11895  aflowlib.duke.edu:AFLOWDATA/ICSD_WEB/BCT/O4V1Y...   O8V2Yb2   \n",
       "11898  aflowlib.duke.edu:AFLOWDATA/ICSD_WEB/BCT/O4V2Z...   O8V4Zn2   \n",
       "11903  aflowlib.duke.edu:AFLOWDATA/ICSD_WEB/MCL/O4W1Z...   O8W2Zn2   \n",
       "\n",
       "      composition      species natoms spacegroup pearson_symbol  \\\n",
       "0       [1, 3, 1]  [Ag, O, Os]      5        221            cP5   \n",
       "2       [1, 3, 1]   [Ag, O, P]      5        221            cP5   \n",
       "4       [1, 3, 1]  [Ag, O, Pb]      5        221            cP5   \n",
       "6       [1, 3, 1]  [Ag, O, Pd]      5        221            cP5   \n",
       "8       [1, 3, 1]  [Ag, O, Pt]      5        221            cP5   \n",
       "...           ...          ...    ...        ...            ...   \n",
       "11883   [8, 2, 2]   [O, Tm, V]     12        141           tI24   \n",
       "11884   [8, 2, 2]    [O, V, Y]     12        141           tI24   \n",
       "11895   [8, 2, 2]   [O, V, Yb]     12        141           tI24   \n",
       "11898   [8, 4, 2]   [O, V, Zn]     14        141           tI28   \n",
       "11903   [8, 2, 2]   [O, W, Zn]     12         13           mP12   \n",
       "\n",
       "                                                geometry  \\\n",
       "0      [3.9184369, 3.9184369, 3.9184369, 90.0, 90.0, ...   \n",
       "2          [3.57933, 3.57933, 3.57933, 90.0, 90.0, 90.0]   \n",
       "4      [4.2942064, 4.2942064, 4.2942064, 90.0, 90.0, ...   \n",
       "6      [3.9991958, 3.9991958, 3.9991958, 90.0, 90.0, ...   \n",
       "8      [3.9809833, 3.9809833, 3.9809833, 90.0, 90.0, ...   \n",
       "...                                                  ...   \n",
       "11883  [5.926409, 5.926409, 5.926409, 106.3931, 106.3...   \n",
       "11884  [6.019827, 6.019827, 6.019827, 106.199, 106.19...   \n",
       "11895  [5.961606, 5.961606, 5.961606, 106.3982, 106.3...   \n",
       "11898  [5.976299, 5.976299, 5.976299, 120.0156, 120.0...   \n",
       "11903  [5.750424, 4.67576, 4.955637, 89.28069, 90.0, ...   \n",
       "\n",
       "                                    positions_fractional  \\\n",
       "0      [[0.0, 0.0, 0.0], [0.0, 0.5, 0.5], [0.5, 0.0, ...   \n",
       "2      [[0.0, 0.0, 0.0], [0.0, 0.5, 0.5], [0.5, 0.0, ...   \n",
       "4      [[0.0, 0.0, 0.0], [0.0, 0.5, 0.5], [0.5, 0.0, ...   \n",
       "6      [[0.0, 0.0, 0.0], [0.0, 0.5, 0.5], [0.5, 0.0, ...   \n",
       "8      [[0.0, 0.0, 0.0], [0.0, 0.5, 0.5], [0.5, 0.0, ...   \n",
       "...                                                  ...   \n",
       "11883  [[0.67778748, 0.49098905, 0.81320157], [0.6777...   \n",
       "11884  [[0.86631316, 0.80059798, 0.065715186], [0.234...   \n",
       "11895  [[0.32709444, 0.51588908, 0.18879464], [0.3270...   \n",
       "11898  [[0.25815325, 0.24220713, 0.98405389], [0.2581...   \n",
       "11903  [[0.89091357, 0.78101205, 0.43223132], [0.8909...   \n",
       "\n",
       "                                     positions_cartesian  enthalpy_atom  \\\n",
       "0      [[0.0, 0.0, 0.0], [0.0, 1.95922, 1.95922], [1....       -5.34058   \n",
       "2      [[0.0, 0.0, 0.0], [-0.0, 1.78966, 1.78966], [1...       -4.90593   \n",
       "4      [[0.0, 0.0, 0.0], [0.0, 2.1471, 2.1471], [2.14...       -3.97006   \n",
       "6      [[0.0, 0.0, 0.0], [0.0, 1.9996, 1.9996], [1.99...       -3.40735   \n",
       "8      [[0.0, 0.0, 0.0], [0.0, 1.99049, 1.99049], [1....       -3.71702   \n",
       "...                                                  ...            ...   \n",
       "11883  [[2.22395, 3.55034, 1.11949], [1.3264, 0.0, 4....       -8.21900   \n",
       "11884  [[0.0, 0.47505, 5.09108], [3.61447, -0.47505, ...       -8.44561   \n",
       "11895  [[1.34845, -0.0, 2.0722], [2.22276, 3.57122, -...       -7.03838   \n",
       "11898  [[2.89217, 2.98745, -2.04451], [3.08272, 0.0, ...       -7.07798   \n",
       "11903  [[5.12313, 3.67531, 2.14765], [5.12313, 1.0276...       -7.17490   \n",
       "\n",
       "      enthalpy_formation_atom  \n",
       "0                    0.427456  \n",
       "2                   -0.316921  \n",
       "4                    0.295059  \n",
       "6                     1.19322  \n",
       "8                     1.01812  \n",
       "...                       ...  \n",
       "11883                    None  \n",
       "11884                    None  \n",
       "11895                    None  \n",
       "11898                    None  \n",
       "11903                    None  \n",
       "\n",
       "[5456 rows x 13 columns]"
      ]
     },
     "execution_count": 21,
     "metadata": {},
     "output_type": "execute_result"
    }
   ],
   "source": [
    "df = pd.read_pickle(\"all_3_species_oxides.pkl\")\n",
    "df = drop_duplicates(df)\n",
    "df"
   ]
  },
  {
   "cell_type": "code",
   "execution_count": 22,
   "metadata": {},
   "outputs": [
    {
     "data": {
      "text/plain": [
       "array(['Ag', 'Al', 'As', 'Au', 'B', 'Ba', 'Be', 'Bi', 'Br', 'C', 'Ca',\n",
       "       'Cd', 'Ce', 'Cl', 'Co', 'Cr', 'Cs', 'Cu', 'Dy', 'Er', 'Eu', 'F',\n",
       "       'Fe', 'Ga', 'Gd', 'Ge', 'H', 'Hf', 'Hg', 'Ho', 'I', 'In', 'Ir',\n",
       "       'K', 'La', 'Li', 'Lu', 'Mg', 'Mn', 'Mo', 'N', 'Na', 'Nb', 'Nd',\n",
       "       'Ni', 'O', 'Os', 'P', 'Pa', 'Pb', 'Pd', 'Pr', 'Pt', 'Pu', 'Rb',\n",
       "       'Re', 'Rh', 'Ru', 'S', 'Sb', 'Sc', 'Se', 'Si', 'Sn', 'Sr', 'Ta',\n",
       "       'Tb', 'Tc', 'Te', 'Th', 'Ti', 'Tl', 'Tm', 'U', 'V', 'W', 'Xe', 'Y',\n",
       "       'Yb', 'Zn', 'Zr'], dtype='<U2')"
      ]
     },
     "execution_count": 22,
     "metadata": {},
     "output_type": "execute_result"
    }
   ],
   "source": [
    "elements = get_all_elements(df)\n",
    "elements"
   ]
  },
  {
   "cell_type": "code",
   "execution_count": 23,
   "metadata": {},
   "outputs": [
    {
     "name": "stdout",
     "output_type": "stream",
     "text": [
      "Calculated 5456/5456 molecules.      \r"
     ]
    },
    {
     "data": {
      "text/plain": [
       "[(0,\n",
       "  'Ag',\n",
       "  (array([[ -1.60349279,   0.        ,   0.        , ...,   0.        ,\n",
       "             0.        ,   1.60349279],\n",
       "          [-14.43143509, -14.43143509, -14.43143509, ...,  14.43143509,\n",
       "            14.43143509,  14.43143509],\n",
       "          [  0.        ,  -1.60349279,   0.        , ...,   0.        ,\n",
       "             1.60349279,   0.        ]]),\n",
       "   array([0.00579207, 0.00579207, 0.00586701, ..., 0.00586701, 0.00579207,\n",
       "          0.00579207]))),\n",
       " (45,\n",
       "  'O',\n",
       "  (array([[ -1.60349279,   0.        ,   0.        , ...,   0.        ,\n",
       "             0.        ,   1.60349279],\n",
       "          [-14.43143509, -14.43143509, -14.43143509, ...,  14.43143509,\n",
       "            14.43143509,  14.43143509],\n",
       "          [  0.        ,  -1.60349279,   0.        , ...,   0.        ,\n",
       "             1.60349279,   0.        ]]),\n",
       "   array([0.00579207, 0.00579207, 0.00586701, ..., 0.00586701, 0.00579207,\n",
       "          0.00579207]))),\n",
       " (46,\n",
       "  'Os',\n",
       "  (array([[ -1.60349279,   0.        ,   0.        , ...,   0.        ,\n",
       "             0.        ,   1.60349279],\n",
       "          [-14.43143509, -14.43143509, -14.43143509, ...,  14.43143509,\n",
       "            14.43143509,  14.43143509],\n",
       "          [  0.        ,  -1.60349279,   0.        , ...,   0.        ,\n",
       "             1.60349279,   0.        ]]),\n",
       "   array([0.00579207, 0.00579207, 0.00586701, ..., 0.00586701, 0.00579207,\n",
       "          0.00579207])))]"
      ]
     },
     "execution_count": 23,
     "metadata": {},
     "output_type": "execute_result"
    }
   ],
   "source": [
    "names, reciprocal_data, ys = prepare_multi_channel_data(df, sigma=0.1, L=12.8, N=32, elements=elements, reduce_data=True)\n",
    "reciprocal_data[0]"
   ]
  },
  {
   "cell_type": "code",
   "execution_count": 24,
   "metadata": {},
   "outputs": [
    {
     "data": {
      "text/plain": [
       "226324530"
      ]
     },
     "execution_count": 24,
     "metadata": {},
     "output_type": "execute_result"
    }
   ],
   "source": [
    "count = 0\n",
    "for rd in reciprocal_data:\n",
    "    for i, el, (x, y) in rd:\n",
    "        count += x.shape[1]\n",
    "count"
   ]
  },
  {
   "cell_type": "code",
   "execution_count": 13,
   "metadata": {},
   "outputs": [
    {
     "name": "stdout",
     "output_type": "stream",
     "text": [
      "Initialised MolLoader with 377 molecules. sigma = 0.1, L=12.8, N=32, nchannel=76, shuffle=False, rotate=True, device=cpu\n",
      "0 ['Ag1F3Zn1', 'Ag1Mn3N1', 'Ag1Nb1O3', 'Ag3I1S1', 'Al1Bi1O3', 'Al1C1Ce3', 'Al1C1Co3', 'Al1C1Dy3', 'Al1C1Er3', 'Al1C1Fe3', 'Al1C1Gd3', 'Al1C1Ho3', 'Al1C1La3', 'Al1C1Mn3', 'Al1C1Nd3', 'Al1C1Pr3', 'Al1C1Pt3', 'Al1C1Sc3', 'Al1C1Tb3', 'Al1C1Ti3', 'Al1C1Tm3', 'Al1C1Y3', 'Al1Ce1O3', 'Al1Ce3N1', 'Al1Dy3N1', 'Al1Er3N1', 'Al1Gd3N1', 'Al1Ho3N1', 'Al1La1O3', 'Al1La3N1', 'Al1Lu3N1', 'Al1N1Nd3'] torch.Size([32, 76, 32, 32, 32]) torch.Size([32, 1])\n",
      "Wall time: 3.06 s\n"
     ]
    }
   ],
   "source": [
    "%%time\n",
    "ml = MolLoader(df, sigma=0.1,\n",
    "               L=12.8, N=32, batch_size=32, elements = elements,\n",
    "               shuffle=False, rotate_randomly=True)\n",
    "\n",
    "for i, (names, x, y) in enumerate(ml):\n",
    "    print(i, names, x.shape, y.shape)\n",
    "    break"
   ]
  },
  {
   "cell_type": "code",
   "execution_count": 14,
   "metadata": {},
   "outputs": [],
   "source": [
    "def seed_everything(seed=0):\n",
    "    random.seed(seed)\n",
    "    torch.manual_seed(seed)\n",
    "    torch.cuda.manual_seed_all(seed)\n",
    "    torch.backends.cudnn.deterministic = True\n",
    "    torch.backends.cudnn.benchmark = False\n",
    "    np.random.seed(seed)"
   ]
  },
  {
   "cell_type": "code",
   "execution_count": 15,
   "metadata": {},
   "outputs": [],
   "source": [
    "def count_parameters(model):\n",
    "    s = 0\n",
    "    for t in model.parameters():\n",
    "        s += np.prod(t.shape)\n",
    "    return s"
   ]
  },
  {
   "cell_type": "code",
   "execution_count": 16,
   "metadata": {},
   "outputs": [],
   "source": [
    "def get_default_device():\n",
    "    \"\"\"Pick GPU if available, else CPU\"\"\"\n",
    "    if torch.cuda.is_available():\n",
    "        # print(\"CUDA version:\", torch.version.cuda)\n",
    "        return torch.device('cuda')\n",
    "    else:\n",
    "        return torch.device('cpu')"
   ]
  },
  {
   "cell_type": "code",
   "execution_count": 17,
   "metadata": {},
   "outputs": [],
   "source": [
    "class VoxelNet(nn.Module):\n",
    "    def __init__(self, in_channels=1):\n",
    "        super().__init__()\n",
    "        # (N, C, D, H, W)\n",
    "        self.conv1 = nn.Sequential(\n",
    "            nn.Conv3d(in_channels, 16, 3, padding=0, stride=1),\n",
    "            #nn.BatchNorm3d(16),\n",
    "            nn.LeakyReLU(0.3),\n",
    "            nn.MaxPool3d(2))\n",
    "        \n",
    "        self.conv2 = nn.Sequential(\n",
    "            nn.Conv3d(16, 16, 3, padding=0, stride=1),\n",
    "            nn.LeakyReLU(0.3),\n",
    "            nn.MaxPool3d(2))\n",
    "        \n",
    "        self.conv3 = nn.Sequential(\n",
    "            nn.Conv3d(16, 16, 3, padding=0, stride=1),\n",
    "            nn.LeakyReLU(0.3))\n",
    "        \n",
    "        self.regressor = nn.Sequential(nn.Flatten(),\n",
    "                                        nn.Linear(1024, 32),\n",
    "                                        nn.LeakyReLU(0.3),\n",
    "                                        nn.Linear(32, 8),\n",
    "                                        nn.LeakyReLU(0.3),\n",
    "                                        nn.Linear(8, 1))\n",
    "    def forward(self, x):\n",
    "        #print(x.shape)\n",
    "        x = self.conv1(x)\n",
    "        # print(\"conv1\", x.shape)\n",
    "        x = self.conv2(x)\n",
    "        # print(\"conv2\", x.shape)\n",
    "        x = self.conv3(x)\n",
    "        # print(\"conv3\", x.shape)\n",
    "        x = self.regressor(x)\n",
    "        return x"
   ]
  },
  {
   "cell_type": "code",
   "execution_count": 18,
   "metadata": {},
   "outputs": [],
   "source": [
    "@torch.no_grad()\n",
    "def predict(model, loader):\n",
    "    model.eval()\n",
    "    ys = []\n",
    "    y_hats = []\n",
    "    \n",
    "    for names, x, y in loader:\n",
    "        y_hat = model(x)\n",
    "        \n",
    "        ys.append(y.cpu().numpy())\n",
    "        y_hats.append(y_hat.cpu().numpy())\n",
    "\n",
    "    ys = np.vstack(ys).reshape(-1)\n",
    "    y_hats = np.vstack(y_hats).reshape(-1)\n",
    "    return ys, y_hats"
   ]
  },
  {
   "cell_type": "code",
   "execution_count": 19,
   "metadata": {},
   "outputs": [],
   "source": [
    "def predict_epochs(net, ml, epochs=1):\n",
    "    ys = []\n",
    "    y_hats = []\n",
    "    for epoch in range(epochs): # for random rotations\n",
    "        y, y_hat = predict(net, ml)\n",
    "        ys.append(y)\n",
    "        y_hats.append(y_hat)\n",
    "    \n",
    "    ys = np.hstack(ys)\n",
    "    y_hats = np.hstack(y_hats)\n",
    "        \n",
    "    return ys, y_hats"
   ]
  },
  {
   "cell_type": "code",
   "execution_count": 20,
   "metadata": {},
   "outputs": [],
   "source": [
    "def plot_predictions(ys, y_hats, alpha=0.2):\n",
    "    mse = np.mean((ys - y_hats)**2)\n",
    "    plt.scatter(ys, y_hats, alpha=alpha)\n",
    "    plt.xlabel(\"measured\")\n",
    "    plt.ylabel(\"predicted\")\n",
    "    \n",
    "    l = min(ys.min(), y_hats.min()) - 1\n",
    "    u = max(ys.max(), y_hats.max()) + 1\n",
    "    \n",
    "    plt.plot([l,u], [l,u], c=\"red\")\n",
    "    plt.suptitle(f\"MSE = {mse:.4f}\")\n",
    "    plt.show()"
   ]
  },
  {
   "cell_type": "code",
   "execution_count": 24,
   "metadata": {},
   "outputs": [],
   "source": [
    "def fit(epochs, model, train_loader, val_loader, opt, lr, weight_decay, verbose=True):\n",
    "    t0 = time.time()\n",
    "    \n",
    "    optimizer = opt(model.parameters(), lr=lr, weight_decay=weight_decay)\n",
    "    \n",
    "    loss = nn.MSELoss()\n",
    "    \n",
    "    train_mse = []\n",
    "    val_mse = []\n",
    "    \n",
    "    for epoch in range(epochs):\n",
    "        ys = []\n",
    "        y_hats = []\n",
    "        \n",
    "        # Training Phase \n",
    "        model.train()\n",
    "        counter = 0\n",
    "        total = len(train_loader)\n",
    "        for names, x, y in train_loader:\n",
    "            # print(names)\n",
    "            y_hat = model(x)\n",
    "            out = loss(y_hat, y)\n",
    "            out.backward()\n",
    "            optimizer.step()\n",
    "            optimizer.zero_grad()\n",
    "            \n",
    "            ys.append(y.cpu().numpy())\n",
    "            y_hats.append(y_hat.cpu().detach().numpy())\n",
    "            \n",
    "            if verbose:\n",
    "                counter += 1\n",
    "                print(f\"Epoch {epoch}: Batch {counter}/{total} processed.      \", end=\"\\r\")\n",
    "            \n",
    "        ys = np.vstack(ys).reshape(-1)\n",
    "        y_hats = np.vstack(y_hats).reshape(-1)\n",
    "        mean_loss = np.mean((ys - y_hats)**2)\n",
    "        train_mse.append(mean_loss)\n",
    "        \n",
    "        model.eval()\n",
    "        ys_val, y_hats_val = predict(model, val_loader)\n",
    "        mean_loss_val = np.mean((ys_val - y_hats_val)**2)\n",
    "        val_mse.append(mean_loss_val)\n",
    "        \n",
    "        if verbose:\n",
    "            print(f\"Epoch {epoch}: train loss {mean_loss} val loss {mean_loss_val}\")\n",
    "    \n",
    "    \n",
    "        \n",
    "    t1 = time.time()\n",
    "    \n",
    "    print(f\"Finished in {t1-t0:.4f}s.\")\n",
    "\n",
    "    plt.plot(train_mse, label=\"train\")\n",
    "    plt.plot(val_mse, label=\"validation\")\n",
    "    plt.legend()\n",
    "    plt.show()"
   ]
  },
  {
   "cell_type": "markdown",
   "metadata": {},
   "source": [
    "### Single Channel"
   ]
  },
  {
   "cell_type": "code",
   "execution_count": null,
   "metadata": {},
   "outputs": [],
   "source": [
    "df = pd.read_pickle(\"icsd_221_cp5_3_species.pkl\")\n",
    "df = drop_duplicates(df)\n",
    "\n",
    "seed_everything()\n",
    "train_df, test_df = train_test_split(df, test_size=0.1)\n",
    "print(train_df.shape, test_df.shape)"
   ]
  },
  {
   "cell_type": "code",
   "execution_count": null,
   "metadata": {},
   "outputs": [],
   "source": [
    "names_train, reciprocal_data_train, ys_train = prepare_single_channel_data(train_df, sigma=0.1, L=12.8, N=32)\n",
    "names_test, reciprocal_data_test, ys_test = prepare_single_channel_data(test_df, sigma=0.1, L=12.8, N=32)"
   ]
  },
  {
   "cell_type": "code",
   "execution_count": null,
   "metadata": {},
   "outputs": [],
   "source": [
    "net = VoxelNet(1)\n",
    "count_parameters(net)"
   ]
  },
  {
   "cell_type": "code",
   "execution_count": null,
   "metadata": {},
   "outputs": [],
   "source": [
    "seed_everything()\n",
    "device = get_default_device()\n",
    "\n",
    "net = VoxelNet(1)\n",
    "net = net.to(device)\n",
    "\n",
    "ml_train = MolLoader(names_train, reciprocal_data_train, ys_train,\n",
    "               L=12.8, N=32, batch_size=32, nchannel=1,\n",
    "               shuffle=True, rotate_randomly=True, device=device)\n",
    "\n",
    "ml_test = MolLoader(names_test, reciprocal_data_test, ys_test,\n",
    "               L=12.8, N=32, batch_size=128, nchannel=1,\n",
    "               shuffle=False, rotate_randomly=False, device=device)\n",
    "\n",
    "fit(50, net, ml_train, ml_test, torch.optim.Adam, lr=0.001, weight_decay=0)"
   ]
  },
  {
   "cell_type": "code",
   "execution_count": null,
   "metadata": {},
   "outputs": [],
   "source": [
    "ml_pred = MolLoader(names_train, reciprocal_data_train, ys_train,\n",
    "                    L=12.8, N=32, batch_size=128, nchannel=1,\n",
    "                    shuffle=False, rotate_randomly=False, device=device)\n",
    "ys, y_hats = predict(net, ml_pred)\n",
    "plot_predictions(ys, y_hats)"
   ]
  },
  {
   "cell_type": "code",
   "execution_count": null,
   "metadata": {},
   "outputs": [],
   "source": [
    "ml_pred = MolLoader(names_test, reciprocal_data_test, ys_test,\n",
    "                    L=12.8, N=32, batch_size=128, nchannel=1,\n",
    "                    shuffle=False, rotate_randomly=False, device=device)\n",
    "ys, y_hats = predict(net, ml_pred)\n",
    "plot_predictions(ys, y_hats)"
   ]
  },
  {
   "cell_type": "markdown",
   "metadata": {},
   "source": [
    "### Multi Channel"
   ]
  },
  {
   "cell_type": "code",
   "execution_count": 82,
   "metadata": {},
   "outputs": [
    {
     "name": "stdout",
     "output_type": "stream",
     "text": [
      "Number of molecules 377\n",
      "(339, 13) (38, 13)\n"
     ]
    }
   ],
   "source": [
    "df = pd.read_pickle(\"icsd_221_cp5_3_species.pkl\")\n",
    "df = drop_duplicates(df)\n",
    "\n",
    "seed_everything()\n",
    "train_df, test_df = train_test_split(df, test_size=0.1)\n",
    "print(train_df.shape, test_df.shape)"
   ]
  },
  {
   "cell_type": "code",
   "execution_count": 83,
   "metadata": {},
   "outputs": [
    {
     "data": {
      "text/plain": [
       "array(['Ag', 'Al', 'As', 'Au', 'B', 'Ba', 'Be', 'Bi', 'Br', 'C', 'Ca',\n",
       "       'Cd', 'Ce', 'Cl', 'Co', 'Cr', 'Cs', 'Cu', 'Dy', 'Er', 'Eu', 'F',\n",
       "       'Fe', 'Ga', 'Gd', 'Ge', 'H', 'Hf', 'Hg', 'Ho', 'I', 'In', 'Ir',\n",
       "       'K', 'La', 'Li', 'Lu', 'Mg', 'Mn', 'Mo', 'N', 'Na', 'Nb', 'Nd',\n",
       "       'Ni', 'O', 'P', 'Pa', 'Pb', 'Pd', 'Pr', 'Pt', 'Pu', 'Rb', 'Rh',\n",
       "       'Ru', 'S', 'Sb', 'Sc', 'Si', 'Sn', 'Sr', 'Ta', 'Tb', 'Tc', 'Th',\n",
       "       'Ti', 'Tl', 'Tm', 'U', 'V', 'W', 'Y', 'Yb', 'Zn', 'Zr'],\n",
       "      dtype='<U2')"
      ]
     },
     "execution_count": 83,
     "metadata": {},
     "output_type": "execute_result"
    }
   ],
   "source": [
    "elements = get_all_elements(df)\n",
    "elements"
   ]
  },
  {
   "cell_type": "code",
   "execution_count": 84,
   "metadata": {},
   "outputs": [
    {
     "data": {
      "text/plain": [
       "76"
      ]
     },
     "execution_count": 84,
     "metadata": {},
     "output_type": "execute_result"
    }
   ],
   "source": [
    "nchannel = len(elements)\n",
    "nchannel"
   ]
  },
  {
   "cell_type": "code",
   "execution_count": 85,
   "metadata": {},
   "outputs": [
    {
     "data": {
      "text/plain": [
       "79777"
      ]
     },
     "execution_count": 85,
     "metadata": {},
     "output_type": "execute_result"
    }
   ],
   "source": [
    "net = VoxelNet(nchannel)\n",
    "count_parameters(net)"
   ]
  },
  {
   "cell_type": "markdown",
   "metadata": {},
   "source": [
    "### ICSD"
   ]
  },
  {
   "cell_type": "code",
   "execution_count": 86,
   "metadata": {},
   "outputs": [
    {
     "name": "stdout",
     "output_type": "stream",
     "text": [
      "Initialised LazyMolLoader with 339 molecules. sigma=0.1, L=12.8, N=32, nchannel=76, shuffle=True, rotate=True, device=cuda\n",
      "Initialised LazyMolLoader with 38 molecules. sigma=0.1, L=12.8, N=32, nchannel=76, shuffle=False, rotate=False, device=cuda\n",
      "Epoch 0: train loss 27.649011611938477 val loss 27.423416137695312\n",
      "Epoch 1: train loss 22.86301612854004 val loss 14.535316467285156\n",
      "Epoch 2: train loss 7.457096099853516 val loss 6.862462997436523\n",
      "Epoch 3: train loss 4.960904598236084 val loss 3.5831716060638428\n",
      "Epoch 4: train loss 4.020195484161377 val loss 3.9473912715911865\n",
      "Epoch 5: train loss 3.080455780029297 val loss 2.993619918823242\n",
      "Epoch 6: train loss 2.961697578430176 val loss 2.655860424041748\n",
      "Epoch 7: train loss 2.711576223373413 val loss 2.8405439853668213\n",
      "Epoch 8: train loss 2.521676778793335 val loss 2.4884889125823975\n",
      "Epoch 9: train loss 2.5905158519744873 val loss 2.435825824737549\n",
      "Epoch 10: train loss 2.4018094539642334 val loss 2.590648889541626\n",
      "Epoch 11: train loss 2.4149320125579834 val loss 2.3496737480163574\n",
      "Epoch 12: train loss 2.3589305877685547 val loss 2.351313352584839\n",
      "Epoch 13: train loss 2.2838923931121826 val loss 2.3765931129455566\n",
      "Epoch 14: train loss 2.230172872543335 val loss 2.200209379196167\n",
      "Epoch 15: train loss 2.259838342666626 val loss 2.1947567462921143\n",
      "Epoch 16: train loss 2.3060688972473145 val loss 2.261272430419922\n",
      "Epoch 17: train loss 2.032097339630127 val loss 2.0896575450897217\n",
      "Epoch 18: train loss 2.0764739513397217 val loss 2.1824491024017334\n",
      "Epoch 19: train loss 1.9457757472991943 val loss 1.8859708309173584\n",
      "Epoch 20: train loss 1.827714443206787 val loss 1.7989892959594727\n",
      "Epoch 21: train loss 1.7532933950424194 val loss 1.7307049036026\n",
      "Epoch 22: train loss 1.5983753204345703 val loss 1.5291928052902222\n",
      "Epoch 23: train loss 1.434054970741272 val loss 1.4560372829437256\n",
      "Epoch 24: train loss 1.2839092016220093 val loss 1.207809329032898\n",
      "Epoch 25: train loss 1.1723191738128662 val loss 1.0682551860809326\n",
      "Epoch 26: train loss 1.0212970972061157 val loss 0.9930016398429871\n",
      "Epoch 27: train loss 0.898015022277832 val loss 0.8134592175483704\n",
      "Epoch 28: train loss 0.8020114898681641 val loss 0.7203405499458313\n",
      "Epoch 29: train loss 0.7061974406242371 val loss 0.6450175642967224\n",
      "Epoch 30: train loss 0.6458936333656311 val loss 0.5851098895072937\n",
      "Epoch 31: train loss 0.6414405703544617 val loss 0.5481323003768921\n",
      "Epoch 32: train loss 0.6333153247833252 val loss 0.824475109577179\n",
      "Epoch 33: train loss 0.5815487504005432 val loss 0.6455591320991516\n",
      "Epoch 34: train loss 0.5367589592933655 val loss 0.5393909811973572\n",
      "Epoch 35: train loss 0.47781145572662354 val loss 0.5956282019615173\n",
      "Epoch 36: train loss 0.448984295129776 val loss 0.5757807493209839\n",
      "Epoch 37: train loss 0.41572144627571106 val loss 0.5403799414634705\n",
      "Epoch 38: train loss 0.41557568311691284 val loss 0.6060251593589783\n",
      "Epoch 39: train loss 0.388403058052063 val loss 0.5985175967216492\n",
      "Epoch 40: train loss 0.37695780396461487 val loss 0.5525331497192383\n",
      "Epoch 41: train loss 0.34659504890441895 val loss 0.5781787037849426\n",
      "Epoch 42: train loss 0.3370901942253113 val loss 0.5837323069572449\n",
      "Epoch 43: train loss 0.31631383299827576 val loss 0.5428646802902222\n",
      "Epoch 44: train loss 0.2963851988315582 val loss 0.5332760214805603\n",
      "Epoch 45: train loss 0.30357033014297485 val loss 0.5532659888267517\n",
      "Epoch 46: train loss 0.28924867510795593 val loss 0.5571750998497009\n",
      "Epoch 47: train loss 0.28434133529663086 val loss 0.5637639164924622\n",
      "Epoch 48: train loss 0.2504481375217438 val loss 0.5781952738761902\n",
      "Epoch 49: train loss 0.22873762249946594 val loss 0.5972110629081726\n",
      "Finished in 419.0609s.\n"
     ]
    },
    {
     "data": {
      "image/png": "[encoded data removed]",
      "text/plain": [
       "<Figure size 432x288 with 1 Axes>"
      ]
     },
     "metadata": {
      "needs_background": "light"
     },
     "output_type": "display_data"
    }
   ],
   "source": [
    "seed_everything()\n",
    "device = get_default_device()\n",
    "\n",
    "net = VoxelNet(nchannel)\n",
    "net = net.to(device)\n",
    "\n",
    "ml_train = LazyMolLoader(train_df, sigma=0.1, elements=elements,\n",
    "               L=12.8, N=32, batch_size=64, nchannel=nchannel,\n",
    "               shuffle=True, rotate_randomly=True, device=device)\n",
    "\n",
    "ml_test = LazyMolLoader(test_df, sigma=0.1, elements=elements,\n",
    "                   L=12.8, N=32, batch_size=len(names_test), nchannel=nchannel,\n",
    "                   shuffle=False, rotate_randomly=False, device=device)\n",
    "\n",
    "fit(50, net, ml_train, ml_test, torch.optim.Adam, lr=0.001, weight_decay=0)"
   ]
  },
  {
   "cell_type": "markdown",
   "metadata": {},
   "source": [
    "#### Training Plots"
   ]
  },
  {
   "cell_type": "code",
   "execution_count": 87,
   "metadata": {
    "scrolled": true
   },
   "outputs": [
    {
     "name": "stdout",
     "output_type": "stream",
     "text": [
      "Initialised MolLoader with 339 molecules. L=12.8, N=32, nchannel=76, shuffle=False, rotate=False, device=cuda\n"
     ]
    },
    {
     "data": {
      "image/png": "[encoded data removed]",
      "text/plain": [
       "<Figure size 432x288 with 1 Axes>"
      ]
     },
     "metadata": {
      "needs_background": "light"
     },
     "output_type": "display_data"
    }
   ],
   "source": [
    "ml_pred = MolLoader(train_df, sigma=0.1, elements=elements,\n",
    "                   L=12.8, N=32, batch_size=128, nchannel=nchannel,\n",
    "                   shuffle=False, rotate_randomly=False, device=device)\n",
    "ys, y_hats = predict(net, ml_pred)\n",
    "plot_predictions(ys, y_hats)"
   ]
  },
  {
   "cell_type": "code",
   "execution_count": 88,
   "metadata": {},
   "outputs": [
    {
     "name": "stdout",
     "output_type": "stream",
     "text": [
      "Initialised MolLoader with 339 molecules. L=12.8, N=32, nchannel=76, shuffle=False, rotate=True, device=cuda\n"
     ]
    },
    {
     "data": {
      "image/png": "[encoded data removed]",
      "text/plain": [
       "<Figure size 432x288 with 1 Axes>"
      ]
     },
     "metadata": {
      "needs_background": "light"
     },
     "output_type": "display_data"
    }
   ],
   "source": [
    "# rotations\n",
    "seed_everything()\n",
    "ml_pred = MolLoader(train_df, sigma=0.1, elements=elements,\n",
    "                   L=12.8, N=32, batch_size=128, nchannel=nchannel,\n",
    "                   shuffle=False, rotate_randomly=True, device=device)\n",
    "ys, y_hats = predict_epochs(net, ml_pred, epochs=5)\n",
    "plot_predictions(ys, y_hats)"
   ]
  },
  {
   "cell_type": "markdown",
   "metadata": {},
   "source": [
    "#### Test Plots"
   ]
  },
  {
   "cell_type": "code",
   "execution_count": 89,
   "metadata": {},
   "outputs": [
    {
     "name": "stdout",
     "output_type": "stream",
     "text": [
      "Initialised MolLoader with 38 molecules. L=12.8, N=32, nchannel=76, shuffle=False, rotate=False, device=cuda\n"
     ]
    },
    {
     "data": {
      "image/png": "[encoded data removed]",
      "text/plain": [
       "<Figure size 432x288 with 1 Axes>"
      ]
     },
     "metadata": {
      "needs_background": "light"
     },
     "output_type": "display_data"
    }
   ],
   "source": [
    "ml_pred = MolLoader(test_df, sigma=0.1, elements=elements,\n",
    "                   L=12.8, N=32, batch_size=len(names_test), nchannel=nchannel,\n",
    "                   shuffle=False, rotate_randomly=False, device=device)\n",
    "ys, y_hats = predict(net, ml_pred)\n",
    "plot_predictions(ys, y_hats)"
   ]
  },
  {
   "cell_type": "code",
   "execution_count": 90,
   "metadata": {},
   "outputs": [
    {
     "name": "stdout",
     "output_type": "stream",
     "text": [
      "Initialised MolLoader with 38 molecules. L=12.8, N=32, nchannel=76, shuffle=False, rotate=True, device=cuda\n"
     ]
    },
    {
     "data": {
      "image/png": "[encoded data removed]",
      "text/plain": [
       "<Figure size 432x288 with 1 Axes>"
      ]
     },
     "metadata": {
      "needs_background": "light"
     },
     "output_type": "display_data"
    }
   ],
   "source": [
    "# rotations\n",
    "seed_everything()\n",
    "ml_pred = MolLoader(test_df, sigma=0.1, elements=elements,\n",
    "                   L=12.8, N=32, batch_size=len(names_test), nchannel=nchannel,\n",
    "                   shuffle=False, rotate_randomly=True, device=device)\n",
    "ys, y_hats = predict_epochs(net, ml_pred, epochs=5)\n",
    "plot_predictions(ys, y_hats)"
   ]
  },
  {
   "cell_type": "markdown",
   "metadata": {},
   "source": [
    "### Param Grid Search"
   ]
  },
  {
   "cell_type": "code",
   "execution_count": null,
   "metadata": {},
   "outputs": [],
   "source": [
    "from sklearn.model_selection import ParameterGrid"
   ]
  },
  {
   "cell_type": "code",
   "execution_count": null,
   "metadata": {},
   "outputs": [],
   "source": [
    "df = pd.read_pickle(\"icsd_221_cp5_3_species.pkl\")\n",
    "df = drop_duplicates(df)\n",
    "\n",
    "seed_everything()\n",
    "train_df, test_df = train_test_split(df, test_size=0.1)\n",
    "print(train_df.shape, test_df.shape)"
   ]
  },
  {
   "cell_type": "code",
   "execution_count": null,
   "metadata": {},
   "outputs": [],
   "source": [
    "elements = get_all_elements(df)\n",
    "nchannel = len(elements)\n",
    "nchannel, elements"
   ]
  },
  {
   "cell_type": "code",
   "execution_count": null,
   "metadata": {},
   "outputs": [],
   "source": [
    "param_grid = ParameterGrid({\n",
    "    \"sigma\": [0.01, 0.05, 0.1, 0.5, 1.],\n",
    "    \"L\": [5, 10, 12.8, 15, 20]\n",
    "})"
   ]
  },
  {
   "cell_type": "code",
   "execution_count": null,
   "metadata": {},
   "outputs": [],
   "source": [
    "sigma = 0.01\n",
    "L = 12.8\n",
    "names_train, reciprocal_data_train, ys_train = prepare_multi_channel_data(train_df, sigma=sigma, L=L, N=N, elements=elements)\n",
    "names_test, reciprocal_data_test, ys_test = prepare_multi_channel_data(test_df, sigma=sigma, L=L, N=N, elements=elements)"
   ]
  },
  {
   "cell_type": "code",
   "execution_count": null,
   "metadata": {},
   "outputs": [],
   "source": [
    "reciprocal_data_train[0][0][2][1].shape"
   ]
  },
  {
   "cell_type": "code",
   "execution_count": null,
   "metadata": {},
   "outputs": [],
   "source": [
    "ml_train = MolLoader(names_train, reciprocal_data_train, ys_train,\n",
    "               L=L, N=N, batch_size=64, nchannel=nchannel,\n",
    "               shuffle=True, rotate_randomly=True, device=device)"
   ]
  },
  {
   "cell_type": "code",
   "execution_count": null,
   "metadata": {},
   "outputs": [],
   "source": [
    "%%time\n",
    "for (names, x, y) in ml_train:\n",
    "    print(x.shape, y.shape)"
   ]
  },
  {
   "cell_type": "code",
   "execution_count": null,
   "metadata": {},
   "outputs": [],
   "source": []
  },
  {
   "cell_type": "code",
   "execution_count": null,
   "metadata": {},
   "outputs": [],
   "source": [
    "epochs = 50\n",
    "N = 32\n",
    "\n",
    "seed_everything()\n",
    "device = get_default_device()\n",
    "\n",
    "for params in param_grid:\n",
    "    L = params[\"L\"]\n",
    "    sigma = params[\"sigma\"]\n",
    "    print(f\"L = {L}, sigma = {sigma}\")\n",
    "    names_train, reciprocal_data_train, ys_train = prepare_multi_channel_data(train_df, sigma=sigma, L=L, N=N, elements=elements)\n",
    "    names_test, reciprocal_data_test, ys_test = prepare_multi_channel_data(test_df, sigma=sigma, L=L, N=N, elements=elements)\n",
    "    \n",
    "\n",
    "    net = VoxelNet(nchannel)\n",
    "    net = net.to(device)\n",
    "\n",
    "    ml_train = MolLoader(names_train, reciprocal_data_train, ys_train,\n",
    "                   L=L, N=N, batch_size=64, nchannel=nchannel,\n",
    "                   shuffle=True, rotate_randomly=True, device=device)\n",
    "\n",
    "    ml_test = MolLoader(names_test, reciprocal_data_test, ys_test,\n",
    "                       L=L, N=N, batch_size=len(names_test), nchannel=nchannel,\n",
    "                       shuffle=False, rotate_randomly=False, device=device)\n",
    "\n",
    "    fit(epochs, net, ml_train, ml_test, torch.optim.Adam, lr=0.001, weight_decay=0, verbose=True)\n",
    "    \n",
    "    ml_pred = MolLoader(names_test, reciprocal_data_test, ys_test,\n",
    "               L=L, N=N, batch_size=128, nchannel=nchannel,\n",
    "               shuffle=False, rotate_randomly=True, device=device)\n",
    "    ys, y_hats = predict_epochs(net, ml_pred, epochs=5)\n",
    "    plot_predictions(ys, y_hats)"
   ]
  },
  {
   "cell_type": "markdown",
   "metadata": {},
   "source": [
    "### All 221 cp5 Oxides"
   ]
  },
  {
   "cell_type": "code",
   "execution_count": 16,
   "metadata": {},
   "outputs": [
    {
     "name": "stdout",
     "output_type": "stream",
     "text": [
      "Number of molecules 1983\n"
     ]
    }
   ],
   "source": [
    "df = pd.read_pickle(\"all_221_cp5_3_species_oxides.pkl\")\n",
    "df = drop_duplicates(df)"
   ]
  },
  {
   "cell_type": "code",
   "execution_count": 17,
   "metadata": {},
   "outputs": [
    {
     "data": {
      "text/plain": [
       "array(['Ag', 'Al', 'As', 'Au', 'B', 'Ba', 'Be', 'Bi', 'Br', 'C', 'Ca',\n",
       "       'Cd', 'Ce', 'Cl', 'Co', 'Cr', 'Cs', 'Cu', 'Dy', 'Er', 'Eu', 'F',\n",
       "       'Fe', 'Ga', 'Gd', 'Ge', 'Hf', 'Hg', 'Ho', 'I', 'In', 'Ir', 'K',\n",
       "       'La', 'Li', 'Lu', 'Mg', 'Mn', 'Mo', 'N', 'Na', 'Nb', 'Nd', 'Ni',\n",
       "       'O', 'Os', 'P', 'Pa', 'Pb', 'Pd', 'Pr', 'Pt', 'Pu', 'Rb', 'Re',\n",
       "       'Rh', 'Ru', 'S', 'Sb', 'Sc', 'Se', 'Si', 'Sn', 'Sr', 'Ta', 'Tb',\n",
       "       'Tc', 'Te', 'Th', 'Ti', 'Tl', 'U', 'V', 'W', 'Xe', 'Y', 'Yb', 'Zn',\n",
       "       'Zr'], dtype='<U2')"
      ]
     },
     "execution_count": 17,
     "metadata": {},
     "output_type": "execute_result"
    }
   ],
   "source": [
    "elements = get_all_elements(df)\n",
    "elements"
   ]
  },
  {
   "cell_type": "code",
   "execution_count": 18,
   "metadata": {},
   "outputs": [
    {
     "data": {
      "text/plain": [
       "79"
      ]
     },
     "execution_count": 18,
     "metadata": {},
     "output_type": "execute_result"
    }
   ],
   "source": [
    "nchannel = len(elements)\n",
    "nchannel"
   ]
  },
  {
   "cell_type": "code",
   "execution_count": 19,
   "metadata": {},
   "outputs": [
    {
     "data": {
      "text/plain": [
       "81073"
      ]
     },
     "execution_count": 19,
     "metadata": {},
     "output_type": "execute_result"
    }
   ],
   "source": [
    "net = VoxelNet(nchannel)\n",
    "count_parameters(net)"
   ]
  },
  {
   "cell_type": "code",
   "execution_count": 25,
   "metadata": {},
   "outputs": [
    {
     "name": "stdout",
     "output_type": "stream",
     "text": [
      "(1784, 13) (199, 13)\n",
      "Initialised MolLoader with 1784 molecules. L=12.8, N=32, nchannel=79, shuffle=True, rotate=True, device=cuda\n",
      "Initialised MolLoader with 199 molecules. L=12.8, N=32, nchannel=79, shuffle=False, rotate=False, device=cuda\n",
      "Epoch 0: train loss 14.604804992675781 val loss 3.556546211242676\n",
      "Epoch 1: train loss 2.590949058532715 val loss 2.377230167388916\n",
      "Epoch 2: train loss 2.2342586517333984 val loss 2.393793821334839\n",
      "Epoch 3: train loss 2.1590535640716553 val loss 2.4100029468536377\n",
      "Epoch 4: train loss 2.180845260620117 val loss 2.346633195877075\n",
      "Epoch 5: train loss 2.173525333404541 val loss 2.371260404586792\n",
      "Epoch 6: train loss 2.127218723297119 val loss 2.3700528144836426\n",
      "Epoch 7: train loss 2.1224238872528076 val loss 2.367182970046997\n",
      "Epoch 8: train loss 2.1395576000213623 val loss 2.331124782562256\n",
      "Epoch 9: train loss 2.1020760536193848 val loss 2.3681702613830566\n",
      "Epoch 10: train loss 2.128772497177124 val loss 2.2986319065093994\n",
      "Epoch 11: train loss 2.1110780239105225 val loss 2.2883827686309814\n",
      "Epoch 12: train loss 2.0727713108062744 val loss 2.2805585861206055\n",
      "Epoch 13: train loss 2.0891895294189453 val loss 2.2676405906677246\n",
      "Epoch 14: train loss 2.132582426071167 val loss 2.2522289752960205\n",
      "Epoch 15: train loss 2.0947372913360596 val loss 2.318439483642578\n",
      "Epoch 16: train loss 1.9840644598007202 val loss 2.1456398963928223\n",
      "Epoch 17: train loss 1.9503247737884521 val loss 2.1445069313049316\n",
      "Epoch 18: train loss 1.8762283325195312 val loss 2.0796263217926025\n",
      "Epoch 19: train loss 1.7119799852371216 val loss 1.8084661960601807\n",
      "Epoch 20: train loss 1.5721406936645508 val loss 1.574290156364441\n",
      "Epoch 21: train loss 1.2160851955413818 val loss 1.2709274291992188\n",
      "Epoch 22: train loss 0.8101843595504761 val loss 0.7917000651359558\n",
      "Epoch 23: train loss 0.6006297469139099 val loss 0.7510705590248108\n",
      "Epoch 24: train loss 0.46175336837768555 val loss 0.5931355953216553\n",
      "Epoch 25: train loss 0.41560643911361694 val loss 0.5680858492851257\n",
      "Epoch 26: train loss 0.36595994234085083 val loss 0.6150065660476685\n",
      "Epoch 27: train loss 0.38138848543167114 val loss 0.5127854943275452\n",
      "Epoch 28: train loss 0.4448276460170746 val loss 0.5483137965202332\n",
      "Epoch 29: train loss 0.42266845703125 val loss 0.523904025554657\n",
      "Epoch 30: train loss 0.3528206944465637 val loss 0.5074477195739746\n",
      "Epoch 31: train loss 0.39333483576774597 val loss 0.5579700469970703\n",
      "Epoch 32: train loss 0.3502174913883209 val loss 0.4926230311393738\n",
      "Epoch 33: train loss 0.4441865384578705 val loss 1.1513197422027588\n",
      "Epoch 34: train loss 0.4667438566684723 val loss 0.8594180941581726\n",
      "Epoch 35: train loss 0.3793961703777313 val loss 0.5056701302528381\n",
      "Epoch 36: train loss 0.41109463572502136 val loss 0.5292676091194153\n",
      "Epoch 37: train loss 0.3830226957798004 val loss 0.5135375261306763\n",
      "Epoch 38: train loss 0.3346892297267914 val loss 0.514233410358429\n",
      "Epoch 39: train loss 0.33308684825897217 val loss 0.48999130725860596\n",
      "Epoch 40: train loss 0.31836798787117004 val loss 0.5057334899902344\n",
      "Epoch 41: train loss 0.36161506175994873 val loss 0.5465198159217834\n",
      "Epoch 42: train loss 0.3237660825252533 val loss 0.4836629033088684\n",
      "Epoch 43: train loss 0.34872373938560486 val loss 0.4905337989330292\n",
      "Epoch 44: train loss 0.35126569867134094 val loss 0.5210480093955994\n",
      "Epoch 45: train loss 0.32537341117858887 val loss 0.5025250315666199\n",
      "Epoch 46: train loss 0.309691846370697 val loss 0.4934036135673523\n",
      "Epoch 47: train loss 0.3312024474143982 val loss 0.8574344515800476\n",
      "Epoch 48: train loss 0.40620923042297363 val loss 0.6192514896392822\n",
      "Epoch 49: train loss 0.35040315985679626 val loss 0.48029568791389465\n",
      "Epoch 50: train loss 0.32490625977516174 val loss 0.4793037176132202\n",
      "Epoch 51: train loss 0.3195151686668396 val loss 0.4958352744579315\n",
      "Epoch 52: train loss 0.338529497385025 val loss 0.5437272191047668\n",
      "Epoch 53: train loss 0.3161143362522125 val loss 0.49045148491859436\n",
      "Epoch 54: train loss 0.3154674470424652 val loss 0.4703778624534607\n",
      "Epoch 55: train loss 0.3038345277309418 val loss 0.4646395444869995\n",
      "Epoch 56: train loss 0.37418609857559204 val loss 0.540412425994873\n",
      "Epoch 57: train loss 0.39434799551963806 val loss 0.5108949542045593\n",
      "Epoch 58: train loss 0.4843194782733917 val loss 0.49366599321365356\n",
      "Epoch 59: train loss 0.3424196243286133 val loss 0.48528289794921875\n",
      "Epoch 60: train loss 0.3467698097229004 val loss 0.4939321279525757\n",
      "Epoch 61: train loss 0.44710415601730347 val loss 0.5154731869697571\n",
      "Epoch 62: train loss 0.3271228075027466 val loss 0.7410471439361572\n",
      "Epoch 63: train loss 0.34366992115974426 val loss 0.5964104533195496\n",
      "Epoch 64: train loss 0.3131725788116455 val loss 0.47958022356033325\n",
      "Epoch 65: train loss 0.29407498240470886 val loss 0.4779260456562042\n",
      "Epoch 66: train loss 0.3379617929458618 val loss 0.47213423252105713\n",
      "Epoch 67: train loss 0.35747894644737244 val loss 0.4666057229042053\n",
      "Epoch 68: train loss 0.30836519598960876 val loss 0.4629441499710083\n",
      "Epoch 69: train loss 0.31144335865974426 val loss 0.5143143534660339\n",
      "Epoch 70: train loss 0.31400829553604126 val loss 0.4593312740325928\n",
      "Epoch 71: train loss 0.30774056911468506 val loss 0.45734134316444397\n",
      "Epoch 72: train loss 0.3020645081996918 val loss 0.45570096373558044\n",
      "Epoch 73: train loss 0.2999956011772156 val loss 0.5120144486427307\n",
      "Epoch 74: train loss 0.3138118088245392 val loss 0.5455887317657471\n",
      "Epoch 75: train loss 0.35353848338127136 val loss 0.6000769734382629\n",
      "Epoch 76: train loss 0.3483071029186249 val loss 0.4749130308628082\n",
      "Epoch 77: train loss 0.29297831654548645 val loss 0.5157900452613831\n",
      "Epoch 78: train loss 0.37259262800216675 val loss 0.5818323493003845\n",
      "Epoch 79: train loss 0.3101300001144409 val loss 0.46937522292137146\n",
      "Epoch 80: train loss 0.30512404441833496 val loss 0.499236136674881\n",
      "Epoch 81: train loss 0.3085542619228363 val loss 0.48365020751953125\n",
      "Epoch 82: train loss 0.28278517723083496 val loss 0.45474472641944885\n",
      "Epoch 83: train loss 0.37102824449539185 val loss 0.6112484335899353\n",
      "Epoch 84: train loss 0.29696887731552124 val loss 0.45162373781204224\n",
      "Epoch 85: train loss 0.3023744821548462 val loss 0.4584510326385498\n",
      "Epoch 86: train loss 0.28815653920173645 val loss 0.5225344896316528\n",
      "Epoch 87: train loss 0.362106591463089 val loss 0.4621511399745941\n",
      "Epoch 88: train loss 0.28531214594841003 val loss 0.4623792767524719\n",
      "Epoch 89: train loss 0.32652464509010315 val loss 0.5268755555152893\n",
      "Epoch 90: train loss 0.3194202482700348 val loss 0.4491652548313141\n",
      "Epoch 91: train loss 0.29964450001716614 val loss 0.4591955542564392\n",
      "Epoch 92: train loss 0.37973445653915405 val loss 0.5244554281234741\n",
      "Epoch 93: train loss 0.3027960956096649 val loss 0.628391683101654\n",
      "Epoch 94: train loss 0.3496004343032837 val loss 0.45910215377807617\n",
      "Epoch 95: train loss 0.35379326343536377 val loss 0.4764600694179535\n",
      "Epoch 96: train loss 0.3364895284175873 val loss 0.5266149640083313\n",
      "Epoch 97: train loss 0.29936885833740234 val loss 0.48243188858032227\n",
      "Epoch 98: train loss 0.2882104516029358 val loss 0.5713645815849304\n",
      "Epoch 99: train loss 0.29111310839653015 val loss 0.596729576587677\n",
      "Finished in 2730.3122s.\n"
     ]
    },
    {
     "data": {
      "image/png": "[encoded data removed]",
      "text/plain": [
       "<Figure size 432x288 with 1 Axes>"
      ]
     },
     "metadata": {
      "needs_background": "light"
     },
     "output_type": "display_data"
    }
   ],
   "source": [
    "sigma = 0.5\n",
    "L = 12.8\n",
    "N = 32\n",
    "epochs = 100\n",
    "device = get_default_device()\n",
    "\n",
    "\n",
    "seed_everything()\n",
    "train_df, test_df = train_test_split(df, test_size=0.1)\n",
    "print(train_df.shape, test_df.shape)\n",
    "names_train, reciprocal_data_train, ys_train = prepare_multi_channel_data(train_df, sigma=sigma, L=L, N=N, elements=elements)\n",
    "names_test, reciprocal_data_test, ys_test = prepare_multi_channel_data(test_df, sigma=sigma, L=L, N=N, elements=elements)\n",
    "\n",
    "seed_everything()\n",
    "\n",
    "net = VoxelNet(nchannel)\n",
    "net = net.to(device)\n",
    "\n",
    "ml_train = MolLoader(names_train, reciprocal_data_train, ys_train,\n",
    "               L=L, N=N, batch_size=64, nchannel=nchannel,\n",
    "               shuffle=True, rotate_randomly=True, device=device)\n",
    "\n",
    "ml_test = MolLoader(names_test, reciprocal_data_test, ys_test,\n",
    "               L=L, N=N, batch_size=128, nchannel=nchannel,\n",
    "               shuffle=False, rotate_randomly=False, device=device)\n",
    "\n",
    "fit(epochs, net, ml_train, ml_test, torch.optim.Adam, lr=0.001, weight_decay=0.01)"
   ]
  },
  {
   "cell_type": "markdown",
   "metadata": {},
   "source": [
    "#### Train Plots"
   ]
  },
  {
   "cell_type": "code",
   "execution_count": 26,
   "metadata": {},
   "outputs": [
    {
     "name": "stdout",
     "output_type": "stream",
     "text": [
      "Initialised MolLoader with 1784 molecules. L=12.8, N=32, nchannel=79, shuffle=False, rotate=False, device=cuda\n"
     ]
    },
    {
     "data": {
      "image/png": "[encoded data removed]",
      "text/plain": [
       "<Figure size 432x288 with 1 Axes>"
      ]
     },
     "metadata": {
      "needs_background": "light"
     },
     "output_type": "display_data"
    }
   ],
   "source": [
    "ml_pred = MolLoader(names_train, reciprocal_data_train, ys_train,\n",
    "                   L=L, N=N, batch_size=128, nchannel=nchannel,\n",
    "                   shuffle=False, rotate_randomly=False, device=device)\n",
    "ys, y_hats = predict(net, ml_pred)\n",
    "plot_predictions(ys, y_hats)"
   ]
  },
  {
   "cell_type": "code",
   "execution_count": 27,
   "metadata": {},
   "outputs": [
    {
     "name": "stdout",
     "output_type": "stream",
     "text": [
      "Initialised MolLoader with 1784 molecules. L=12.8, N=32, nchannel=79, shuffle=False, rotate=True, device=cuda\n"
     ]
    },
    {
     "data": {
      "image/png": "[encoded data removed]",
      "text/plain": [
       "<Figure size 432x288 with 1 Axes>"
      ]
     },
     "metadata": {
      "needs_background": "light"
     },
     "output_type": "display_data"
    }
   ],
   "source": [
    "# rotations\n",
    "seed_everything()\n",
    "ml_pred = MolLoader(names_train, reciprocal_data_train, ys_train,\n",
    "                   L=L, N=N, batch_size=128, nchannel=nchannel,\n",
    "                   shuffle=False, rotate_randomly=True, device=device)\n",
    "ys, y_hats = predict_epochs(net, ml_pred, epochs=5)\n",
    "plot_predictions(ys, y_hats)"
   ]
  },
  {
   "cell_type": "markdown",
   "metadata": {},
   "source": [
    "#### Test Plots"
   ]
  },
  {
   "cell_type": "code",
   "execution_count": 28,
   "metadata": {},
   "outputs": [
    {
     "name": "stdout",
     "output_type": "stream",
     "text": [
      "Initialised MolLoader with 199 molecules. L=12.8, N=32, nchannel=79, shuffle=False, rotate=False, device=cuda\n"
     ]
    },
    {
     "data": {
      "image/png": "[encoded data removed]",
      "text/plain": [
       "<Figure size 432x288 with 1 Axes>"
      ]
     },
     "metadata": {
      "needs_background": "light"
     },
     "output_type": "display_data"
    }
   ],
   "source": [
    "ml_pred = MolLoader(names_test, reciprocal_data_test, ys_test,\n",
    "                   L=L, N=N, batch_size=len(names_test), nchannel=nchannel,\n",
    "                   shuffle=False, rotate_randomly=False, device=device)\n",
    "ys, y_hats = predict(net, ml_pred)\n",
    "plot_predictions(ys, y_hats)"
   ]
  },
  {
   "cell_type": "code",
   "execution_count": 29,
   "metadata": {},
   "outputs": [
    {
     "name": "stdout",
     "output_type": "stream",
     "text": [
      "Initialised MolLoader with 199 molecules. L=12.8, N=32, nchannel=79, shuffle=False, rotate=True, device=cuda\n"
     ]
    },
    {
     "data": {
      "image/png": "[encoded data removed]",
      "text/plain": [
       "<Figure size 432x288 with 1 Axes>"
      ]
     },
     "metadata": {
      "needs_background": "light"
     },
     "output_type": "display_data"
    }
   ],
   "source": [
    "# rotations\n",
    "seed_everything()\n",
    "ml_pred = MolLoader(names_test, reciprocal_data_test, ys_test,\n",
    "                   L=L, N=N, batch_size=len(names_test), nchannel=nchannel,\n",
    "                   shuffle=False, rotate_randomly=True, device=device)\n",
    "ys, y_hats = predict_epochs(net, ml_pred, epochs=5)\n",
    "plot_predictions(ys, y_hats)"
   ]
  },
  {
   "cell_type": "markdown",
   "metadata": {},
   "source": [
    "### Cross Validate"
   ]
  },
  {
   "cell_type": "code",
   "execution_count": null,
   "metadata": {},
   "outputs": [],
   "source": [
    "df = pd.read_pickle(\"all_221_cp5_3_species_oxides.pkl\")\n",
    "df = drop_duplicates(df)\n",
    "\n",
    "elements = get_all_elements(df)\n",
    "nchannel = len(elements)\n",
    "\n",
    "nchannel, elements"
   ]
  },
  {
   "cell_type": "code",
   "execution_count": null,
   "metadata": {},
   "outputs": [],
   "source": [
    "sigma = 0.1\n",
    "L = 12.8\n",
    "N = 32\n",
    "epochs = 50\n",
    "device = get_default_device()\n",
    "\n",
    "seed_everything()\n",
    "all_ys = []\n",
    "all_y_hats = []\n",
    "\n",
    "for train_indices, test_indices in KFold(n_splits=5, shuffle=True).split(df):\n",
    "    \n",
    "    train_df = df.iloc[train_indices]\n",
    "    test_df = df.iloc[test_indices]\n",
    "    \n",
    "    names_train, reciprocal_data_train, ys_train = prepare_multi_channel_data(train_df, sigma=sigma, L=L, N=N, elements=elements)\n",
    "    names_test, reciprocal_data_test, ys_test = prepare_multi_channel_data(test_df, sigma=sigma, L=L, N=N, elements=elements)\n",
    "    \n",
    "    net = VoxelNet(nchannel)\n",
    "    net = net.to(device)\n",
    "    \n",
    "    ml_train = MolLoader(names_train, reciprocal_data_train, ys_train,\n",
    "               L=L, N=N, batch_size=64, nchannel=nchannel,\n",
    "               shuffle=True, rotate_randomly=True, device=device)\n",
    "\n",
    "    ml_test = MolLoader(names_test, reciprocal_data_test, ys_test,\n",
    "               L=L, N=N, batch_size=128, nchannel=nchannel,\n",
    "               shuffle=False, rotate_randomly=False, device=device)\n",
    "    \n",
    "    fit(epochs, net, ml_train, ml_test, torch.optim.Adam, lr=0.001, weight_decay=0)\n",
    "    \n",
    "    ml_pred = MolLoader(names_test, reciprocal_data_test, ys_test,\n",
    "               L=L, N=N, batch_size=128, nchannel=nchannel,\n",
    "               shuffle=False, rotate_randomly=True, device=device)\n",
    "    ys, y_hats = predict_epochs(net, ml_pred, epochs=5)\n",
    "    plot_predictions(ys, y_hats)\n",
    "    \n",
    "    all_ys.append(ys)\n",
    "    all_y_hats.append(y_hats)"
   ]
  },
  {
   "cell_type": "code",
   "execution_count": null,
   "metadata": {},
   "outputs": [],
   "source": [
    "# 0.2881\n",
    "plot_predictions(np.hstack(all_ys), np.hstack(all_y_hats), alpha=0.01)"
   ]
  },
  {
   "cell_type": "markdown",
   "metadata": {},
   "source": [
    "## All Oxides"
   ]
  },
  {
   "cell_type": "code",
   "execution_count": 25,
   "metadata": {},
   "outputs": [
    {
     "name": "stdout",
     "output_type": "stream",
     "text": [
      "Number of molecules 5456\n"
     ]
    },
    {
     "data": {
      "text/plain": [
       "(81,\n",
       " array(['Ag', 'Al', 'As', 'Au', 'B', 'Ba', 'Be', 'Bi', 'Br', 'C', 'Ca',\n",
       "        'Cd', 'Ce', 'Cl', 'Co', 'Cr', 'Cs', 'Cu', 'Dy', 'Er', 'Eu', 'F',\n",
       "        'Fe', 'Ga', 'Gd', 'Ge', 'H', 'Hf', 'Hg', 'Ho', 'I', 'In', 'Ir',\n",
       "        'K', 'La', 'Li', 'Lu', 'Mg', 'Mn', 'Mo', 'N', 'Na', 'Nb', 'Nd',\n",
       "        'Ni', 'O', 'Os', 'P', 'Pa', 'Pb', 'Pd', 'Pr', 'Pt', 'Pu', 'Rb',\n",
       "        'Re', 'Rh', 'Ru', 'S', 'Sb', 'Sc', 'Se', 'Si', 'Sn', 'Sr', 'Ta',\n",
       "        'Tb', 'Tc', 'Te', 'Th', 'Ti', 'Tl', 'Tm', 'U', 'V', 'W', 'Xe', 'Y',\n",
       "        'Yb', 'Zn', 'Zr'], dtype='<U2'))"
      ]
     },
     "execution_count": 25,
     "metadata": {},
     "output_type": "execute_result"
    }
   ],
   "source": [
    "df = pd.read_pickle(\"all_3_species_oxides.pkl\")\n",
    "df = drop_duplicates(df)\n",
    "\n",
    "elements = get_all_elements(df)\n",
    "nchannel = len(elements)\n",
    "\n",
    "nchannel, elements"
   ]
  },
  {
   "cell_type": "code",
   "execution_count": 27,
   "metadata": {},
   "outputs": [
    {
     "name": "stdout",
     "output_type": "stream",
     "text": [
      "(4910, 13) (546, 13)\n",
      "Initialised LazyMolLoader with 4910 molecules. sigma=0.1, L=12.8, N=32, nchannel=81, shuffle=True, rotate=True, device=cuda\n",
      "Initialised MolLoader with 546 molecules. sigma = 0.1, L=12.8, N=32, nchannel=81, shuffle=False, rotate=False, device=cuda\n",
      "Epoch 0: train loss 8.705805778503418 val loss 2.3399240970611572\n",
      "Epoch 1: train loss 1.8368452787399292 val loss 1.545914888381958\n",
      "Epoch 2: train loss 0.9485858678817749 val loss 0.7285565137863159\n",
      "Epoch 3: train loss 0.53594970703125 val loss 0.6391187310218811\n",
      "Epoch 4: train loss 0.5007837414741516 val loss 0.6037955284118652\n",
      "Epoch 5: train loss 0.45938101410865784 val loss 0.6865954995155334\n",
      "Epoch 6: train loss 0.44529828429222107 val loss 0.5358626246452332\n",
      "Epoch 7: train loss 0.4165996015071869 val loss 0.5241679549217224\n",
      "Epoch 8: train loss 0.3987962007522583 val loss 0.5500786900520325\n",
      "Epoch 9: train loss 0.4173346757888794 val loss 0.5911540985107422\n",
      "Epoch 10: train loss 0.39930227398872375 val loss 0.48799094557762146\n",
      "Epoch 11: train loss 0.3720722198486328 val loss 0.49002259969711304\n",
      "Epoch 12: train loss 0.3631458282470703 val loss 0.5050173997879028\n",
      "Epoch 13: train loss 0.3746326267719269 val loss 0.4770730137825012\n",
      "Epoch 14: train loss 0.36059632897377014 val loss 0.6133522391319275\n",
      "Epoch 15: train loss 0.3598648011684418 val loss 0.4448591470718384\n",
      "Epoch 16: train loss 0.3421936631202698 val loss 0.5051594972610474\n",
      "Epoch 17: train loss 0.34247082471847534 val loss 0.4398430585861206\n",
      "Epoch 18: train loss 0.33651548624038696 val loss 0.49505212903022766\n",
      "Epoch 19: train loss 0.3514723777770996 val loss 0.5094217658042908\n",
      "Epoch 20: train loss 0.32958677411079407 val loss 0.43194982409477234\n",
      "Epoch 21: train loss 0.3268861770629883 val loss 0.41630712151527405\n",
      "Epoch 22: train loss 0.3080959916114807 val loss 0.4283846914768219\n",
      "Epoch 23: train loss 0.29694798588752747 val loss 0.4089907705783844\n",
      "Epoch 24: train loss 0.3106372356414795 val loss 0.3993570804595947\n",
      "Epoch 25: train loss 0.3012153208255768 val loss 0.4932647943496704\n",
      "Epoch 26: train loss 0.3234841525554657 val loss 0.3928919732570648\n",
      "Epoch 27: train loss 0.2820880711078644 val loss 0.4350873529911041\n",
      "Epoch 28: train loss 0.2722533047199249 val loss 0.37202218174934387\n",
      "Epoch 29: train loss 0.26057809591293335 val loss 0.3685283660888672\n",
      "Epoch 30: train loss 0.24810509383678436 val loss 0.3791802227497101\n",
      "Epoch 31: train loss 0.26120755076408386 val loss 0.3587959110736847\n",
      "Epoch 32: train loss 0.2387058287858963 val loss 0.34388720989227295\n",
      "Epoch 33: train loss 0.2320927083492279 val loss 0.3360494077205658\n",
      "Epoch 34: train loss 0.23285545408725739 val loss 0.3717392683029175\n",
      "Epoch 35: train loss 0.2262144833803177 val loss 0.3744477331638336\n",
      "Epoch 36: train loss 0.2605520486831665 val loss 0.4722546637058258\n",
      "Epoch 37: train loss 0.24447816610336304 val loss 0.34124860167503357\n",
      "Epoch 38: train loss 0.21900130808353424 val loss 0.3620031774044037\n",
      "Epoch 39: train loss 0.2428497076034546 val loss 0.42486175894737244\n",
      "Epoch 40: train loss 0.2314271628856659 val loss 0.36734363436698914\n",
      "Epoch 41: train loss 0.20202848315238953 val loss 0.34655332565307617\n",
      "Epoch 42: train loss 0.18721823394298553 val loss 0.3028436005115509\n",
      "Epoch 43: train loss 0.18693505227565765 val loss 0.34530383348464966\n",
      "Epoch 44: train loss 0.19660472869873047 val loss 0.30004647374153137\n",
      "Epoch 45: train loss 0.18797142803668976 val loss 0.3039723038673401\n",
      "Epoch 46: train loss 0.1743711680173874 val loss 0.30005010962486267\n",
      "Epoch 47: train loss 0.1737004816532135 val loss 0.2960030734539032\n",
      "Epoch 48: train loss 0.18227991461753845 val loss 0.33098822832107544\n",
      "Epoch 49: train loss 0.17545726895332336 val loss 0.30893728137016296\n",
      "Finished in 32422.1914s.\n"
     ]
    },
    {
     "data": {
      "image/png": "[encoded data removed]",
      "text/plain": [
       "<Figure size 432x288 with 1 Axes>"
      ]
     },
     "metadata": {
      "needs_background": "light"
     },
     "output_type": "display_data"
    }
   ],
   "source": [
    "sigma = 0.1\n",
    "L = 12.8\n",
    "N = 32\n",
    "epochs = 50\n",
    "device = get_default_device()\n",
    "\n",
    "\n",
    "seed_everything()\n",
    "train_df, test_df = train_test_split(df, test_size=0.1)\n",
    "print(train_df.shape, test_df.shape)\n",
    "\n",
    "seed_everything()\n",
    "\n",
    "net = VoxelNet(nchannel)\n",
    "net = net.to(device)\n",
    "\n",
    "ml_train = LazyMolLoader(train_df, sigma=sigma, elements=elements,\n",
    "               L=L, N=N, batch_size=64, nchannel=nchannel,\n",
    "               shuffle=True, rotate_randomly=True, device=device)\n",
    "\n",
    "ml_test = MolLoader(test_df, sigma=sigma, elements=elements,\n",
    "               L=L, N=N, batch_size=128, nchannel=nchannel,\n",
    "               shuffle=False, rotate_randomly=False, device=device)\n",
    "\n",
    "fit(epochs, net, ml_train, ml_test, torch.optim.Adam, lr=0.001, weight_decay=0)"
   ]
  },
  {
   "cell_type": "code",
   "execution_count": 30,
   "metadata": {},
   "outputs": [
    {
     "name": "stdout",
     "output_type": "stream",
     "text": [
      "Initialised LazyMolLoader with 4910 molecules. sigma=0.1, L=12.8, N=32, nchannel=81, shuffle=False, rotate=True, device=cuda\n"
     ]
    },
    {
     "data": {
      "image/png": "[encoded data removed]",
      "text/plain": [
       "<Figure size 432x288 with 1 Axes>"
      ]
     },
     "metadata": {
      "needs_background": "light"
     },
     "output_type": "display_data"
    }
   ],
   "source": [
    "# rotations\n",
    "seed_everything()\n",
    "ml_pred = LazyMolLoader(train_df, sigma=sigma, elements=elements,\n",
    "                   L=L, N=N, batch_size=128, nchannel=nchannel,\n",
    "                   shuffle=False, rotate_randomly=True, device=device)\n",
    "ys, y_hats = predict_epochs(net, ml_pred, epochs=5)\n",
    "plot_predictions(ys, y_hats)"
   ]
  },
  {
   "cell_type": "code",
   "execution_count": 36,
   "metadata": {},
   "outputs": [
    {
     "data": {
      "image/png": "[encoded data removed]",
      "text/plain": [
       "<Figure size 432x288 with 1 Axes>"
      ]
     },
     "metadata": {
      "needs_background": "light"
     },
     "output_type": "display_data"
    }
   ],
   "source": [
    "plot_predictions(ys, y_hats, alpha=0.01)"
   ]
  },
  {
   "cell_type": "code",
   "execution_count": 29,
   "metadata": {},
   "outputs": [
    {
     "name": "stdout",
     "output_type": "stream",
     "text": [
      "Initialised MolLoader with 546 molecules. sigma = 0.1, L=12.8, N=32, nchannel=81, shuffle=False, rotate=True, device=cuda\n"
     ]
    },
    {
     "data": {
      "image/png": "[encoded data removed]",
      "text/plain": [
       "<Figure size 432x288 with 1 Axes>"
      ]
     },
     "metadata": {
      "needs_background": "light"
     },
     "output_type": "display_data"
    }
   ],
   "source": [
    "# rotations\n",
    "seed_everything()\n",
    "ml_pred = MolLoader(test_df, sigma=sigma, elements=elements,\n",
    "                   L=L, N=N, batch_size=128, nchannel=nchannel,\n",
    "                   shuffle=False, rotate_randomly=True, device=device)\n",
    "ys, y_hats = predict_epochs(net, ml_pred, epochs=5)\n",
    "plot_predictions(ys, y_hats)"
   ]
  },
  {
   "cell_type": "code",
   "execution_count": null,
   "metadata": {},
   "outputs": [],
   "source": []
  },
  {
   "cell_type": "code",
   "execution_count": null,
   "metadata": {},
   "outputs": [],
   "source": [
    "sigma = 0.1\n",
    "L = 12.8\n",
    "N = 32\n",
    "epochs = 50\n",
    "device = get_default_device()\n",
    "\n",
    "seed_everything()\n",
    "all_ys = []\n",
    "all_y_hats = []\n",
    "\n",
    "for train_indices, test_indices in KFold(n_splits=5, shuffle=True).split(df):\n",
    "    \n",
    "    train_df = df.iloc[train_indices]\n",
    "    test_df = df.iloc[test_indices]\n",
    "    \n",
    "    names_train, reciprocal_data_train, ys_train = prepare_multi_channel_data(train_df, sigma=sigma, L=L, N=N, elements=elements)\n",
    "    names_test, reciprocal_data_test, ys_test = prepare_multi_channel_data(test_df, sigma=sigma, L=L, N=N, elements=elements)\n",
    "    \n",
    "    net = VoxelNet(nchannel)\n",
    "    net = net.to(device)\n",
    "    \n",
    "    ml_train = MolLoader(names_train, reciprocal_data_train, ys_train,\n",
    "               L=L, N=N, batch_size=64, nchannel=nchannel,\n",
    "               shuffle=True, rotate_randomly=True, device=device)\n",
    "\n",
    "    ml_test = MolLoader(names_test, reciprocal_data_test, ys_test,\n",
    "               L=L, N=N, batch_size=128, nchannel=nchannel,\n",
    "               shuffle=False, rotate_randomly=False, device=device)\n",
    "    \n",
    "    fit(epochs, net, ml_train, ml_test, torch.optim.Adam, lr=0.001, weight_decay=0)\n",
    "    \n",
    "    ml_pred = MolLoader(names_test, reciprocal_data_test, ys_test,\n",
    "               L=L, N=N, batch_size=128, nchannel=nchannel,\n",
    "               shuffle=False, rotate_randomly=True, device=device)\n",
    "    ys, y_hats = predict_epochs(net, ml_pred, epochs=5)\n",
    "    plot_predictions(ys, y_hats)\n",
    "    \n",
    "    all_ys.append(ys)\n",
    "    all_y_hats.append(y_hats)"
   ]
  },
  {
   "cell_type": "code",
   "execution_count": null,
   "metadata": {},
   "outputs": [],
   "source": [
    "plot_predictions(np.hstack(all_ys), np.hstack(all_y_hats), alpha=0.01)"
   ]
  },
  {
   "cell_type": "code",
   "execution_count": null,
   "metadata": {},
   "outputs": [],
   "source": [
    "# rotations\n",
    "seed_everything()\n",
    "ml_pred = LazyMolLoader(test_df, sigma=sigma, elements=elements\n",
    "                   L=L, N=N, batch_size=len(names_test), nchannel=nchannel,\n",
    "                   shuffle=False, rotate_randomly=True, device=device)\n",
    "ys, y_hats = predict_epochs(net, ml_pred, epochs=5)\n",
    "plot_predictions(ys, y_hats)"
   ]
  },
  {
   "cell_type": "code",
   "execution_count": null,
   "metadata": {},
   "outputs": [],
   "source": []
  },
  {
   "cell_type": "code",
   "execution_count": 19,
   "metadata": {},
   "outputs": [],
   "source": [
    "sigma = 0.1\n",
    "L = 12.8\n",
    "N = 32\n",
    "seed_everything()\n",
    "train_df, test_df = train_test_split(df, test_size=0.1)"
   ]
  },
  {
   "cell_type": "code",
   "execution_count": 20,
   "metadata": {},
   "outputs": [
    {
     "name": "stdout",
     "output_type": "stream",
     "text": [
      "Calculated 1257/4910 molecules.\r"
     ]
    },
    {
     "ename": "KeyboardInterrupt",
     "evalue": "",
     "output_type": "error",
     "traceback": [
      "\u001b[1;31m---------------------------------------------------------------------------\u001b[0m",
      "\u001b[1;31mKeyboardInterrupt\u001b[0m                         Traceback (most recent call last)",
      "\u001b[1;32m<ipython-input-20-400cb30dff3f>\u001b[0m in \u001b[0;36m<module>\u001b[1;34m\u001b[0m\n\u001b[1;32m----> 1\u001b[1;33m \u001b[0mnames_train\u001b[0m\u001b[1;33m,\u001b[0m \u001b[0mreciprocal_data_train\u001b[0m\u001b[1;33m,\u001b[0m \u001b[0mys_train\u001b[0m \u001b[1;33m=\u001b[0m \u001b[0mprepare_multi_channel_data\u001b[0m\u001b[1;33m(\u001b[0m\u001b[0mtrain_df\u001b[0m\u001b[1;33m,\u001b[0m \u001b[0msigma\u001b[0m\u001b[1;33m=\u001b[0m\u001b[0msigma\u001b[0m\u001b[1;33m,\u001b[0m \u001b[0mL\u001b[0m\u001b[1;33m=\u001b[0m\u001b[0mL\u001b[0m\u001b[1;33m,\u001b[0m \u001b[0mN\u001b[0m\u001b[1;33m=\u001b[0m\u001b[0mN\u001b[0m\u001b[1;33m,\u001b[0m \u001b[0melements\u001b[0m\u001b[1;33m=\u001b[0m\u001b[0melements\u001b[0m\u001b[1;33m)\u001b[0m\u001b[1;33m\u001b[0m\u001b[1;33m\u001b[0m\u001b[0m\n\u001b[0m",
      "\u001b[1;32m<ipython-input-6-7dcfce8f75cc>\u001b[0m in \u001b[0;36mprepare_multi_channel_data\u001b[1;34m(df, sigma, L, N, elements)\u001b[0m\n\u001b[0;32m     21\u001b[0m         \u001b[1;32mfor\u001b[0m \u001b[0mi\u001b[0m\u001b[1;33m,\u001b[0m \u001b[0melement\u001b[0m \u001b[1;32min\u001b[0m \u001b[0menumerate\u001b[0m\u001b[1;33m(\u001b[0m\u001b[0mmol\u001b[0m\u001b[1;33m.\u001b[0m\u001b[0mspecies\u001b[0m\u001b[1;33m)\u001b[0m\u001b[1;33m:\u001b[0m\u001b[1;33m\u001b[0m\u001b[1;33m\u001b[0m\u001b[0m\n\u001b[0;32m     22\u001b[0m             \u001b[0melement_coords\u001b[0m \u001b[1;33m=\u001b[0m \u001b[0mcoords\u001b[0m\u001b[1;33m[\u001b[0m\u001b[0mcs\u001b[0m\u001b[1;33m[\u001b[0m\u001b[0mi\u001b[0m\u001b[1;33m]\u001b[0m\u001b[1;33m:\u001b[0m\u001b[0mcs\u001b[0m\u001b[1;33m[\u001b[0m\u001b[0mi\u001b[0m\u001b[1;33m+\u001b[0m\u001b[1;36m1\u001b[0m\u001b[1;33m]\u001b[0m\u001b[1;33m]\u001b[0m \u001b[1;31m# extract coordinates corresponding to atoms of one element\u001b[0m\u001b[1;33m\u001b[0m\u001b[1;33m\u001b[0m\u001b[0m\n\u001b[1;32m---> 23\u001b[1;33m             \u001b[0mB\u001b[0m\u001b[1;33m,\u001b[0m \u001b[0mG\u001b[0m\u001b[1;33m,\u001b[0m \u001b[0mSG\u001b[0m \u001b[1;33m=\u001b[0m \u001b[0mreciprocal_lattice_gaussian\u001b[0m\u001b[1;33m(\u001b[0m\u001b[0mA\u001b[0m\u001b[1;33m,\u001b[0m \u001b[0melement_coords\u001b[0m\u001b[1;33m,\u001b[0m \u001b[0msigma\u001b[0m\u001b[1;33m,\u001b[0m \u001b[0mmx\u001b[0m\u001b[1;33m,\u001b[0m \u001b[0mmy\u001b[0m\u001b[1;33m,\u001b[0m \u001b[0mmz\u001b[0m\u001b[1;33m)\u001b[0m\u001b[1;33m\u001b[0m\u001b[1;33m\u001b[0m\u001b[0m\n\u001b[0m\u001b[0;32m     24\u001b[0m \u001b[1;33m\u001b[0m\u001b[0m\n\u001b[0;32m     25\u001b[0m             \u001b[0mj\u001b[0m \u001b[1;33m=\u001b[0m \u001b[0mnp\u001b[0m\u001b[1;33m.\u001b[0m\u001b[0mwhere\u001b[0m\u001b[1;33m(\u001b[0m\u001b[0melements\u001b[0m \u001b[1;33m==\u001b[0m \u001b[0melement\u001b[0m\u001b[1;33m)\u001b[0m\u001b[1;33m[\u001b[0m\u001b[1;36m0\u001b[0m\u001b[1;33m]\u001b[0m\u001b[1;33m[\u001b[0m\u001b[1;36m0\u001b[0m\u001b[1;33m]\u001b[0m \u001b[1;31m# get channel for element\u001b[0m\u001b[1;33m\u001b[0m\u001b[1;33m\u001b[0m\u001b[0m\n",
      "\u001b[1;32m~\\Documents\\InterDiscProj\\voxel.py\u001b[0m in \u001b[0;36mreciprocal_lattice_gaussian\u001b[1;34m(A, mus, sigma, mx, my, mz)\u001b[0m\n\u001b[0;32m    331\u001b[0m     \u001b[0mmuG\u001b[0m \u001b[1;33m=\u001b[0m \u001b[0mmus\u001b[0m\u001b[1;33m.\u001b[0m\u001b[0mdot\u001b[0m\u001b[1;33m(\u001b[0m\u001b[0mG\u001b[0m\u001b[1;33m)\u001b[0m \u001b[1;31m# (n,d) * (d, m) = (n, m)\u001b[0m\u001b[1;33m\u001b[0m\u001b[1;33m\u001b[0m\u001b[0m\n\u001b[0;32m    332\u001b[0m \u001b[1;33m\u001b[0m\u001b[0m\n\u001b[1;32m--> 333\u001b[1;33m     \u001b[0mexpmuG\u001b[0m \u001b[1;33m=\u001b[0m \u001b[0mnp\u001b[0m\u001b[1;33m.\u001b[0m\u001b[0mexp\u001b[0m\u001b[1;33m(\u001b[0m\u001b[1;33m-\u001b[0m\u001b[1;36m1j\u001b[0m \u001b[1;33m*\u001b[0m \u001b[0mmuG\u001b[0m\u001b[1;33m)\u001b[0m \u001b[1;31m# (n, m)\u001b[0m\u001b[1;33m\u001b[0m\u001b[1;33m\u001b[0m\u001b[0m\n\u001b[0m\u001b[0;32m    334\u001b[0m \u001b[1;33m\u001b[0m\u001b[0m\n\u001b[0;32m    335\u001b[0m     \u001b[0mSG\u001b[0m \u001b[1;33m=\u001b[0m \u001b[1;36m1\u001b[0m\u001b[1;33m/\u001b[0m\u001b[0mnp\u001b[0m\u001b[1;33m.\u001b[0m\u001b[0mlinalg\u001b[0m\u001b[1;33m.\u001b[0m\u001b[0mdet\u001b[0m\u001b[1;33m(\u001b[0m\u001b[0mA\u001b[0m\u001b[1;33m)\u001b[0m \u001b[1;33m*\u001b[0m \u001b[0mexpGG\u001b[0m \u001b[1;33m*\u001b[0m \u001b[0mnp\u001b[0m\u001b[1;33m.\u001b[0m\u001b[0msum\u001b[0m\u001b[1;33m(\u001b[0m\u001b[0mexpmuG\u001b[0m\u001b[1;33m,\u001b[0m \u001b[0maxis\u001b[0m\u001b[1;33m=\u001b[0m\u001b[1;36m0\u001b[0m\u001b[1;33m)\u001b[0m \u001b[1;31m#(m*d,)\u001b[0m\u001b[1;33m\u001b[0m\u001b[1;33m\u001b[0m\u001b[0m\n",
      "\u001b[1;31mKeyboardInterrupt\u001b[0m: "
     ]
    }
   ],
   "source": [
    "names_train, reciprocal_data_train, ys_train = prepare_multi_channel_data(train_df, sigma=sigma, L=L, N=N, elements=elements)"
   ]
  },
  {
   "cell_type": "code",
   "execution_count": 25,
   "metadata": {},
   "outputs": [
    {
     "data": {
      "text/plain": [
       "4136"
      ]
     },
     "execution_count": 25,
     "metadata": {},
     "output_type": "execute_result"
    }
   ],
   "source": [
    "sum(df.composition.apply(lambda x: sum(x)) < 25)"
   ]
  },
  {
   "cell_type": "code",
   "execution_count": null,
   "metadata": {},
   "outputs": [],
   "source": []
  }
 ],
 "metadata": {
  "kernelspec": {
   "display_name": "Python 3",
   "language": "python",
   "name": "python3"
  },
  "language_info": {
   "codemirror_mode": {
    "name": "ipython",
    "version": 3
   },
   "file_extension": ".py",
   "mimetype": "text/x-python",
   "name": "python",
   "nbconvert_exporter": "python",
   "pygments_lexer": "ipython3",
   "version": "3.8.1"
  }
 },
 "nbformat": 4,
 "nbformat_minor": 4
}
