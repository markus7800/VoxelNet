{
 "cells": [
  {
   "cell_type": "code",
   "execution_count": 1,
   "metadata": {},
   "outputs": [],
   "source": [
    "import pandas as pd\n",
    "import numpy as np\n",
    "import matplotlib.pyplot as plt\n",
    "#%matplotlib widget\n",
    "\n",
    "from voxel import *\n",
    "from mol_tools import *\n",
    "from ML_utils import *\n",
    "\n",
    "from sklearn.model_selection import train_test_split, KFold"
   ]
  },
  {
   "cell_type": "code",
   "execution_count": 2,
   "metadata": {},
   "outputs": [],
   "source": [
    "def drop_duplicates(df):\n",
    "    df = df.drop_duplicates(subset=\"compound\", keep=\"first\")\n",
    "    print(\"Number of molecules\", df.shape[0])\n",
    "    return df"
   ]
  },
  {
   "cell_type": "code",
   "execution_count": 3,
   "metadata": {},
   "outputs": [],
   "source": [
    "def get_all_elements(df):\n",
    "      return np.unique(np.hstack(np.array(df.species)))"
   ]
  },
  {
   "cell_type": "code",
   "execution_count": 4,
   "metadata": {},
   "outputs": [
    {
     "name": "stdout",
     "output_type": "stream",
     "text": [
      "Number of molecules 1983\n"
     ]
    }
   ],
   "source": [
    "#df = pd.read_pickle(\"data/icsd_221_cp5_3_species.pkl\")\n",
    "df = pd.read_pickle(\"data/all_221_cp5_3_species_oxides.pkl\")\n",
    "#df = pd.read_pickle(\"data/all_3_species_oxides.pkl\")\n",
    "\n",
    "# df = df[~df.enthalpy_formation_atom.isna()]\n",
    "df = drop_duplicates(df)"
   ]
  },
  {
   "cell_type": "code",
   "execution_count": 5,
   "metadata": {},
   "outputs": [],
   "source": [
    "elem_counts = pd.Series(np.hstack(np.array(df.species))).value_counts()\n",
    "low_freq = elem_counts[elem_counts < 50].index.values\n",
    "low_freq_mask = df.species.apply(lambda s: len(np.setdiff1d(s, low_freq)) < len(s))\n",
    "df = df[~low_freq_mask]"
   ]
  },
  {
   "cell_type": "code",
   "execution_count": 6,
   "metadata": {},
   "outputs": [
    {
     "data": {
      "text/plain": [
       "array(['Ag', 'Al', 'As', 'Au', 'B', 'Ba', 'Be', 'Bi', 'Br', 'C', 'Ca',\n",
       "       'Cd', 'Cl', 'Co', 'Cr', 'Cu', 'F', 'Fe', 'Ga', 'Ge', 'Hf', 'Hg',\n",
       "       'I', 'In', 'Ir', 'K', 'Li', 'Mg', 'Mn', 'Mo', 'N', 'Na', 'Nb',\n",
       "       'Ni', 'O', 'Os', 'P', 'Pb', 'Pd', 'Pt', 'Rb', 'Re', 'Rh', 'Ru',\n",
       "       'S', 'Sb', 'Sc', 'Se', 'Si', 'Sn', 'Sr', 'Ta', 'Tc', 'Te', 'Ti',\n",
       "       'Tl', 'V', 'W', 'Xe', 'Y', 'Zn', 'Zr'], dtype='<U2')"
      ]
     },
     "execution_count": 6,
     "metadata": {},
     "output_type": "execute_result"
    }
   ],
   "source": [
    "elements = get_all_elements(df)\n",
    "elements"
   ]
  },
  {
   "cell_type": "code",
   "execution_count": 7,
   "metadata": {},
   "outputs": [
    {
     "data": {
      "text/plain": [
       "62"
      ]
     },
     "execution_count": 7,
     "metadata": {},
     "output_type": "execute_result"
    }
   ],
   "source": [
    "nchannel = len(elements)\n",
    "nchannel"
   ]
  },
  {
   "cell_type": "code",
   "execution_count": 8,
   "metadata": {},
   "outputs": [],
   "source": [
    "np.random.seed(0)\n",
    "train_df, test_df = train_test_split(df, test_size=0.1)"
   ]
  },
  {
   "cell_type": "code",
   "execution_count": 9,
   "metadata": {},
   "outputs": [],
   "source": [
    "def make_simple_descriptor(mol, elements, one_hot=True):\n",
    "    descriptor = np.zeros((len(elements),))\n",
    "    \n",
    "    for i, (element, n_atoms) in enumerate(zip(mol.species, mol.composition)):\n",
    "        j = np.where(elements == element)[0][0] # get channel for element\n",
    "        if one_hot:\n",
    "            descriptor[j] = 1\n",
    "        else:\n",
    "            descriptor[j] = n_atoms\n",
    "            \n",
    "    return descriptor"
   ]
  },
  {
   "cell_type": "code",
   "execution_count": 10,
   "metadata": {},
   "outputs": [
    {
     "data": {
      "text/plain": [
       "auid                                                  aflow:b778fabdb1b01db1\n",
       "aurl                       aflowlib.duke.edu:AFLOWDATA/LIB3_RAW/AgAlO/T00...\n",
       "compound                                                            Ag1Al1O3\n",
       "composition                                                        [1, 1, 3]\n",
       "species                                                          [Ag, Al, O]\n",
       "natoms                                                                     5\n",
       "spacegroup                                                               221\n",
       "pearson_symbol                                                           cP5\n",
       "geometry                   [3.7688035, 3.7688035, 3.7688035, 90.0, 90.0, ...\n",
       "positions_fractional       [[0.0, 0.0, 0.0], [0.5, 0.5, 0.5], [0.0, 0.5, ...\n",
       "positions_cartesian        [[0.0, 0.0, 0.0], [1.8844, 1.8844, 1.8844], [0...\n",
       "enthalpy_atom                                                       -5.04863\n",
       "enthalpy_formation_atom                                            -0.775736\n",
       "Name: 0, dtype: object"
      ]
     },
     "execution_count": 10,
     "metadata": {},
     "output_type": "execute_result"
    }
   ],
   "source": [
    "df.loc[0]"
   ]
  },
  {
   "cell_type": "code",
   "execution_count": 11,
   "metadata": {},
   "outputs": [
    {
     "data": {
      "text/plain": [
       "array([1., 1., 0., 0., 0., 0., 0., 0., 0., 0., 0., 0., 0., 0., 0., 0., 0.,\n",
       "       0., 0., 0., 0., 0., 0., 0., 0., 0., 0., 0., 0., 0., 0., 0., 0., 0.,\n",
       "       1., 0., 0., 0., 0., 0., 0., 0., 0., 0., 0., 0., 0., 0., 0., 0., 0.,\n",
       "       0., 0., 0., 0., 0., 0., 0., 0., 0., 0., 0.])"
      ]
     },
     "execution_count": 11,
     "metadata": {},
     "output_type": "execute_result"
    }
   ],
   "source": [
    "make_simple_descriptor(df.loc[0], elements)"
   ]
  },
  {
   "cell_type": "code",
   "execution_count": 12,
   "metadata": {},
   "outputs": [],
   "source": [
    "seed_everything()\n",
    "train_df, test_df = train_test_split(df, test_size=0.1)"
   ]
  },
  {
   "cell_type": "code",
   "execution_count": 13,
   "metadata": {},
   "outputs": [
    {
     "name": "stdout",
     "output_type": "stream",
     "text": [
      "(1713, 13)\n",
      "(191, 13)\n"
     ]
    }
   ],
   "source": [
    "print(train_df.shape)\n",
    "print(test_df.shape)"
   ]
  },
  {
   "cell_type": "code",
   "execution_count": 14,
   "metadata": {},
   "outputs": [],
   "source": [
    "y = df.enthalpy_atom# * df.natoms\n",
    "y_train = train_df.enthalpy_atom# * train_df.natoms\n",
    "y_test = test_df.enthalpy_atom# * test_df.natoms"
   ]
  },
  {
   "cell_type": "markdown",
   "metadata": {},
   "source": [
    "## Zero R"
   ]
  },
  {
   "cell_type": "code",
   "execution_count": 15,
   "metadata": {},
   "outputs": [
    {
     "data": {
      "text/plain": [
       "2.1257655413499155"
      ]
     },
     "execution_count": 15,
     "metadata": {},
     "output_type": "execute_result"
    }
   ],
   "source": [
    "y_pred_train = np.mean(y_train)\n",
    "np.mean((y_pred_train - y_train)**2)"
   ]
  },
  {
   "cell_type": "code",
   "execution_count": 16,
   "metadata": {},
   "outputs": [
    {
     "data": {
      "text/plain": [
       "2.0241798654478567"
      ]
     },
     "execution_count": 16,
     "metadata": {},
     "output_type": "execute_result"
    }
   ],
   "source": [
    "y_test_pred = np.mean(y_train)\n",
    "np.mean((y_test_pred - y_test)**2)"
   ]
  },
  {
   "cell_type": "code",
   "execution_count": 17,
   "metadata": {},
   "outputs": [
    {
     "name": "stdout",
     "output_type": "stream",
     "text": [
      "Train: 2.1317049487039093 Test: 2.0605098256665433\n",
      "Train: 2.0997361722520616 Test: 2.1785569719250355\n",
      "Train: 2.0939593542313943 Test: 2.2031295460381557\n",
      "Train: 2.088215533238063 Test: 2.2329070997499936\n",
      "Train: 2.159537481134354 Test: 1.9411851348668794\n",
      "Avg Train:  2.1146365942858036 Avg Test:  2.1233533420047745\n"
     ]
    }
   ],
   "source": [
    "seed_everything()\n",
    "all_ys = []\n",
    "all_y_hats = []\n",
    "all_ys_train = []\n",
    "all_y_hats_train = []\n",
    "\n",
    "for train_indices, test_indices in KFold(n_splits=5, shuffle=True).split(df):\n",
    "    \n",
    "    cv_train_df = df.iloc[train_indices]\n",
    "    cv_test_df = df.iloc[test_indices]\n",
    "    \n",
    "    \n",
    "    cv_y_train = y.iloc[train_indices] # cv_train_df.enthalpy_atom\n",
    "    cv_y_test = y.iloc[test_indices] # cv_test_df.enthalpy_atom\n",
    "    \n",
    "    cv_y_test_pred = np.mean(cv_y_train)\n",
    "    \n",
    "    ys = cv_y_test\n",
    "    y_hats = np.full_like(cv_y_test, cv_y_test_pred)\n",
    "    \n",
    "    y_hats_train = np.full_like(cv_y_train, cv_y_test_pred)\n",
    "    print(\"Train:\", np.mean((y_hats_train - cv_y_train)**2),\n",
    "          \"Test:\", np.mean((y_hats - cv_y_test)**2))\n",
    "    \n",
    "    \n",
    "    all_ys.append(ys)\n",
    "    all_y_hats.append(y_hats)\n",
    "    \n",
    "    all_ys_train.append(cv_y_train)\n",
    "    all_y_hats_train.append(y_hats_train)\n",
    "    \n",
    "print(\"Avg Train: \", np.mean((np.hstack(all_ys_train) - np.hstack(all_y_hats_train))**2), end=\" \")\n",
    "print(\"Avg Test: \", np.mean((np.hstack(all_ys) - np.hstack(all_y_hats))**2))"
   ]
  },
  {
   "cell_type": "markdown",
   "metadata": {},
   "source": [
    "## Ridge"
   ]
  },
  {
   "cell_type": "code",
   "execution_count": 18,
   "metadata": {},
   "outputs": [],
   "source": [
    "one_hot=True"
   ]
  },
  {
   "cell_type": "code",
   "execution_count": 19,
   "metadata": {},
   "outputs": [],
   "source": [
    "X_train = np.vstack(train_df.apply(lambda mol: make_simple_descriptor(mol, elements, one_hot=one_hot), axis=1))\n",
    "X_test = np.vstack(test_df.apply(lambda mol: make_simple_descriptor(mol, elements, one_hot=one_hot), axis=1))"
   ]
  },
  {
   "cell_type": "code",
   "execution_count": 20,
   "metadata": {},
   "outputs": [],
   "source": [
    "from  sklearn.linear_model import RidgeCV"
   ]
  },
  {
   "cell_type": "code",
   "execution_count": 21,
   "metadata": {},
   "outputs": [
    {
     "data": {
      "text/plain": [
       "RidgeCV(alphas=array([ 0.1,  1. , 10. ]))"
      ]
     },
     "execution_count": 21,
     "metadata": {},
     "output_type": "execute_result"
    }
   ],
   "source": [
    "rcv = RidgeCV()\n",
    "rcv.fit(X_train, y_train)"
   ]
  },
  {
   "cell_type": "code",
   "execution_count": 22,
   "metadata": {},
   "outputs": [
    {
     "data": {
      "text/plain": [
       "0.31424910684546825"
      ]
     },
     "execution_count": 22,
     "metadata": {},
     "output_type": "execute_result"
    }
   ],
   "source": [
    "y_pred_train = rcv.predict(X_train)\n",
    "np.mean((y_pred_train - y_train)**2)"
   ]
  },
  {
   "cell_type": "code",
   "execution_count": 23,
   "metadata": {},
   "outputs": [
    {
     "data": {
      "image/png": "[encoded data removed]",
      "text/plain": [
       "<Figure size 432x288 with 1 Axes>"
      ]
     },
     "metadata": {
      "needs_background": "light"
     },
     "output_type": "display_data"
    }
   ],
   "source": [
    "plt.scatter(y_train, y_pred_train, alpha=0.1)\n",
    "plt.plot([y.min(), y.max()], [y.min(), y.max()], c=\"red\")\n",
    "plt.show()"
   ]
  },
  {
   "cell_type": "code",
   "execution_count": 24,
   "metadata": {},
   "outputs": [
    {
     "data": {
      "text/plain": [
       "0.31897659071338985"
      ]
     },
     "execution_count": 24,
     "metadata": {},
     "output_type": "execute_result"
    }
   ],
   "source": [
    "y_test_pred = rcv.predict(X_test)\n",
    "np.mean((y_test_pred - y_test)**2)"
   ]
  },
  {
   "cell_type": "code",
   "execution_count": 25,
   "metadata": {},
   "outputs": [
    {
     "data": {
      "image/png": "[encoded data removed]",
      "text/plain": [
       "<Figure size 432x288 with 1 Axes>"
      ]
     },
     "metadata": {
      "needs_background": "light"
     },
     "output_type": "display_data"
    }
   ],
   "source": [
    "plt.scatter(y_test, y_test_pred, alpha=0.1)\n",
    "plt.plot([y.min(), y.max()], [y.min(), y.max()], c=\"red\")\n",
    "plt.show()"
   ]
  },
  {
   "cell_type": "code",
   "execution_count": 26,
   "metadata": {},
   "outputs": [
    {
     "name": "stdout",
     "output_type": "stream",
     "text": [
      "Train: 0.3178202609514905 Test: 0.3126395930968473\n",
      "Train: 0.31246855271896573 Test: 0.3335391828186628\n",
      "Train: 0.30158992051620803 Test: 0.3775706099624331\n",
      "Train: 0.31157019351234155 Test: 0.33134994413329283\n",
      "Train: 0.30811938438263886 Test: 0.3548655962890664\n",
      "Avg Train:  0.31031337430209127 Avg Test:  0.3419862244349402\n"
     ]
    }
   ],
   "source": [
    "seed_everything()\n",
    "all_ys = []\n",
    "all_y_hats = []\n",
    "all_ys_train = []\n",
    "all_y_hats_train = []\n",
    "\n",
    "for train_indices, test_indices in KFold(n_splits=5, shuffle=True).split(df):\n",
    "    \n",
    "    cv_train_df = df.iloc[train_indices]\n",
    "    cv_test_df = df.iloc[test_indices]\n",
    "    \n",
    "    \n",
    "    cv_X_train = np.vstack(cv_train_df.apply(lambda mol: make_simple_descriptor(mol, elements, one_hot=one_hot), axis=1))\n",
    "    cv_X_test = np.vstack(cv_test_df.apply(lambda mol: make_simple_descriptor(mol, elements, one_hot=one_hot), axis=1))\n",
    "    cv_y_train = y.iloc[train_indices] # cv_train_df.enthalpy_atom\n",
    "    cv_y_test = y.iloc[test_indices] # cv_test_df.enthalpy_atom\n",
    "    \n",
    "    rcv = RidgeCV()\n",
    "    rcv.fit(cv_X_train, cv_y_train)\n",
    "    y_hats = rcv.predict(cv_X_test)\n",
    "    \n",
    "    y_hats_train = rcv.predict(cv_X_train)\n",
    "    print(\"Train:\", np.mean((y_hats_train - cv_y_train)**2),\n",
    "          \"Test:\", np.mean((y_hats - cv_y_test)**2))\n",
    "    \n",
    "    all_ys.append(cv_y_test)\n",
    "    all_y_hats.append(y_hats)\n",
    "    \n",
    "    all_ys_train.append(cv_y_train)\n",
    "    all_y_hats_train.append(y_hats_train)\n",
    "\n",
    "    \n",
    "print(\"Avg Train: \", np.mean((np.hstack(all_ys_train) - np.hstack(all_y_hats_train))**2), end=\" \")\n",
    "print(\"Avg Test: \", np.mean((np.hstack(all_ys) - np.hstack(all_y_hats))**2))"
   ]
  },
  {
   "cell_type": "markdown",
   "metadata": {},
   "source": [
    "## MLP"
   ]
  },
  {
   "cell_type": "code",
   "execution_count": 27,
   "metadata": {},
   "outputs": [],
   "source": [
    "one_hot = False"
   ]
  },
  {
   "cell_type": "code",
   "execution_count": 28,
   "metadata": {},
   "outputs": [],
   "source": [
    "X_train = np.vstack(train_df.apply(lambda mol: make_simple_descriptor(mol, elements, one_hot=one_hot), axis=1))\n",
    "X_test = np.vstack(test_df.apply(lambda mol: make_simple_descriptor(mol, elements, one_hot=one_hot), axis=1))"
   ]
  },
  {
   "cell_type": "code",
   "execution_count": 29,
   "metadata": {},
   "outputs": [],
   "source": [
    "from sklearn.neural_network import MLPRegressor"
   ]
  },
  {
   "cell_type": "code",
   "execution_count": 30,
   "metadata": {},
   "outputs": [
    {
     "data": {
      "text/plain": [
       "MLPRegressor(max_iter=5000, random_state=0)"
      ]
     },
     "execution_count": 30,
     "metadata": {},
     "output_type": "execute_result"
    }
   ],
   "source": [
    "mlp = MLPRegressor(random_state=0, max_iter=5000)\n",
    "mlp.fit(X_train, y_train)"
   ]
  },
  {
   "cell_type": "code",
   "execution_count": 31,
   "metadata": {},
   "outputs": [
    {
     "data": {
      "text/plain": [
       "0.017788457091297966"
      ]
     },
     "execution_count": 31,
     "metadata": {},
     "output_type": "execute_result"
    }
   ],
   "source": [
    "y_pred_train = mlp.predict(X_train)\n",
    "np.mean((y_pred_train - y_train)**2)"
   ]
  },
  {
   "cell_type": "code",
   "execution_count": 32,
   "metadata": {},
   "outputs": [
    {
     "data": {
      "image/png": "[encoded data removed]",
      "text/plain": [
       "<Figure size 432x288 with 1 Axes>"
      ]
     },
     "metadata": {
      "needs_background": "light"
     },
     "output_type": "display_data"
    }
   ],
   "source": [
    "plt.scatter(y_train, y_pred_train, alpha=0.1)\n",
    "plt.plot([y.min(), y.max()], [y.min(), y.max()], c=\"red\")\n",
    "plt.show()"
   ]
  },
  {
   "cell_type": "code",
   "execution_count": 33,
   "metadata": {},
   "outputs": [
    {
     "data": {
      "text/plain": [
       "0.22099334586178102"
      ]
     },
     "execution_count": 33,
     "metadata": {},
     "output_type": "execute_result"
    }
   ],
   "source": [
    "y_test_pred = mlp.predict(X_test)\n",
    "np.mean((y_test_pred - y_test)**2)"
   ]
  },
  {
   "cell_type": "code",
   "execution_count": 34,
   "metadata": {},
   "outputs": [
    {
     "data": {
      "image/png": "[encoded data removed]",
      "text/plain": [
       "<Figure size 432x288 with 1 Axes>"
      ]
     },
     "metadata": {
      "needs_background": "light"
     },
     "output_type": "display_data"
    }
   ],
   "source": [
    "plt.scatter(y_test, y_test_pred, alpha=0.1)\n",
    "plt.plot([y.min(), y.max()], [y.min(), y.max()], c=\"red\")\n",
    "plt.show()"
   ]
  },
  {
   "cell_type": "code",
   "execution_count": 35,
   "metadata": {},
   "outputs": [
    {
     "name": "stdout",
     "output_type": "stream",
     "text": [
      "Train: 0.013989953432060043 Test: 0.24456395859603813\n",
      "Train: 0.012476417080240821 Test: 0.27310441877099795\n",
      "Train: 0.022838660768905648 Test: 0.2951134674904405\n",
      "Train: 0.015546774319572774 Test: 0.3186995329232572\n",
      "Train: 0.014051106011699862 Test: 0.3270071418993867\n",
      "Avg Train:  0.0157803552378962 Avg Test:  0.2916791590631442\n"
     ]
    }
   ],
   "source": [
    "seed_everything()\n",
    "all_ys = []\n",
    "all_y_hats = []\n",
    "all_ys_train = []\n",
    "all_y_hats_train = []\n",
    "\n",
    "for train_indices, test_indices in KFold(n_splits=5, shuffle=True).split(df):\n",
    "    \n",
    "    cv_train_df = df.iloc[train_indices]\n",
    "    cv_test_df = df.iloc[test_indices]\n",
    "    \n",
    "    \n",
    "    cv_X_train = np.vstack(cv_train_df.apply(lambda mol: make_simple_descriptor(mol, elements, one_hot=one_hot), axis=1))\n",
    "    cv_X_test = np.vstack(cv_test_df.apply(lambda mol: make_simple_descriptor(mol, elements, one_hot=one_hot), axis=1))\n",
    "    cv_y_train = y.iloc[train_indices] # cv_train_df.enthalpy_atom\n",
    "    cv_y_test = y.iloc[test_indices] # cv_test_df.enthalpy_atom\n",
    "    \n",
    "    mlp = MLPRegressor(random_state=0, max_iter=5000)\n",
    "    mlp.fit(cv_X_train, cv_y_train)\n",
    "    y_hats = mlp.predict(cv_X_test)\n",
    "    \n",
    "    y_hats_train = mlp.predict(cv_X_train)\n",
    "    print(\"Train:\", np.mean((y_hats_train - cv_y_train)**2),\n",
    "          \"Test:\", np.mean((y_hats - cv_y_test)**2))\n",
    "    \n",
    "    all_ys.append(cv_y_test)\n",
    "    all_y_hats.append(y_hats)\n",
    "    \n",
    "    all_ys_train.append(cv_y_train)\n",
    "    all_y_hats_train.append(y_hats_train)\n",
    "    \n",
    "\n",
    "print(\"Avg Train: \", np.mean((np.hstack(all_ys_train) - np.hstack(all_y_hats_train))**2), end=\" \")\n",
    "print(\"Avg Test: \", np.mean((np.hstack(all_ys) - np.hstack(all_y_hats))**2))"
   ]
  }
 ],
 "metadata": {
  "kernelspec": {
   "display_name": "Python 3",
   "language": "python",
   "name": "python3"
  },
  "language_info": {
   "codemirror_mode": {
    "name": "ipython",
    "version": 3
   },
   "file_extension": ".py",
   "mimetype": "text/x-python",
   "name": "python",
   "nbconvert_exporter": "python",
   "pygments_lexer": "ipython3",
   "version": "3.8.1"
  }
 },
 "nbformat": 4,
 "nbformat_minor": 4
}
