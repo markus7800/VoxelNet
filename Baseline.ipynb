{
 "cells": [
  {
   "cell_type": "code",
   "execution_count": 1,
   "metadata": {},
   "outputs": [
    {
     "data": {
      "application/vnd.jupyter.widget-view+json": {
       "model_id": "cfa2340796a24bb19fd313ba64c793eb",
       "version_major": 2,
       "version_minor": 0
      },
      "text/plain": []
     },
     "metadata": {},
     "output_type": "display_data"
    }
   ],
   "source": [
    "import pandas as pd\n",
    "import numpy as np\n",
    "import matplotlib.pyplot as plt\n",
    "#%matplotlib widget\n",
    "\n",
    "from voxel import *\n",
    "from mol_tools import *\n",
    "from ML_utils import *\n",
    "\n",
    "from sklearn.model_selection import train_test_split, KFold"
   ]
  },
  {
   "cell_type": "code",
   "execution_count": 2,
   "metadata": {},
   "outputs": [],
   "source": [
    "def drop_duplicates(df):\n",
    "    df = df.drop_duplicates(subset=\"compound\", keep=\"first\")\n",
    "    print(\"Number of molecules\", df.shape[0])\n",
    "    return df"
   ]
  },
  {
   "cell_type": "code",
   "execution_count": 3,
   "metadata": {},
   "outputs": [],
   "source": [
    "def get_all_elements(df):\n",
    "      return np.unique(np.hstack(np.array(df.species)))"
   ]
  },
  {
   "cell_type": "code",
   "execution_count": 4,
   "metadata": {},
   "outputs": [
    {
     "name": "stdout",
     "output_type": "stream",
     "text": [
      "Number of molecules 5456\n"
     ]
    }
   ],
   "source": [
    "#df = pd.read_pickle(\"data/icsd_221_cp5_3_species.pkl\")\n",
    "#df = pd.read_pickle(\"data/all_221_cp5_3_species_oxides.pkl\")\n",
    "df = pd.read_pickle(\"data/all_3_species_oxides.pkl\")\n",
    "\n",
    "# df = df[~df.enthalpy_formation_atom.isna()]\n",
    "df = drop_duplicates(df)"
   ]
  },
  {
   "cell_type": "code",
   "execution_count": 5,
   "metadata": {},
   "outputs": [
    {
     "data": {
      "text/plain": [
       "array(['Ag', 'Al', 'As', 'Au', 'B', 'Ba', 'Be', 'Bi', 'Br', 'C', 'Ca',\n",
       "       'Cd', 'Ce', 'Cl', 'Co', 'Cr', 'Cs', 'Cu', 'Dy', 'Er', 'Eu', 'F',\n",
       "       'Fe', 'Ga', 'Gd', 'Ge', 'H', 'Hf', 'Hg', 'Ho', 'I', 'In', 'Ir',\n",
       "       'K', 'La', 'Li', 'Lu', 'Mg', 'Mn', 'Mo', 'N', 'Na', 'Nb', 'Nd',\n",
       "       'Ni', 'O', 'Os', 'P', 'Pa', 'Pb', 'Pd', 'Pr', 'Pt', 'Pu', 'Rb',\n",
       "       'Re', 'Rh', 'Ru', 'S', 'Sb', 'Sc', 'Se', 'Si', 'Sn', 'Sr', 'Ta',\n",
       "       'Tb', 'Tc', 'Te', 'Th', 'Ti', 'Tl', 'Tm', 'U', 'V', 'W', 'Xe', 'Y',\n",
       "       'Yb', 'Zn', 'Zr'], dtype='<U2')"
      ]
     },
     "execution_count": 5,
     "metadata": {},
     "output_type": "execute_result"
    }
   ],
   "source": [
    "elements = get_all_elements(df)\n",
    "elements"
   ]
  },
  {
   "cell_type": "code",
   "execution_count": 6,
   "metadata": {},
   "outputs": [
    {
     "data": {
      "text/plain": [
       "81"
      ]
     },
     "execution_count": 6,
     "metadata": {},
     "output_type": "execute_result"
    }
   ],
   "source": [
    "nchannel = len(elements)\n",
    "nchannel"
   ]
  },
  {
   "cell_type": "code",
   "execution_count": 7,
   "metadata": {},
   "outputs": [],
   "source": [
    "np.random.seed(0)\n",
    "train_df, test_df = train_test_split(df, test_size=0.1)"
   ]
  },
  {
   "cell_type": "code",
   "execution_count": 8,
   "metadata": {},
   "outputs": [],
   "source": [
    "def make_simple_descriptor(mol, elements):\n",
    "    descriptor = np.zeros((len(elements),))\n",
    "    \n",
    "    for i, (element, n_atoms) in enumerate(zip(mol.species, mol.composition)):\n",
    "        j = np.where(elements == element)[0][0] # get channel for element\n",
    "        # descriptor[j] = 1\n",
    "        descriptor[j] = n_atoms\n",
    "            \n",
    "    return descriptor"
   ]
  },
  {
   "cell_type": "code",
   "execution_count": 9,
   "metadata": {},
   "outputs": [
    {
     "data": {
      "text/plain": [
       "auid                                                  aflow:b281fdee92d2d2b2\n",
       "aurl                       aflowlib.duke.edu:AFLOWDATA/LIB3_RAW/AgOOs_pv/...\n",
       "compound                                                            Ag1O3Os1\n",
       "composition                                                        [1, 3, 1]\n",
       "species                                                          [Ag, O, Os]\n",
       "natoms                                                                     5\n",
       "spacegroup                                                               221\n",
       "pearson_symbol                                                           cP5\n",
       "geometry                   [3.9184369, 3.9184369, 3.9184369, 90.0, 90.0, ...\n",
       "positions_fractional       [[0.0, 0.0, 0.0], [0.0, 0.5, 0.5], [0.5, 0.0, ...\n",
       "positions_cartesian        [[0.0, 0.0, 0.0], [0.0, 1.95922, 1.95922], [1....\n",
       "enthalpy_atom                                                       -5.34058\n",
       "enthalpy_formation_atom                                             0.427456\n",
       "Name: 0, dtype: object"
      ]
     },
     "execution_count": 9,
     "metadata": {},
     "output_type": "execute_result"
    }
   ],
   "source": [
    "df.loc[0]"
   ]
  },
  {
   "cell_type": "code",
   "execution_count": 10,
   "metadata": {},
   "outputs": [
    {
     "data": {
      "text/plain": [
       "array([1., 0., 0., 0., 0., 0., 0., 0., 0., 0., 0., 0., 0., 0., 0., 0., 0.,\n",
       "       0., 0., 0., 0., 0., 0., 0., 0., 0., 0., 0., 0., 0., 0., 0., 0., 0.,\n",
       "       0., 0., 0., 0., 0., 0., 0., 0., 0., 0., 0., 3., 1., 0., 0., 0., 0.,\n",
       "       0., 0., 0., 0., 0., 0., 0., 0., 0., 0., 0., 0., 0., 0., 0., 0., 0.,\n",
       "       0., 0., 0., 0., 0., 0., 0., 0., 0., 0., 0., 0., 0.])"
      ]
     },
     "execution_count": 10,
     "metadata": {},
     "output_type": "execute_result"
    }
   ],
   "source": [
    "make_simple_descriptor(df.loc[0], elements)"
   ]
  },
  {
   "cell_type": "code",
   "execution_count": 11,
   "metadata": {},
   "outputs": [
    {
     "data": {
      "text/plain": [
       "(5456, 81)"
      ]
     },
     "execution_count": 11,
     "metadata": {},
     "output_type": "execute_result"
    }
   ],
   "source": [
    "X = np.vstack(df.apply(lambda mol: make_simple_descriptor(mol, elements), axis=1))\n",
    "X.shape"
   ]
  },
  {
   "cell_type": "code",
   "execution_count": 12,
   "metadata": {},
   "outputs": [
    {
     "data": {
      "text/plain": [
       "(5456,)"
      ]
     },
     "execution_count": 12,
     "metadata": {},
     "output_type": "execute_result"
    }
   ],
   "source": [
    "y = df.enthalpy_atom\n",
    "# y = df.enthalpy_formation_atom\n",
    "y.shape"
   ]
  },
  {
   "cell_type": "code",
   "execution_count": 13,
   "metadata": {},
   "outputs": [],
   "source": [
    "seed_everything()\n",
    "train_df, test_df = train_test_split(df, test_size=0.1)\n",
    "X_train = np.vstack(train_df.apply(lambda mol: make_simple_descriptor(mol, elements), axis=1))\n",
    "X_test = np.vstack(test_df.apply(lambda mol: make_simple_descriptor(mol, elements), axis=1))\n",
    "y_train = train_df.enthalpy_atom\n",
    "y_test = test_df.enthalpy_atom"
   ]
  },
  {
   "cell_type": "code",
   "execution_count": 14,
   "metadata": {},
   "outputs": [
    {
     "name": "stdout",
     "output_type": "stream",
     "text": [
      "(4910, 81) (4910,)\n",
      "(546, 81) (546,)\n"
     ]
    }
   ],
   "source": [
    "print(X_train.shape, y_train.shape)\n",
    "print(X_test.shape, y_test.shape)"
   ]
  },
  {
   "cell_type": "markdown",
   "metadata": {},
   "source": [
    "## Zero R"
   ]
  },
  {
   "cell_type": "code",
   "execution_count": 15,
   "metadata": {},
   "outputs": [
    {
     "data": {
      "text/plain": [
       "2.487462435259781"
      ]
     },
     "execution_count": 15,
     "metadata": {},
     "output_type": "execute_result"
    }
   ],
   "source": [
    "y_pred_train = np.mean(y_train)\n",
    "np.mean((y_pred_train - y_train)**2)"
   ]
  },
  {
   "cell_type": "code",
   "execution_count": 16,
   "metadata": {},
   "outputs": [
    {
     "data": {
      "text/plain": [
       "2.7501099673272686"
      ]
     },
     "execution_count": 16,
     "metadata": {},
     "output_type": "execute_result"
    }
   ],
   "source": [
    "y_test_pred = np.mean(y_train)\n",
    "np.mean((y_test_pred - y_test)**2)"
   ]
  },
  {
   "cell_type": "code",
   "execution_count": 17,
   "metadata": {},
   "outputs": [
    {
     "name": "stdout",
     "output_type": "stream",
     "text": [
      "Train: 2.473080087667889 Test: 2.675867382006104\n",
      "Train: 2.512042733354173 Test: 2.52246732008057\n",
      "Train: 2.5634427693258597 Test: 2.314731957099063\n",
      "Train: 2.5147389350749076 Test: 2.5128594109108127\n",
      "Train: 2.5034657273955556 Test: 2.5543057291531834\n"
     ]
    },
    {
     "data": {
      "text/plain": [
       "2.5160756525592864"
      ]
     },
     "execution_count": 17,
     "metadata": {},
     "output_type": "execute_result"
    }
   ],
   "source": [
    "seed_everything()\n",
    "all_ys = []\n",
    "all_y_hats = []\n",
    "\n",
    "for train_indices, test_indices in KFold(n_splits=5, shuffle=True).split(df):\n",
    "    \n",
    "    train_df = df.iloc[train_indices]\n",
    "    test_df = df.iloc[test_indices]\n",
    "    \n",
    "    \n",
    "    #cv_X_train = np.vstack(train_df.apply(lambda mol: make_simple_descriptor(mol, elements), axis=1))\n",
    "    #cv_X_test = np.vstack(test_df.apply(lambda mol: make_simple_descriptor(mol, elements), axis=1))\n",
    "    cv_y_train = train_df.enthalpy_atom\n",
    "    cv_y_test = test_df.enthalpy_atom\n",
    "    \n",
    "    cv_y_test_pred = np.mean(cv_y_train)\n",
    "    \n",
    "    ys = cv_y_test\n",
    "    y_hats = np.full_like(cv_y_test, cv_y_test_pred)\n",
    "    \n",
    "    \n",
    "    print(\"Train:\", np.mean((np.full_like(cv_y_train, cv_y_test_pred) - cv_y_train)**2),\n",
    "          \"Test:\", np.mean((y_hats - cv_y_test)**2))\n",
    "    \n",
    "    all_ys.append(ys)\n",
    "    all_y_hats.append(y_hats)\n",
    "    \n",
    "np.mean((np.hstack(all_ys) - np.hstack(all_y_hats))**2)"
   ]
  },
  {
   "cell_type": "markdown",
   "metadata": {},
   "source": [
    "## Ridge"
   ]
  },
  {
   "cell_type": "code",
   "execution_count": 18,
   "metadata": {},
   "outputs": [],
   "source": [
    "from  sklearn.linear_model import RidgeCV"
   ]
  },
  {
   "cell_type": "code",
   "execution_count": 19,
   "metadata": {},
   "outputs": [
    {
     "data": {
      "text/plain": [
       "RidgeCV(alphas=array([ 0.1,  1. , 10. ]))"
      ]
     },
     "execution_count": 19,
     "metadata": {},
     "output_type": "execute_result"
    }
   ],
   "source": [
    "rcv = RidgeCV()\n",
    "rcv.fit(X_train, y_train)"
   ]
  },
  {
   "cell_type": "code",
   "execution_count": 20,
   "metadata": {},
   "outputs": [
    {
     "data": {
      "text/plain": [
       "1.1823916377619617"
      ]
     },
     "execution_count": 20,
     "metadata": {},
     "output_type": "execute_result"
    }
   ],
   "source": [
    "y_pred_train = rcv.predict(X_train)\n",
    "np.mean((y_pred_train - y_train)**2)"
   ]
  },
  {
   "cell_type": "code",
   "execution_count": 21,
   "metadata": {},
   "outputs": [
    {
     "data": {
      "image/png": "[encoded data removed]",
      "text/plain": [
       "<Figure size 432x288 with 1 Axes>"
      ]
     },
     "metadata": {
      "needs_background": "light"
     },
     "output_type": "display_data"
    }
   ],
   "source": [
    "plt.scatter(y_train, y_pred_train, alpha=0.1)\n",
    "plt.plot([y.min(), y.max()], [y.min(), y.max()], c=\"red\")\n",
    "plt.show()"
   ]
  },
  {
   "cell_type": "code",
   "execution_count": 22,
   "metadata": {},
   "outputs": [
    {
     "data": {
      "text/plain": [
       "1.4250956828574939"
      ]
     },
     "execution_count": 22,
     "metadata": {},
     "output_type": "execute_result"
    }
   ],
   "source": [
    "y_test_pred = rcv.predict(X_test)\n",
    "np.mean((y_test_pred - y_test)**2)"
   ]
  },
  {
   "cell_type": "code",
   "execution_count": 23,
   "metadata": {},
   "outputs": [
    {
     "data": {
      "image/png": "[encoded data removed]",
      "text/plain": [
       "<Figure size 432x288 with 1 Axes>"
      ]
     },
     "metadata": {
      "needs_background": "light"
     },
     "output_type": "display_data"
    }
   ],
   "source": [
    "plt.scatter(y_test, y_test_pred, alpha=0.1)\n",
    "plt.plot([y.min(), y.max()], [y.min(), y.max()], c=\"red\")\n",
    "plt.show()"
   ]
  },
  {
   "cell_type": "code",
   "execution_count": 24,
   "metadata": {},
   "outputs": [
    {
     "name": "stdout",
     "output_type": "stream",
     "text": [
      "Train: 1.1764414874482676 Test: 1.3623448110411265\n",
      "Train: 1.201294723836023 Test: 1.3332722602472822\n",
      "Train: 1.2122559373457789 Test: 1.2193119527026364\n",
      "Train: 1.1602767890519121 Test: 1.6005392496127395\n",
      "Train: 1.2059939898187066 Test: 1.2315522366517064\n"
     ]
    },
    {
     "data": {
      "text/plain": [
       "1.3494064738819247"
      ]
     },
     "execution_count": 24,
     "metadata": {},
     "output_type": "execute_result"
    }
   ],
   "source": [
    "seed_everything()\n",
    "all_ys = []\n",
    "all_y_hats = []\n",
    "\n",
    "for train_indices, test_indices in KFold(n_splits=5, shuffle=True).split(df):\n",
    "    \n",
    "    train_df = df.iloc[train_indices]\n",
    "    test_df = df.iloc[test_indices]\n",
    "    \n",
    "    \n",
    "    cv_X_train = np.vstack(train_df.apply(lambda mol: make_simple_descriptor(mol, elements), axis=1))\n",
    "    cv_X_test = np.vstack(test_df.apply(lambda mol: make_simple_descriptor(mol, elements), axis=1))\n",
    "    cv_y_train = train_df.enthalpy_atom\n",
    "    cv_y_test = test_df.enthalpy_atom\n",
    "    \n",
    "    rcv = RidgeCV()\n",
    "    rcv.fit(cv_X_train, cv_y_train)\n",
    "    y_hats = rcv.predict(cv_X_test)\n",
    "    \n",
    "    \n",
    "    print(\"Train:\", np.mean((rcv.predict(cv_X_train) - cv_y_train)**2),\n",
    "          \"Test:\", np.mean((y_hats - cv_y_test)**2))\n",
    "    \n",
    "    all_ys.append(cv_y_test)\n",
    "    all_y_hats.append(y_hats)\n",
    "    \n",
    "np.mean((np.hstack(all_ys) - np.hstack(all_y_hats))**2)"
   ]
  },
  {
   "cell_type": "markdown",
   "metadata": {},
   "source": [
    "## MLP"
   ]
  },
  {
   "cell_type": "code",
   "execution_count": 25,
   "metadata": {},
   "outputs": [],
   "source": [
    "from sklearn.neural_network import MLPRegressor"
   ]
  },
  {
   "cell_type": "code",
   "execution_count": 26,
   "metadata": {},
   "outputs": [
    {
     "data": {
      "text/plain": [
       "MLPRegressor(max_iter=1000, random_state=0)"
      ]
     },
     "execution_count": 26,
     "metadata": {},
     "output_type": "execute_result"
    }
   ],
   "source": [
    "mlp = MLPRegressor(random_state=0, max_iter=1000)\n",
    "mlp.fit(X_train, y_train)"
   ]
  },
  {
   "cell_type": "code",
   "execution_count": 27,
   "metadata": {},
   "outputs": [
    {
     "data": {
      "text/plain": [
       "0.15968691786963696"
      ]
     },
     "execution_count": 27,
     "metadata": {},
     "output_type": "execute_result"
    }
   ],
   "source": [
    "y_pred_train = mlp.predict(X_train)\n",
    "np.mean((y_pred_train - y_train)**2)"
   ]
  },
  {
   "cell_type": "code",
   "execution_count": 28,
   "metadata": {},
   "outputs": [
    {
     "data": {
      "image/png": "[encoded data removed]",
      "text/plain": [
       "<Figure size 432x288 with 1 Axes>"
      ]
     },
     "metadata": {
      "needs_background": "light"
     },
     "output_type": "display_data"
    }
   ],
   "source": [
    "plt.scatter(y_train, y_pred_train, alpha=0.1)\n",
    "plt.plot([y.min(), y.max()], [y.min(), y.max()], c=\"red\")\n",
    "plt.show()"
   ]
  },
  {
   "cell_type": "code",
   "execution_count": 29,
   "metadata": {},
   "outputs": [
    {
     "data": {
      "text/plain": [
       "0.34798492666672004"
      ]
     },
     "execution_count": 29,
     "metadata": {},
     "output_type": "execute_result"
    }
   ],
   "source": [
    "y_test_pred = mlp.predict(X_test)\n",
    "np.mean((y_test_pred - y_test)**2)"
   ]
  },
  {
   "cell_type": "code",
   "execution_count": 30,
   "metadata": {},
   "outputs": [
    {
     "data": {
      "image/png": "[encoded data removed]",
      "text/plain": [
       "<Figure size 432x288 with 1 Axes>"
      ]
     },
     "metadata": {
      "needs_background": "light"
     },
     "output_type": "display_data"
    }
   ],
   "source": [
    "plt.scatter(y_test, y_test_pred, alpha=0.1)\n",
    "plt.plot([y.min(), y.max()], [y.min(), y.max()], c=\"red\")\n",
    "plt.show()"
   ]
  },
  {
   "cell_type": "code",
   "execution_count": 31,
   "metadata": {},
   "outputs": [
    {
     "name": "stdout",
     "output_type": "stream",
     "text": [
      "Train: 0.17070830356117694 Test: 0.40977523358019075\n",
      "Train: 0.16373387172981319 Test: 0.3914974052673535\n",
      "Train: 0.16697552147760839 Test: 0.29094547908548074\n",
      "Train: 0.16368797188168388 Test: 0.4318152708919275\n",
      "Train: 0.15045862648279745 Test: 0.3844440424675473\n"
     ]
    },
    {
     "data": {
      "text/plain": [
       "0.381700632839754"
      ]
     },
     "execution_count": 31,
     "metadata": {},
     "output_type": "execute_result"
    }
   ],
   "source": [
    "seed_everything()\n",
    "all_ys = []\n",
    "all_y_hats = []\n",
    "\n",
    "for train_indices, test_indices in KFold(n_splits=5, shuffle=True).split(df):\n",
    "    \n",
    "    train_df = df.iloc[train_indices]\n",
    "    test_df = df.iloc[test_indices]\n",
    "    \n",
    "    \n",
    "    cv_X_train = np.vstack(train_df.apply(lambda mol: make_simple_descriptor(mol, elements), axis=1))\n",
    "    cv_X_test = np.vstack(test_df.apply(lambda mol: make_simple_descriptor(mol, elements), axis=1))\n",
    "    cv_y_train = train_df.enthalpy_atom\n",
    "    cv_y_test = test_df.enthalpy_atom\n",
    "    \n",
    "    mlp = MLPRegressor(random_state=0, max_iter=1000)\n",
    "    mlp.fit(cv_X_train, cv_y_train)\n",
    "    y_hats = mlp.predict(cv_X_test)\n",
    "    \n",
    "    print(\"Train:\", np.mean((mlp.predict(cv_X_train) - cv_y_train)**2),\n",
    "          \"Test:\", np.mean((y_hats - cv_y_test)**2))\n",
    "    \n",
    "    all_ys.append(cv_y_test)\n",
    "    all_y_hats.append(y_hats)\n",
    "    \n",
    "np.mean((np.hstack(all_ys) - np.hstack(all_y_hats))**2)"
   ]
  },
  {
   "cell_type": "code",
   "execution_count": null,
   "metadata": {},
   "outputs": [],
   "source": []
  }
 ],
 "metadata": {
  "kernelspec": {
   "display_name": "Python 3",
   "language": "python",
   "name": "python3"
  },
  "language_info": {
   "codemirror_mode": {
    "name": "ipython",
    "version": 3
   },
   "file_extension": ".py",
   "mimetype": "text/x-python",
   "name": "python",
   "nbconvert_exporter": "python",
   "pygments_lexer": "ipython3",
   "version": "3.8.1"
  }
 },
 "nbformat": 4,
 "nbformat_minor": 4
}
