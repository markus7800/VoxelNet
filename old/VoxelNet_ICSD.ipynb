{
 "cells": [
  {
   "cell_type": "code",
   "execution_count": 1,
   "metadata": {},
   "outputs": [
    {
     "data": {
      "application/vnd.jupyter.widget-view+json": {
       "model_id": "0349855c3193428ebb6ba1587870027f",
       "version_major": 2,
       "version_minor": 0
      },
      "text/plain": []
     },
     "metadata": {},
     "output_type": "display_data"
    }
   ],
   "source": [
    "import numpy as np\n",
    "import pandas as pd\n",
    "\n",
    "from molloader import *\n",
    "from ML_utils import *\n",
    "\n",
    "import torch\n",
    "import torch.nn as nn\n",
    "\n",
    "from sklearn.model_selection import train_test_split, KFold"
   ]
  },
  {
   "cell_type": "code",
   "execution_count": 2,
   "metadata": {},
   "outputs": [],
   "source": [
    "def drop_duplicates(df):\n",
    "    df = df.drop_duplicates(subset=\"compound\", keep=\"first\")\n",
    "    print(\"Number of molecules\", df.shape[0])\n",
    "    return df"
   ]
  },
  {
   "cell_type": "code",
   "execution_count": 3,
   "metadata": {},
   "outputs": [],
   "source": [
    "def get_all_elements(df):\n",
    "      return np.unique(np.hstack(np.array(df.species)))"
   ]
  },
  {
   "cell_type": "code",
   "execution_count": 4,
   "metadata": {},
   "outputs": [],
   "source": [
    "class VoxelNet(nn.Module):\n",
    "    def __init__(self, in_channels=1):\n",
    "        super().__init__()\n",
    "        # (N, C, D, H, W)\n",
    "        self.conv1 = nn.Sequential(\n",
    "            nn.Conv3d(in_channels, 16, 3, padding=0, stride=1),\n",
    "            #nn.BatchNorm3d(16),\n",
    "            nn.LeakyReLU(0.3),\n",
    "            nn.MaxPool3d(2))\n",
    "        \n",
    "        self.conv2 = nn.Sequential(\n",
    "            nn.Conv3d(16, 16, 3, padding=0, stride=1),\n",
    "            nn.LeakyReLU(0.3),\n",
    "            nn.MaxPool3d(2))\n",
    "        \n",
    "        self.conv3 = nn.Sequential(\n",
    "            nn.Conv3d(16, 16, 3, padding=0, stride=1),\n",
    "            nn.LeakyReLU(0.3))\n",
    "        \n",
    "        self.regressor = nn.Sequential(nn.Flatten(),\n",
    "                                        nn.Linear(1024, 32),\n",
    "                                        nn.LeakyReLU(0.3),\n",
    "                                        nn.Linear(32, 8),\n",
    "                                        nn.LeakyReLU(0.3),\n",
    "                                        nn.Linear(8, 1))\n",
    "    def forward(self, x):\n",
    "        #print(x.shape)\n",
    "        x = self.conv1(x)\n",
    "        # print(\"conv1\", x.shape)\n",
    "        x = self.conv2(x)\n",
    "        # print(\"conv2\", x.shape)\n",
    "        x = self.conv3(x)\n",
    "        # print(\"conv3\", x.shape)\n",
    "        x = self.regressor(x)\n",
    "        return x"
   ]
  },
  {
   "cell_type": "code",
   "execution_count": 5,
   "metadata": {},
   "outputs": [
    {
     "name": "stdout",
     "output_type": "stream",
     "text": [
      "Number of molecules 377\n"
     ]
    },
    {
     "data": {
      "text/html": [
       "<div>\n",
       "<style scoped>\n",
       "    .dataframe tbody tr th:only-of-type {\n",
       "        vertical-align: middle;\n",
       "    }\n",
       "\n",
       "    .dataframe tbody tr th {\n",
       "        vertical-align: top;\n",
       "    }\n",
       "\n",
       "    .dataframe thead th {\n",
       "        text-align: right;\n",
       "    }\n",
       "</style>\n",
       "<table border=\"1\" class=\"dataframe\">\n",
       "  <thead>\n",
       "    <tr style=\"text-align: right;\">\n",
       "      <th></th>\n",
       "      <th>auid</th>\n",
       "      <th>aurl</th>\n",
       "      <th>compound</th>\n",
       "      <th>composition</th>\n",
       "      <th>species</th>\n",
       "      <th>natoms</th>\n",
       "      <th>spacegroup</th>\n",
       "      <th>pearson_symbol</th>\n",
       "      <th>geometry</th>\n",
       "      <th>positions_fractional</th>\n",
       "      <th>positions_cartesian</th>\n",
       "      <th>enthalpy_atom</th>\n",
       "      <th>enthalpy_formation_atom</th>\n",
       "    </tr>\n",
       "  </thead>\n",
       "  <tbody>\n",
       "    <tr>\n",
       "      <th>0</th>\n",
       "      <td>aflow:c2bae074d76f81b6</td>\n",
       "      <td>aflowlib.duke.edu:AFLOWDATA/ICSD_WEB/CUB/Ag1F3...</td>\n",
       "      <td>Ag1F3Zn1</td>\n",
       "      <td>[1, 3, 1]</td>\n",
       "      <td>[Ag, F, Zn]</td>\n",
       "      <td>5</td>\n",
       "      <td>221</td>\n",
       "      <td>cP5</td>\n",
       "      <td>[3.979183, 3.979183, 3.979183, 90.0, 90.0, 90.0]</td>\n",
       "      <td>[[0.0, 0.0, 0.0], [0.5, 0.5, 0.0], [0.0, 0.5, ...</td>\n",
       "      <td>[[0.0, 0.0, 0.0], [1.98959, 1.98959, -0.0], [0...</td>\n",
       "      <td>-3.35725</td>\n",
       "      <td>None</td>\n",
       "    </tr>\n",
       "    <tr>\n",
       "      <th>1</th>\n",
       "      <td>aflow:c568d79d0d0e9fc8</td>\n",
       "      <td>aflowlib.duke.edu:AFLOWDATA/ICSD_WEB/CUB/Ag1Mn...</td>\n",
       "      <td>Ag1Mn3N1</td>\n",
       "      <td>[1, 3, 1]</td>\n",
       "      <td>[Ag, Mn, N]</td>\n",
       "      <td>5</td>\n",
       "      <td>221</td>\n",
       "      <td>cP5</td>\n",
       "      <td>[4.265445, 4.265445, 4.265445, 90.0, 90.0, 90.0]</td>\n",
       "      <td>[[0.0, 0.0, 0.0], [0.0, 0.5, 0.5], [0.5, 0.0, ...</td>\n",
       "      <td>[[0.0, 0.0, 0.0], [0.0, 2.13272, 2.13272], [2....</td>\n",
       "      <td>-5.99960</td>\n",
       "      <td>None</td>\n",
       "    </tr>\n",
       "    <tr>\n",
       "      <th>2</th>\n",
       "      <td>aflow:8944b3eb2c189cb7</td>\n",
       "      <td>aflowlib.duke.edu:AFLOWDATA/ICSD_WEB/CUB/Ag1Nb...</td>\n",
       "      <td>Ag1Nb1O3</td>\n",
       "      <td>[1, 1, 3]</td>\n",
       "      <td>[Ag, Nb, O]</td>\n",
       "      <td>5</td>\n",
       "      <td>221</td>\n",
       "      <td>cP5</td>\n",
       "      <td>[4.000268, 4.000268, 4.000268, 90.0, 90.0, 90.0]</td>\n",
       "      <td>[[0.5, 0.5, 0.5], [0.0, 0.0, 0.0], [0.0, 0.0, ...</td>\n",
       "      <td>[[2.00013, 2.00013, 2.00013], [0.0, 0.0, 0.0],...</td>\n",
       "      <td>-6.76521</td>\n",
       "      <td>None</td>\n",
       "    </tr>\n",
       "    <tr>\n",
       "      <th>3</th>\n",
       "      <td>aflow:9da57f587b92d20f</td>\n",
       "      <td>aflowlib.duke.edu:AFLOWDATA/ICSD_WEB/CUB/Ag3I1...</td>\n",
       "      <td>Ag3I1S1</td>\n",
       "      <td>[3, 1, 1]</td>\n",
       "      <td>[Ag, I, S]</td>\n",
       "      <td>5</td>\n",
       "      <td>221</td>\n",
       "      <td>cP5</td>\n",
       "      <td>[5.0311, 5.0311, 5.0311, 90.0, 90.0, 90.0]</td>\n",
       "      <td>[[0.5, 0.5, 0.0], [0.0, 0.5, 0.5], [0.5, 0.0, ...</td>\n",
       "      <td>[[2.51555, 2.51555, 0.0], [-0.0, 2.51555, 2.51...</td>\n",
       "      <td>-1.61106</td>\n",
       "      <td>None</td>\n",
       "    </tr>\n",
       "    <tr>\n",
       "      <th>4</th>\n",
       "      <td>aflow:d43abd3deaeccc51</td>\n",
       "      <td>aflowlib.duke.edu:AFLOWDATA/ICSD_WEB/CUB/Al1Bi...</td>\n",
       "      <td>Al1Bi1O3</td>\n",
       "      <td>[1, 1, 3]</td>\n",
       "      <td>[Al, Bi, O]</td>\n",
       "      <td>5</td>\n",
       "      <td>221</td>\n",
       "      <td>cP5</td>\n",
       "      <td>[3.793297, 3.793297, 3.793297, 90.0, 90.0, 90.0]</td>\n",
       "      <td>[[0.5, 0.5, 0.5], [0.0, 0.0, 0.0], [0.0, 0.5, ...</td>\n",
       "      <td>[[1.89665, 1.89665, 1.89665], [0.0, 0.0, 0.0],...</td>\n",
       "      <td>-6.54116</td>\n",
       "      <td>-2.28122</td>\n",
       "    </tr>\n",
       "    <tr>\n",
       "      <th>...</th>\n",
       "      <td>...</td>\n",
       "      <td>...</td>\n",
       "      <td>...</td>\n",
       "      <td>...</td>\n",
       "      <td>...</td>\n",
       "      <td>...</td>\n",
       "      <td>...</td>\n",
       "      <td>...</td>\n",
       "      <td>...</td>\n",
       "      <td>...</td>\n",
       "      <td>...</td>\n",
       "      <td>...</td>\n",
       "      <td>...</td>\n",
       "    </tr>\n",
       "    <tr>\n",
       "      <th>722</th>\n",
       "      <td>aflow:f2a5b2edf497bb0b</td>\n",
       "      <td>aflowlib.duke.edu:AFLOWDATA/ICSD_WEB/CUB/O3Sn1...</td>\n",
       "      <td>O3Sn1Ti1</td>\n",
       "      <td>[3, 1, 1]</td>\n",
       "      <td>[O, Sn, Ti]</td>\n",
       "      <td>5</td>\n",
       "      <td>221</td>\n",
       "      <td>cP5</td>\n",
       "      <td>[3.980776, 3.980776, 3.980776, 90.0, 90.0, 90.0]</td>\n",
       "      <td>[[0.5, 0.5, 0.0], [0.0, 0.5, 0.5], [0.5, 0.0, ...</td>\n",
       "      <td>[[1.99039, 1.99039, -0.0], [0.0, 1.99039, 1.99...</td>\n",
       "      <td>-6.92630</td>\n",
       "      <td>None</td>\n",
       "    </tr>\n",
       "    <tr>\n",
       "      <th>723</th>\n",
       "      <td>aflow:493eb6e26780d785</td>\n",
       "      <td>aflowlib.duke.edu:AFLOWDATA/ICSD_WEB/CUB/O3Sr1...</td>\n",
       "      <td>O3Sr1Tc1</td>\n",
       "      <td>[3, 1, 1]</td>\n",
       "      <td>[O, Sr, Tc]</td>\n",
       "      <td>5</td>\n",
       "      <td>221</td>\n",
       "      <td>cP5</td>\n",
       "      <td>[4.045254, 4.045254, 4.045254, 90.0, 90.0, 90.0]</td>\n",
       "      <td>[[0.5, 0.0, 0.0], [0.0, 0.5, 0.0], [0.0, 0.0, ...</td>\n",
       "      <td>[[2.02263, 0.0, 0.0], [0.0, 2.02263, 0.0], [-0...</td>\n",
       "      <td>-6.91254</td>\n",
       "      <td>None</td>\n",
       "    </tr>\n",
       "    <tr>\n",
       "      <th>725</th>\n",
       "      <td>aflow:37c7f43d3abe11ce</td>\n",
       "      <td>aflowlib.duke.edu:AFLOWDATA/ICSD_WEB/CUB/O3Sr1...</td>\n",
       "      <td>O3Sr1Ti1</td>\n",
       "      <td>[3, 1, 1]</td>\n",
       "      <td>[O, Sr, Ti]</td>\n",
       "      <td>5</td>\n",
       "      <td>221</td>\n",
       "      <td>cP5</td>\n",
       "      <td>[3.97291, 3.97291, 3.97291, 90.0, 90.0, 90.0]</td>\n",
       "      <td>[[0.0, 0.5, 0.5], [0.5, 0.0, 0.5], [0.5, 0.5, ...</td>\n",
       "      <td>[[0.0, 1.98645, 1.98645], [1.98645, 0.0, 1.986...</td>\n",
       "      <td>-7.47382</td>\n",
       "      <td>None</td>\n",
       "    </tr>\n",
       "    <tr>\n",
       "      <th>751</th>\n",
       "      <td>aflow:6381b955a3963bf3</td>\n",
       "      <td>aflowlib.duke.edu:AFLOWDATA/ICSD_WEB/CUB/O3Sr1...</td>\n",
       "      <td>O3Sr1V1</td>\n",
       "      <td>[3, 1, 1]</td>\n",
       "      <td>[O, Sr, V]</td>\n",
       "      <td>5</td>\n",
       "      <td>221</td>\n",
       "      <td>cP5</td>\n",
       "      <td>[3.897829, 3.897829, 3.897829, 90.0, 90.0, 90.0]</td>\n",
       "      <td>[[0.5, 0.0, 0.0], [0.0, 0.5, 0.0], [0.0, 0.0, ...</td>\n",
       "      <td>[[1.94891, 0.0, -0.0], [-0.0, 1.94891, 0.0], [...</td>\n",
       "      <td>-7.35920</td>\n",
       "      <td>None</td>\n",
       "    </tr>\n",
       "    <tr>\n",
       "      <th>754</th>\n",
       "      <td>aflow:e5bd303dd4bbe6a5</td>\n",
       "      <td>aflowlib.duke.edu:AFLOWDATA/ICSD_WEB/CUB/O3Sr1...</td>\n",
       "      <td>O3Sr1Zr1</td>\n",
       "      <td>[3, 1, 1]</td>\n",
       "      <td>[O, Sr, Zr]</td>\n",
       "      <td>5</td>\n",
       "      <td>221</td>\n",
       "      <td>cP5</td>\n",
       "      <td>[4.199808, 4.199808, 4.199808, 90.0, 90.0, 90.0]</td>\n",
       "      <td>[[0.5, 0.5, 0.0], [0.0, 0.5, 0.5], [0.5, 0.0, ...</td>\n",
       "      <td>[[2.0999, 2.0999, 0.0], [0.0, 2.0999, 2.0999],...</td>\n",
       "      <td>-8.21154</td>\n",
       "      <td>-3.46243</td>\n",
       "    </tr>\n",
       "  </tbody>\n",
       "</table>\n",
       "<p>377 rows × 13 columns</p>\n",
       "</div>"
      ],
      "text/plain": [
       "                       auid  \\\n",
       "0    aflow:c2bae074d76f81b6   \n",
       "1    aflow:c568d79d0d0e9fc8   \n",
       "2    aflow:8944b3eb2c189cb7   \n",
       "3    aflow:9da57f587b92d20f   \n",
       "4    aflow:d43abd3deaeccc51   \n",
       "..                      ...   \n",
       "722  aflow:f2a5b2edf497bb0b   \n",
       "723  aflow:493eb6e26780d785   \n",
       "725  aflow:37c7f43d3abe11ce   \n",
       "751  aflow:6381b955a3963bf3   \n",
       "754  aflow:e5bd303dd4bbe6a5   \n",
       "\n",
       "                                                  aurl  compound composition  \\\n",
       "0    aflowlib.duke.edu:AFLOWDATA/ICSD_WEB/CUB/Ag1F3...  Ag1F3Zn1   [1, 3, 1]   \n",
       "1    aflowlib.duke.edu:AFLOWDATA/ICSD_WEB/CUB/Ag1Mn...  Ag1Mn3N1   [1, 3, 1]   \n",
       "2    aflowlib.duke.edu:AFLOWDATA/ICSD_WEB/CUB/Ag1Nb...  Ag1Nb1O3   [1, 1, 3]   \n",
       "3    aflowlib.duke.edu:AFLOWDATA/ICSD_WEB/CUB/Ag3I1...   Ag3I1S1   [3, 1, 1]   \n",
       "4    aflowlib.duke.edu:AFLOWDATA/ICSD_WEB/CUB/Al1Bi...  Al1Bi1O3   [1, 1, 3]   \n",
       "..                                                 ...       ...         ...   \n",
       "722  aflowlib.duke.edu:AFLOWDATA/ICSD_WEB/CUB/O3Sn1...  O3Sn1Ti1   [3, 1, 1]   \n",
       "723  aflowlib.duke.edu:AFLOWDATA/ICSD_WEB/CUB/O3Sr1...  O3Sr1Tc1   [3, 1, 1]   \n",
       "725  aflowlib.duke.edu:AFLOWDATA/ICSD_WEB/CUB/O3Sr1...  O3Sr1Ti1   [3, 1, 1]   \n",
       "751  aflowlib.duke.edu:AFLOWDATA/ICSD_WEB/CUB/O3Sr1...   O3Sr1V1   [3, 1, 1]   \n",
       "754  aflowlib.duke.edu:AFLOWDATA/ICSD_WEB/CUB/O3Sr1...  O3Sr1Zr1   [3, 1, 1]   \n",
       "\n",
       "         species natoms spacegroup pearson_symbol  \\\n",
       "0    [Ag, F, Zn]      5        221            cP5   \n",
       "1    [Ag, Mn, N]      5        221            cP5   \n",
       "2    [Ag, Nb, O]      5        221            cP5   \n",
       "3     [Ag, I, S]      5        221            cP5   \n",
       "4    [Al, Bi, O]      5        221            cP5   \n",
       "..           ...    ...        ...            ...   \n",
       "722  [O, Sn, Ti]      5        221            cP5   \n",
       "723  [O, Sr, Tc]      5        221            cP5   \n",
       "725  [O, Sr, Ti]      5        221            cP5   \n",
       "751   [O, Sr, V]      5        221            cP5   \n",
       "754  [O, Sr, Zr]      5        221            cP5   \n",
       "\n",
       "                                             geometry  \\\n",
       "0    [3.979183, 3.979183, 3.979183, 90.0, 90.0, 90.0]   \n",
       "1    [4.265445, 4.265445, 4.265445, 90.0, 90.0, 90.0]   \n",
       "2    [4.000268, 4.000268, 4.000268, 90.0, 90.0, 90.0]   \n",
       "3          [5.0311, 5.0311, 5.0311, 90.0, 90.0, 90.0]   \n",
       "4    [3.793297, 3.793297, 3.793297, 90.0, 90.0, 90.0]   \n",
       "..                                                ...   \n",
       "722  [3.980776, 3.980776, 3.980776, 90.0, 90.0, 90.0]   \n",
       "723  [4.045254, 4.045254, 4.045254, 90.0, 90.0, 90.0]   \n",
       "725     [3.97291, 3.97291, 3.97291, 90.0, 90.0, 90.0]   \n",
       "751  [3.897829, 3.897829, 3.897829, 90.0, 90.0, 90.0]   \n",
       "754  [4.199808, 4.199808, 4.199808, 90.0, 90.0, 90.0]   \n",
       "\n",
       "                                  positions_fractional  \\\n",
       "0    [[0.0, 0.0, 0.0], [0.5, 0.5, 0.0], [0.0, 0.5, ...   \n",
       "1    [[0.0, 0.0, 0.0], [0.0, 0.5, 0.5], [0.5, 0.0, ...   \n",
       "2    [[0.5, 0.5, 0.5], [0.0, 0.0, 0.0], [0.0, 0.0, ...   \n",
       "3    [[0.5, 0.5, 0.0], [0.0, 0.5, 0.5], [0.5, 0.0, ...   \n",
       "4    [[0.5, 0.5, 0.5], [0.0, 0.0, 0.0], [0.0, 0.5, ...   \n",
       "..                                                 ...   \n",
       "722  [[0.5, 0.5, 0.0], [0.0, 0.5, 0.5], [0.5, 0.0, ...   \n",
       "723  [[0.5, 0.0, 0.0], [0.0, 0.5, 0.0], [0.0, 0.0, ...   \n",
       "725  [[0.0, 0.5, 0.5], [0.5, 0.0, 0.5], [0.5, 0.5, ...   \n",
       "751  [[0.5, 0.0, 0.0], [0.0, 0.5, 0.0], [0.0, 0.0, ...   \n",
       "754  [[0.5, 0.5, 0.0], [0.0, 0.5, 0.5], [0.5, 0.0, ...   \n",
       "\n",
       "                                   positions_cartesian  enthalpy_atom  \\\n",
       "0    [[0.0, 0.0, 0.0], [1.98959, 1.98959, -0.0], [0...       -3.35725   \n",
       "1    [[0.0, 0.0, 0.0], [0.0, 2.13272, 2.13272], [2....       -5.99960   \n",
       "2    [[2.00013, 2.00013, 2.00013], [0.0, 0.0, 0.0],...       -6.76521   \n",
       "3    [[2.51555, 2.51555, 0.0], [-0.0, 2.51555, 2.51...       -1.61106   \n",
       "4    [[1.89665, 1.89665, 1.89665], [0.0, 0.0, 0.0],...       -6.54116   \n",
       "..                                                 ...            ...   \n",
       "722  [[1.99039, 1.99039, -0.0], [0.0, 1.99039, 1.99...       -6.92630   \n",
       "723  [[2.02263, 0.0, 0.0], [0.0, 2.02263, 0.0], [-0...       -6.91254   \n",
       "725  [[0.0, 1.98645, 1.98645], [1.98645, 0.0, 1.986...       -7.47382   \n",
       "751  [[1.94891, 0.0, -0.0], [-0.0, 1.94891, 0.0], [...       -7.35920   \n",
       "754  [[2.0999, 2.0999, 0.0], [0.0, 2.0999, 2.0999],...       -8.21154   \n",
       "\n",
       "    enthalpy_formation_atom  \n",
       "0                      None  \n",
       "1                      None  \n",
       "2                      None  \n",
       "3                      None  \n",
       "4                  -2.28122  \n",
       "..                      ...  \n",
       "722                    None  \n",
       "723                    None  \n",
       "725                    None  \n",
       "751                    None  \n",
       "754                -3.46243  \n",
       "\n",
       "[377 rows x 13 columns]"
      ]
     },
     "execution_count": 5,
     "metadata": {},
     "output_type": "execute_result"
    }
   ],
   "source": [
    "df = pd.read_pickle(\"data/icsd_221_cp5_3_species.pkl\")\n",
    "df = drop_duplicates(df)\n",
    "df"
   ]
  },
  {
   "cell_type": "code",
   "execution_count": 6,
   "metadata": {},
   "outputs": [
    {
     "name": "stdout",
     "output_type": "stream",
     "text": [
      "(339, 13) (38, 13)\n"
     ]
    }
   ],
   "source": [
    "seed_everything()\n",
    "train_df, test_df = train_test_split(df, test_size=0.1)\n",
    "print(train_df.shape, test_df.shape)"
   ]
  },
  {
   "cell_type": "code",
   "execution_count": 7,
   "metadata": {},
   "outputs": [
    {
     "data": {
      "text/plain": [
       "(76,\n",
       " array(['Ag', 'Al', 'As', 'Au', 'B', 'Ba', 'Be', 'Bi', 'Br', 'C', 'Ca',\n",
       "        'Cd', 'Ce', 'Cl', 'Co', 'Cr', 'Cs', 'Cu', 'Dy', 'Er', 'Eu', 'F',\n",
       "        'Fe', 'Ga', 'Gd', 'Ge', 'H', 'Hf', 'Hg', 'Ho', 'I', 'In', 'Ir',\n",
       "        'K', 'La', 'Li', 'Lu', 'Mg', 'Mn', 'Mo', 'N', 'Na', 'Nb', 'Nd',\n",
       "        'Ni', 'O', 'P', 'Pa', 'Pb', 'Pd', 'Pr', 'Pt', 'Pu', 'Rb', 'Rh',\n",
       "        'Ru', 'S', 'Sb', 'Sc', 'Si', 'Sn', 'Sr', 'Ta', 'Tb', 'Tc', 'Th',\n",
       "        'Ti', 'Tl', 'Tm', 'U', 'V', 'W', 'Y', 'Yb', 'Zn', 'Zr'],\n",
       "       dtype='<U2'))"
      ]
     },
     "execution_count": 7,
     "metadata": {},
     "output_type": "execute_result"
    }
   ],
   "source": [
    "elements = get_all_elements(df)\n",
    "nchannel = len(elements)\n",
    "nchannel, elements"
   ]
  },
  {
   "cell_type": "code",
   "execution_count": 8,
   "metadata": {},
   "outputs": [
    {
     "data": {
      "text/plain": [
       "79777"
      ]
     },
     "execution_count": 8,
     "metadata": {},
     "output_type": "execute_result"
    }
   ],
   "source": [
    "net = VoxelNet(nchannel)\n",
    "count_parameters(net)"
   ]
  },
  {
   "cell_type": "code",
   "execution_count": 9,
   "metadata": {},
   "outputs": [
    {
     "name": "stdout",
     "output_type": "stream",
     "text": [
      "Initialised MolLoader with 339 molecules. sigma = 0.1, L=12.8, N=32, nchannel=76, shuffle=True, rotate=True, device=cuda\n",
      "Initialised MolLoader with 38 molecules. sigma = 0.1, L=12.8, N=32, nchannel=76, shuffle=False, rotate=False, device=cuda\n",
      "Epoch 0: train loss 27.649011611938477 val loss 27.423416137695312\n",
      "Epoch 1: train loss 22.86301612854004 val loss 14.535316467285156\n",
      "Epoch 2: train loss 7.457096099853516 val loss 6.862462997436523\n",
      "Epoch 3: train loss 4.960904598236084 val loss 3.5831716060638428\n",
      "Epoch 4: train loss 4.020195484161377 val loss 3.9473912715911865\n",
      "Epoch 5: train loss 3.080455780029297 val loss 2.993619918823242\n",
      "Epoch 6: train loss 2.961697578430176 val loss 2.655860424041748\n",
      "Epoch 7: train loss 2.711576223373413 val loss 2.8405439853668213\n",
      "Epoch 8: train loss 2.521676778793335 val loss 2.4884889125823975\n",
      "Epoch 9: train loss 2.5905158519744873 val loss 2.435825824737549\n",
      "Epoch 10: train loss 2.4018094539642334 val loss 2.590648889541626\n",
      "Epoch 11: train loss 2.4149320125579834 val loss 2.3496737480163574\n",
      "Epoch 12: train loss 2.3589305877685547 val loss 2.351313352584839\n",
      "Epoch 13: train loss 2.2838923931121826 val loss 2.3765931129455566\n",
      "Epoch 14: train loss 2.230172872543335 val loss 2.200209379196167\n",
      "Epoch 15: train loss 2.259838342666626 val loss 2.1947567462921143\n",
      "Epoch 16: train loss 2.3060688972473145 val loss 2.261272430419922\n",
      "Epoch 17: train loss 2.032097339630127 val loss 2.0896575450897217\n",
      "Epoch 18: train loss 2.0764739513397217 val loss 2.1824491024017334\n",
      "Epoch 19: train loss 1.9457757472991943 val loss 1.8859708309173584\n",
      "Epoch 20: train loss 1.827714443206787 val loss 1.7989892959594727\n",
      "Epoch 21: train loss 1.7532933950424194 val loss 1.7307049036026\n",
      "Epoch 22: train loss 1.5983753204345703 val loss 1.5291928052902222\n",
      "Epoch 23: train loss 1.434054970741272 val loss 1.4560372829437256\n",
      "Epoch 24: train loss 1.2839092016220093 val loss 1.207809329032898\n",
      "Epoch 25: train loss 1.1723191738128662 val loss 1.0682551860809326\n",
      "Epoch 26: train loss 1.0212970972061157 val loss 0.9930016398429871\n",
      "Epoch 27: train loss 0.898015022277832 val loss 0.8134592175483704\n",
      "Epoch 28: train loss 0.8020114898681641 val loss 0.7203405499458313\n",
      "Epoch 29: train loss 0.7061974406242371 val loss 0.6450175642967224\n",
      "Epoch 30: train loss 0.6458936333656311 val loss 0.5851098895072937\n",
      "Epoch 31: train loss 0.6414405703544617 val loss 0.5481323003768921\n",
      "Epoch 32: train loss 0.6333153247833252 val loss 0.824475109577179\n",
      "Epoch 33: train loss 0.5815487504005432 val loss 0.6455591320991516\n",
      "Epoch 34: train loss 0.5367589592933655 val loss 0.5393909811973572\n",
      "Epoch 35: train loss 0.47781145572662354 val loss 0.5956282019615173\n",
      "Epoch 36: train loss 0.448984295129776 val loss 0.5757807493209839\n",
      "Epoch 37: train loss 0.41572144627571106 val loss 0.5403799414634705\n",
      "Epoch 38: train loss 0.41557568311691284 val loss 0.6060251593589783\n",
      "Epoch 39: train loss 0.388403058052063 val loss 0.5985175967216492\n",
      "Epoch 40: train loss 0.37695780396461487 val loss 0.5525331497192383\n",
      "Epoch 41: train loss 0.34659504890441895 val loss 0.5781787037849426\n",
      "Epoch 42: train loss 0.3370901942253113 val loss 0.5837323069572449\n",
      "Epoch 43: train loss 0.31631383299827576 val loss 0.5428646802902222\n",
      "Epoch 44: train loss 0.2963851988315582 val loss 0.5332760214805603\n",
      "Epoch 45: train loss 0.30357033014297485 val loss 0.5532659888267517\n",
      "Epoch 46: train loss 0.28924867510795593 val loss 0.5571750998497009\n",
      "Epoch 47: train loss 0.28434133529663086 val loss 0.5637639164924622\n",
      "Epoch 48: train loss 0.2504481375217438 val loss 0.5781952738761902\n",
      "Epoch 49: train loss 0.22873762249946594 val loss 0.5972110629081726\n",
      "Finished in 261.2706s.\n"
     ]
    },
    {
     "data": {
      "image/png": "[encoded data removed]",
      "text/plain": [
       "<Figure size 432x288 with 1 Axes>"
      ]
     },
     "metadata": {
      "needs_background": "light"
     },
     "output_type": "display_data"
    }
   ],
   "source": [
    "L = 12.8\n",
    "sigma = 0.1\n",
    "N = 32\n",
    "epochs = 50\n",
    "\n",
    "seed_everything()\n",
    "device = get_default_device()\n",
    "\n",
    "net = VoxelNet(nchannel)\n",
    "net = net.to(device)\n",
    "\n",
    "ml_train = MolLoader(train_df, sigma=sigma, elements=elements,\n",
    "               L=L, N=N, batch_size=64, nchannel=nchannel,\n",
    "               shuffle=True, rotate_randomly=True, device=device, reduce_data=False)\n",
    "\n",
    "ml_test = MolLoader(test_df, sigma=sigma, elements=elements,\n",
    "                   L=L, N=N, batch_size=128, nchannel=nchannel,\n",
    "                   shuffle=False, rotate_randomly=False, device=device, reduce_data=False)\n",
    "\n",
    "fit(epochs, net, ml_train, ml_test, torch.optim.Adam, lr=0.001, weight_decay=0)"
   ]
  },
  {
   "cell_type": "markdown",
   "metadata": {},
   "source": [
    "### Train Plots"
   ]
  },
  {
   "cell_type": "code",
   "execution_count": 10,
   "metadata": {},
   "outputs": [
    {
     "data": {
      "image/png": "[encoded data removed]",
      "text/plain": [
       "<Figure size 432x288 with 1 Axes>"
      ]
     },
     "metadata": {
      "needs_background": "light"
     },
     "output_type": "display_data"
    }
   ],
   "source": [
    "ml_pred = ml_train\n",
    "ml_pred.reset(batch_size=128, shuffle=False, rotate_randomly=False)\n",
    "ys, y_hats = predict(net, ml_pred)\n",
    "plot_predictions(ys, y_hats)"
   ]
  },
  {
   "cell_type": "code",
   "execution_count": 11,
   "metadata": {},
   "outputs": [
    {
     "data": {
      "image/png": "[encoded data removed]",
      "text/plain": [
       "<Figure size 432x288 with 1 Axes>"
      ]
     },
     "metadata": {
      "needs_background": "light"
     },
     "output_type": "display_data"
    }
   ],
   "source": [
    "# rotations\n",
    "seed_everything()\n",
    "ml_pred = ml_train\n",
    "ml_pred.reset(batch_size=128, shuffle=False, rotate_randomly=True)\n",
    "ys, y_hats = predict_epochs(net, ml_pred, epochs=5)\n",
    "plot_predictions(ys, y_hats, alpha=0.01)"
   ]
  },
  {
   "cell_type": "markdown",
   "metadata": {},
   "source": [
    "### Test Plots"
   ]
  },
  {
   "cell_type": "code",
   "execution_count": 12,
   "metadata": {},
   "outputs": [
    {
     "data": {
      "image/png": "[encoded data removed]",
      "text/plain": [
       "<Figure size 432x288 with 1 Axes>"
      ]
     },
     "metadata": {
      "needs_background": "light"
     },
     "output_type": "display_data"
    }
   ],
   "source": [
    "ml_pred = ml_test\n",
    "ml_pred.reset(batch_size=128, shuffle=False, rotate_randomly=False)\n",
    "ys, y_hats = predict(net, ml_pred)\n",
    "plot_predictions(ys, y_hats)"
   ]
  },
  {
   "cell_type": "code",
   "execution_count": 13,
   "metadata": {},
   "outputs": [
    {
     "data": {
      "image/png": "[encoded data removed]",
      "text/plain": [
       "<Figure size 432x288 with 1 Axes>"
      ]
     },
     "metadata": {
      "needs_background": "light"
     },
     "output_type": "display_data"
    }
   ],
   "source": [
    "# rotations\n",
    "seed_everything()\n",
    "ml_pred = ml_train\n",
    "ml_pred.reset(batch_size=128, shuffle=False, rotate_randomly=True)\n",
    "ys, y_hats = predict_epochs(net, ml_pred, epochs=5)\n",
    "plot_predictions(ys, y_hats)"
   ]
  },
  {
   "cell_type": "code",
   "execution_count": 14,
   "metadata": {},
   "outputs": [
    {
     "name": "stdout",
     "output_type": "stream",
     "text": [
      "Initialised LazyMolLoader with 339 molecules. sigma=0.1, L=12.8, N=32, nchannel=76, shuffle=True, rotate=True, device=cuda\n",
      "Initialised LazyMolLoader with 38 molecules. sigma=0.1, L=12.8, N=32, nchannel=76, shuffle=False, rotate=False, device=cuda\n",
      "Epoch 0: train loss 27.649011611938477 val loss 27.423416137695312\n",
      "Epoch 1: train loss 22.86301612854004 val loss 14.535316467285156\n",
      "Epoch 2: train loss 7.457096099853516 val loss 6.862462997436523\n",
      "Epoch 3: train loss 4.960904598236084 val loss 3.5831716060638428\n",
      "Epoch 4: train loss 4.020195484161377 val loss 3.9473912715911865\n",
      "Epoch 5: train loss 3.080455780029297 val loss 2.993619918823242\n",
      "Epoch 6: train loss 2.961697578430176 val loss 2.655860424041748\n",
      "Epoch 7: train loss 2.711576223373413 val loss 2.8405439853668213\n",
      "Epoch 8: train loss 2.521676778793335 val loss 2.4884889125823975\n",
      "Epoch 9: train loss 2.5905158519744873 val loss 2.435825824737549\n",
      "Epoch 10: train loss 2.4018094539642334 val loss 2.590648889541626\n",
      "Epoch 11: train loss 2.4149320125579834 val loss 2.3496737480163574\n",
      "Epoch 12: train loss 2.3589305877685547 val loss 2.351313352584839\n",
      "Epoch 13: train loss 2.2838923931121826 val loss 2.3765931129455566\n",
      "Epoch 14: train loss 2.230172872543335 val loss 2.200209379196167\n",
      "Epoch 15: train loss 2.259838342666626 val loss 2.1947567462921143\n",
      "Epoch 16: train loss 2.3060688972473145 val loss 2.261272430419922\n",
      "Epoch 17: train loss 2.032097339630127 val loss 2.0896575450897217\n",
      "Epoch 18: train loss 2.0764739513397217 val loss 2.1824491024017334\n",
      "Epoch 19: train loss 1.9457757472991943 val loss 1.8859708309173584\n",
      "Epoch 20: train loss 1.827714443206787 val loss 1.7989892959594727\n",
      "Epoch 21: train loss 1.7532933950424194 val loss 1.7307049036026\n",
      "Epoch 22: train loss 1.5983753204345703 val loss 1.5291928052902222\n",
      "Epoch 23: train loss 1.434054970741272 val loss 1.4560372829437256\n",
      "Epoch 24: train loss 1.2839092016220093 val loss 1.207809329032898\n",
      "Epoch 25: train loss 1.1723191738128662 val loss 1.0682551860809326\n",
      "Epoch 26: train loss 1.0212970972061157 val loss 0.9930016398429871\n",
      "Epoch 27: train loss 0.898015022277832 val loss 0.8134592175483704\n",
      "Epoch 28: train loss 0.8020114898681641 val loss 0.7203405499458313\n",
      "Epoch 29: train loss 0.7061974406242371 val loss 0.6450175642967224\n",
      "Epoch 30: train loss 0.6458936333656311 val loss 0.5851098895072937\n",
      "Epoch 31: train loss 0.6414405703544617 val loss 0.5481323003768921\n",
      "Epoch 32: train loss 0.6333153247833252 val loss 0.824475109577179\n",
      "Epoch 33: train loss 0.5815487504005432 val loss 0.6455591320991516\n",
      "Epoch 34: train loss 0.5367589592933655 val loss 0.5393909811973572\n",
      "Epoch 35: train loss 0.47781145572662354 val loss 0.5956282019615173\n",
      "Epoch 36: train loss 0.448984295129776 val loss 0.5757807493209839\n",
      "Epoch 37: train loss 0.41572144627571106 val loss 0.5403799414634705\n",
      "Epoch 38: train loss 0.41557568311691284 val loss 0.6060251593589783\n",
      "Epoch 39: train loss 0.388403058052063 val loss 0.5985175967216492\n",
      "Epoch 40: train loss 0.37695780396461487 val loss 0.5525331497192383\n",
      "Epoch 41: train loss 0.34659504890441895 val loss 0.5781787037849426\n",
      "Epoch 42: train loss 0.3370901942253113 val loss 0.5837323069572449\n",
      "Epoch 43: train loss 0.31631383299827576 val loss 0.5428646802902222\n",
      "Epoch 44: train loss 0.2963851988315582 val loss 0.5332760214805603\n",
      "Epoch 45: train loss 0.30357033014297485 val loss 0.5532659888267517\n",
      "Epoch 46: train loss 0.28924867510795593 val loss 0.5571750998497009\n",
      "Epoch 47: train loss 0.28434133529663086 val loss 0.5637639164924622\n",
      "Epoch 48: train loss 0.2504481375217438 val loss 0.5781952738761902\n",
      "Epoch 49: train loss 0.22873762249946594 val loss 0.5972110629081726\n",
      "Finished in 398.8014s.\n"
     ]
    },
    {
     "data": {
      "image/png": "[encoded data removed]",
      "text/plain": [
       "<Figure size 432x288 with 1 Axes>"
      ]
     },
     "metadata": {
      "needs_background": "light"
     },
     "output_type": "display_data"
    }
   ],
   "source": [
    "L = 12.8\n",
    "sigma = 0.1\n",
    "N = 32\n",
    "epochs = 50\n",
    "\n",
    "seed_everything()\n",
    "device = get_default_device()\n",
    "\n",
    "net = VoxelNet(nchannel)\n",
    "net = net.to(device)\n",
    "\n",
    "ml_train = LazyMolLoader(train_df, sigma=sigma, elements=elements,\n",
    "               L=L, N=N, batch_size=64, nchannel=nchannel,\n",
    "               shuffle=True, rotate_randomly=True, device=device)\n",
    "\n",
    "ml_test = LazyMolLoader(test_df, sigma=sigma, elements=elements,\n",
    "                   L=L, N=N, batch_size=128, nchannel=nchannel,\n",
    "                   shuffle=False, rotate_randomly=False, device=device)\n",
    "\n",
    "fit(epochs, net, ml_train, ml_test, torch.optim.Adam, lr=0.001, weight_decay=0)"
   ]
  },
  {
   "cell_type": "code",
   "execution_count": 15,
   "metadata": {},
   "outputs": [
    {
     "name": "stdout",
     "output_type": "stream",
     "text": [
      "Initialised MolLoader with 339 molecules. sigma = 0.1, L=12.8, N=32, nchannel=76, shuffle=True, rotate=True, device=cuda\n",
      "Initialised MolLoader with 38 molecules. sigma = 0.1, L=12.8, N=32, nchannel=76, shuffle=False, rotate=False, device=cuda\n",
      "Epoch 0: train loss 27.649011611938477 val loss 27.423416137695312\n",
      "Epoch 1: train loss 22.86301612854004 val loss 14.535316467285156\n",
      "Epoch 2: train loss 7.457096099853516 val loss 6.862462997436523\n",
      "Epoch 3: train loss 4.960904598236084 val loss 3.5831716060638428\n",
      "Epoch 4: train loss 4.020195484161377 val loss 3.9473912715911865\n",
      "Epoch 5: train loss 3.080455780029297 val loss 2.993619918823242\n",
      "Epoch 6: train loss 2.961697578430176 val loss 2.655860424041748\n",
      "Epoch 7: train loss 2.711576223373413 val loss 2.8405439853668213\n",
      "Epoch 8: train loss 2.521676778793335 val loss 2.4884889125823975\n",
      "Epoch 9: train loss 2.5905158519744873 val loss 2.435825824737549\n",
      "Epoch 10: train loss 2.4018094539642334 val loss 2.590648889541626\n",
      "Epoch 11: train loss 2.4149320125579834 val loss 2.3496737480163574\n",
      "Epoch 12: train loss 2.3589305877685547 val loss 2.351313352584839\n",
      "Epoch 13: train loss 2.2838923931121826 val loss 2.3765931129455566\n",
      "Epoch 14: train loss 2.230172872543335 val loss 2.200209379196167\n",
      "Epoch 15: train loss 2.259838342666626 val loss 2.1947567462921143\n",
      "Epoch 16: train loss 2.3060688972473145 val loss 2.261272430419922\n",
      "Epoch 17: train loss 2.032097339630127 val loss 2.0896575450897217\n",
      "Epoch 18: train loss 2.0764739513397217 val loss 2.1824491024017334\n",
      "Epoch 19: train loss 1.9457757472991943 val loss 1.8859708309173584\n",
      "Epoch 20: train loss 1.827714443206787 val loss 1.7989892959594727\n",
      "Epoch 21: train loss 1.7532933950424194 val loss 1.7307049036026\n",
      "Epoch 22: train loss 1.5983753204345703 val loss 1.5291928052902222\n",
      "Epoch 23: train loss 1.434054970741272 val loss 1.4560372829437256\n",
      "Epoch 24: train loss 1.2839092016220093 val loss 1.207809329032898\n",
      "Epoch 25: train loss 1.1723191738128662 val loss 1.0682551860809326\n",
      "Epoch 26: train loss 1.0212970972061157 val loss 0.9930016398429871\n",
      "Epoch 27: train loss 0.898015022277832 val loss 0.8134592175483704\n",
      "Epoch 28: train loss 0.8020114898681641 val loss 0.7203405499458313\n",
      "Epoch 29: train loss 0.7061974406242371 val loss 0.6450175642967224\n",
      "Epoch 30: train loss 0.6458936333656311 val loss 0.5851098895072937\n",
      "Epoch 31: train loss 0.6414405703544617 val loss 0.5481323003768921\n",
      "Epoch 32: train loss 0.6333153247833252 val loss 0.824475109577179\n",
      "Epoch 33: train loss 0.5815487504005432 val loss 0.6455591320991516\n",
      "Epoch 34: train loss 0.5367589592933655 val loss 0.5393909811973572\n",
      "Epoch 35: train loss 0.47781145572662354 val loss 0.5956282019615173\n",
      "Epoch 36: train loss 0.448984295129776 val loss 0.5757807493209839\n",
      "Epoch 37: train loss 0.41572144627571106 val loss 0.5403799414634705\n",
      "Epoch 38: train loss 0.41557568311691284 val loss 0.6060251593589783\n",
      "Epoch 39: train loss 0.388403058052063 val loss 0.5985175967216492\n",
      "Epoch 40: train loss 0.37695780396461487 val loss 0.5525331497192383\n",
      "Epoch 41: train loss 0.34659504890441895 val loss 0.5781787037849426\n",
      "Epoch 42: train loss 0.3370901942253113 val loss 0.5837323069572449\n",
      "Epoch 43: train loss 0.31631383299827576 val loss 0.5428646802902222\n",
      "Epoch 44: train loss 0.2963851988315582 val loss 0.5332760214805603\n",
      "Epoch 45: train loss 0.30357033014297485 val loss 0.5532659888267517\n",
      "Epoch 46: train loss 0.28924867510795593 val loss 0.5571750998497009\n",
      "Epoch 47: train loss 0.28434133529663086 val loss 0.5637639164924622\n",
      "Epoch 48: train loss 0.2504481375217438 val loss 0.5781952738761902\n",
      "Epoch 49: train loss 0.22873762249946594 val loss 0.5972110629081726\n",
      "Finished in 328.2300s.\n"
     ]
    },
    {
     "data": {
      "image/png": "[encoded data removed]",
      "text/plain": [
       "<Figure size 432x288 with 1 Axes>"
      ]
     },
     "metadata": {
      "needs_background": "light"
     },
     "output_type": "display_data"
    }
   ],
   "source": [
    "L = 12.8\n",
    "sigma = 0.1\n",
    "N = 32\n",
    "epochs = 50\n",
    "\n",
    "seed_everything()\n",
    "device = get_default_device()\n",
    "\n",
    "net = VoxelNet(nchannel)\n",
    "net = net.to(device)\n",
    "\n",
    "ml_train = MolLoader(train_df, sigma=sigma, elements=elements,\n",
    "               L=L, N=N, batch_size=64, nchannel=nchannel,\n",
    "               shuffle=True, rotate_randomly=True, device=device, reduce_data=True)\n",
    "\n",
    "ml_test = MolLoader(test_df, sigma=sigma, elements=elements,\n",
    "                   L=L, N=N, batch_size=128, nchannel=nchannel,\n",
    "                   shuffle=False, rotate_randomly=False, device=device, reduce_data=True)\n",
    "\n",
    "fit(epochs, net, ml_train, ml_test, torch.optim.Adam, lr=0.001, weight_decay=0)"
   ]
  },
  {
   "cell_type": "code",
   "execution_count": null,
   "metadata": {},
   "outputs": [],
   "source": []
  }
 ],
 "metadata": {
  "kernelspec": {
   "display_name": "Python 3",
   "language": "python",
   "name": "python3"
  },
  "language_info": {
   "codemirror_mode": {
    "name": "ipython",
    "version": 3
   },
   "file_extension": ".py",
   "mimetype": "text/x-python",
   "name": "python",
   "nbconvert_exporter": "python",
   "pygments_lexer": "ipython3",
   "version": "3.8.5"
  }
 },
 "nbformat": 4,
 "nbformat_minor": 4
}
