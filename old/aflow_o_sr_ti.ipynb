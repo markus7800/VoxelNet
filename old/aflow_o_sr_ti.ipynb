{
 "cells": [
  {
   "cell_type": "code",
   "execution_count": 2,
   "metadata": {
    "scrolled": false
   },
   "outputs": [],
   "source": [
    "from aflow_wrapper import *"
   ]
  },
  {
   "cell_type": "code",
   "execution_count": 7,
   "metadata": {
    "scrolled": false
   },
   "outputs": [
    {
     "name": "stdout",
     "output_type": "stream",
     "text": [
      "Searching for O,Sr,Ti ...\n",
      "\u001b[31mERROR: http://aflowlib.duke.edu/search/API/?enthalpy_atom,compound,composition,species('O,Sr,Ti'),natoms,geometry,natoms,positions_fractional,positions_cartesian,species('O,Sr,Ti'),nspecies(3),paging(1,20)\n",
      "\n",
      "DB Fail!null\u001b[0m\n"
     ]
    },
    {
     "ename": "TypeError",
     "evalue": "'<' not supported between instances of 'int' and 'NoneType'",
     "output_type": "error",
     "traceback": [
      "\u001b[0;31m---------------------------------------------------------------------------\u001b[0m",
      "\u001b[0;31mTypeError\u001b[0m                                 Traceback (most recent call last)",
      "\u001b[0;32m<timed exec>\u001b[0m in \u001b[0;36m<module>\u001b[0;34m\u001b[0m\n",
      "\u001b[0;32m~/Documents/VoxelCNN/aflow_wrapper.py\u001b[0m in \u001b[0;36maflow_fetch\u001b[0;34m(species)\u001b[0m\n\u001b[1;32m     22\u001b[0m \u001b[0;34m\u001b[0m\u001b[0m\n\u001b[1;32m     23\u001b[0m     \u001b[0mcounter\u001b[0m \u001b[0;34m=\u001b[0m \u001b[0;36m1\u001b[0m\u001b[0;34m\u001b[0m\u001b[0;34m\u001b[0m\u001b[0m\n\u001b[0;32m---> 24\u001b[0;31m     \u001b[0;32mfor\u001b[0m \u001b[0mentry\u001b[0m \u001b[0;32min\u001b[0m \u001b[0mresult\u001b[0m\u001b[0;34m:\u001b[0m\u001b[0;34m\u001b[0m\u001b[0;34m\u001b[0m\u001b[0m\n\u001b[0m\u001b[1;32m     25\u001b[0m         \u001b[0mprint\u001b[0m\u001b[0;34m(\u001b[0m\u001b[0;34mf\"{counter}. Found compound\"\u001b[0m\u001b[0;34m,\u001b[0m \u001b[0mentry\u001b[0m\u001b[0;34m.\u001b[0m\u001b[0mcompound\u001b[0m\u001b[0;34m,\u001b[0m \u001b[0;34m\"with auid\"\u001b[0m\u001b[0;34m,\u001b[0m \u001b[0mentry\u001b[0m\u001b[0;34m.\u001b[0m\u001b[0mauid\u001b[0m\u001b[0;34m)\u001b[0m\u001b[0;34m\u001b[0m\u001b[0;34m\u001b[0m\u001b[0m\n\u001b[1;32m     26\u001b[0m         row = {\n",
      "\u001b[0;32m/usr/local/lib/python3.8/site-packages/aflow/control.py\u001b[0m in \u001b[0;36m__next__\u001b[0;34m(self)\u001b[0m\n\u001b[1;32m    249\u001b[0m             \u001b[0mn\u001b[0m \u001b[0;34m*=\u001b[0m \u001b[0;34m-\u001b[0m\u001b[0;36m1\u001b[0m\u001b[0;34m\u001b[0m\u001b[0;34m\u001b[0m\u001b[0m\n\u001b[1;32m    250\u001b[0m \u001b[0;34m\u001b[0m\u001b[0m\n\u001b[0;32m--> 251\u001b[0;31m         \u001b[0;32mif\u001b[0m \u001b[0mself\u001b[0m\u001b[0;34m.\u001b[0m\u001b[0m_iter\u001b[0m \u001b[0;34m<\u001b[0m \u001b[0mself\u001b[0m\u001b[0;34m.\u001b[0m\u001b[0mmax_N\u001b[0m \u001b[0;32mand\u001b[0m \u001b[0mn\u001b[0m \u001b[0;32mnot\u001b[0m \u001b[0;32min\u001b[0m \u001b[0mself\u001b[0m\u001b[0;34m.\u001b[0m\u001b[0mresponses\u001b[0m\u001b[0;34m:\u001b[0m\u001b[0;34m\u001b[0m\u001b[0;34m\u001b[0m\u001b[0m\n\u001b[0m\u001b[1;32m    252\u001b[0m             \u001b[0mself\u001b[0m\u001b[0;34m.\u001b[0m\u001b[0m_n\u001b[0m \u001b[0;34m=\u001b[0m \u001b[0mabs\u001b[0m\u001b[0;34m(\u001b[0m\u001b[0mn\u001b[0m\u001b[0;34m)\u001b[0m\u001b[0;34m\u001b[0m\u001b[0;34m\u001b[0m\u001b[0m\n\u001b[1;32m    253\u001b[0m             \u001b[0mself\u001b[0m\u001b[0;34m.\u001b[0m\u001b[0m_request\u001b[0m\u001b[0;34m(\u001b[0m\u001b[0mself\u001b[0m\u001b[0;34m.\u001b[0m\u001b[0mn\u001b[0m\u001b[0;34m,\u001b[0m \u001b[0mself\u001b[0m\u001b[0;34m.\u001b[0m\u001b[0mk\u001b[0m\u001b[0;34m)\u001b[0m\u001b[0;34m\u001b[0m\u001b[0;34m\u001b[0m\u001b[0m\n",
      "\u001b[0;31mTypeError\u001b[0m: '<' not supported between instances of 'int' and 'NoneType'"
     ]
    }
   ],
   "source": [
    "%%time\n",
    "o_sr_ti = aflow_fetch([\"Sr\", \"Ti\", \"O\"])"
   ]
  },
  {
   "cell_type": "code",
   "execution_count": 6,
   "metadata": {
    "scrolled": true
   },
   "outputs": [
    {
     "data": {
      "text/html": [
       "<div>\n",
       "<style scoped>\n",
       "    .dataframe tbody tr th:only-of-type {\n",
       "        vertical-align: middle;\n",
       "    }\n",
       "\n",
       "    .dataframe tbody tr th {\n",
       "        vertical-align: top;\n",
       "    }\n",
       "\n",
       "    .dataframe thead th {\n",
       "        text-align: right;\n",
       "    }\n",
       "</style>\n",
       "<table border=\"1\" class=\"dataframe\">\n",
       "  <thead>\n",
       "    <tr style=\"text-align: right;\">\n",
       "      <th></th>\n",
       "      <th>auid</th>\n",
       "      <th>aurl</th>\n",
       "      <th>compound</th>\n",
       "      <th>composition</th>\n",
       "      <th>species</th>\n",
       "      <th>natoms</th>\n",
       "      <th>geometry</th>\n",
       "      <th>positions_fractional</th>\n",
       "      <th>positions_cartesian</th>\n",
       "      <th>enthalpy_atom</th>\n",
       "    </tr>\n",
       "  </thead>\n",
       "  <tbody>\n",
       "    <tr>\n",
       "      <th>0</th>\n",
       "      <td>aflow:a398a1911df830b6</td>\n",
       "      <td>aflowlib.duke.edu:AFLOWDATA/LIB3_RAW/OSr_svTi_...</td>\n",
       "      <td>O3Sr1Ti1</td>\n",
       "      <td>[3, 1, 1]</td>\n",
       "      <td>[O, Sr, Ti]</td>\n",
       "      <td>5</td>\n",
       "      <td>[3.944917, 3.944917, 3.944917, 90.0, 90.0, 90.0]</td>\n",
       "      <td>[[0.5, 0.5, 0.0], [0.0, 0.5, 0.5], [0.5, 0.0, ...</td>\n",
       "      <td>[[1.97246, 1.97246, -0.0], [0.0, 1.97246, 1.97...</td>\n",
       "      <td>-8.04063</td>\n",
       "    </tr>\n",
       "    <tr>\n",
       "      <th>1</th>\n",
       "      <td>aflow:dd6b539aa43315cf</td>\n",
       "      <td>aflowlib.duke.edu:AFLOWDATA/ICSD_WEB/MCLC/O13S...</td>\n",
       "      <td>O13Sr2Ti6</td>\n",
       "      <td>[13, 2, 6]</td>\n",
       "      <td>[O, Sr, Ti]</td>\n",
       "      <td>21</td>\n",
       "      <td>[7.997203, 7.997203, 9.276024, 81.31587, 81.31...</td>\n",
       "      <td>[[-0.0, -0.0, -0.0], [0.22969052, 0.22969052, ...</td>\n",
       "      <td>[[0.0, -0.0, 0.0], [0.0, 4.66767, 6.91916], [0...</td>\n",
       "      <td>-7.74586</td>\n",
       "    </tr>\n",
       "    <tr>\n",
       "      <th>2</th>\n",
       "      <td>aflow:cf8261dc98053c05</td>\n",
       "      <td>aflowlib.duke.edu:AFLOWDATA/LIB3_RAW/OSr_svTi_...</td>\n",
       "      <td>O4Sr2Ti1</td>\n",
       "      <td>[4, 2, 1]</td>\n",
       "      <td>[O, Sr, Ti]</td>\n",
       "      <td>7</td>\n",
       "      <td>[6.922171, 6.922171, 6.922171, 147.0365, 147.0...</td>\n",
       "      <td>[[-0.0, 0.5, 0.5], [0.5, 0.0, 0.5], [0.8417448...</td>\n",
       "      <td>[[1.96389, 0.0, 0.0], [0.0, 1.96389, 0.0], [-0...</td>\n",
       "      <td>-7.50088</td>\n",
       "    </tr>\n",
       "    <tr>\n",
       "      <th>3</th>\n",
       "      <td>aflow:24084cffd0913299</td>\n",
       "      <td>aflowlib.duke.edu:AFLOWDATA/ICSD_WEB/ORC/O3.8S...</td>\n",
       "      <td>O19Sr5Ti7</td>\n",
       "      <td>[19, 5, 7]</td>\n",
       "      <td>[O, Sr, Ti]</td>\n",
       "      <td>31</td>\n",
       "      <td>[3.857699, 5.653635, 32.53007, 90.0, 90.0, 90.0]</td>\n",
       "      <td>[[0.0, -0.0, 0.27020073], [0.0, 0.0, 0.7297992...</td>\n",
       "      <td>[[0.0, -0.0, 8.78965], [0.0, 0.0, 23.74042], [...</td>\n",
       "      <td>-7.47655</td>\n",
       "    </tr>\n",
       "    <tr>\n",
       "      <th>4</th>\n",
       "      <td>aflow:84426b1f2bca94bf</td>\n",
       "      <td>aflowlib.duke.edu:AFLOWDATA/ICSD_WEB/ORCI/O3Sr...</td>\n",
       "      <td>O6Sr2Ti2</td>\n",
       "      <td>[6, 2, 2]</td>\n",
       "      <td>[O, Sr, Ti]</td>\n",
       "      <td>10</td>\n",
       "      <td>[5.618459, 5.618459, 5.618459, 120.2416, 120.2...</td>\n",
       "      <td>[[0.74844344, 0.5, 0.24844344], [0.24844344, -...</td>\n",
       "      <td>[[-0.0, 1.39077, 3.98732], [0.0, 1.39077, 0.0]...</td>\n",
       "      <td>-7.47642</td>\n",
       "    </tr>\n",
       "    <tr>\n",
       "      <th>...</th>\n",
       "      <td>...</td>\n",
       "      <td>...</td>\n",
       "      <td>...</td>\n",
       "      <td>...</td>\n",
       "      <td>...</td>\n",
       "      <td>...</td>\n",
       "      <td>...</td>\n",
       "      <td>...</td>\n",
       "      <td>...</td>\n",
       "      <td>...</td>\n",
       "    </tr>\n",
       "    <tr>\n",
       "      <th>130</th>\n",
       "      <td>aflow:1081ae07cd17668e</td>\n",
       "      <td>aflowlib.duke.edu:AFLOWDATA/ICSD_WEB/CUB/O3Sr1...</td>\n",
       "      <td>O3Sr1Ti1</td>\n",
       "      <td>[3, 1, 1]</td>\n",
       "      <td>[O, Sr, Ti]</td>\n",
       "      <td>5</td>\n",
       "      <td>[3.4562624, 3.4562624, 3.4562624, 90.0, 90.0, ...</td>\n",
       "      <td>[[0.5, 0.5, 0.0], [0.0, 0.5, 0.5], [0.5, 0.0, ...</td>\n",
       "      <td>[[1.72813, 1.72813, 0.0], [0.0, 1.72813, 1.728...</td>\n",
       "      <td>-5.90040</td>\n",
       "    </tr>\n",
       "    <tr>\n",
       "      <th>131</th>\n",
       "      <td>aflow:be8c85026b2903bf</td>\n",
       "      <td>aflowlib.duke.edu:AFLOWDATA/ICSD_WEB/BCT/O3Sr1...</td>\n",
       "      <td>O6Sr2Ti2</td>\n",
       "      <td>[6, 2, 2]</td>\n",
       "      <td>[O, Sr, Ti]</td>\n",
       "      <td>10</td>\n",
       "      <td>[4.8845388, 4.8845388, 4.8845388, 120.16275, 1...</td>\n",
       "      <td>[[0.24999965, 0.24999965, 0.0], [0.75000035, 0...</td>\n",
       "      <td>[[0.0, 0.0, 1.73118], [0.0, 0.0, 5.19356], [1....</td>\n",
       "      <td>-5.88242</td>\n",
       "    </tr>\n",
       "    <tr>\n",
       "      <th>132</th>\n",
       "      <td>aflow:3df5cb2068b28e46</td>\n",
       "      <td>aflowlib.duke.edu:AFLOWDATA/ICSD_WEB/CUB/O3Sr1...</td>\n",
       "      <td>O3Sr1Ti1</td>\n",
       "      <td>[3, 1, 1]</td>\n",
       "      <td>[O, Sr, Ti]</td>\n",
       "      <td>5</td>\n",
       "      <td>[3.4165353, 3.4165353, 3.4165353, 90.0, 90.0, ...</td>\n",
       "      <td>[[0.5, 0.5, 0.0], [0.0, 0.5, 0.5], [0.5, 0.0, ...</td>\n",
       "      <td>[[1.70827, 1.70827, 0.0], [0.0, 1.70827, 1.708...</td>\n",
       "      <td>-5.58013</td>\n",
       "    </tr>\n",
       "    <tr>\n",
       "      <th>133</th>\n",
       "      <td>aflow:a92f502219060c36</td>\n",
       "      <td>aflowlib.duke.edu:AFLOWDATA/ICSD_WEB/BCT/O3Sr1...</td>\n",
       "      <td>O6Sr2Ti2</td>\n",
       "      <td>[6, 2, 2]</td>\n",
       "      <td>[O, Sr, Ti]</td>\n",
       "      <td>10</td>\n",
       "      <td>[4.8283946, 4.8283946, 4.8283946, 120.16275, 1...</td>\n",
       "      <td>[[0.24999965, 0.24999965, 0.0], [0.75000035, 0...</td>\n",
       "      <td>[[0.0, 0.0, 1.71128], [0.0, 0.0, 5.13386], [1....</td>\n",
       "      <td>-5.55959</td>\n",
       "    </tr>\n",
       "    <tr>\n",
       "      <th>134</th>\n",
       "      <td>aflow:7b285634f7870a03</td>\n",
       "      <td>aflowlib.duke.edu:AFLOWDATA/LIB3_RAW/OSr_svTi_...</td>\n",
       "      <td>O3Sr1Ti1</td>\n",
       "      <td>[3, 1, 1]</td>\n",
       "      <td>[O, Sr, Ti]</td>\n",
       "      <td>5</td>\n",
       "      <td>[4.4055512, 4.4055512, 4.4055512, 90.0, 90.0, ...</td>\n",
       "      <td>[[-0.0, 0.5, 0.5], [0.5, -0.0, 0.5], [0.5, 0.5...</td>\n",
       "      <td>[[0.0, 2.20278, 2.20278], [2.20278, 0.0, 2.202...</td>\n",
       "      <td>-4.63824</td>\n",
       "    </tr>\n",
       "  </tbody>\n",
       "</table>\n",
       "<p>135 rows × 10 columns</p>\n",
       "</div>"
      ],
      "text/plain": [
       "                       auid  \\\n",
       "0    aflow:a398a1911df830b6   \n",
       "1    aflow:dd6b539aa43315cf   \n",
       "2    aflow:cf8261dc98053c05   \n",
       "3    aflow:24084cffd0913299   \n",
       "4    aflow:84426b1f2bca94bf   \n",
       "..                      ...   \n",
       "130  aflow:1081ae07cd17668e   \n",
       "131  aflow:be8c85026b2903bf   \n",
       "132  aflow:3df5cb2068b28e46   \n",
       "133  aflow:a92f502219060c36   \n",
       "134  aflow:7b285634f7870a03   \n",
       "\n",
       "                                                  aurl   compound composition  \\\n",
       "0    aflowlib.duke.edu:AFLOWDATA/LIB3_RAW/OSr_svTi_...   O3Sr1Ti1   [3, 1, 1]   \n",
       "1    aflowlib.duke.edu:AFLOWDATA/ICSD_WEB/MCLC/O13S...  O13Sr2Ti6  [13, 2, 6]   \n",
       "2    aflowlib.duke.edu:AFLOWDATA/LIB3_RAW/OSr_svTi_...   O4Sr2Ti1   [4, 2, 1]   \n",
       "3    aflowlib.duke.edu:AFLOWDATA/ICSD_WEB/ORC/O3.8S...  O19Sr5Ti7  [19, 5, 7]   \n",
       "4    aflowlib.duke.edu:AFLOWDATA/ICSD_WEB/ORCI/O3Sr...   O6Sr2Ti2   [6, 2, 2]   \n",
       "..                                                 ...        ...         ...   \n",
       "130  aflowlib.duke.edu:AFLOWDATA/ICSD_WEB/CUB/O3Sr1...   O3Sr1Ti1   [3, 1, 1]   \n",
       "131  aflowlib.duke.edu:AFLOWDATA/ICSD_WEB/BCT/O3Sr1...   O6Sr2Ti2   [6, 2, 2]   \n",
       "132  aflowlib.duke.edu:AFLOWDATA/ICSD_WEB/CUB/O3Sr1...   O3Sr1Ti1   [3, 1, 1]   \n",
       "133  aflowlib.duke.edu:AFLOWDATA/ICSD_WEB/BCT/O3Sr1...   O6Sr2Ti2   [6, 2, 2]   \n",
       "134  aflowlib.duke.edu:AFLOWDATA/LIB3_RAW/OSr_svTi_...   O3Sr1Ti1   [3, 1, 1]   \n",
       "\n",
       "         species natoms                                           geometry  \\\n",
       "0    [O, Sr, Ti]      5   [3.944917, 3.944917, 3.944917, 90.0, 90.0, 90.0]   \n",
       "1    [O, Sr, Ti]     21  [7.997203, 7.997203, 9.276024, 81.31587, 81.31...   \n",
       "2    [O, Sr, Ti]      7  [6.922171, 6.922171, 6.922171, 147.0365, 147.0...   \n",
       "3    [O, Sr, Ti]     31   [3.857699, 5.653635, 32.53007, 90.0, 90.0, 90.0]   \n",
       "4    [O, Sr, Ti]     10  [5.618459, 5.618459, 5.618459, 120.2416, 120.2...   \n",
       "..           ...    ...                                                ...   \n",
       "130  [O, Sr, Ti]      5  [3.4562624, 3.4562624, 3.4562624, 90.0, 90.0, ...   \n",
       "131  [O, Sr, Ti]     10  [4.8845388, 4.8845388, 4.8845388, 120.16275, 1...   \n",
       "132  [O, Sr, Ti]      5  [3.4165353, 3.4165353, 3.4165353, 90.0, 90.0, ...   \n",
       "133  [O, Sr, Ti]     10  [4.8283946, 4.8283946, 4.8283946, 120.16275, 1...   \n",
       "134  [O, Sr, Ti]      5  [4.4055512, 4.4055512, 4.4055512, 90.0, 90.0, ...   \n",
       "\n",
       "                                  positions_fractional  \\\n",
       "0    [[0.5, 0.5, 0.0], [0.0, 0.5, 0.5], [0.5, 0.0, ...   \n",
       "1    [[-0.0, -0.0, -0.0], [0.22969052, 0.22969052, ...   \n",
       "2    [[-0.0, 0.5, 0.5], [0.5, 0.0, 0.5], [0.8417448...   \n",
       "3    [[0.0, -0.0, 0.27020073], [0.0, 0.0, 0.7297992...   \n",
       "4    [[0.74844344, 0.5, 0.24844344], [0.24844344, -...   \n",
       "..                                                 ...   \n",
       "130  [[0.5, 0.5, 0.0], [0.0, 0.5, 0.5], [0.5, 0.0, ...   \n",
       "131  [[0.24999965, 0.24999965, 0.0], [0.75000035, 0...   \n",
       "132  [[0.5, 0.5, 0.0], [0.0, 0.5, 0.5], [0.5, 0.0, ...   \n",
       "133  [[0.24999965, 0.24999965, 0.0], [0.75000035, 0...   \n",
       "134  [[-0.0, 0.5, 0.5], [0.5, -0.0, 0.5], [0.5, 0.5...   \n",
       "\n",
       "                                   positions_cartesian  enthalpy_atom  \n",
       "0    [[1.97246, 1.97246, -0.0], [0.0, 1.97246, 1.97...       -8.04063  \n",
       "1    [[0.0, -0.0, 0.0], [0.0, 4.66767, 6.91916], [0...       -7.74586  \n",
       "2    [[1.96389, 0.0, 0.0], [0.0, 1.96389, 0.0], [-0...       -7.50088  \n",
       "3    [[0.0, -0.0, 8.78965], [0.0, 0.0, 23.74042], [...       -7.47655  \n",
       "4    [[-0.0, 1.39077, 3.98732], [0.0, 1.39077, 0.0]...       -7.47642  \n",
       "..                                                 ...            ...  \n",
       "130  [[1.72813, 1.72813, 0.0], [0.0, 1.72813, 1.728...       -5.90040  \n",
       "131  [[0.0, 0.0, 1.73118], [0.0, 0.0, 5.19356], [1....       -5.88242  \n",
       "132  [[1.70827, 1.70827, 0.0], [0.0, 1.70827, 1.708...       -5.58013  \n",
       "133  [[0.0, 0.0, 1.71128], [0.0, 0.0, 5.13386], [1....       -5.55959  \n",
       "134  [[0.0, 2.20278, 2.20278], [2.20278, 0.0, 2.202...       -4.63824  \n",
       "\n",
       "[135 rows x 10 columns]"
      ]
     },
     "execution_count": 6,
     "metadata": {},
     "output_type": "execute_result"
    }
   ],
   "source": [
    "o_sr_ti"
   ]
  },
  {
   "cell_type": "code",
   "execution_count": 4,
   "metadata": {
    "scrolled": false
   },
   "outputs": [],
   "source": [
    "o_sr_ti.to_pickle(\"OSrTi.pkl\")"
   ]
  },
  {
   "cell_type": "code",
   "execution_count": 3,
   "metadata": {
    "scrolled": false
   },
   "outputs": [],
   "source": [
    "o_sr_ti = pd.read_pickle(\"OSrTi.pkl\")"
   ]
  },
  {
   "cell_type": "code",
   "execution_count": 4,
   "metadata": {
    "scrolled": false
   },
   "outputs": [
    {
     "data": {
      "text/plain": [
       "array(['O3Sr1Ti1', 'O13Sr2Ti6', 'O4Sr2Ti1', 'O19Sr5Ti7', 'O6Sr2Ti2',\n",
       "       'O20Sr4Ti8', 'O10Sr4Ti3', 'O7Sr3Ti2'], dtype=object)"
      ]
     },
     "execution_count": 4,
     "metadata": {},
     "output_type": "execute_result"
    }
   ],
   "source": [
    "o_sr_ti.compound.unique()"
   ]
  },
  {
   "cell_type": "code",
   "execution_count": 20,
   "metadata": {
    "scrolled": false
   },
   "outputs": [
    {
     "data": {
      "text/plain": [
       "'O4Sr2Ti1'"
      ]
     },
     "execution_count": 20,
     "metadata": {},
     "output_type": "execute_result"
    }
   ],
   "source": [
    "r = o_sr_ti.loc[2]\n",
    "r.compound"
   ]
  },
  {
   "cell_type": "code",
   "execution_count": 21,
   "metadata": {
    "scrolled": false
   },
   "outputs": [
    {
     "data": {
      "text/plain": [
       "array([  6.922171,   6.922171,   6.922171, 147.0365  , 147.0365  ,\n",
       "        47.30972 ])"
      ]
     },
     "execution_count": 21,
     "metadata": {},
     "output_type": "execute_result"
    }
   ],
   "source": [
    "r.geometry"
   ]
  },
  {
   "cell_type": "code",
   "execution_count": 113,
   "metadata": {
    "scrolled": false
   },
   "outputs": [
    {
     "data": {
      "text/plain": [
       "array([[ 6.922171  ,  4.69347411, -5.80782162],\n",
       "       [ 0.        ,  5.0880008 , -2.54399999],\n",
       "       [ 0.        ,  0.        ,  2.77735907]])"
      ]
     },
     "execution_count": 113,
     "metadata": {},
     "output_type": "execute_result"
    }
   ],
   "source": [
    "A = calc_basis(r.geometry)\n",
    "A"
   ]
  },
  {
   "cell_type": "code",
   "execution_count": 23,
   "metadata": {
    "scrolled": false
   },
   "outputs": [
    {
     "data": {
      "text/plain": [
       "array([[-0.        ,  0.5       ,  0.5       ],\n",
       "       [ 0.5       ,  0.        ,  0.5       ],\n",
       "       [ 0.84174488,  0.84174488, -0.        ],\n",
       "       [ 0.15825512,  0.15825512,  0.        ],\n",
       "       [ 0.64534685,  0.64534685, -0.        ],\n",
       "       [ 0.35465315,  0.35465315, -0.        ],\n",
       "       [-0.        ,  0.        , -0.        ]])"
      ]
     },
     "execution_count": 23,
     "metadata": {},
     "output_type": "execute_result"
    }
   ],
   "source": [
    "r.positions_fractional"
   ]
  },
  {
   "cell_type": "code",
   "execution_count": 90,
   "metadata": {},
   "outputs": [],
   "source": [
    "def elements_coords(entry, augment=True):\n",
    "    elements = []\n",
    "    for e, n in zip(entry.species, entry.composition):\n",
    "        elements = elements + [e]*n\n",
    "        \n",
    "        \n",
    "    pfs_list = list(entry.positions_fractional)\n",
    "    \n",
    "    if augment:\n",
    "        for element, coords in zip(elements, pfs_list):\n",
    "            for i, c in enumerate(coords):\n",
    "                if c == 0:\n",
    "                    new_coords = coords.copy()\n",
    "                    new_coords[i] = 1.\n",
    "\n",
    "                    already_in = False\n",
    "                    for other_p in pfs_list:\n",
    "                        if all(other_p == new_coords):\n",
    "                            already_in = True\n",
    "                            break\n",
    "\n",
    "                    if not already_in:\n",
    "                        pfs_list.append(new_coords)\n",
    "                        elements.append(element)\n",
    "    \n",
    "    pfs = np.array(pfs_list)\n",
    "    \n",
    "    A = calc_basis(entry.geometry)\n",
    "    cartesian_coords = calc_cartesian_positions(A, pfs)\n",
    "    \n",
    "    return elements, cartesian_coords\n",
    "                "
   ]
  },
  {
   "cell_type": "code",
   "execution_count": 94,
   "metadata": {},
   "outputs": [
    {
     "data": {
      "text/plain": [
       "(['O',\n",
       "  'O',\n",
       "  'O',\n",
       "  'O',\n",
       "  'Sr',\n",
       "  'Sr',\n",
       "  'Ti',\n",
       "  'O',\n",
       "  'O',\n",
       "  'O',\n",
       "  'O',\n",
       "  'Sr',\n",
       "  'Sr',\n",
       "  'Ti',\n",
       "  'Ti',\n",
       "  'Ti',\n",
       "  'Ti',\n",
       "  'Ti',\n",
       "  'Ti',\n",
       "  'Ti'],\n",
       " array([[-0.55717376,  1.2720004 ,  1.38867954],\n",
       "        [ 0.55717469, -1.272     ,  1.38867954],\n",
       "        [ 9.7774098 ,  4.28279862,  0.        ],\n",
       "        [ 1.83823531,  0.80520218,  0.        ],\n",
       "        [ 7.49611998,  3.28352529,  0.        ],\n",
       "        [ 4.11952513,  1.80447551,  0.        ],\n",
       "        [ 0.        ,  0.        ,  0.        ],\n",
       "        [ 6.36499724,  1.2720004 ,  1.38867954],\n",
       "        [ 5.2506488 ,  3.8160008 ,  1.38867954],\n",
       "        [ 3.96958818,  1.73879863,  2.77735907],\n",
       "        [-3.96958631, -1.73879781,  2.77735907],\n",
       "        [ 1.68829836,  0.7395253 ,  2.77735907],\n",
       "        [-1.68829649, -0.73952448,  2.77735907],\n",
       "        [ 6.922171  ,  0.        ,  0.        ],\n",
       "        [ 4.69347411,  5.0880008 ,  0.        ],\n",
       "        [-5.80782162, -2.54399999,  2.77735907],\n",
       "        [11.61564511,  5.0880008 ,  0.        ],\n",
       "        [ 1.11434938, -2.54399999,  2.77735907],\n",
       "        [-1.11434751,  2.54400081,  2.77735907],\n",
       "        [ 5.80782349,  2.54400081,  2.77735907]]))"
      ]
     },
     "execution_count": 94,
     "metadata": {},
     "output_type": "execute_result"
    }
   ],
   "source": [
    "elements_coords(r)"
   ]
  },
  {
   "cell_type": "code",
   "execution_count": 24,
   "metadata": {
    "scrolled": false
   },
   "outputs": [
    {
     "data": {
      "text/plain": [
       "array([[-0.55717376,  1.2720004 ,  1.38867954],\n",
       "       [ 0.55717469, -1.272     ,  1.38867954],\n",
       "       [ 9.7774098 ,  4.28279862,  0.        ],\n",
       "       [ 1.83823531,  0.80520218,  0.        ],\n",
       "       [ 7.49611998,  3.28352529,  0.        ],\n",
       "       [ 4.11952513,  1.80447551,  0.        ],\n",
       "       [ 0.        ,  0.        ,  0.        ]])"
      ]
     },
     "execution_count": 24,
     "metadata": {},
     "output_type": "execute_result"
    }
   ],
   "source": [
    "poss = calc_cartesian_positions(A, r.positions_fractional)\n",
    "poss"
   ]
  },
  {
   "cell_type": "code",
   "execution_count": 25,
   "metadata": {},
   "outputs": [
    {
     "data": {
      "text/plain": [
       "array([[ 1.96389,  0.     ,  0.     ],\n",
       "       [ 0.     ,  1.96389,  0.     ],\n",
       "       [-0.     , -0.     , 10.67427],\n",
       "       [ 0.     ,  0.     ,  2.00685],\n",
       "       [-0.     , -0.     ,  8.18373],\n",
       "       [-0.     , -0.     ,  4.4974 ],\n",
       "       [ 0.     , -0.     ,  0.     ]])"
      ]
     },
     "execution_count": 25,
     "metadata": {},
     "output_type": "execute_result"
    }
   ],
   "source": [
    "r.positions_cartesian"
   ]
  },
  {
   "cell_type": "code",
   "execution_count": 26,
   "metadata": {},
   "outputs": [
    {
     "data": {
      "text/plain": [
       "'aflow:cf8261dc98053c05'"
      ]
     },
     "execution_count": 26,
     "metadata": {},
     "output_type": "execute_result"
    }
   ],
   "source": [
    "r.auid"
   ]
  },
  {
   "cell_type": "code",
   "execution_count": 99,
   "metadata": {
    "scrolled": false
   },
   "outputs": [
    {
     "data": {
      "application/vnd.jupyter.widget-view+json": {
       "model_id": "316e35bfa95c434fa3d38a48a4f6e13c",
       "version_major": 2,
       "version_minor": 0
      },
      "text/plain": [
       "Canvas(toolbar=Toolbar(toolitems=[('Home', 'Reset original view', 'home', 'home'), ('Back', 'Back to previous …"
      ]
     },
     "metadata": {},
     "output_type": "display_data"
    }
   ],
   "source": [
    "plot_3D_crystal(r)"
   ]
  },
  {
   "cell_type": "code",
   "execution_count": 30,
   "metadata": {},
   "outputs": [],
   "source": [
    "import ase\n",
    "%matplotlib widget\n",
    "import nglview"
   ]
  },
  {
   "cell_type": "code",
   "execution_count": 114,
   "metadata": {},
   "outputs": [],
   "source": [
    "elements, coords = elements_coords(r, augment=False)\n",
    "mol = ase.Atoms(symbols=elements, positions=coords, pbc=True, cell=A)"
   ]
  },
  {
   "cell_type": "code",
   "execution_count": 115,
   "metadata": {},
   "outputs": [
    {
     "data": {
      "text/plain": [
       "array([[-0.55717376,  1.2720004 ,  1.38867954],\n",
       "       [ 0.55717469, -1.272     ,  1.38867954],\n",
       "       [ 9.7774098 ,  4.28279862,  0.        ],\n",
       "       [ 1.83823531,  0.80520218,  0.        ],\n",
       "       [ 7.49611998,  3.28352529,  0.        ],\n",
       "       [ 4.11952513,  1.80447551,  0.        ],\n",
       "       [ 0.        ,  0.        ,  0.        ]])"
      ]
     },
     "execution_count": 115,
     "metadata": {},
     "output_type": "execute_result"
    }
   ],
   "source": [
    "mol.positions"
   ]
  },
  {
   "cell_type": "code",
   "execution_count": 116,
   "metadata": {},
   "outputs": [
    {
     "data": {
      "text/plain": [
       "Cell([[6.922171, 4.69347410867248, -5.80782161999487], [0.0, 5.08800080035981, -2.54399999091037], [0.0, 0.0, 2.77735907469834]])"
      ]
     },
     "execution_count": 116,
     "metadata": {},
     "output_type": "execute_result"
    }
   ],
   "source": [
    "mol.cell"
   ]
  },
  {
   "cell_type": "code",
   "execution_count": 117,
   "metadata": {},
   "outputs": [
    {
     "data": {
      "application/vnd.jupyter.widget-view+json": {
       "model_id": "ab2950ef5d9e4bcab01fb15fa9670e24",
       "version_major": 2,
       "version_minor": 0
      },
      "text/plain": [
       "NGLWidget(background='black')"
      ]
     },
     "metadata": {},
     "output_type": "display_data"
    }
   ],
   "source": [
    "view = nglview.show_ase(mol)\n",
    "view.background=\"black\"\n",
    "display(view)"
   ]
  },
  {
   "cell_type": "code",
   "execution_count": 92,
   "metadata": {},
   "outputs": [],
   "source": [
    "elements, coords = elements_coords(r)"
   ]
  },
  {
   "cell_type": "code",
   "execution_count": 93,
   "metadata": {},
   "outputs": [
    {
     "data": {
      "application/vnd.jupyter.widget-view+json": {
       "model_id": "d6a9501072b042f1842260e75637ce28",
       "version_major": 2,
       "version_minor": 0
      },
      "text/plain": [
       "Canvas(toolbar=Toolbar(toolitems=[('Home', 'Reset original view', 'home', 'home'), ('Back', 'Back to previous …"
      ]
     },
     "metadata": {},
     "output_type": "display_data"
    },
    {
     "data": {
      "text/plain": [
       "<mpl_toolkits.mplot3d.art3d.Path3DCollection at 0x124533790>"
      ]
     },
     "execution_count": 93,
     "metadata": {},
     "output_type": "execute_result"
    }
   ],
   "source": [
    "fig = plt.figure()\n",
    "ax = Axes3D(fig)\n",
    "ax.scatter(coords[:,0], coords[:,1], coords[:,2], alpha=1, s=25)"
   ]
  },
  {
   "cell_type": "code",
   "execution_count": null,
   "metadata": {
    "scrolled": false
   },
   "outputs": [],
   "source": [
    "from voxel import *"
   ]
  },
  {
   "cell_type": "code",
   "execution_count": null,
   "metadata": {
    "scrolled": false
   },
   "outputs": [],
   "source": [
    "for compound in o_sr_ti.compound.unique():\n",
    "    print(compound)\n",
    "    matches = o_sr_ti[o_sr_ti.compound == compound]\n",
    "    \n",
    "    r = matches.iloc[0]\n",
    "    A = calc_basis(r.geometry)\n",
    "    mus = calc_cartesian_positions(A, r.positions_fractional)\n",
    "    sigma = 0.5\n",
    "    plot_3D_crystal(r)\n",
    "    \n",
    "    B, mi, sg = reciprocal_lattice_gaussian(A, mus, sigma, g0=-8, g1=8)\n",
    "    plot_3D_reciprocal_lattice(B, mi, sg)\n",
    "\n",
    "    \n",
    "    "
   ]
  },
  {
   "cell_type": "code",
   "execution_count": null,
   "metadata": {
    "scrolled": false
   },
   "outputs": [],
   "source": []
  }
 ],
 "metadata": {
  "kernelspec": {
   "display_name": "Python 3",
   "language": "python",
   "name": "python3"
  },
  "language_info": {
   "codemirror_mode": {
    "name": "ipython",
    "version": 3
   },
   "file_extension": ".py",
   "mimetype": "text/x-python",
   "name": "python",
   "nbconvert_exporter": "python",
   "pygments_lexer": "ipython3",
   "version": "3.8.5"
  }
 },
 "nbformat": 4,
 "nbformat_minor": 4
}
