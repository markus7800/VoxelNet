{
 "cells": [
  {
   "cell_type": "code",
   "execution_count": 1,
   "metadata": {},
   "outputs": [
    {
     "data": {
      "application/vnd.jupyter.widget-view+json": {
       "model_id": "ec9785867b0545929e3680ff7cbb9695",
       "version_major": 2,
       "version_minor": 0
      },
      "text/plain": []
     },
     "metadata": {},
     "output_type": "display_data"
    }
   ],
   "source": [
    "import pandas as pd\n",
    "import numpy as np\n",
    "import matplotlib.pyplot as plt\n",
    "#%matplotlib widget\n",
    "\n",
    "from voxel import *\n",
    "from mol_tools import *\n",
    "\n",
    "import torch\n",
    "import torch.nn as nn\n",
    "import random\n",
    "from tqdm import tqdm\n",
    "\n",
    "from sklearn.model_selection import train_test_split"
   ]
  },
  {
   "cell_type": "code",
   "execution_count": 2,
   "metadata": {},
   "outputs": [],
   "source": [
    "def drop_duplicates(df):\n",
    "    df = df.drop_duplicates(subset=\"compound\", keep=\"first\")\n",
    "    print(\"Number of molecules\", df.shape[0])\n",
    "    return df"
   ]
  },
  {
   "cell_type": "code",
   "execution_count": 3,
   "metadata": {},
   "outputs": [],
   "source": [
    "def get_all_elements(df):\n",
    "      return np.unique(np.hstack(np.array(df.species)))"
   ]
  },
  {
   "cell_type": "code",
   "execution_count": 4,
   "metadata": {},
   "outputs": [],
   "source": [
    "def prepare_multi_channel_data(df, sigma, L, N, elements):\n",
    "    \n",
    "    width = 2 * np.pi / L * N\n",
    "    adj_width = width*np.sqrt(3)\n",
    "    \n",
    "    names = []\n",
    "    reciprocal_data = []\n",
    "    ys = []\n",
    "    for index, mol in df.iterrows():\n",
    "        A = calc_basis(mol.geometry)\n",
    "        coords = calc_cartesian_positions(A, mol.positions_fractional)\n",
    "        mx, my, mz = get_mesh_coords(A, adj_width)\n",
    "\n",
    "        # atom coordinations are order accoring to composition and species    \n",
    "        cs = np.cumsum(mol.composition)\n",
    "        cs = np.insert(cs, 0, 0) # insert 0 at beginning\n",
    "\n",
    "        rd = [] # collect G and SG for all elements\n",
    "        for i, element in enumerate(mol.species):\n",
    "            element_coords = coords[cs[i]:cs[i+1]] # extract coordinates corresponding to atoms of one element\n",
    "            B, G, SG = reciprocal_lattice_gaussian(A, element_coords, sigma, mx, my, mz)\n",
    "\n",
    "            j = np.where(elements == element)[0][0] # get channel for element\n",
    "            rd.append((j, element, (G, SG)))\n",
    "            \n",
    "        \n",
    "        names.append(mol.compound)\n",
    "        reciprocal_data.append(rd)\n",
    "        ys.append(mol.enthalpy_atom)\n",
    "                    \n",
    "    return names, reciprocal_data, ys"
   ]
  },
  {
   "cell_type": "code",
   "execution_count": 5,
   "metadata": {},
   "outputs": [],
   "source": [
    "class MolLoader(object):\n",
    "    def __init__(self, names, reciprocal_data, ys, L, N, batch_size, nchannel=1,\n",
    "                 shuffle=False, rotate_randomly=False, device=torch.device('cpu')):\n",
    "        \n",
    "        self.names = names\n",
    "        self.reciprocal_data = reciprocal_data\n",
    "        self.ys = ys\n",
    "        self.batch_size = batch_size\n",
    "        self.rotate_randomly = rotate_randomly\n",
    "        self.device = device\n",
    "        \n",
    "        self.L = L\n",
    "        self.N = N\n",
    "        self.nchannel = nchannel\n",
    "        \n",
    "        self.shuffle = shuffle\n",
    "        self.current = 0\n",
    "        self.indices = np.arange(len(ys))\n",
    "        self.N_data = len(self.indices)\n",
    "        \n",
    "    def __iter__(self):\n",
    "        return self\n",
    "    \n",
    "    def __next__(self):\n",
    "         return self.next()\n",
    "\n",
    "    def __len__(self):\n",
    "        return int(np.ceil(self.N_data / self.batch_size))\n",
    "\n",
    "    def next(self):\n",
    "        N_data = self.N_data\n",
    "        N = self.N # number of voxels\n",
    "        L = self.L\n",
    "        nchan = self.nchannel\n",
    "        \n",
    "        if self.current == 0 and self.shuffle:\n",
    "            np.random.shuffle(self.indices)\n",
    "        \n",
    "        if self.current < N_data:\n",
    "            n1 = self.current\n",
    "            n2 = min(self.current + self.batch_size, N_data)\n",
    "            \n",
    "            x_names = []\n",
    "            x = np.zeros((n2-n1, nchan, N, N, N), dtype=\"float32\")\n",
    "            y = np.zeros((n2-n1,1), dtype=\"float32\")\n",
    "            \n",
    "            for i, j in enumerate(range(n1, n2)):\n",
    "                data_index = self.indices[j] # supports shuffling\n",
    "                \n",
    "                y[i] = self.ys[data_index]\n",
    "                x_names.append(self.names[data_index])\n",
    "                \n",
    "                R = np.eye(3)\n",
    "                if self.rotate_randomly:\n",
    "                    R = get_random_3D_rotation_matrix()\n",
    "                \n",
    "                if nchan == 1:\n",
    "                    G, SG = self.reciprocal_data[data_index]\n",
    "                    descriptor = adapt_to_voxel_grid(G, SG, L, N, rot=R)\n",
    "                    x[i, 0, :, :, :] = descriptor\n",
    "                else:\n",
    "                    for j, element, (G, SG) in self.reciprocal_data[data_index]:\n",
    "                        descriptor = adapt_to_voxel_grid(G, SG, L, N, rot=R)\n",
    "                        x[i, j, :, :, :] = descriptor\n",
    "                                           \n",
    "            \n",
    "            self.current = n2\n",
    "            \n",
    "            x = torch.from_numpy(x).to(self.device, non_blocking=True)\n",
    "            y = torch.from_numpy(y).to(self.device, non_blocking=True)\n",
    "            \n",
    "            return (x_names, x, y)\n",
    "        \n",
    "        self.current = 0\n",
    "        # print(\"Stop Iteration\")\n",
    "        raise StopIteration()\n",
    "    "
   ]
  },
  {
   "cell_type": "code",
   "execution_count": 6,
   "metadata": {},
   "outputs": [],
   "source": [
    "def seed_everything(seed=0):\n",
    "    random.seed(seed)\n",
    "    torch.manual_seed(seed)\n",
    "    torch.cuda.manual_seed_all(seed)\n",
    "    torch.backends.cudnn.deterministic = True\n",
    "    torch.backends.cudnn.benchmark = False\n",
    "    np.random.seed(seed)"
   ]
  },
  {
   "cell_type": "code",
   "execution_count": 7,
   "metadata": {},
   "outputs": [],
   "source": [
    "def count_parameters(model):\n",
    "    s = 0\n",
    "    for t in model.parameters():\n",
    "        s += np.prod(t.shape)\n",
    "    return s"
   ]
  },
  {
   "cell_type": "code",
   "execution_count": 8,
   "metadata": {},
   "outputs": [],
   "source": [
    "def get_default_device():\n",
    "    \"\"\"Pick GPU if available, else CPU\"\"\"\n",
    "    if torch.cuda.is_available():\n",
    "        # print(\"CUDA version:\", torch.version.cuda)\n",
    "        return torch.device('cuda')\n",
    "    else:\n",
    "        return torch.device('cpu')"
   ]
  },
  {
   "cell_type": "code",
   "execution_count": 9,
   "metadata": {},
   "outputs": [],
   "source": [
    "class VoxelNet(nn.Module):\n",
    "    def __init__(self, in_channels=1):\n",
    "        super().__init__()\n",
    "        # (N, C, D, H, W)\n",
    "        self.conv1 = nn.Sequential(\n",
    "            nn.Conv3d(in_channels, 16, 3, padding=0, stride=1),\n",
    "            #nn.BatchNorm3d(16),\n",
    "            nn.LeakyReLU(0.3),\n",
    "            nn.MaxPool3d(2))\n",
    "        \n",
    "        self.conv2 = nn.Sequential(\n",
    "            nn.Conv3d(16, 16, 3, padding=0, stride=1),\n",
    "            nn.LeakyReLU(0.3),\n",
    "            nn.MaxPool3d(2))\n",
    "        \n",
    "        self.conv3 = nn.Sequential(\n",
    "            nn.Conv3d(16, 16, 3, padding=0, stride=1),\n",
    "            nn.LeakyReLU(0.3))\n",
    "        \n",
    "        self.regressor = nn.Sequential(nn.Flatten(),\n",
    "                                        nn.Linear(1024, 32),\n",
    "                                        nn.LeakyReLU(0.3),\n",
    "                                        nn.Linear(32, 8),\n",
    "                                        nn.LeakyReLU(0.3),\n",
    "                                        nn.Linear(8, 1))\n",
    "    def forward(self, x):\n",
    "        #print(x.shape)\n",
    "        x = self.conv1(x)\n",
    "        # print(\"conv1\", x.shape)\n",
    "        x = self.conv2(x)\n",
    "        # print(\"conv2\", x.shape)\n",
    "        x = self.conv3(x)\n",
    "        # print(\"conv3\", x.shape)\n",
    "        x = self.regressor(x)\n",
    "        return x"
   ]
  },
  {
   "cell_type": "code",
   "execution_count": 10,
   "metadata": {},
   "outputs": [],
   "source": [
    "@torch.no_grad()\n",
    "def predict(model, loader):\n",
    "    model.eval()\n",
    "    ys = []\n",
    "    y_hats = []\n",
    "    \n",
    "    for names, x, y in loader:\n",
    "        y_hat = model(x)\n",
    "        \n",
    "        ys.append(y.cpu().numpy())\n",
    "        y_hats.append(y_hat.cpu().numpy())\n",
    "\n",
    "    ys = np.vstack(ys).reshape(-1)\n",
    "    y_hats = np.vstack(y_hats).reshape(-1)\n",
    "    return ys, y_hats"
   ]
  },
  {
   "cell_type": "code",
   "execution_count": 11,
   "metadata": {},
   "outputs": [],
   "source": [
    "def fit(epochs, model, train_loader, val_loader, opt, lr, weight_decay):\n",
    "    t0 = time.time()\n",
    "    \n",
    "    optimizer = opt(model.parameters(), lr=lr, weight_decay=weight_decay)\n",
    "    \n",
    "    loss = nn.MSELoss()\n",
    "    \n",
    "    train_mse = []\n",
    "    val_mse = []\n",
    "    \n",
    "    for epoch in range(epochs):\n",
    "        ys = []\n",
    "        y_hats = []\n",
    "        \n",
    "        # Training Phase \n",
    "        model.train()\n",
    "        for names, x, y in train_loader:\n",
    "            # print(names)\n",
    "            y_hat = model(x)\n",
    "            out = loss(y_hat, y)\n",
    "            out.backward()\n",
    "            optimizer.step()\n",
    "            optimizer.zero_grad()\n",
    "            \n",
    "            ys.append(y.cpu().numpy())\n",
    "            y_hats.append(y_hat.cpu().detach().numpy())\n",
    "            \n",
    "        ys = np.vstack(ys).reshape(-1)\n",
    "        y_hats = np.vstack(y_hats).reshape(-1)\n",
    "        mean_loss = np.mean((ys - y_hats)**2)\n",
    "        train_mse.append(mean_loss)\n",
    "        \n",
    "        model.eval()\n",
    "        ys_val, y_hats_val = predict(model, val_loader)\n",
    "        mean_loss_val = np.mean((ys_val - y_hats_val)**2)\n",
    "        val_mse.append(mean_loss_val)\n",
    "        \n",
    "        print(f\"Epoch {epoch}: train loss {mean_loss} val loss {mean_loss_val}\")\n",
    "    \n",
    "    \n",
    "        \n",
    "    t1 = time.time()\n",
    "    print(f\"Finished in {t1-t0:.4f}s.\")\n",
    "    \n",
    "    plt.plot(train_mse, label=\"train\")\n",
    "    plt.plot(val_mse, label=\"validation\")\n",
    "    plt.legend()\n",
    "    plt.show()"
   ]
  },
  {
   "cell_type": "code",
   "execution_count": 12,
   "metadata": {},
   "outputs": [],
   "source": [
    "def predict_plot(ml, epochs=1):\n",
    "    ys = []\n",
    "    y_hats = []\n",
    "    for epoch in range(epochs): # for random rotations\n",
    "        y, y_hat = predict(net, ml)\n",
    "        ys.append(y)\n",
    "        y_hats.append(y_hat)\n",
    "    \n",
    "    ys = np.hstack(ys)\n",
    "    y_hats = np.hstack(y_hats)\n",
    "        \n",
    "    mse = np.mean((ys - y_hats)**2)\n",
    "    plt.scatter(ys, y_hats, alpha=0.2)\n",
    "    plt.xlabel(\"measured\")\n",
    "    plt.ylabel(\"predicted\")\n",
    "    \n",
    "    l = min(ys.min(), y_hats.min()) - 1\n",
    "    u = max(ys.max(), y_hats.max()) + 1\n",
    "    \n",
    "    plt.plot([l,u], [l,u], c=\"red\")\n",
    "    plt.suptitle(f\"MSE = {mse:.4f}\")\n",
    "    plt.show()"
   ]
  },
  {
   "cell_type": "code",
   "execution_count": 13,
   "metadata": {},
   "outputs": [
    {
     "name": "stdout",
     "output_type": "stream",
     "text": [
      "Number of molecules 377\n",
      "(339, 13) (38, 13)\n"
     ]
    }
   ],
   "source": [
    "df = pd.read_pickle(\"icsd_221_cp5_3_species.pkl\")\n",
    "df = drop_duplicates(df)\n",
    "\n",
    "seed_everything()\n",
    "train_df, test_df = train_test_split(df, test_size=0.1)\n",
    "print(train_df.shape, test_df.shape)"
   ]
  },
  {
   "cell_type": "code",
   "execution_count": 14,
   "metadata": {},
   "outputs": [
    {
     "data": {
      "text/plain": [
       "array(['Ag', 'Al', 'As', 'Au', 'B', 'Ba', 'Be', 'Bi', 'Br', 'C', 'Ca',\n",
       "       'Cd', 'Ce', 'Cl', 'Co', 'Cr', 'Cs', 'Cu', 'Dy', 'Er', 'Eu', 'F',\n",
       "       'Fe', 'Ga', 'Gd', 'Ge', 'H', 'Hf', 'Hg', 'Ho', 'I', 'In', 'Ir',\n",
       "       'K', 'La', 'Li', 'Lu', 'Mg', 'Mn', 'Mo', 'N', 'Na', 'Nb', 'Nd',\n",
       "       'Ni', 'O', 'P', 'Pa', 'Pb', 'Pd', 'Pr', 'Pt', 'Pu', 'Rb', 'Rh',\n",
       "       'Ru', 'S', 'Sb', 'Sc', 'Si', 'Sn', 'Sr', 'Ta', 'Tb', 'Tc', 'Th',\n",
       "       'Ti', 'Tl', 'Tm', 'U', 'V', 'W', 'Y', 'Yb', 'Zn', 'Zr'],\n",
       "      dtype='<U2')"
      ]
     },
     "execution_count": 14,
     "metadata": {},
     "output_type": "execute_result"
    }
   ],
   "source": [
    "elements = get_all_elements(df)\n",
    "elements"
   ]
  },
  {
   "cell_type": "code",
   "execution_count": 15,
   "metadata": {},
   "outputs": [
    {
     "data": {
      "text/plain": [
       "76"
      ]
     },
     "execution_count": 15,
     "metadata": {},
     "output_type": "execute_result"
    }
   ],
   "source": [
    "nchannel = len(elements)\n",
    "nchannel"
   ]
  },
  {
   "cell_type": "code",
   "execution_count": 16,
   "metadata": {},
   "outputs": [
    {
     "data": {
      "text/plain": [
       "79777"
      ]
     },
     "execution_count": 16,
     "metadata": {},
     "output_type": "execute_result"
    }
   ],
   "source": [
    "net = VoxelNet(nchannel)\n",
    "count_parameters(net)"
   ]
  },
  {
   "cell_type": "code",
   "execution_count": 17,
   "metadata": {},
   "outputs": [],
   "source": [
    "names_train, reciprocal_data_train, ys_train = prepare_multi_channel_data(train_df, sigma=0.1, L=12.8, N=32, elements=elements)\n",
    "names_test, reciprocal_data_test, ys_test = prepare_multi_channel_data(test_df, sigma=0.1, L=12.8, N=32, elements=elements)"
   ]
  },
  {
   "cell_type": "code",
   "execution_count": 18,
   "metadata": {},
   "outputs": [
    {
     "name": "stdout",
     "output_type": "stream",
     "text": [
      "Epoch 0: train loss 27.649011611938477 val loss 27.423416137695312\n",
      "Epoch 1: train loss 22.86301612854004 val loss 14.535316467285156\n",
      "Epoch 2: train loss 7.457096099853516 val loss 6.862462997436523\n",
      "Epoch 3: train loss 4.960904598236084 val loss 3.5831716060638428\n",
      "Epoch 4: train loss 4.020195484161377 val loss 3.9473912715911865\n",
      "Epoch 5: train loss 3.080455780029297 val loss 2.993619918823242\n",
      "Epoch 6: train loss 2.961697578430176 val loss 2.655860424041748\n",
      "Epoch 7: train loss 2.711576223373413 val loss 2.8405439853668213\n",
      "Epoch 8: train loss 2.521676778793335 val loss 2.4884889125823975\n",
      "Epoch 9: train loss 2.5905158519744873 val loss 2.435825824737549\n",
      "Epoch 10: train loss 2.4018094539642334 val loss 2.590648889541626\n",
      "Epoch 11: train loss 2.4149320125579834 val loss 2.3496737480163574\n",
      "Epoch 12: train loss 2.3589305877685547 val loss 2.351313352584839\n",
      "Epoch 13: train loss 2.2838923931121826 val loss 2.3765931129455566\n",
      "Epoch 14: train loss 2.230172872543335 val loss 2.200209379196167\n",
      "Epoch 15: train loss 2.259838342666626 val loss 2.1947567462921143\n",
      "Epoch 16: train loss 2.3060688972473145 val loss 2.261272430419922\n",
      "Epoch 17: train loss 2.032097339630127 val loss 2.0896575450897217\n",
      "Epoch 18: train loss 2.0764739513397217 val loss 2.1824491024017334\n",
      "Epoch 19: train loss 1.9457757472991943 val loss 1.8859708309173584\n",
      "Epoch 20: train loss 1.827714443206787 val loss 1.7989892959594727\n",
      "Epoch 21: train loss 1.7532933950424194 val loss 1.7307049036026\n",
      "Epoch 22: train loss 1.5983753204345703 val loss 1.5291928052902222\n",
      "Epoch 23: train loss 1.434054970741272 val loss 1.4560372829437256\n",
      "Epoch 24: train loss 1.2839092016220093 val loss 1.207809329032898\n",
      "Epoch 25: train loss 1.1723191738128662 val loss 1.0682551860809326\n",
      "Epoch 26: train loss 1.0212970972061157 val loss 0.9930016398429871\n",
      "Epoch 27: train loss 0.898015022277832 val loss 0.8134592175483704\n",
      "Epoch 28: train loss 0.8020114898681641 val loss 0.7203405499458313\n",
      "Epoch 29: train loss 0.7061974406242371 val loss 0.6450175642967224\n",
      "Epoch 30: train loss 0.6458936333656311 val loss 0.5851098895072937\n",
      "Epoch 31: train loss 0.6414405703544617 val loss 0.5481323003768921\n",
      "Epoch 32: train loss 0.6333153247833252 val loss 0.824475109577179\n",
      "Epoch 33: train loss 0.5815487504005432 val loss 0.6455591320991516\n",
      "Epoch 34: train loss 0.5367589592933655 val loss 0.5393909811973572\n",
      "Epoch 35: train loss 0.47781145572662354 val loss 0.5956282019615173\n",
      "Epoch 36: train loss 0.448984295129776 val loss 0.5757807493209839\n",
      "Epoch 37: train loss 0.41572144627571106 val loss 0.5403799414634705\n",
      "Epoch 38: train loss 0.41557568311691284 val loss 0.6060251593589783\n",
      "Epoch 39: train loss 0.388403058052063 val loss 0.5985175967216492\n",
      "Epoch 40: train loss 0.37695780396461487 val loss 0.5525331497192383\n",
      "Epoch 41: train loss 0.34659504890441895 val loss 0.5781787037849426\n",
      "Epoch 42: train loss 0.3370901942253113 val loss 0.5837323069572449\n",
      "Epoch 43: train loss 0.31631383299827576 val loss 0.5428646802902222\n",
      "Epoch 44: train loss 0.2963851988315582 val loss 0.5332760214805603\n",
      "Epoch 45: train loss 0.30357033014297485 val loss 0.5532659888267517\n",
      "Epoch 46: train loss 0.28924867510795593 val loss 0.5571750998497009\n",
      "Epoch 47: train loss 0.28434133529663086 val loss 0.5637639164924622\n",
      "Epoch 48: train loss 0.2504481375217438 val loss 0.5781952738761902\n",
      "Epoch 49: train loss 0.22873762249946594 val loss 0.5972110629081726\n",
      "Finished in 278.3221s.\n"
     ]
    },
    {
     "data": {
      "image/png": "[encoded data removed]",
      "text/plain": [
       "<Figure size 432x288 with 1 Axes>"
      ]
     },
     "metadata": {
      "needs_background": "light"
     },
     "output_type": "display_data"
    }
   ],
   "source": [
    "seed_everything()\n",
    "device = get_default_device()\n",
    "\n",
    "net = VoxelNet(nchannel)\n",
    "net = net.to(device)\n",
    "\n",
    "ml_train = MolLoader(names_train, reciprocal_data_train, ys_train,\n",
    "               L=12.8, N=32, batch_size=64, nchannel=nchannel,\n",
    "               shuffle=True, rotate_randomly=True, device=device)\n",
    "\n",
    "ml_test = MolLoader(names_test, reciprocal_data_test, ys_test,\n",
    "                   L=12.8, N=32, batch_size=len(names_test), nchannel=nchannel,\n",
    "                   shuffle=False, rotate_randomly=False, device=device)\n",
    "\n",
    "fit(50, net, ml_train, ml_test, torch.optim.Adam, lr=0.001, weight_decay=0)"
   ]
  },
  {
   "cell_type": "code",
   "execution_count": 19,
   "metadata": {},
   "outputs": [
    {
     "data": {
      "image/png": "[encoded data removed]",
      "text/plain": [
       "<Figure size 432x288 with 1 Axes>"
      ]
     },
     "metadata": {
      "needs_background": "light"
     },
     "output_type": "display_data"
    }
   ],
   "source": [
    "# rotations\n",
    "seed_everything()\n",
    "ml_pred = MolLoader(names_train, reciprocal_data_train, ys_train,\n",
    "                   L=12.8, N=32, batch_size=128, nchannel=nchannel,\n",
    "                   shuffle=False, rotate_randomly=True, device=device)\n",
    "predict_plot(ml_pred, epochs=5)"
   ]
  },
  {
   "cell_type": "code",
   "execution_count": 20,
   "metadata": {},
   "outputs": [
    {
     "data": {
      "image/png": "[encoded data removed]",
      "text/plain": [
       "<Figure size 432x288 with 1 Axes>"
      ]
     },
     "metadata": {
      "needs_background": "light"
     },
     "output_type": "display_data"
    }
   ],
   "source": [
    "# rotations\n",
    "seed_everything()\n",
    "ml_pred = MolLoader(names_test, reciprocal_data_test, ys_test,\n",
    "                   L=12.8, N=32, batch_size=len(names_test), nchannel=nchannel,\n",
    "                   shuffle=False, rotate_randomly=True, device=device)\n",
    "predict_plot(ml_pred, epochs=5)"
   ]
  }
 ],
 "metadata": {
  "kernelspec": {
   "display_name": "Python 3",
   "language": "python",
   "name": "python3"
  },
  "language_info": {
   "codemirror_mode": {
    "name": "ipython",
    "version": 3
   },
   "file_extension": ".py",
   "mimetype": "text/x-python",
   "name": "python",
   "nbconvert_exporter": "python",
   "pygments_lexer": "ipython3",
   "version": "3.8.1"
  }
 },
 "nbformat": 4,
 "nbformat_minor": 4
}
