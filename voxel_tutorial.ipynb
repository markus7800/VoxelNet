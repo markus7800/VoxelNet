{
 "cells": [
  {
   "cell_type": "code",
   "execution_count": null,
   "metadata": {},
   "outputs": [],
   "source": [
    "from voxel import *"
   ]
  },
  {
   "cell_type": "code",
   "execution_count": null,
   "metadata": {},
   "outputs": [],
   "source": [
    "# Calculate coordinates of atoms in rhombus\n",
    "# a = 1\n",
    "# alpha = 45 deg = pi/4\n",
    "f = 2 * np.sin(np.pi/8)\n",
    "e = np.cos(np.pi/8)\n",
    "r = f*np.sqrt(4-f**2)/(4+2*f)\n",
    "print(np.cos(np.pi/8)*(e-r), np.sin(np.pi/8)*(e-r))\n",
    "print(np.cos(np.pi/8)*(e+r), np.sin(np.pi/8)*(e+r))"
   ]
  },
  {
   "cell_type": "code",
   "execution_count": null,
   "metadata": {},
   "outputs": [],
   "source": [
    "# matrix corresponding to unit cell (columns are primitive unit vectors)\n",
    "A = np.array([\n",
    "    [1., np.sqrt(0.5)],\n",
    "    [0., np.sqrt(0.5)]\n",
    "]) * 3\n",
    "\n",
    "# atom coordinates\n",
    "mus = np.array([[0.6173,0.2557], [1.0898, 0.4514]])*3\n",
    "\n",
    "# standard deviation for the Gaussians\n",
    "sigma = 0.3\n",
    "\n",
    "# get the field quantity as function\n",
    "gauss = get_nD_gaussian(A, mus, sigma, 3)"
   ]
  },
  {
   "cell_type": "code",
   "execution_count": null,
   "metadata": {},
   "outputs": [],
   "source": [
    "# evaluate the field over the unit cell, n specifies precision\n",
    "R, SR = bravais_lattice(gauss, A, n=101)\n",
    "plot_2D_realspace_lattice(A, R, SR)"
   ]
  },
  {
   "cell_type": "code",
   "execution_count": null,
   "metadata": {},
   "outputs": [],
   "source": [
    "# evaluate field over reciprocal space at integer multiples of the basis vectors of B = 2pi inv(A).T\n",
    "mx = np.arange(-3,4)\n",
    "my = np.arange(-3,4)\n",
    "B, G, SG = reciprocal_lattice(gauss, A, mx, my, n=101) # numerically\n",
    "plot_2D_reciprocal_lattice(B, mx, my, G, SG)"
   ]
  },
  {
   "cell_type": "code",
   "execution_count": null,
   "metadata": {},
   "outputs": [],
   "source": [
    "B, G, SG = reciprocal_lattice_gaussian(A, mus, sigma, mx, my) # theoretically\n",
    "plot_2D_reciprocal_lattice(B, mx, my, G, SG)"
   ]
  },
  {
   "cell_type": "markdown",
   "metadata": {},
   "source": [
    "## Descriptor"
   ]
  },
  {
   "cell_type": "code",
   "execution_count": null,
   "metadata": {},
   "outputs": [],
   "source": [
    "# parameters\n",
    "L = 12.8\n",
    "N = 32"
   ]
  },
  {
   "cell_type": "code",
   "execution_count": null,
   "metadata": {},
   "outputs": [],
   "source": [
    "width = 2 * np.pi / L * N\n",
    "width"
   ]
  },
  {
   "cell_type": "code",
   "execution_count": null,
   "metadata": {},
   "outputs": [],
   "source": [
    "voxel_width = width / N\n",
    "voxel_width"
   ]
  },
  {
   "cell_type": "code",
   "execution_count": null,
   "metadata": {},
   "outputs": [],
   "source": [
    "# get integer ranges such that all points in the desired square\n",
    "# [-width / 2, width / 2]^d can be computed with reciprocal vectors\n",
    "# formed with B . (mx x my)\n",
    "mx, my = get_mesh_coords(A, width)"
   ]
  },
  {
   "cell_type": "code",
   "execution_count": null,
   "metadata": {},
   "outputs": [],
   "source": [
    "# visualisation of get_mesh_coords\n",
    "B, G, SG = reciprocal_lattice_gaussian(A, mus, sigma, mx, my)\n",
    "\n",
    "import matplotlib.patches as patches\n",
    "fig, ax = plt.subplots(figsize=(16,16))\n",
    "absSG = np.abs(SG)\n",
    "colors = [(1.,0.,0.,v) for v in  np.maximum(absSG, absSG.max()*0.2) / absSG.max()]\n",
    "ax.scatter(G[0,:], G[1,:], c=colors)\n",
    "width = 2*np.pi / L * N\n",
    "rect = patches.Rectangle((-width/2, -width/2), width, width, linewidth=3, edgecolor='r', facecolor='none')\n",
    "ax.add_patch(rect)\n",
    "ax.set_aspect('equal')\n",
    "plt.xticks(np.linspace(-width/2, width/2, N+1), rotation = 90)\n",
    "plt.yticks(np.linspace(-width/2, width/2, N+1))\n",
    "plt.grid(True)\n",
    "plt.show()"
   ]
  },
  {
   "cell_type": "code",
   "execution_count": null,
   "metadata": {},
   "outputs": [],
   "source": [
    "# pass L and N to crop to relevant square \n",
    "plot_2D_reciprocal_lattice(B, mx, my, G, SG, L=L, N=N)"
   ]
  },
  {
   "cell_type": "code",
   "execution_count": null,
   "metadata": {},
   "outputs": [],
   "source": [
    "# final step:\n",
    "# place the computed values on a N x N grid\n",
    "descriptor = adapt_to_voxel_grid(G, SG, L, N)"
   ]
  },
  {
   "cell_type": "code",
   "execution_count": null,
   "metadata": {},
   "outputs": [],
   "source": [
    "fig = plt.figure(figsize=(8,8))\n",
    "ax = fig.add_subplot(111)\n",
    "plt.imshow(descriptor, origin='lower')\n",
    "plt.xticks(np.arange(0,N)+0.5)\n",
    "plt.yticks(np.arange(0,N)+0.5)\n",
    "ax.set_xticklabels([])\n",
    "ax.set_yticklabels([])\n",
    "plt.grid(True)"
   ]
  },
  {
   "cell_type": "code",
   "execution_count": null,
   "metadata": {},
   "outputs": [],
   "source": [
    "# for rotations, get integer ranges such that all points in the desired circle\n",
    "# of radius width * sqrt(d) / 2 can be computed with reciprocal vectors\n",
    "# formed with B . (mx x my)\n",
    "mx, my = get_mesh_coords(A, width*np.sqrt(2))"
   ]
  },
  {
   "cell_type": "code",
   "execution_count": null,
   "metadata": {},
   "outputs": [],
   "source": [
    "# visualisation of get_mesh_coords\n",
    "B, G, SG = reciprocal_lattice_gaussian(A, mus, sigma, mx, my)\n",
    "\n",
    "import matplotlib.patches as patches\n",
    "fig, ax = plt.subplots(figsize=(16,16))\n",
    "absSG = np.abs(SG)\n",
    "colors = [(1.,0.,0.,v) for v in  np.maximum(absSG, absSG.max()*0.2) / absSG.max()]\n",
    "ax.scatter(G[0,:], G[1,:], c=colors)\n",
    "width = 2*np.pi / L * N\n",
    "rect = patches.Rectangle((-width/2, -width/2), width, width, linewidth=3, edgecolor='r', facecolor='none')\n",
    "ax.add_patch(rect)\n",
    "circ = patches.Circle((0.,0.), width * np.sqrt(2) / 2,  linewidth=2, edgecolor='b', facecolor='none')\n",
    "ax.add_patch(circ)\n",
    "rect = patches.Rectangle((-width*np.sqrt(2)/2, -width*np.sqrt(2)/2), width*np.sqrt(2), width*np.sqrt(2), linewidth=2, edgecolor='b', facecolor='none')\n",
    "ax.add_patch(rect)\n",
    "ax.set_aspect('equal')\n",
    "plt.xticks(np.linspace(-width/2, width/2, N+1), rotation = 90)\n",
    "plt.yticks(np.linspace(-width/2, width/2, N+1))\n",
    "plt.grid(True)\n",
    "plt.show()"
   ]
  },
  {
   "cell_type": "code",
   "execution_count": null,
   "metadata": {},
   "outputs": [],
   "source": [
    "R = get_2D_rotation_matrix(np.pi/4) # 45 degress\n",
    "\n",
    "# final step:\n",
    "# place the computed values on a N x N grid\n",
    "descriptor = adapt_to_voxel_grid(G, SG, L, N, rot=R)\n",
    "\n",
    "fig = plt.figure(figsize=(8,8))\n",
    "ax = fig.add_subplot(111)\n",
    "plt.imshow(descriptor, origin='lower')\n",
    "plt.xticks(np.arange(0,N)+0.5)\n",
    "plt.yticks(np.arange(0,N)+0.5)\n",
    "ax.set_xticklabels([])\n",
    "ax.set_yticklabels([])\n",
    "plt.grid(True)"
   ]
  },
  {
   "cell_type": "markdown",
   "metadata": {},
   "source": [
    "## 3D"
   ]
  },
  {
   "cell_type": "code",
   "execution_count": null,
   "metadata": {},
   "outputs": [],
   "source": [
    "L = 12.8\n",
    "N = 32\n",
    "\n",
    "width = 2 * np.pi / L * N\n",
    "voxel_width = width / N\n",
    "\n",
    "\n",
    "A = np.eye(3)\n",
    "mus =  np.array([[0.,0.,0.]])\n",
    "sigma = 0.1\n",
    "\n",
    "mx, my, mz = get_mesh_coords(A, width)"
   ]
  },
  {
   "cell_type": "code",
   "execution_count": null,
   "metadata": {},
   "outputs": [],
   "source": [
    "%%time\n",
    "B, G, SG = reciprocal_lattice_gaussian(A, mus, sigma, mx, my, mz)"
   ]
  },
  {
   "cell_type": "code",
   "execution_count": null,
   "metadata": {},
   "outputs": [],
   "source": [
    "%%time\n",
    "gauss = get_nD_gaussian(A, mus, sigma, 3)\n",
    "B2, G2, SG2 = reciprocal_lattice(gauss, A, mx, my, mz, n=61, verbose=True)"
   ]
  },
  {
   "cell_type": "code",
   "execution_count": null,
   "metadata": {},
   "outputs": [],
   "source": [
    "%%time\n",
    "gauss = get_nD_gaussian(A, mus, sigma, 3)\n",
    "B3, G3, SG3 = reciprocal_lattice_fft(gauss, A, mx, my, mz, n=61, verbose=True)"
   ]
  },
  {
   "cell_type": "code",
   "execution_count": null,
   "metadata": {},
   "outputs": [],
   "source": [
    "plot_3D_reciprocal_lattice(B, G, SG2, L=L, N=N)"
   ]
  },
  {
   "cell_type": "code",
   "execution_count": null,
   "metadata": {},
   "outputs": [],
   "source": [
    "%matplotlib widget\n",
    "descriptor = adapt_to_voxel_grid(G, SG, L, N)\n",
    "\n",
    "fig = plt.figure(figsize=(4,4))\n",
    "ax = Axes3D(fig)\n",
    "\n",
    "absSG = descriptor.reshape(-1)\n",
    "max_sg = absSG.max()\n",
    "colors = [(1.,0.,0.,v) for v in np.maximum(absSG.reshape(-1) / max_sg, 0.0)]\n",
    "i = np.arange(0, N)\n",
    "I = np.meshgrid(i, i, i)\n",
    "ax.scatter(I[0], I[1], I[2], c=colors)\n",
    "plt.show()"
   ]
  },
  {
   "cell_type": "code",
   "execution_count": null,
   "metadata": {},
   "outputs": [],
   "source": [
    "# rotation\n",
    "mx, my, mz = get_mesh_coords(A, width*np.sqrt(3))\n",
    "B, G, SG = reciprocal_lattice_gaussian(A, mus, sigma, mx, my, mz)\n",
    "\n",
    "R = Rotation.from_rotvec([0.,0.,np.pi/16]).as_matrix()\n",
    "\n",
    "descriptor = adapt_to_voxel_grid(G, SG, L, N, rot=R)\n",
    "\n",
    "fig = plt.figure(figsize=(4,4))\n",
    "ax = Axes3D(fig)\n",
    "\n",
    "absSG = descriptor.reshape(-1)\n",
    "max_sg = absSG.max()\n",
    "colors = [(1.,0.,0.,v) for v in np.maximum(absSG.reshape(-1) / max_sg, 0.0)]\n",
    "i = np.arange(0, N)\n",
    "I = np.meshgrid(i, i, i)\n",
    "ax.scatter(I[0], I[1], I[2], c=colors)\n",
    "plt.show()"
   ]
  },
  {
   "cell_type": "markdown",
   "metadata": {},
   "source": [
    "## Real molecule example"
   ]
  },
  {
   "cell_type": "code",
   "execution_count": null,
   "metadata": {},
   "outputs": [],
   "source": [
    "import pandas as pd\n",
    "o_sr_ti = pd.read_pickle(\"OSrTi.pkl\")\n",
    "\n",
    "from mol_tools import *"
   ]
  },
  {
   "cell_type": "code",
   "execution_count": null,
   "metadata": {},
   "outputs": [],
   "source": [
    "mol = o_sr_ti.loc[1]\n",
    "mol.compound"
   ]
  },
  {
   "cell_type": "code",
   "execution_count": null,
   "metadata": {},
   "outputs": [],
   "source": [
    "# all atoms in one plane\n",
    "%matplotlib widget\n",
    "plot_3D_crystal(mol)"
   ]
  },
  {
   "cell_type": "code",
   "execution_count": null,
   "metadata": {},
   "outputs": [],
   "source": [
    "A = calc_basis(mol.geometry)\n",
    "A"
   ]
  },
  {
   "cell_type": "code",
   "execution_count": null,
   "metadata": {},
   "outputs": [],
   "source": [
    "# perform rotation to eliminate dimesion for better visualisation\n",
    "v = (A[:,0] + A[:,1])[[0,1]]\n",
    "v = v / np.linalg.norm(v)\n",
    "a = np.arccos(v[0])\n",
    "rot2 = get_2D_rotation_matrix(a)\n",
    "rot = np.eye(3)\n",
    "rot[0:2,0:2] = rot2\n",
    "rot"
   ]
  },
  {
   "cell_type": "code",
   "execution_count": null,
   "metadata": {},
   "outputs": [],
   "source": [
    "rot_coords = rot.T.dot(calc_cartesian_positions(A, mol.positions_fractional).T).T\n",
    "rot_coords"
   ]
  },
  {
   "cell_type": "code",
   "execution_count": null,
   "metadata": {},
   "outputs": [],
   "source": [
    "# new coordinates\n",
    "mus2 = rot_coords[:, [0,2]]\n",
    "mus2"
   ]
  },
  {
   "cell_type": "code",
   "execution_count": null,
   "metadata": {},
   "outputs": [],
   "source": [
    "# new unit cell\n",
    "az = rot.T.dot(A[:,2])[[0,2]]\n",
    "A2 = np.array([\n",
    "    [np.linalg.norm(A[:,0] + A[:,1]), az[0]], \n",
    "    [0., az[1]]\n",
    "])\n",
    "A2"
   ]
  },
  {
   "cell_type": "code",
   "execution_count": null,
   "metadata": {},
   "outputs": [],
   "source": [
    "sigma = 0.3\n",
    "gauss = get_nD_gaussian(A2, mus2, sigma, 3)\n",
    "R, SR = bravais_lattice(gauss, A2, n=201)\n",
    "plot_2D_realspace_lattice(A2, R, SR)"
   ]
  },
  {
   "cell_type": "code",
   "execution_count": null,
   "metadata": {},
   "outputs": [],
   "source": [
    "L = 12.8\n",
    "N = 32\n",
    "\n",
    "width = 2 * np.pi / L * N\n",
    "\n",
    "mx, my = get_mesh_coords(A2, width)\n",
    "\n",
    "B, G, SG = reciprocal_lattice_gaussian(A2, mus2, sigma, mx, my, mz)\n",
    "\n",
    "plot_2D_reciprocal_lattice(B, mx, my, G, SG, L=L, N=N)"
   ]
  },
  {
   "cell_type": "code",
   "execution_count": null,
   "metadata": {},
   "outputs": [],
   "source": [
    "R = get_2D_rotation_matrix(np.pi/4) # 45 degress\n",
    "\n",
    "# final step:\n",
    "# place the computed values on a N x N grid\n",
    "descriptor = adapt_to_voxel_grid(G, SG, L, N, rot=np.eye(2))\n",
    "\n",
    "fig = plt.figure(figsize=(8,8))\n",
    "ax = fig.add_subplot(111)\n",
    "plt.imshow(descriptor, origin='lower')\n",
    "plt.xticks(np.arange(0,N)+0.5)\n",
    "plt.yticks(np.arange(0,N)+0.5)\n",
    "ax.set_xticklabels([])\n",
    "ax.set_yticklabels([])\n",
    "plt.grid(True)"
   ]
  },
  {
   "cell_type": "code",
   "execution_count": null,
   "metadata": {},
   "outputs": [],
   "source": []
  }
 ],
 "metadata": {
  "kernelspec": {
   "display_name": "Python 3",
   "language": "python",
   "name": "python3"
  },
  "language_info": {
   "codemirror_mode": {
    "name": "ipython",
    "version": 3
   },
   "file_extension": ".py",
   "mimetype": "text/x-python",
   "name": "python",
   "nbconvert_exporter": "python",
   "pygments_lexer": "ipython3",
   "version": "3.8.1"
  }
 },
 "nbformat": 4,
 "nbformat_minor": 4
}
