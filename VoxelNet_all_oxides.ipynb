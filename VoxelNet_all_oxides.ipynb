{
 "cells": [
  {
   "cell_type": "code",
   "execution_count": null,
   "metadata": {},
   "outputs": [],
   "source": [
    "import numpy as np\n",
    "import pandas as pd\n",
    "\n",
    "from molloader import *\n",
    "from ML_utils import *\n",
    "\n",
    "import torch\n",
    "import torch.nn as nn\n",
    "\n",
    "from sklearn.model_selection import train_test_split, KFold, ParameterGrid"
   ]
  },
  {
   "cell_type": "code",
   "execution_count": null,
   "metadata": {},
   "outputs": [],
   "source": [
    "def drop_duplicates(df):\n",
    "    df = df.drop_duplicates(subset=\"compound\", keep=\"first\")\n",
    "    print(\"Number of compounds\", df.shape[0])\n",
    "    return df"
   ]
  },
  {
   "cell_type": "code",
   "execution_count": null,
   "metadata": {},
   "outputs": [],
   "source": [
    "def drop_low_frequency_elements(df, limit):\n",
    "    elem_counts = pd.Series(np.hstack(np.array(df.species))).value_counts()\n",
    "    low_freq = elem_counts[elem_counts < limit].index.values\n",
    "    low_freq_mask = df.species.apply(lambda s: len(np.setdiff1d(s, low_freq)) < len(s))\n",
    "    df = df[~low_freq_mask]\n",
    "    print(\"Number of compounds\", df.shape[0])\n",
    "    return df"
   ]
  },
  {
   "cell_type": "code",
   "execution_count": null,
   "metadata": {},
   "outputs": [],
   "source": [
    "def get_all_elements(df):\n",
    "      return np.unique(np.hstack(np.array(df.species)))"
   ]
  },
  {
   "cell_type": "code",
   "execution_count": null,
   "metadata": {},
   "outputs": [],
   "source": [
    "class VoxelNet(nn.Module):\n",
    "    def __init__(self, in_channels=1):\n",
    "        super().__init__()\n",
    "        # (N, C, D, H, W)\n",
    "        self.conv1 = nn.Sequential(\n",
    "            nn.Conv3d(in_channels, 16, 3, padding=0, stride=1),\n",
    "            nn.SELU(0.3),\n",
    "            nn.MaxPool3d(2))\n",
    "        \n",
    "        self.conv2 = nn.Sequential(\n",
    "            nn.Conv3d(16, 16, 3, padding=0, stride=1),\n",
    "            nn.SELU(),\n",
    "            nn.MaxPool3d(2))\n",
    "        \n",
    "        self.conv3 = nn.Sequential(\n",
    "            nn.Conv3d(16, 16, 3, padding=0, stride=1),\n",
    "            nn.SELU())\n",
    "        \n",
    "        self.regressor = nn.Sequential(nn.Flatten(),\n",
    "                                        nn.Linear(1024, 32),\n",
    "                                        nn.SELU(),\n",
    "                                        nn.Linear(32, 8),\n",
    "                                        nn.SELU(),\n",
    "                                        nn.Linear(8, 1))\n",
    "    def forward(self, x):\n",
    "        x = self.conv1(x)\n",
    "        x = self.conv2(x)\n",
    "        x = self.conv3(x)\n",
    "        x = self.regressor(x)\n",
    "        return x"
   ]
  },
  {
   "cell_type": "code",
   "execution_count": null,
   "metadata": {},
   "outputs": [],
   "source": [
    "data_name = \"all_oxides\"\n",
    "fig_folder = \"plots/\""
   ]
  },
  {
   "cell_type": "code",
   "execution_count": null,
   "metadata": {},
   "outputs": [],
   "source": [
    "df1 = pd.read_pickle(f\"data/all_3_species_oxides.pkl\")\n",
    "df2 = pd.read_pickle(f\"data/all_sup4_species_oxides.pkl\")\n",
    "df = df1.append(df2)\n",
    "df = drop_duplicates(df)\n",
    "df = drop_low_frequency_elements(df, 50)\n",
    "df"
   ]
  },
  {
   "cell_type": "code",
   "execution_count": null,
   "metadata": {},
   "outputs": [],
   "source": [
    "elements = get_all_elements(df)\n",
    "nchannel = len(elements)\n",
    "nchannel, elements"
   ]
  },
  {
   "cell_type": "code",
   "execution_count": null,
   "metadata": {},
   "outputs": [],
   "source": [
    "net = VoxelNet(nchannel)\n",
    "count_parameters(net)"
   ]
  },
  {
   "cell_type": "markdown",
   "metadata": {},
   "source": [
    "## Parameters"
   ]
  },
  {
   "cell_type": "code",
   "execution_count": null,
   "metadata": {},
   "outputs": [],
   "source": [
    "sigma = 0.1\n",
    "L = 12.8\n",
    "N = 32\n",
    "epochs = 50\n",
    "weight_decay = 0.01\n",
    "\n",
    "device = get_default_device()"
   ]
  },
  {
   "cell_type": "markdown",
   "metadata": {},
   "source": [
    "##  Cartesian"
   ]
  },
  {
   "cell_type": "code",
   "execution_count": null,
   "metadata": {},
   "outputs": [],
   "source": [
    "seed_everything()\n",
    "train_df, holdout_df = train_test_split(df, test_size=0.2)\n",
    "val_df, test_df = train_test_split(holdout_df, test_size=0.5)\n",
    "print(train_df.shape, val_df.shape, test_df.shape)\n",
    "\n",
    "seed_everything()\n",
    "\n",
    "net = VoxelNet(nchannel)\n",
    "net = net.to(device)\n",
    "\n",
    "ml_train = MolLoader(train_df, sigma=sigma, elements=elements,\n",
    "                     L=L, N=N, batch_size=64, nchannel=nchannel,\n",
    "                     shuffle=True, rotate_randomly=True, reflect_randomly=True,\n",
    "                     device=device, mode='cartesian')\n",
    "\n",
    "ml_val = MolLoader(val_df, sigma=sigma, elements=elements,\n",
    "                    L=L, N=N, batch_size=128, nchannel=nchannel,\n",
    "                    shuffle=False, rotate_randomly=True, reflect_randomly=True,\n",
    "                    device=device, mode='cartesian')\n",
    "\n",
    "ml_test = MolLoader(test_df, sigma=sigma, elements=elements,\n",
    "                    L=L, N=N, batch_size=128, nchannel=nchannel,\n",
    "                    shuffle=False, rotate_randomly=True, reflect_randomly=True,\n",
    "                    device=device, mode='cartesian')\n",
    "\n",
    "best_net = fit(epochs, net, ml_train, ml_val, ml_test, torch.optim.Adam, lr=0.001, weight_decay=weight_decay, val_epochs=5)"
   ]
  },
  {
   "cell_type": "markdown",
   "metadata": {},
   "source": [
    "### Train Plots"
   ]
  },
  {
   "cell_type": "code",
   "execution_count": null,
   "metadata": {},
   "outputs": [],
   "source": [
    "ml_pred = ml_train\n",
    "ml_pred.reset(batch_size=128, shuffle=False, rotate_randomly=False, reflect_randomly=False)\n",
    "ys, y_hats = predict(best_net, ml_pred)\n",
    "plot_predictions(ys, y_hats)\n",
    "print(\"MSE\", np.mean((ys - y_hats)**2))\n",
    "print(\"MAE\", np.mean(np.abs(ys - y_hats)))\n",
    "plt.savefig(fig_folder + data_name + \"_cartesian_train_orig.pdf\")"
   ]
  },
  {
   "cell_type": "code",
   "execution_count": null,
   "metadata": {},
   "outputs": [],
   "source": [
    "# transformations\n",
    "seed_everything()\n",
    "ml_pred = ml_train\n",
    "ml_pred.reset(batch_size=128, shuffle=False, rotate_randomly=True, reflect_randomly=True)\n",
    "ys, y_hats = predict_epochs(best_net, ml_pred, epochs=5)\n",
    "print(\"Mean Variance: \", np.mean(np.var(y_hats.reshape(5,-1), axis=0)))\n",
    "plot_predictions(ys, y_hats, alpha=0.01)\n",
    "print(\"MSE\", np.mean((ys - y_hats)**2))\n",
    "print(\"MAE\", np.mean(np.abs(ys - y_hats)))\n",
    "plt.savefig(fig_folder + data_name + \"_cartesian_train.pdf\")"
   ]
  },
  {
   "cell_type": "markdown",
   "metadata": {},
   "source": [
    "### Test Plots"
   ]
  },
  {
   "cell_type": "code",
   "execution_count": null,
   "metadata": {},
   "outputs": [],
   "source": [
    "ml_pred = ml_test\n",
    "ml_pred.reset(batch_size=128, shuffle=False, rotate_randomly=False, reflect_randomly=False)\n",
    "ys, y_hats = predict(best_net, ml_pred)\n",
    "plot_predictions(ys, y_hats)\n",
    "print(\"MSE\", np.mean((ys - y_hats)**2))\n",
    "print(\"MAE\", np.mean(np.abs(ys - y_hats)))\n",
    "plt.savefig(fig_folder + data_name + \"_cartesian_test_orig.pdf\")"
   ]
  },
  {
   "cell_type": "code",
   "execution_count": null,
   "metadata": {},
   "outputs": [],
   "source": [
    "# transformations\n",
    "seed_everything()\n",
    "ml_pred = ml_test\n",
    "ml_pred.reset(batch_size=128, shuffle=False, rotate_randomly=True, reflect_randomly=True)\n",
    "ys, y_hats = predict_epochs(best_net, ml_pred, epochs=5)\n",
    "print(\"Mean Variance: \", np.mean(np.var(y_hats.reshape(5,-1), axis=0)))\n",
    "plot_predictions(ys, y_hats)\n",
    "print(\"MSE\", np.mean((ys - y_hats)**2))\n",
    "print(\"MAE\", np.mean(np.abs(ys - y_hats)))\n",
    "plt.savefig(fig_folder + data_name + \"_cartesian_test.pdf\")"
   ]
  },
  {
   "cell_type": "markdown",
   "metadata": {},
   "source": [
    "## Spherical"
   ]
  },
  {
   "cell_type": "code",
   "execution_count": null,
   "metadata": {},
   "outputs": [],
   "source": [
    "seed_everything()\n",
    "train_df, holdout_df = train_test_split(df, test_size=0.2)\n",
    "val_df, test_df = train_test_split(holdout_df, test_size=0.5)\n",
    "print(train_df.shape, val_df.shape, test_df.shape)\n",
    "\n",
    "seed_everything()\n",
    "\n",
    "net = VoxelNet(nchannel)\n",
    "net = net.to(device)\n",
    "\n",
    "ml_train = MolLoader(train_df, sigma=sigma, elements=elements,\n",
    "                     L=L, N=N, batch_size=64, nchannel=nchannel,\n",
    "                     shuffle=True, rotate_randomly=True, reflect_randomly=True,\n",
    "                     device=device, mode='spherical')\n",
    "\n",
    "ml_val = MolLoader(val_df, sigma=sigma, elements=elements,\n",
    "                    L=L, N=N, batch_size=128, nchannel=nchannel,\n",
    "                    shuffle=False, rotate_randomly=True, reflect_randomly=True,\n",
    "                    device=device, mode='spherical')\n",
    "\n",
    "ml_test = MolLoader(test_df, sigma=sigma, elements=elements,\n",
    "                    L=L, N=N, batch_size=128, nchannel=nchannel,\n",
    "                    shuffle=False, rotate_randomly=True, reflect_randomly=True,\n",
    "                    device=device, mode='spherical')\n",
    "\n",
    "best_net = fit(epochs, net, ml_train, ml_val, ml_test, torch.optim.Adam, lr=0.001, weight_decay=weight_decay, val_epochs=5)"
   ]
  },
  {
   "cell_type": "markdown",
   "metadata": {},
   "source": [
    "### Train Plots"
   ]
  },
  {
   "cell_type": "code",
   "execution_count": null,
   "metadata": {},
   "outputs": [],
   "source": [
    "ml_pred = ml_train\n",
    "ml_pred.reset(batch_size=128, shuffle=False, rotate_randomly=False, reflect_randomly=False)\n",
    "ys, y_hats = predict(best_net, ml_pred)\n",
    "plot_predictions(ys, y_hats)\n",
    "print(\"MSE\", np.mean((ys - y_hats)**2))\n",
    "print(\"MAE\", np.mean(np.abs(ys - y_hats)))\n",
    "plt.savefig(fig_folder + data_name + \"_spherical_train_orig.pdf\")"
   ]
  },
  {
   "cell_type": "code",
   "execution_count": null,
   "metadata": {},
   "outputs": [],
   "source": [
    "# transformations\n",
    "seed_everything()\n",
    "ml_pred = ml_train\n",
    "ml_pred.reset(batch_size=128, shuffle=False, rotate_randomly=True, reflect_randomly=True)\n",
    "ys, y_hats = predict_epochs(best_net, ml_pred, epochs=5)\n",
    "print(\"Mean Variance: \", np.mean(np.var(y_hats.reshape(5,-1), axis=0)))\n",
    "plot_predictions(ys, y_hats, alpha=0.01)\n",
    "print(\"MSE\", np.mean((ys - y_hats)**2))\n",
    "print(\"MAE\", np.mean(np.abs(ys - y_hats)))\n",
    "plt.savefig(fig_folder + data_name + \"_spherical_train.pdf\")"
   ]
  },
  {
   "cell_type": "markdown",
   "metadata": {},
   "source": [
    "### Test Plots"
   ]
  },
  {
   "cell_type": "code",
   "execution_count": null,
   "metadata": {},
   "outputs": [],
   "source": [
    "ml_pred = ml_test\n",
    "ml_pred.reset(batch_size=128, shuffle=False, rotate_randomly=False, reflect_randomly=False)\n",
    "ys, y_hats = predict(best_net, ml_pred)\n",
    "plot_predictions(ys, y_hats)\n",
    "print(\"MSE\", np.mean((ys - y_hats)**2))\n",
    "print(\"MAE\", np.mean(np.abs(ys - y_hats)))\n",
    "plt.savefig(fig_folder + data_name + \"_spherical_test_orig.pdf\")"
   ]
  },
  {
   "cell_type": "code",
   "execution_count": null,
   "metadata": {},
   "outputs": [],
   "source": [
    "# transformations\n",
    "seed_everything()\n",
    "ml_pred = ml_test\n",
    "ml_pred.reset(batch_size=128, shuffle=False, rotate_randomly=True, reflect_randomly=True)\n",
    "ys, y_hats = predict_epochs(best_net, ml_pred, epochs=5)\n",
    "print(\"Mean Variance: \", np.mean(np.var(y_hats.reshape(5,-1), axis=0)))\n",
    "plot_predictions(ys, y_hats)\n",
    "print(\"MSE\", np.mean((ys - y_hats)**2))\n",
    "print(\"MAE\", np.mean(np.abs(ys - y_hats)))\n",
    "plt.savefig(fig_folder + data_name + \"_spherical_test.pdf\")"
   ]
  },
  {
   "cell_type": "code",
   "execution_count": null,
   "metadata": {},
   "outputs": [],
   "source": []
  }
 ],
 "metadata": {
  "kernelspec": {
   "display_name": "Python 3",
   "language": "python",
   "name": "python3"
  },
  "language_info": {
   "codemirror_mode": {
    "name": "ipython",
    "version": 3
   },
   "file_extension": ".py",
   "mimetype": "text/x-python",
   "name": "python",
   "nbconvert_exporter": "python",
   "pygments_lexer": "ipython3",
   "version": "3.8.1"
  }
 },
 "nbformat": 4,
 "nbformat_minor": 4
}
