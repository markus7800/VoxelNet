{
 "cells": [
  {
   "cell_type": "code",
   "execution_count": 1,
   "metadata": {},
   "outputs": [
    {
     "name": "stderr",
     "output_type": "stream",
     "text": [
      "/usr/local/lib/python3.8/site-packages/pyscf/lib/misc.py:46: H5pyDeprecationWarning: Using default_file_mode other than 'r' is deprecated. Pass the mode to h5py.File() instead.\n",
      "  h5py.get_config().default_file_mode = 'a'\n"
     ]
    },
    {
     "data": {
      "application/vnd.jupyter.widget-view+json": {
       "model_id": "d65104ff739147d188d21ff03062e25d",
       "version_major": 2,
       "version_minor": 0
      },
      "text/plain": []
     },
     "metadata": {},
     "output_type": "display_data"
    }
   ],
   "source": [
    "# Prelude: import packages and set up the plotting.\n",
    "%matplotlib widget\n",
    "\n",
    "import numpy as np\n",
    "import scipy as sp\n",
    "import scipy.linalg\n",
    "import matplotlib\n",
    "import matplotlib.pyplot as plt\n",
    "\n",
    "import pyscf\n",
    "import pyscf.gto\n",
    "import pyscf.dft\n",
    "import pyscf.tools.cubegen\n",
    "import ase\n",
    "import ase.units\n",
    "import nglview\n",
    "\n",
    "import IPython.display as disp"
   ]
  },
  {
   "cell_type": "markdown",
   "metadata": {},
   "source": [
    "Set up a DFT calculation using LDA and STO-3G for ethylene using the following distances and angles"
   ]
  },
  {
   "cell_type": "code",
   "execution_count": 2,
   "metadata": {},
   "outputs": [],
   "source": [
    "dCC = 1.336\n",
    "dCH = 1.085\n",
    "aHCH = 116.58"
   ]
  },
  {
   "cell_type": "code",
   "execution_count": 3,
   "metadata": {},
   "outputs": [],
   "source": [
    "# Compute the H-C-C angle based on the H-C-H angle.\n",
    "aHCC = 180. - aHCH / 2."
   ]
  },
  {
   "cell_type": "code",
   "execution_count": 4,
   "metadata": {},
   "outputs": [],
   "source": [
    "# Build the geometry. Instead of Cartesian coordinates, we use a notation based\n",
    "# on distances, angles and dihedrals, known as the Z matrix.\n",
    "# The first line places the first C atom at an arbitrary point in space.\n",
    "# The second line places the second C atom at the right distance, and therefore defines\n",
    "# a direction: that of the C-C bond.\n",
    "# The third line places a hydrogen, bonded to the first carbon atom and at the right angle\n",
    "# with the C-C bond. Subsequent lines place the remaining H atoms in an analogous fashion.\n",
    "# The last field in the last three lines is the dihedral angle formed by the planes defined by\n",
    "# two C-C-H sequences. Since the molecule is planar, all of those dihedrals are either 0° or 180°\n",
    "z_matrix = f\"\"\"\n",
    "C \n",
    "C  1  {dCC}\n",
    "H  1  {dCH}  2  {aHCC}\n",
    "H  1  {dCH}  2  {aHCC}  3  180.\n",
    "H  2  {dCH}  1  {aHCC}  3  0.\n",
    "H  2  {dCH}  1  {aHCC}  3  180.\n",
    "\"\"\""
   ]
  },
  {
   "cell_type": "code",
   "execution_count": 5,
   "metadata": {},
   "outputs": [],
   "source": [
    "def pyscf2ase(mol):\n",
    "    \"Small function that translates a molecule in PySCF format to an ASE atoms object.\"\n",
    "    elements = mol.elements\n",
    "    # These coordinates are in bohr and must be translated to angstrom.\n",
    "    coords = mol.atom_coords() * ase.units.Bohr\n",
    "    atoms = ase.Atoms(symbols=elements, positions=coords, pbc=False)\n",
    "    return atoms"
   ]
  },
  {
   "cell_type": "code",
   "execution_count": 6,
   "metadata": {},
   "outputs": [
    {
     "data": {
      "application/vnd.jupyter.widget-view+json": {
       "model_id": "6e1b2df95f264a04aeff1644dcf60d02",
       "version_major": 2,
       "version_minor": 0
      },
      "text/plain": [
       "NGLWidget(background='black')"
      ]
     },
     "metadata": {},
     "output_type": "display_data"
    }
   ],
   "source": [
    "# Create the PySCF object\n",
    "mol = pyscf.gto.M(atom=z_matrix, basis=\"sto-3g\", unit=\"angstrom\")\n",
    "\n",
    "# And display it in an interactive widget to check that the positions make sense. We can measure\n",
    "# distances and angles with the right mouse button.\n",
    "view = nglview.show_ase(pyscf2ase(mol))\n",
    "view.background=\"black\"\n",
    "display(view)"
   ]
  },
  {
   "cell_type": "code",
   "execution_count": 7,
   "metadata": {},
   "outputs": [
    {
     "data": {
      "text/plain": [
       "['C', 'C', 'H', 'H', 'H', 'H']"
      ]
     },
     "execution_count": 7,
     "metadata": {},
     "output_type": "execute_result"
    }
   ],
   "source": [
    "mol.elements"
   ]
  },
  {
   "cell_type": "code",
   "execution_count": 9,
   "metadata": {},
   "outputs": [
    {
     "data": {
      "text/plain": [
       "array([[ 0.00000000e+00,  0.00000000e+00,  0.00000000e+00],\n",
       "       [ 2.52467410e+00,  0.00000000e+00,  0.00000000e+00],\n",
       "       [-1.07770674e+00,  0.00000000e+00,  1.74427491e+00],\n",
       "       [-1.07770674e+00,  2.13612069e-16, -1.74427491e+00],\n",
       "       [ 3.60238085e+00,  0.00000000e+00,  1.74427491e+00],\n",
       "       [ 3.60238085e+00, -2.13612069e-16, -1.74427491e+00]])"
      ]
     },
     "execution_count": 9,
     "metadata": {},
     "output_type": "execute_result"
    }
   ],
   "source": [
    "mol.atom_coords()"
   ]
  },
  {
   "cell_type": "code",
   "execution_count": 7,
   "metadata": {},
   "outputs": [
    {
     "name": "stdout",
     "output_type": "stream",
     "text": [
      "converged SCF energy = -75.8649127653598\n"
     ]
    },
    {
     "data": {
      "text/plain": [
       "<pyscf.dft.rks.RKS at 0x11612a7f0>"
      ]
     },
     "execution_count": 7,
     "metadata": {},
     "output_type": "execute_result"
    }
   ],
   "source": [
    "# Set up and launch the LDA calculation.\n",
    "mf = pyscf.dft.RKS(mol)\n",
    "mf.xc = \"LDA\"\n",
    "mf.build()\n",
    "mf.run()"
   ]
  },
  {
   "cell_type": "markdown",
   "metadata": {},
   "source": [
    "Calculate the KS eigenvalues and compare them to those you would obtain using the PBE. Plot the $\\pi$-MO"
   ]
  },
  {
   "cell_type": "code",
   "execution_count": 8,
   "metadata": {},
   "outputs": [
    {
     "name": "stdout",
     "output_type": "stream",
     "text": [
      "**** MO energy ****\n",
      "MO #1   energy= -9.48502261457109  occ= 2\n",
      "MO #2   energy= -9.48402058361088  occ= 2\n",
      "MO #3   energy= -0.573220666812816 occ= 2\n",
      "MO #4   energy= -0.41633770116344  occ= 2\n",
      "MO #5   energy= -0.317427517461029 occ= 2\n",
      "MO #6   energy= -0.260195167684734 occ= 2\n",
      "MO #7   energy= -0.204696932993858 occ= 2\n",
      "MO #8   energy= -0.117722875884236 occ= 2\n",
      "MO #9   energy= 0.138305215985333  occ= 0\n",
      "MO #10  energy= 0.409269369149414  occ= 0\n",
      "MO #11  energy= 0.464900457413006  occ= 0\n",
      "MO #12  energy= 0.4720422477334    occ= 0\n",
      "MO #13  energy= 0.653503135183891  occ= 0\n",
      "MO #14  energy= 0.691101475259256  occ= 0\n",
      " ** Mulliken atomic charges  **\n",
      "charge of  0C =     -0.11640\n",
      "charge of  1C =     -0.11640\n",
      "charge of  2H =      0.05820\n",
      "charge of  3H =      0.05820\n",
      "charge of  4H =      0.05820\n",
      "charge of  5H =      0.05820\n",
      "Dipole moment(X, Y, Z, Debye):  0.00000, -0.00000,  0.00000\n"
     ]
    }
   ],
   "source": [
    "# Get a quick summary of the results, including the energies we are interested in.\n",
    "mf.analyze()\n",
    "# Store the energies in a variable for laters use.\n",
    "eigenvalues_LDA = mf.mo_energy.copy()"
   ]
  },
  {
   "cell_type": "code",
   "execution_count": 9,
   "metadata": {},
   "outputs": [
    {
     "name": "stdout",
     "output_type": "stream",
     "text": [
      "converged SCF energy = -77.5081154672064\n",
      "**** MO energy ****\n",
      "MO #1   energy= -9.69768509540486  occ= 2\n",
      "MO #2   energy= -9.69709910103633  occ= 2\n",
      "MO #3   energy= -0.642534396248714 occ= 2\n",
      "MO #4   energy= -0.483951168556139 occ= 2\n",
      "MO #5   energy= -0.380621966685548 occ= 2\n",
      "MO #6   energy= -0.324800163245933 occ= 2\n",
      "MO #7   energy= -0.271714156214548 occ= 2\n",
      "MO #8   energy= -0.177191887761333 occ= 2\n",
      "MO #9   energy= 0.0785811184013614 occ= 0\n",
      "MO #10  energy= 0.344047046722841  occ= 0\n",
      "MO #11  energy= 0.396730139506371  occ= 0\n",
      "MO #12  energy= 0.399444073884239  occ= 0\n",
      "MO #13  energy= 0.590793216209897  occ= 0\n",
      "MO #14  energy= 0.631060696346178  occ= 0\n",
      " ** Mulliken atomic charges  **\n",
      "charge of  0C =     -0.10783\n",
      "charge of  1C =     -0.10783\n",
      "charge of  2H =      0.05392\n",
      "charge of  3H =      0.05392\n",
      "charge of  4H =      0.05392\n",
      "charge of  5H =      0.05392\n",
      "Dipole moment(X, Y, Z, Debye):  0.00000,  0.00000, -0.00000\n"
     ]
    }
   ],
   "source": [
    "# Change the XC functional to PBE and redo the calculation.\n",
    "mf.xc = \"PBE\"\n",
    "mf.build()\n",
    "mf.run()\n",
    "mf.analyze()\n",
    "eigenvalues_PBE = mf.mo_energy.copy()"
   ]
  },
  {
   "cell_type": "code",
   "execution_count": 10,
   "metadata": {},
   "outputs": [
    {
     "name": "stdout",
     "output_type": "stream",
     "text": [
      "MO#\tε_LDA\tε_PBE\tΔε\n",
      "1\t-9.485\t-9.698\t-0.213\n",
      "2\t-9.484\t-9.697\t-0.213\n",
      "3\t-0.573\t-0.643\t-0.0693\n",
      "4\t-0.416\t-0.484\t-0.0676\n",
      "5\t-0.317\t-0.381\t-0.0632\n",
      "6\t-0.260\t-0.325\t-0.0646\n",
      "7\t-0.205\t-0.272\t-0.067\n",
      "8\t-0.118\t-0.177\t-0.0595\n",
      "9\t0.138\t0.079\t-0.0597\n",
      "10\t0.409\t0.344\t-0.0652\n",
      "11\t0.465\t0.397\t-0.0682\n",
      "12\t0.472\t0.399\t-0.0726\n",
      "13\t0.654\t0.591\t-0.0627\n",
      "14\t0.691\t0.631\t-0.06\n"
     ]
    }
   ],
   "source": [
    "# Print a list of the differences in energy.\n",
    "print(\"MO#\\tε_LDA\\tε_PBE\\tΔε\")\n",
    "for i, (e_LDA, e_PBE) in enumerate(zip(eigenvalues_LDA, eigenvalues_PBE)):\n",
    "    print(f\"{i + 1}\\t{e_LDA:.3f}\\t{e_PBE:.3f}\\t{e_PBE - e_LDA:.3g}\")\n"
   ]
  },
  {
   "cell_type": "code",
   "execution_count": 11,
   "metadata": {},
   "outputs": [],
   "source": [
    "# Save each MO to a cube file.\n",
    "for i in range(len(eigenvalues_PBE)):\n",
    "    pyscf.tools.cubegen.orbital(mol, f\"ethylene_MO_{i+1}_LDA.cube\", mf.mo_coeff[:, i])"
   ]
  },
  {
   "cell_type": "code",
   "execution_count": 12,
   "metadata": {},
   "outputs": [
    {
     "data": {
      "application/vnd.jupyter.widget-view+json": {
       "model_id": "378e889a55ef447da37dede4e62414eb",
       "version_major": 2,
       "version_minor": 0
      },
      "text/plain": [
       "NGLWidget(background='black')"
      ]
     },
     "metadata": {},
     "output_type": "display_data"
    }
   ],
   "source": [
    "# Plot the π MO. It is easy to visualize these cube files directly outside of the notebook,\n",
    "# but nglview also enables us to see them directly here.\n",
    "view = nglview.show_ase(pyscf2ase(mol))\n",
    "view.background = \"black\"\n",
    "view.add_component(\"ethylene_MO_8.cube\");\n",
    "# view.component_0.clear()\n",
    "view.component_1.clear()\n",
    "# We use \"sigma\" to express our values as a fraction of the standard deviation of the data. \n",
    "view.component_1.add_surface(color=\"blue\", isolevelType=\"sigma\", isolevel=1., opacity=.6)\n",
    "view.component_1.add_surface(color=\"red\", isolevelType=\"sigma\", isolevel=-1., opacity=.6)\n",
    "display(view)"
   ]
  },
  {
   "cell_type": "code",
   "execution_count": 13,
   "metadata": {},
   "outputs": [
    {
     "data": {
      "application/vnd.jupyter.widget-view+json": {
       "model_id": "b094e2b75b5449c49e8ba38d0d709d03",
       "version_major": 2,
       "version_minor": 0
      },
      "text/plain": [
       "NGLWidget(background='black')"
      ]
     },
     "metadata": {},
     "output_type": "display_data"
    }
   ],
   "source": [
    "# Plot the π MO. It is easy to visualize these cube files directly outside of the notebook,\n",
    "# but nglview also enables us to see them directly here.\n",
    "view = nglview.show_ase(pyscf2ase(mol))\n",
    "view.background = \"black\"\n",
    "view.add_component(\"ethylene_MO_8_LDA.cube\");\n",
    "# view.component_0.clear()\n",
    "view.component_1.clear()\n",
    "# We use \"sigma\" to express our values as a fraction of the standard deviation of the data. \n",
    "view.component_1.add_surface(color=\"blue\", isolevelType=\"sigma\", isolevel=1., opacity=.6)\n",
    "view.component_1.add_surface(color=\"red\", isolevelType=\"sigma\", isolevel=-1., opacity=.6)\n",
    "display(view)"
   ]
  },
  {
   "cell_type": "code",
   "execution_count": null,
   "metadata": {},
   "outputs": [],
   "source": []
  }
 ],
 "metadata": {
  "kernelspec": {
   "display_name": "Python 3",
   "language": "python",
   "name": "python3"
  },
  "language_info": {
   "codemirror_mode": {
    "name": "ipython",
    "version": 3
   },
   "file_extension": ".py",
   "mimetype": "text/x-python",
   "name": "python",
   "nbconvert_exporter": "python",
   "pygments_lexer": "ipython3",
   "version": "3.8.5"
  }
 },
 "nbformat": 4,
 "nbformat_minor": 4
}
